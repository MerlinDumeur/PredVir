{
 "cells": [
  {
   "cell_type": "code",
   "execution_count": 1,
   "metadata": {
    "collapsed": true
   },
   "outputs": [],
   "source": [
    "import numpy as np"
   ]
  },
  {
   "cell_type": "code",
   "execution_count": 2,
   "metadata": {
    "collapsed": true
   },
   "outputs": [],
   "source": [
    "import pandas as pd"
   ]
  },
  {
   "cell_type": "code",
   "execution_count": 3,
   "metadata": {
    "collapsed": true
   },
   "outputs": [],
   "source": [
    "from matplotlib import pyplot as plt\n",
    "%matplotlib inline"
   ]
  },
  {
   "cell_type": "code",
   "execution_count": 4,
   "metadata": {
    "collapsed": true
   },
   "outputs": [],
   "source": [
    "import Predicteurs as cl"
   ]
  },
  {
   "cell_type": "code",
   "execution_count": 5,
   "metadata": {
    "collapsed": true
   },
   "outputs": [],
   "source": [
    "import Traitement as proc"
   ]
  },
  {
   "cell_type": "code",
   "execution_count": 6,
   "metadata": {
    "collapsed": true
   },
   "outputs": [],
   "source": [
    "import imp"
   ]
  },
  {
   "cell_type": "code",
   "execution_count": 7,
   "metadata": {
    "collapsed": true
   },
   "outputs": [],
   "source": [
    "import Model_selection as ms"
   ]
  },
  {
   "cell_type": "code",
   "execution_count": 8,
   "metadata": {
    "collapsed": true
   },
   "outputs": [],
   "source": [
    "from sklearn.linear_model import LogisticRegression,LogisticRegressionCV\n",
    "from sklearn.metrics import log_loss,accuracy_score,precision_score,recall_score\n",
    "from sklearn.model_selection import KFold, RepeatedKFold, StratifiedKFold, RepeatedStratifiedKFold"
   ]
  },
  {
   "cell_type": "code",
   "execution_count": 9,
   "metadata": {
    "collapsed": true
   },
   "outputs": [],
   "source": [
    "from sklearn.model_selection import GridSearchCV"
   ]
  },
  {
   "cell_type": "code",
   "execution_count": 10,
   "metadata": {
    "collapsed": true
   },
   "outputs": [],
   "source": [
    "from sklearn.metrics import make_scorer"
   ]
  },
  {
   "cell_type": "code",
   "execution_count": 11,
   "metadata": {
    "collapsed": true
   },
   "outputs": [],
   "source": [
    "from scipy import stats"
   ]
  },
  {
   "cell_type": "code",
   "execution_count": 12,
   "metadata": {
    "collapsed": true
   },
   "outputs": [],
   "source": [
    "from sklearn.preprocessing import normalize\n",
    "from sklearn.preprocessing import scale"
   ]
  },
  {
   "cell_type": "code",
   "execution_count": 13,
   "metadata": {
    "collapsed": true
   },
   "outputs": [],
   "source": [
    "HISTOLOGY = \"histology\"\n",
    "SEX = \"sex\"\n",
    "ID = \"id\"\n",
    "AGE = \"age\"\n",
    "OS = \"Overall survival\"\n",
    "EFS = \"Event Free Survival\"\n",
    "PATHOLOGY = \"pathology\"\n",
    "DEAD = \"dead\""
   ]
  },
  {
   "cell_type": "markdown",
   "metadata": {},
   "source": [
    "<a id = \"featEpiclin\"></a>"
   ]
  },
  {
   "cell_type": "code",
   "execution_count": 89,
   "metadata": {
    "collapsed": true
   },
   "outputs": [],
   "source": [
    "base = \"clcgp\""
   ]
  },
  {
   "cell_type": "markdown",
   "metadata": {},
   "source": [
    "##### Données cliniques"
   ]
  },
  {
   "cell_type": "code",
   "execution_count": 317,
   "metadata": {
    "collapsed": true
   },
   "outputs": [],
   "source": [
    "keep = ['Unnamed: 0','histo','os','efs','dead','os_months']\n",
    "rename = {\"Unnamed: 0\":ID,'histo':HISTOLOGY,'os':OS,'efs':EFS,'dead':DEAD}\n",
    "dropna = [OS,HISTOLOGY]"
   ]
  },
  {
   "cell_type": "code",
   "execution_count": 318,
   "metadata": {
    "collapsed": true
   },
   "outputs": [],
   "source": [
    "XpG = proc.refining_expGrp(base=base,keep=keep,rename=rename,dropna_col=dropna)"
   ]
  },
  {
   "cell_type": "code",
   "execution_count": 319,
   "metadata": {
    "collapsed": true
   },
   "outputs": [],
   "source": [
    "XpG.to_pickle(base+rf'/XpG_refined.pkl')"
   ]
  },
  {
   "cell_type": "markdown",
   "metadata": {},
   "source": [
    "On réalise un one-hot encoding sur les variables catégoriques"
   ]
  },
  {
   "cell_type": "code",
   "execution_count": 320,
   "metadata": {
    "collapsed": true
   },
   "outputs": [],
   "source": [
    "categorical_columns = [HISTOLOGY]\n",
    "filename = base+r'/XpG_refined.pkl'"
   ]
  },
  {
   "cell_type": "code",
   "execution_count": 321,
   "metadata": {
    "collapsed": true
   },
   "outputs": [],
   "source": [
    "Clinique_OH = proc.OHEncoding(filename,categorical_columns)"
   ]
  },
  {
   "cell_type": "code",
   "execution_count": 322,
   "metadata": {
    "collapsed": true
   },
   "outputs": [],
   "source": [
    "Clinique_OH.to_pickle(base+r'/clinique_OH.pkl')"
   ]
  },
  {
   "cell_type": "markdown",
   "metadata": {},
   "source": [
    "<a id = \"featEpiclin\"></a>"
   ]
  },
  {
   "cell_type": "code",
   "execution_count": null,
   "metadata": {
    "collapsed": true
   },
   "outputs": [],
   "source": []
  },
  {
   "cell_type": "code",
   "execution_count": null,
   "metadata": {
    "collapsed": true
   },
   "outputs": [],
   "source": []
  },
  {
   "cell_type": "code",
   "execution_count": 346,
   "metadata": {
    "collapsed": true
   },
   "outputs": [],
   "source": [
    "base = \"epilung\""
   ]
  },
  {
   "cell_type": "markdown",
   "metadata": {},
   "source": [
    "Création des index des patients que l'on utilisera pour la régression"
   ]
  },
  {
   "cell_type": "code",
   "execution_count": 348,
   "metadata": {
    "collapsed": true
   },
   "outputs": [],
   "source": [
    "Clinique_OH = pd.read_pickle(base+r'/clinique_OH.pkl')"
   ]
  },
  {
   "cell_type": "code",
   "execution_count": 323,
   "metadata": {
    "collapsed": true
   },
   "outputs": [],
   "source": [
    "Index_regression = proc.Create_Patient_Index_Regression(Clinique_OH)"
   ]
  },
  {
   "cell_type": "markdown",
   "metadata": {},
   "source": [
    "On créé nos dataframes X et Y"
   ]
  },
  {
   "cell_type": "code",
   "execution_count": 324,
   "metadata": {
    "collapsed": true
   },
   "outputs": [],
   "source": [
    "X_r = proc.X_transcriptome(base,Index_regression)"
   ]
  },
  {
   "cell_type": "code",
   "execution_count": 325,
   "metadata": {
    "collapsed": true
   },
   "outputs": [],
   "source": [
    "X_r_nostd = proc.X_transcriptome(base,Index_regression,standardize=False)"
   ]
  },
  {
   "cell_type": "code",
   "execution_count": 326,
   "metadata": {
    "collapsed": true
   },
   "outputs": [],
   "source": [
    "Y_r = proc.Y_clinique(base,Index_regression)"
   ]
  },
  {
   "cell_type": "markdown",
   "metadata": {},
   "source": [
    "On exporte les X et Y construits"
   ]
  },
  {
   "cell_type": "code",
   "execution_count": 327,
   "metadata": {
    "collapsed": true
   },
   "outputs": [],
   "source": [
    "X_r.to_pickle(base+r'/X_regression.pkl')"
   ]
  },
  {
   "cell_type": "code",
   "execution_count": 328,
   "metadata": {
    "collapsed": true
   },
   "outputs": [],
   "source": [
    "X_r_nostd.to_pickle(base+r'/X_regression_nostd.pkl')"
   ]
  },
  {
   "cell_type": "code",
   "execution_count": 329,
   "metadata": {
    "collapsed": true
   },
   "outputs": [],
   "source": [
    "Y_r.to_pickle(base+r'/Y_regression.pkl')"
   ]
  },
  {
   "cell_type": "markdown",
   "metadata": {},
   "source": [
    "Création des index des patients que l'on utilisera pour la classification"
   ]
  },
  {
   "cell_type": "code",
   "execution_count": 338,
   "metadata": {
    "collapsed": true
   },
   "outputs": [],
   "source": [
    "nmois = 60"
   ]
  },
  {
   "cell_type": "code",
   "execution_count": 339,
   "metadata": {
    "collapsed": true
   },
   "outputs": [],
   "source": [
    "Index_classification = proc.Create_Patient_Drop_Index_Classification(Clinique_OH,nmois)"
   ]
  },
  {
   "cell_type": "markdown",
   "metadata": {},
   "source": [
    "On créé nos dataframes X et Y"
   ]
  },
  {
   "cell_type": "code",
   "execution_count": 340,
   "metadata": {
    "collapsed": true
   },
   "outputs": [],
   "source": [
    "X_nmois = proc.X_transcriptome(base,Index_classification)"
   ]
  },
  {
   "cell_type": "code",
   "execution_count": 341,
   "metadata": {
    "collapsed": true
   },
   "outputs": [],
   "source": [
    "X_nmois_nostd = proc.X_transcriptome(base,Index_classification,standardize=False)"
   ]
  },
  {
   "cell_type": "code",
   "execution_count": 342,
   "metadata": {
    "collapsed": true
   },
   "outputs": [],
   "source": [
    "Y_nmois = proc.Y_clinique(base,Index_classification,nmois)"
   ]
  },
  {
   "cell_type": "markdown",
   "metadata": {},
   "source": [
    "On exporte les X et Y construits"
   ]
  },
  {
   "cell_type": "code",
   "execution_count": 343,
   "metadata": {
    "collapsed": true
   },
   "outputs": [],
   "source": [
    "X_nmois.to_pickle(base+rf'/X_classification-{nmois}.pkl')"
   ]
  },
  {
   "cell_type": "code",
   "execution_count": 344,
   "metadata": {
    "collapsed": true
   },
   "outputs": [],
   "source": [
    "X_nmois_nostd.to_pickle(base+rf'/X_classification-{nmois}_nostd.pkl')"
   ]
  },
  {
   "cell_type": "code",
   "execution_count": 345,
   "metadata": {
    "collapsed": true
   },
   "outputs": [],
   "source": [
    "Y_nmois.to_pickle(base+rf'/Y_classification-{nmois}.pkl')"
   ]
  },
  {
   "cell_type": "code",
   "execution_count": null,
   "metadata": {
    "collapsed": true
   },
   "outputs": [],
   "source": []
  },
  {
   "cell_type": "code",
   "execution_count": 14,
   "metadata": {
    "collapsed": true
   },
   "outputs": [],
   "source": [
    "X = pd.read_pickle('epilung/X_classification-12.pkl')"
   ]
  },
  {
   "cell_type": "code",
   "execution_count": 15,
   "metadata": {
    "collapsed": true
   },
   "outputs": [],
   "source": [
    "Y = pd.read_pickle('epilung/Y_classification-12.pkl')"
   ]
  },
  {
   "cell_type": "code",
   "execution_count": 16,
   "metadata": {
    "collapsed": true
   },
   "outputs": [],
   "source": [
    "IndexX = X.iloc[:,0:10].columns"
   ]
  },
  {
   "cell_type": "code",
   "execution_count": 23,
   "metadata": {
    "collapsed": true
   },
   "outputs": [],
   "source": [
    "df = IndexX.to_frame()"
   ]
  },
  {
   "cell_type": "code",
   "execution_count": 25,
   "metadata": {
    "collapsed": true
   },
   "outputs": [],
   "source": [
    "df.to_pickle('temp.pkl')"
   ]
  },
  {
   "cell_type": "code",
   "execution_count": 52,
   "metadata": {
    "collapsed": true
   },
   "outputs": [],
   "source": [
    "df2 = pd.read_pickle('temp.pkl')"
   ]
  },
  {
   "cell_type": "code",
   "execution_count": 51,
   "metadata": {
    "collapsed": true
   },
   "outputs": [],
   "source": [
    "IndexX.to_frame().to_pickle('temp.pkl')"
   ]
  },
  {
   "cell_type": "code",
   "execution_count": null,
   "metadata": {
    "collapsed": true
   },
   "outputs": [],
   "source": []
  },
  {
   "cell_type": "code",
   "execution_count": 17,
   "metadata": {
    "collapsed": true
   },
   "outputs": [],
   "source": [
    "l = RKF.split(X,Y)"
   ]
  },
  {
   "cell_type": "code",
   "execution_count": 19,
   "metadata": {
    "collapsed": true
   },
   "outputs": [],
   "source": [
    "for (i,j) in l:\n",
    "    I = i\n",
    "    break"
   ]
  },
  {
   "cell_type": "code",
   "execution_count": null,
   "metadata": {
    "collapsed": true
   },
   "outputs": [],
   "source": []
  },
  {
   "cell_type": "code",
   "execution_count": 108,
   "metadata": {
    "collapsed": true
   },
   "outputs": [],
   "source": [
    "I = pd.read_pickle('temp.pkl').index"
   ]
  },
  {
   "cell_type": "code",
   "execution_count": 61,
   "metadata": {
    "collapsed": true
   },
   "outputs": [],
   "source": [
    "Index = X.iloc[I].index"
   ]
  },
  {
   "cell_type": "code",
   "execution_count": 77,
   "metadata": {
    "collapsed": true
   },
   "outputs": [],
   "source": [
    "c = [i in Index for i in X.index]"
   ]
  },
  {
   "cell_type": "code",
   "execution_count": 91,
   "metadata": {
    "collapsed": true
   },
   "outputs": [],
   "source": [
    "df_output = pd.DataFrame(index=X.columns,columns=np.arange(100))"
   ]
  },
  {
   "cell_type": "code",
   "execution_count": 102,
   "metadata": {
    "collapsed": true
   },
   "outputs": [],
   "source": [
    "d={}"
   ]
  },
  {
   "cell_type": "code",
   "execution_count": 104,
   "metadata": {
    "collapsed": true
   },
   "outputs": [],
   "source": [
    "d[1] = 0"
   ]
  },
  {
   "cell_type": "code",
   "execution_count": 94,
   "metadata": {
    "scrolled": true
   },
   "outputs": [
    {
     "data": {
      "text/plain": [
       "1007_s_at                NaN\n",
       "1053_at                  NaN\n",
       "117_at                   NaN\n",
       "121_at                   NaN\n",
       "1255_g_at                NaN\n",
       "1294_at                  NaN\n",
       "1316_at                  NaN\n",
       "1320_at                  NaN\n",
       "1405_i_at                NaN\n",
       "1431_at                  NaN\n",
       "1438_at                  NaN\n",
       "1487_at                  NaN\n",
       "1494_f_at                NaN\n",
       "1552256_a_at             NaN\n",
       "1552257_a_at             NaN\n",
       "1552258_at               NaN\n",
       "1552261_at               NaN\n",
       "1552263_at               NaN\n",
       "1552264_a_at             NaN\n",
       "1552266_at               NaN\n",
       "1552269_at               NaN\n",
       "1552271_at               NaN\n",
       "1552272_a_at             NaN\n",
       "1552274_at               NaN\n",
       "1552275_s_at             NaN\n",
       "1552276_a_at             NaN\n",
       "1552277_a_at             NaN\n",
       "1552278_a_at             NaN\n",
       "1552279_a_at             NaN\n",
       "1552280_at               NaN\n",
       "                        ... \n",
       "AFFX-PheX-5_at           NaN\n",
       "AFFX-PheX-M_at           NaN\n",
       "AFFX-ThrX-3_at           NaN\n",
       "AFFX-ThrX-5_at           NaN\n",
       "AFFX-ThrX-M_at           NaN\n",
       "AFFX-TrpnX-3_at          NaN\n",
       "AFFX-TrpnX-5_at          NaN\n",
       "AFFX-TrpnX-M_at          NaN\n",
       "AFFX-hum_alu_at          NaN\n",
       "AFFX-r2-Bs-dap-3_at      NaN\n",
       "AFFX-r2-Bs-dap-5_at      NaN\n",
       "AFFX-r2-Bs-dap-M_at      NaN\n",
       "AFFX-r2-Bs-lys-3_at      NaN\n",
       "AFFX-r2-Bs-lys-5_at      NaN\n",
       "AFFX-r2-Bs-lys-M_at      NaN\n",
       "AFFX-r2-Bs-phe-3_at      NaN\n",
       "AFFX-r2-Bs-phe-5_at      NaN\n",
       "AFFX-r2-Bs-phe-M_at      NaN\n",
       "AFFX-r2-Bs-thr-3_s_at    NaN\n",
       "AFFX-r2-Bs-thr-5_s_at    NaN\n",
       "AFFX-r2-Bs-thr-M_s_at    NaN\n",
       "AFFX-r2-Ec-bioB-3_at     NaN\n",
       "AFFX-r2-Ec-bioB-5_at     NaN\n",
       "AFFX-r2-Ec-bioB-M_at     NaN\n",
       "AFFX-r2-Ec-bioC-3_at     NaN\n",
       "AFFX-r2-Ec-bioC-5_at     NaN\n",
       "AFFX-r2-Ec-bioD-3_at     NaN\n",
       "AFFX-r2-Ec-bioD-5_at     NaN\n",
       "AFFX-r2-P1-cre-3_at      NaN\n",
       "AFFX-r2-P1-cre-5_at      NaN\n",
       "Name: 0, Length: 54675, dtype: object"
      ]
     },
     "execution_count": 94,
     "metadata": {},
     "output_type": "execute_result"
    }
   ],
   "source": [
    "df_output[0].loc[X.columns]"
   ]
  },
  {
   "cell_type": "code",
   "execution_count": 89,
   "metadata": {
    "scrolled": true
   },
   "outputs": [
    {
     "data": {
      "text/html": [
       "<div>\n",
       "<style scoped>\n",
       "    .dataframe tbody tr th:only-of-type {\n",
       "        vertical-align: middle;\n",
       "    }\n",
       "\n",
       "    .dataframe tbody tr th {\n",
       "        vertical-align: top;\n",
       "    }\n",
       "\n",
       "    .dataframe thead th {\n",
       "        text-align: right;\n",
       "    }\n",
       "</style>\n",
       "<table border=\"1\" class=\"dataframe\">\n",
       "  <thead>\n",
       "    <tr style=\"text-align: right;\">\n",
       "      <th></th>\n",
       "      <th>1007_s_at</th>\n",
       "      <th>1053_at</th>\n",
       "      <th>117_at</th>\n",
       "      <th>121_at</th>\n",
       "      <th>1255_g_at</th>\n",
       "      <th>1294_at</th>\n",
       "      <th>1316_at</th>\n",
       "      <th>1320_at</th>\n",
       "      <th>1405_i_at</th>\n",
       "      <th>1431_at</th>\n",
       "      <th>...</th>\n",
       "      <th>AFFX-r2-Bs-thr-M_s_at</th>\n",
       "      <th>AFFX-r2-Ec-bioB-3_at</th>\n",
       "      <th>AFFX-r2-Ec-bioB-5_at</th>\n",
       "      <th>AFFX-r2-Ec-bioB-M_at</th>\n",
       "      <th>AFFX-r2-Ec-bioC-3_at</th>\n",
       "      <th>AFFX-r2-Ec-bioC-5_at</th>\n",
       "      <th>AFFX-r2-Ec-bioD-3_at</th>\n",
       "      <th>AFFX-r2-Ec-bioD-5_at</th>\n",
       "      <th>AFFX-r2-P1-cre-3_at</th>\n",
       "      <th>AFFX-r2-P1-cre-5_at</th>\n",
       "    </tr>\n",
       "  </thead>\n",
       "  <tbody>\n",
       "    <tr>\n",
       "      <th>GSM1465989</th>\n",
       "      <td>0.445540</td>\n",
       "      <td>0.282024</td>\n",
       "      <td>0.063585</td>\n",
       "      <td>-0.923700</td>\n",
       "      <td>-0.796165</td>\n",
       "      <td>1.269242</td>\n",
       "      <td>-0.982203</td>\n",
       "      <td>-0.526164</td>\n",
       "      <td>0.867532</td>\n",
       "      <td>-0.492645</td>\n",
       "      <td>...</td>\n",
       "      <td>0.475348</td>\n",
       "      <td>-1.023178</td>\n",
       "      <td>-0.978445</td>\n",
       "      <td>-1.047695</td>\n",
       "      <td>-1.447841</td>\n",
       "      <td>-1.188075</td>\n",
       "      <td>-1.079267</td>\n",
       "      <td>-1.023832</td>\n",
       "      <td>-1.272248</td>\n",
       "      <td>-1.235207</td>\n",
       "    </tr>\n",
       "    <tr>\n",
       "      <th>GSM1465990</th>\n",
       "      <td>-1.194637</td>\n",
       "      <td>1.001315</td>\n",
       "      <td>-0.462227</td>\n",
       "      <td>-0.805564</td>\n",
       "      <td>1.218419</td>\n",
       "      <td>-0.003497</td>\n",
       "      <td>-0.561204</td>\n",
       "      <td>-0.743963</td>\n",
       "      <td>0.966588</td>\n",
       "      <td>-0.323624</td>\n",
       "      <td>...</td>\n",
       "      <td>-0.898609</td>\n",
       "      <td>-0.875073</td>\n",
       "      <td>-0.801362</td>\n",
       "      <td>-0.661802</td>\n",
       "      <td>-0.724912</td>\n",
       "      <td>-0.617783</td>\n",
       "      <td>-0.946003</td>\n",
       "      <td>-0.836248</td>\n",
       "      <td>-0.939683</td>\n",
       "      <td>-0.746389</td>\n",
       "    </tr>\n",
       "    <tr>\n",
       "      <th>GSM1465991</th>\n",
       "      <td>0.421063</td>\n",
       "      <td>1.526440</td>\n",
       "      <td>-1.003824</td>\n",
       "      <td>-1.354617</td>\n",
       "      <td>5.356114</td>\n",
       "      <td>-0.031524</td>\n",
       "      <td>-1.583259</td>\n",
       "      <td>-1.762543</td>\n",
       "      <td>1.246622</td>\n",
       "      <td>-1.016209</td>\n",
       "      <td>...</td>\n",
       "      <td>-1.002567</td>\n",
       "      <td>-1.573687</td>\n",
       "      <td>-1.453035</td>\n",
       "      <td>-1.421714</td>\n",
       "      <td>-1.742591</td>\n",
       "      <td>-1.634807</td>\n",
       "      <td>-1.720742</td>\n",
       "      <td>-1.471619</td>\n",
       "      <td>-1.714091</td>\n",
       "      <td>-1.727962</td>\n",
       "    </tr>\n",
       "    <tr>\n",
       "      <th>GSM1465992</th>\n",
       "      <td>1.094008</td>\n",
       "      <td>1.008033</td>\n",
       "      <td>-0.366276</td>\n",
       "      <td>-0.954361</td>\n",
       "      <td>-0.579665</td>\n",
       "      <td>2.812313</td>\n",
       "      <td>-1.644370</td>\n",
       "      <td>-1.557184</td>\n",
       "      <td>1.198235</td>\n",
       "      <td>-0.519859</td>\n",
       "      <td>...</td>\n",
       "      <td>-1.018332</td>\n",
       "      <td>-1.442333</td>\n",
       "      <td>-1.352991</td>\n",
       "      <td>-1.424709</td>\n",
       "      <td>-1.805782</td>\n",
       "      <td>-1.800381</td>\n",
       "      <td>-1.379895</td>\n",
       "      <td>-1.197916</td>\n",
       "      <td>-1.250841</td>\n",
       "      <td>-1.111006</td>\n",
       "    </tr>\n",
       "    <tr>\n",
       "      <th>GSM1465993</th>\n",
       "      <td>1.122995</td>\n",
       "      <td>1.187527</td>\n",
       "      <td>-0.449719</td>\n",
       "      <td>-0.646736</td>\n",
       "      <td>-0.416540</td>\n",
       "      <td>-1.074118</td>\n",
       "      <td>-0.917985</td>\n",
       "      <td>0.741041</td>\n",
       "      <td>-1.020935</td>\n",
       "      <td>0.404182</td>\n",
       "      <td>...</td>\n",
       "      <td>0.275938</td>\n",
       "      <td>-1.330875</td>\n",
       "      <td>-1.073906</td>\n",
       "      <td>-1.387462</td>\n",
       "      <td>-1.664052</td>\n",
       "      <td>-1.621164</td>\n",
       "      <td>-1.482983</td>\n",
       "      <td>-1.248154</td>\n",
       "      <td>-1.428698</td>\n",
       "      <td>-1.240091</td>\n",
       "    </tr>\n",
       "    <tr>\n",
       "      <th>GSM1465994</th>\n",
       "      <td>0.655517</td>\n",
       "      <td>0.653680</td>\n",
       "      <td>0.647504</td>\n",
       "      <td>-1.385277</td>\n",
       "      <td>-0.564372</td>\n",
       "      <td>1.476937</td>\n",
       "      <td>-1.048404</td>\n",
       "      <td>-0.671793</td>\n",
       "      <td>1.221516</td>\n",
       "      <td>-0.576066</td>\n",
       "      <td>...</td>\n",
       "      <td>-1.567399</td>\n",
       "      <td>-1.595061</td>\n",
       "      <td>-1.468059</td>\n",
       "      <td>-1.772644</td>\n",
       "      <td>-1.823315</td>\n",
       "      <td>-1.860806</td>\n",
       "      <td>-1.685314</td>\n",
       "      <td>-1.492060</td>\n",
       "      <td>-1.514689</td>\n",
       "      <td>-1.390529</td>\n",
       "    </tr>\n",
       "    <tr>\n",
       "      <th>GSM1465995</th>\n",
       "      <td>0.087129</td>\n",
       "      <td>0.524200</td>\n",
       "      <td>-1.177222</td>\n",
       "      <td>-0.870957</td>\n",
       "      <td>-0.306079</td>\n",
       "      <td>0.064599</td>\n",
       "      <td>-0.710422</td>\n",
       "      <td>-0.151646</td>\n",
       "      <td>1.459146</td>\n",
       "      <td>-0.396341</td>\n",
       "      <td>...</td>\n",
       "      <td>0.472746</td>\n",
       "      <td>-0.720284</td>\n",
       "      <td>-0.518196</td>\n",
       "      <td>-0.756077</td>\n",
       "      <td>-0.699391</td>\n",
       "      <td>-0.707043</td>\n",
       "      <td>-0.695551</td>\n",
       "      <td>-0.704878</td>\n",
       "      <td>-0.557200</td>\n",
       "      <td>-0.552276</td>\n",
       "    </tr>\n",
       "    <tr>\n",
       "      <th>GSM1465996</th>\n",
       "      <td>0.371086</td>\n",
       "      <td>1.517284</td>\n",
       "      <td>-0.364993</td>\n",
       "      <td>-1.112867</td>\n",
       "      <td>-0.235233</td>\n",
       "      <td>-0.560806</td>\n",
       "      <td>-0.748704</td>\n",
       "      <td>0.051594</td>\n",
       "      <td>-0.484736</td>\n",
       "      <td>0.299942</td>\n",
       "      <td>...</td>\n",
       "      <td>0.194668</td>\n",
       "      <td>-0.482139</td>\n",
       "      <td>0.123051</td>\n",
       "      <td>-0.337047</td>\n",
       "      <td>-0.299712</td>\n",
       "      <td>-0.436592</td>\n",
       "      <td>-0.340457</td>\n",
       "      <td>-0.384841</td>\n",
       "      <td>-0.351649</td>\n",
       "      <td>-0.485036</td>\n",
       "    </tr>\n",
       "    <tr>\n",
       "      <th>GSM1465997</th>\n",
       "      <td>-2.557545</td>\n",
       "      <td>1.374788</td>\n",
       "      <td>-0.641662</td>\n",
       "      <td>-1.373835</td>\n",
       "      <td>-0.072237</td>\n",
       "      <td>-1.195229</td>\n",
       "      <td>-1.063323</td>\n",
       "      <td>0.288944</td>\n",
       "      <td>0.719369</td>\n",
       "      <td>-0.839000</td>\n",
       "      <td>...</td>\n",
       "      <td>-1.033411</td>\n",
       "      <td>-0.939800</td>\n",
       "      <td>-0.522793</td>\n",
       "      <td>-0.870680</td>\n",
       "      <td>-0.874126</td>\n",
       "      <td>-0.980068</td>\n",
       "      <td>-0.694706</td>\n",
       "      <td>-0.790517</td>\n",
       "      <td>-0.888871</td>\n",
       "      <td>-0.782832</td>\n",
       "    </tr>\n",
       "    <tr>\n",
       "      <th>GSM1465998</th>\n",
       "      <td>1.533422</td>\n",
       "      <td>1.160432</td>\n",
       "      <td>0.368002</td>\n",
       "      <td>-0.451443</td>\n",
       "      <td>-0.063374</td>\n",
       "      <td>-0.110492</td>\n",
       "      <td>-1.355469</td>\n",
       "      <td>1.835828</td>\n",
       "      <td>1.018707</td>\n",
       "      <td>-0.911312</td>\n",
       "      <td>...</td>\n",
       "      <td>-0.669729</td>\n",
       "      <td>-1.097267</td>\n",
       "      <td>-1.380577</td>\n",
       "      <td>-1.367079</td>\n",
       "      <td>-1.471265</td>\n",
       "      <td>-1.270997</td>\n",
       "      <td>-1.416087</td>\n",
       "      <td>-1.224304</td>\n",
       "      <td>-1.421578</td>\n",
       "      <td>-1.521521</td>\n",
       "    </tr>\n",
       "    <tr>\n",
       "      <th>GSM1465999</th>\n",
       "      <td>0.998358</td>\n",
       "      <td>2.027025</td>\n",
       "      <td>-0.527311</td>\n",
       "      <td>0.151982</td>\n",
       "      <td>-0.431468</td>\n",
       "      <td>-2.006416</td>\n",
       "      <td>-1.121235</td>\n",
       "      <td>-0.076225</td>\n",
       "      <td>-1.201517</td>\n",
       "      <td>-0.639959</td>\n",
       "      <td>...</td>\n",
       "      <td>0.880804</td>\n",
       "      <td>-1.054989</td>\n",
       "      <td>-1.723475</td>\n",
       "      <td>-1.664236</td>\n",
       "      <td>-1.548769</td>\n",
       "      <td>-1.465812</td>\n",
       "      <td>-1.309298</td>\n",
       "      <td>-1.263910</td>\n",
       "      <td>-1.539704</td>\n",
       "      <td>-1.501426</td>\n",
       "    </tr>\n",
       "    <tr>\n",
       "      <th>GSM748053</th>\n",
       "      <td>0.678919</td>\n",
       "      <td>0.320926</td>\n",
       "      <td>-0.218699</td>\n",
       "      <td>-1.101001</td>\n",
       "      <td>-0.589357</td>\n",
       "      <td>0.798465</td>\n",
       "      <td>-1.122735</td>\n",
       "      <td>1.269846</td>\n",
       "      <td>0.762570</td>\n",
       "      <td>0.026747</td>\n",
       "      <td>...</td>\n",
       "      <td>-0.466988</td>\n",
       "      <td>-0.272056</td>\n",
       "      <td>0.142070</td>\n",
       "      <td>-0.043712</td>\n",
       "      <td>-0.130226</td>\n",
       "      <td>-0.225623</td>\n",
       "      <td>-0.172784</td>\n",
       "      <td>-0.252887</td>\n",
       "      <td>-0.290511</td>\n",
       "      <td>-0.278222</td>\n",
       "    </tr>\n",
       "    <tr>\n",
       "      <th>GSM748054</th>\n",
       "      <td>0.208008</td>\n",
       "      <td>0.923879</td>\n",
       "      <td>-0.226409</td>\n",
       "      <td>-0.702235</td>\n",
       "      <td>-0.263672</td>\n",
       "      <td>0.864290</td>\n",
       "      <td>-1.130244</td>\n",
       "      <td>0.247195</td>\n",
       "      <td>0.308612</td>\n",
       "      <td>-0.750961</td>\n",
       "      <td>...</td>\n",
       "      <td>0.319390</td>\n",
       "      <td>-0.551860</td>\n",
       "      <td>-0.204382</td>\n",
       "      <td>-0.346068</td>\n",
       "      <td>-0.388963</td>\n",
       "      <td>-0.551069</td>\n",
       "      <td>-0.346034</td>\n",
       "      <td>-0.559690</td>\n",
       "      <td>-0.457462</td>\n",
       "      <td>-0.464361</td>\n",
       "    </tr>\n",
       "    <tr>\n",
       "      <th>GSM748055</th>\n",
       "      <td>0.907573</td>\n",
       "      <td>1.189996</td>\n",
       "      <td>-0.338909</td>\n",
       "      <td>-0.413752</td>\n",
       "      <td>-0.386888</td>\n",
       "      <td>0.797045</td>\n",
       "      <td>-0.851454</td>\n",
       "      <td>0.197473</td>\n",
       "      <td>0.309542</td>\n",
       "      <td>-0.688839</td>\n",
       "      <td>...</td>\n",
       "      <td>0.410383</td>\n",
       "      <td>-1.371012</td>\n",
       "      <td>-1.272929</td>\n",
       "      <td>-1.424302</td>\n",
       "      <td>-1.510721</td>\n",
       "      <td>-1.435527</td>\n",
       "      <td>-1.566302</td>\n",
       "      <td>-1.518374</td>\n",
       "      <td>-1.455714</td>\n",
       "      <td>-1.487192</td>\n",
       "    </tr>\n",
       "    <tr>\n",
       "      <th>GSM748056</th>\n",
       "      <td>-0.121307</td>\n",
       "      <td>0.519719</td>\n",
       "      <td>-0.319444</td>\n",
       "      <td>-1.131946</td>\n",
       "      <td>-0.470599</td>\n",
       "      <td>1.317776</td>\n",
       "      <td>-0.506367</td>\n",
       "      <td>0.102205</td>\n",
       "      <td>1.400586</td>\n",
       "      <td>-0.556499</td>\n",
       "      <td>...</td>\n",
       "      <td>-0.307996</td>\n",
       "      <td>-0.365494</td>\n",
       "      <td>-0.051190</td>\n",
       "      <td>-0.176071</td>\n",
       "      <td>-0.162108</td>\n",
       "      <td>-0.309313</td>\n",
       "      <td>-0.053165</td>\n",
       "      <td>-0.270546</td>\n",
       "      <td>-0.362165</td>\n",
       "      <td>-0.254817</td>\n",
       "    </tr>\n",
       "    <tr>\n",
       "      <th>GSM748057</th>\n",
       "      <td>0.201546</td>\n",
       "      <td>0.215185</td>\n",
       "      <td>-0.185468</td>\n",
       "      <td>-0.335998</td>\n",
       "      <td>-0.418571</td>\n",
       "      <td>0.576490</td>\n",
       "      <td>-0.475682</td>\n",
       "      <td>0.568009</td>\n",
       "      <td>0.275719</td>\n",
       "      <td>0.083166</td>\n",
       "      <td>...</td>\n",
       "      <td>0.635841</td>\n",
       "      <td>-0.239629</td>\n",
       "      <td>0.026518</td>\n",
       "      <td>-0.470169</td>\n",
       "      <td>-0.281472</td>\n",
       "      <td>-0.336830</td>\n",
       "      <td>-0.114893</td>\n",
       "      <td>-0.257741</td>\n",
       "      <td>-0.466992</td>\n",
       "      <td>-0.443054</td>\n",
       "    </tr>\n",
       "    <tr>\n",
       "      <th>GSM748058</th>\n",
       "      <td>0.183671</td>\n",
       "      <td>0.490717</td>\n",
       "      <td>-1.112735</td>\n",
       "      <td>-0.857640</td>\n",
       "      <td>-0.664115</td>\n",
       "      <td>1.032425</td>\n",
       "      <td>-0.812779</td>\n",
       "      <td>1.264889</td>\n",
       "      <td>0.900313</td>\n",
       "      <td>-0.559053</td>\n",
       "      <td>...</td>\n",
       "      <td>-0.881889</td>\n",
       "      <td>-0.537921</td>\n",
       "      <td>-0.265561</td>\n",
       "      <td>-0.421008</td>\n",
       "      <td>-0.303419</td>\n",
       "      <td>-0.332224</td>\n",
       "      <td>-0.195580</td>\n",
       "      <td>-0.444343</td>\n",
       "      <td>-0.362287</td>\n",
       "      <td>-0.366939</td>\n",
       "    </tr>\n",
       "    <tr>\n",
       "      <th>GSM748059</th>\n",
       "      <td>0.752780</td>\n",
       "      <td>1.231660</td>\n",
       "      <td>0.758486</td>\n",
       "      <td>-0.584938</td>\n",
       "      <td>-0.602623</td>\n",
       "      <td>-1.283020</td>\n",
       "      <td>-1.068426</td>\n",
       "      <td>0.575052</td>\n",
       "      <td>0.726479</td>\n",
       "      <td>-0.543059</td>\n",
       "      <td>...</td>\n",
       "      <td>-1.097435</td>\n",
       "      <td>-0.627759</td>\n",
       "      <td>-0.056896</td>\n",
       "      <td>-0.339740</td>\n",
       "      <td>-0.552921</td>\n",
       "      <td>-0.505782</td>\n",
       "      <td>-0.489115</td>\n",
       "      <td>-0.667582</td>\n",
       "      <td>-0.790486</td>\n",
       "      <td>-0.861298</td>\n",
       "    </tr>\n",
       "    <tr>\n",
       "      <th>GSM748061</th>\n",
       "      <td>-0.469520</td>\n",
       "      <td>1.236706</td>\n",
       "      <td>0.183328</td>\n",
       "      <td>-0.166645</td>\n",
       "      <td>-0.007755</td>\n",
       "      <td>-1.552708</td>\n",
       "      <td>-1.190373</td>\n",
       "      <td>1.103525</td>\n",
       "      <td>0.368202</td>\n",
       "      <td>-0.839616</td>\n",
       "      <td>...</td>\n",
       "      <td>-0.837073</td>\n",
       "      <td>-0.346972</td>\n",
       "      <td>0.059014</td>\n",
       "      <td>-0.355680</td>\n",
       "      <td>-0.398550</td>\n",
       "      <td>-0.438971</td>\n",
       "      <td>-0.165338</td>\n",
       "      <td>-0.394907</td>\n",
       "      <td>-0.516547</td>\n",
       "      <td>-0.499821</td>\n",
       "    </tr>\n",
       "    <tr>\n",
       "      <th>GSM748062</th>\n",
       "      <td>0.163406</td>\n",
       "      <td>1.050604</td>\n",
       "      <td>-0.190790</td>\n",
       "      <td>-0.529444</td>\n",
       "      <td>-0.188389</td>\n",
       "      <td>-1.314948</td>\n",
       "      <td>-0.661587</td>\n",
       "      <td>0.881012</td>\n",
       "      <td>-0.303574</td>\n",
       "      <td>-0.741517</td>\n",
       "      <td>...</td>\n",
       "      <td>-0.435794</td>\n",
       "      <td>-0.403810</td>\n",
       "      <td>-0.093748</td>\n",
       "      <td>-0.332285</td>\n",
       "      <td>-0.455643</td>\n",
       "      <td>-0.449663</td>\n",
       "      <td>-0.371988</td>\n",
       "      <td>-0.619640</td>\n",
       "      <td>-0.666878</td>\n",
       "      <td>-0.756753</td>\n",
       "    </tr>\n",
       "    <tr>\n",
       "      <th>GSM748063</th>\n",
       "      <td>1.365462</td>\n",
       "      <td>1.133168</td>\n",
       "      <td>-0.547444</td>\n",
       "      <td>-0.548346</td>\n",
       "      <td>0.145181</td>\n",
       "      <td>-0.147180</td>\n",
       "      <td>-1.093719</td>\n",
       "      <td>-0.478537</td>\n",
       "      <td>0.891525</td>\n",
       "      <td>-0.820572</td>\n",
       "      <td>...</td>\n",
       "      <td>-0.605054</td>\n",
       "      <td>-0.537454</td>\n",
       "      <td>-0.286473</td>\n",
       "      <td>-0.361460</td>\n",
       "      <td>-0.281236</td>\n",
       "      <td>-0.505375</td>\n",
       "      <td>-0.267158</td>\n",
       "      <td>-0.488697</td>\n",
       "      <td>-0.536032</td>\n",
       "      <td>-0.531835</td>\n",
       "    </tr>\n",
       "    <tr>\n",
       "      <th>GSM748064</th>\n",
       "      <td>-0.420574</td>\n",
       "      <td>0.380737</td>\n",
       "      <td>0.762505</td>\n",
       "      <td>-1.239702</td>\n",
       "      <td>-0.204213</td>\n",
       "      <td>0.522435</td>\n",
       "      <td>-1.243082</td>\n",
       "      <td>-0.103244</td>\n",
       "      <td>0.984720</td>\n",
       "      <td>-0.497807</td>\n",
       "      <td>...</td>\n",
       "      <td>0.079591</td>\n",
       "      <td>-0.887814</td>\n",
       "      <td>-0.934994</td>\n",
       "      <td>-0.780070</td>\n",
       "      <td>-0.914224</td>\n",
       "      <td>-0.907341</td>\n",
       "      <td>-0.926444</td>\n",
       "      <td>-0.996120</td>\n",
       "      <td>-1.193047</td>\n",
       "      <td>-1.059510</td>\n",
       "    </tr>\n",
       "    <tr>\n",
       "      <th>GSM748065</th>\n",
       "      <td>0.492029</td>\n",
       "      <td>1.572436</td>\n",
       "      <td>-0.820454</td>\n",
       "      <td>-1.201473</td>\n",
       "      <td>-0.053996</td>\n",
       "      <td>-0.209577</td>\n",
       "      <td>-1.424528</td>\n",
       "      <td>-0.427284</td>\n",
       "      <td>0.826721</td>\n",
       "      <td>0.038451</td>\n",
       "      <td>...</td>\n",
       "      <td>-1.121001</td>\n",
       "      <td>-1.079026</td>\n",
       "      <td>-0.579894</td>\n",
       "      <td>-0.855090</td>\n",
       "      <td>-0.904855</td>\n",
       "      <td>-1.022845</td>\n",
       "      <td>-1.026175</td>\n",
       "      <td>-1.097911</td>\n",
       "      <td>-1.136506</td>\n",
       "      <td>-1.019999</td>\n",
       "    </tr>\n",
       "    <tr>\n",
       "      <th>GSM748066</th>\n",
       "      <td>-0.334204</td>\n",
       "      <td>1.408724</td>\n",
       "      <td>1.475516</td>\n",
       "      <td>-1.583224</td>\n",
       "      <td>0.712906</td>\n",
       "      <td>-0.445084</td>\n",
       "      <td>-0.523123</td>\n",
       "      <td>-0.095434</td>\n",
       "      <td>1.053874</td>\n",
       "      <td>-0.623891</td>\n",
       "      <td>...</td>\n",
       "      <td>0.920197</td>\n",
       "      <td>-0.790834</td>\n",
       "      <td>-0.462061</td>\n",
       "      <td>-0.487718</td>\n",
       "      <td>-0.585701</td>\n",
       "      <td>-0.560142</td>\n",
       "      <td>-0.787370</td>\n",
       "      <td>-0.801506</td>\n",
       "      <td>-0.858589</td>\n",
       "      <td>-0.877634</td>\n",
       "    </tr>\n",
       "    <tr>\n",
       "      <th>GSM748067</th>\n",
       "      <td>0.633579</td>\n",
       "      <td>1.392086</td>\n",
       "      <td>-0.543972</td>\n",
       "      <td>0.209499</td>\n",
       "      <td>0.092885</td>\n",
       "      <td>-1.279302</td>\n",
       "      <td>-0.974167</td>\n",
       "      <td>-0.476532</td>\n",
       "      <td>0.264316</td>\n",
       "      <td>-0.857468</td>\n",
       "      <td>...</td>\n",
       "      <td>1.016963</td>\n",
       "      <td>-0.963845</td>\n",
       "      <td>-0.657724</td>\n",
       "      <td>-1.034731</td>\n",
       "      <td>-0.991964</td>\n",
       "      <td>-1.027257</td>\n",
       "      <td>-0.992068</td>\n",
       "      <td>-1.174188</td>\n",
       "      <td>-1.056231</td>\n",
       "      <td>-1.181470</td>\n",
       "    </tr>\n",
       "    <tr>\n",
       "      <th>GSM748068</th>\n",
       "      <td>-0.309105</td>\n",
       "      <td>0.754391</td>\n",
       "      <td>0.038188</td>\n",
       "      <td>-0.850840</td>\n",
       "      <td>-0.354127</td>\n",
       "      <td>0.583442</td>\n",
       "      <td>-0.909826</td>\n",
       "      <td>-0.416559</td>\n",
       "      <td>1.182363</td>\n",
       "      <td>-0.558829</td>\n",
       "      <td>...</td>\n",
       "      <td>-0.335215</td>\n",
       "      <td>-1.060056</td>\n",
       "      <td>-0.809302</td>\n",
       "      <td>-0.806500</td>\n",
       "      <td>-0.809281</td>\n",
       "      <td>-0.933447</td>\n",
       "      <td>-0.963714</td>\n",
       "      <td>-1.015880</td>\n",
       "      <td>-0.960303</td>\n",
       "      <td>-1.005291</td>\n",
       "    </tr>\n",
       "    <tr>\n",
       "      <th>GSM748069</th>\n",
       "      <td>-1.041476</td>\n",
       "      <td>0.886799</td>\n",
       "      <td>0.164651</td>\n",
       "      <td>-1.252020</td>\n",
       "      <td>-0.238230</td>\n",
       "      <td>0.675252</td>\n",
       "      <td>-0.744844</td>\n",
       "      <td>-0.709502</td>\n",
       "      <td>1.942431</td>\n",
       "      <td>0.777815</td>\n",
       "      <td>...</td>\n",
       "      <td>-0.111084</td>\n",
       "      <td>-0.397482</td>\n",
       "      <td>0.069102</td>\n",
       "      <td>-0.181764</td>\n",
       "      <td>-0.209951</td>\n",
       "      <td>-0.142058</td>\n",
       "      <td>-0.478032</td>\n",
       "      <td>-0.392010</td>\n",
       "      <td>-0.536592</td>\n",
       "      <td>-0.474010</td>\n",
       "    </tr>\n",
       "    <tr>\n",
       "      <th>GSM748071</th>\n",
       "      <td>-0.511758</td>\n",
       "      <td>0.491613</td>\n",
       "      <td>0.770200</td>\n",
       "      <td>-1.374417</td>\n",
       "      <td>-0.350019</td>\n",
       "      <td>0.229557</td>\n",
       "      <td>-0.770652</td>\n",
       "      <td>2.397593</td>\n",
       "      <td>1.063478</td>\n",
       "      <td>-0.613836</td>\n",
       "      <td>...</td>\n",
       "      <td>-0.575401</td>\n",
       "      <td>-0.992959</td>\n",
       "      <td>-0.561523</td>\n",
       "      <td>-0.885028</td>\n",
       "      <td>-0.883002</td>\n",
       "      <td>-0.827595</td>\n",
       "      <td>-0.938457</td>\n",
       "      <td>-1.124994</td>\n",
       "      <td>-1.064360</td>\n",
       "      <td>-0.995433</td>\n",
       "    </tr>\n",
       "    <tr>\n",
       "      <th>GSM748072</th>\n",
       "      <td>0.713431</td>\n",
       "      <td>1.631981</td>\n",
       "      <td>0.292610</td>\n",
       "      <td>-0.369040</td>\n",
       "      <td>-0.118760</td>\n",
       "      <td>-0.433383</td>\n",
       "      <td>-1.016395</td>\n",
       "      <td>0.064450</td>\n",
       "      <td>0.888320</td>\n",
       "      <td>-0.347291</td>\n",
       "      <td>...</td>\n",
       "      <td>0.272192</td>\n",
       "      <td>-0.827756</td>\n",
       "      <td>-0.656458</td>\n",
       "      <td>-0.835327</td>\n",
       "      <td>-0.839420</td>\n",
       "      <td>-0.876905</td>\n",
       "      <td>-0.921307</td>\n",
       "      <td>-1.098787</td>\n",
       "      <td>-0.865525</td>\n",
       "      <td>-0.951674</td>\n",
       "    </tr>\n",
       "    <tr>\n",
       "      <th>GSM748073</th>\n",
       "      <td>-0.780262</td>\n",
       "      <td>0.504509</td>\n",
       "      <td>1.540191</td>\n",
       "      <td>-0.854063</td>\n",
       "      <td>-0.504792</td>\n",
       "      <td>1.487044</td>\n",
       "      <td>-1.037404</td>\n",
       "      <td>0.535761</td>\n",
       "      <td>1.149351</td>\n",
       "      <td>-0.598018</td>\n",
       "      <td>...</td>\n",
       "      <td>0.526105</td>\n",
       "      <td>-0.856683</td>\n",
       "      <td>-0.763812</td>\n",
       "      <td>-0.868017</td>\n",
       "      <td>-0.755851</td>\n",
       "      <td>-0.795432</td>\n",
       "      <td>-0.818868</td>\n",
       "      <td>-0.955756</td>\n",
       "      <td>-1.119525</td>\n",
       "      <td>-1.153133</td>\n",
       "    </tr>\n",
       "    <tr>\n",
       "      <th>...</th>\n",
       "      <td>...</td>\n",
       "      <td>...</td>\n",
       "      <td>...</td>\n",
       "      <td>...</td>\n",
       "      <td>...</td>\n",
       "      <td>...</td>\n",
       "      <td>...</td>\n",
       "      <td>...</td>\n",
       "      <td>...</td>\n",
       "      <td>...</td>\n",
       "      <td>...</td>\n",
       "      <td>...</td>\n",
       "      <td>...</td>\n",
       "      <td>...</td>\n",
       "      <td>...</td>\n",
       "      <td>...</td>\n",
       "      <td>...</td>\n",
       "      <td>...</td>\n",
       "      <td>...</td>\n",
       "      <td>...</td>\n",
       "      <td>...</td>\n",
       "    </tr>\n",
       "    <tr>\n",
       "      <th>GSM748336</th>\n",
       "      <td>-0.705934</td>\n",
       "      <td>1.285925</td>\n",
       "      <td>-0.833676</td>\n",
       "      <td>-1.931204</td>\n",
       "      <td>0.431490</td>\n",
       "      <td>-0.870800</td>\n",
       "      <td>-1.012439</td>\n",
       "      <td>-2.335791</td>\n",
       "      <td>1.334505</td>\n",
       "      <td>1.667297</td>\n",
       "      <td>...</td>\n",
       "      <td>-0.530902</td>\n",
       "      <td>-1.324046</td>\n",
       "      <td>-1.132920</td>\n",
       "      <td>-1.220971</td>\n",
       "      <td>-1.386088</td>\n",
       "      <td>-1.506390</td>\n",
       "      <td>-1.458866</td>\n",
       "      <td>-1.322066</td>\n",
       "      <td>-1.522789</td>\n",
       "      <td>-1.591487</td>\n",
       "    </tr>\n",
       "    <tr>\n",
       "      <th>GSM748337</th>\n",
       "      <td>0.056541</td>\n",
       "      <td>0.842264</td>\n",
       "      <td>-1.128599</td>\n",
       "      <td>-1.045204</td>\n",
       "      <td>-0.155498</td>\n",
       "      <td>-0.055744</td>\n",
       "      <td>-0.836579</td>\n",
       "      <td>-1.150186</td>\n",
       "      <td>1.062447</td>\n",
       "      <td>-0.657458</td>\n",
       "      <td>...</td>\n",
       "      <td>-0.391151</td>\n",
       "      <td>-0.732042</td>\n",
       "      <td>-0.430411</td>\n",
       "      <td>-0.616238</td>\n",
       "      <td>-0.633200</td>\n",
       "      <td>-0.751594</td>\n",
       "      <td>-0.863574</td>\n",
       "      <td>-0.804807</td>\n",
       "      <td>-0.944794</td>\n",
       "      <td>-0.945873</td>\n",
       "    </tr>\n",
       "    <tr>\n",
       "      <th>GSM748338</th>\n",
       "      <td>-0.522035</td>\n",
       "      <td>2.032366</td>\n",
       "      <td>0.463852</td>\n",
       "      <td>-0.711192</td>\n",
       "      <td>0.191241</td>\n",
       "      <td>-0.772616</td>\n",
       "      <td>-0.863058</td>\n",
       "      <td>1.608640</td>\n",
       "      <td>0.970242</td>\n",
       "      <td>-0.826899</td>\n",
       "      <td>...</td>\n",
       "      <td>0.341311</td>\n",
       "      <td>-1.433851</td>\n",
       "      <td>-1.268321</td>\n",
       "      <td>-1.335784</td>\n",
       "      <td>-1.594954</td>\n",
       "      <td>-1.375830</td>\n",
       "      <td>-1.711455</td>\n",
       "      <td>-1.579831</td>\n",
       "      <td>-1.709318</td>\n",
       "      <td>-1.635398</td>\n",
       "    </tr>\n",
       "    <tr>\n",
       "      <th>GSM748339</th>\n",
       "      <td>-0.718733</td>\n",
       "      <td>1.555262</td>\n",
       "      <td>1.356162</td>\n",
       "      <td>-0.686094</td>\n",
       "      <td>-0.083784</td>\n",
       "      <td>-1.498118</td>\n",
       "      <td>-0.789026</td>\n",
       "      <td>0.269833</td>\n",
       "      <td>-0.606254</td>\n",
       "      <td>0.214924</td>\n",
       "      <td>...</td>\n",
       "      <td>1.479711</td>\n",
       "      <td>-0.990901</td>\n",
       "      <td>-1.378998</td>\n",
       "      <td>-1.294138</td>\n",
       "      <td>-1.290358</td>\n",
       "      <td>-1.454075</td>\n",
       "      <td>-1.547151</td>\n",
       "      <td>-1.440459</td>\n",
       "      <td>-1.656574</td>\n",
       "      <td>-1.738615</td>\n",
       "    </tr>\n",
       "    <tr>\n",
       "      <th>GSM748341</th>\n",
       "      <td>-2.325946</td>\n",
       "      <td>0.728443</td>\n",
       "      <td>0.176801</td>\n",
       "      <td>-0.442474</td>\n",
       "      <td>-0.270898</td>\n",
       "      <td>0.510673</td>\n",
       "      <td>-0.732043</td>\n",
       "      <td>-0.376956</td>\n",
       "      <td>1.912530</td>\n",
       "      <td>-0.481574</td>\n",
       "      <td>...</td>\n",
       "      <td>0.089929</td>\n",
       "      <td>-1.105413</td>\n",
       "      <td>-1.385328</td>\n",
       "      <td>-1.141186</td>\n",
       "      <td>-1.062773</td>\n",
       "      <td>-0.978463</td>\n",
       "      <td>-1.160348</td>\n",
       "      <td>-1.019638</td>\n",
       "      <td>-1.288232</td>\n",
       "      <td>-1.085331</td>\n",
       "    </tr>\n",
       "    <tr>\n",
       "      <th>GSM748342</th>\n",
       "      <td>-0.374296</td>\n",
       "      <td>1.002912</td>\n",
       "      <td>-0.461478</td>\n",
       "      <td>-0.508543</td>\n",
       "      <td>0.365636</td>\n",
       "      <td>-0.016698</td>\n",
       "      <td>-0.697087</td>\n",
       "      <td>-0.349015</td>\n",
       "      <td>1.800683</td>\n",
       "      <td>1.101220</td>\n",
       "      <td>...</td>\n",
       "      <td>0.265108</td>\n",
       "      <td>-1.030455</td>\n",
       "      <td>-1.097917</td>\n",
       "      <td>-1.099984</td>\n",
       "      <td>-1.039854</td>\n",
       "      <td>-0.944420</td>\n",
       "      <td>-1.142261</td>\n",
       "      <td>-1.108087</td>\n",
       "      <td>-1.039497</td>\n",
       "      <td>-0.988710</td>\n",
       "    </tr>\n",
       "    <tr>\n",
       "      <th>GSM748343</th>\n",
       "      <td>-0.455270</td>\n",
       "      <td>1.140304</td>\n",
       "      <td>-0.721477</td>\n",
       "      <td>-0.634646</td>\n",
       "      <td>-0.067030</td>\n",
       "      <td>-1.020431</td>\n",
       "      <td>-1.336532</td>\n",
       "      <td>1.359804</td>\n",
       "      <td>0.166078</td>\n",
       "      <td>-0.633240</td>\n",
       "      <td>...</td>\n",
       "      <td>-0.326078</td>\n",
       "      <td>-0.974141</td>\n",
       "      <td>-0.623330</td>\n",
       "      <td>-0.956222</td>\n",
       "      <td>-0.935666</td>\n",
       "      <td>-1.098335</td>\n",
       "      <td>-1.087839</td>\n",
       "      <td>-1.077558</td>\n",
       "      <td>-1.069210</td>\n",
       "      <td>-1.089797</td>\n",
       "    </tr>\n",
       "    <tr>\n",
       "      <th>GSM748344</th>\n",
       "      <td>-1.501898</td>\n",
       "      <td>0.751217</td>\n",
       "      <td>-1.628454</td>\n",
       "      <td>-0.207272</td>\n",
       "      <td>-0.295063</td>\n",
       "      <td>-0.766594</td>\n",
       "      <td>-0.978984</td>\n",
       "      <td>-1.326421</td>\n",
       "      <td>-0.012932</td>\n",
       "      <td>0.603961</td>\n",
       "      <td>...</td>\n",
       "      <td>-0.570259</td>\n",
       "      <td>-0.970334</td>\n",
       "      <td>-0.742726</td>\n",
       "      <td>-0.921815</td>\n",
       "      <td>-1.091510</td>\n",
       "      <td>-1.208615</td>\n",
       "      <td>-1.191423</td>\n",
       "      <td>-1.241855</td>\n",
       "      <td>-1.026344</td>\n",
       "      <td>-1.138942</td>\n",
       "    </tr>\n",
       "    <tr>\n",
       "      <th>GSM748345</th>\n",
       "      <td>-3.671730</td>\n",
       "      <td>0.641093</td>\n",
       "      <td>-1.260394</td>\n",
       "      <td>-1.343607</td>\n",
       "      <td>-0.501299</td>\n",
       "      <td>-0.723035</td>\n",
       "      <td>-0.895885</td>\n",
       "      <td>0.792486</td>\n",
       "      <td>-0.648890</td>\n",
       "      <td>1.182107</td>\n",
       "      <td>...</td>\n",
       "      <td>1.849683</td>\n",
       "      <td>-0.863314</td>\n",
       "      <td>-0.389854</td>\n",
       "      <td>-0.832014</td>\n",
       "      <td>-0.929654</td>\n",
       "      <td>-0.869684</td>\n",
       "      <td>-1.017654</td>\n",
       "      <td>-0.996789</td>\n",
       "      <td>-1.282591</td>\n",
       "      <td>-1.163834</td>\n",
       "    </tr>\n",
       "    <tr>\n",
       "      <th>GSM748346</th>\n",
       "      <td>-0.281392</td>\n",
       "      <td>0.972850</td>\n",
       "      <td>-0.040009</td>\n",
       "      <td>-0.578905</td>\n",
       "      <td>-0.251781</td>\n",
       "      <td>-0.102567</td>\n",
       "      <td>-1.018135</td>\n",
       "      <td>-0.343175</td>\n",
       "      <td>0.700597</td>\n",
       "      <td>0.017808</td>\n",
       "      <td>...</td>\n",
       "      <td>0.214184</td>\n",
       "      <td>-0.915483</td>\n",
       "      <td>-0.817086</td>\n",
       "      <td>-0.993663</td>\n",
       "      <td>-1.002980</td>\n",
       "      <td>-1.022922</td>\n",
       "      <td>-1.220073</td>\n",
       "      <td>-1.250857</td>\n",
       "      <td>-1.119871</td>\n",
       "      <td>-1.291366</td>\n",
       "    </tr>\n",
       "    <tr>\n",
       "      <th>GSM748347</th>\n",
       "      <td>-1.048555</td>\n",
       "      <td>1.365931</td>\n",
       "      <td>0.703851</td>\n",
       "      <td>-0.626914</td>\n",
       "      <td>1.637290</td>\n",
       "      <td>-1.455056</td>\n",
       "      <td>-1.028867</td>\n",
       "      <td>0.202934</td>\n",
       "      <td>0.136040</td>\n",
       "      <td>1.445401</td>\n",
       "      <td>...</td>\n",
       "      <td>-0.466527</td>\n",
       "      <td>-0.684710</td>\n",
       "      <td>-0.653311</td>\n",
       "      <td>-0.665401</td>\n",
       "      <td>-0.800825</td>\n",
       "      <td>-0.752589</td>\n",
       "      <td>-0.873955</td>\n",
       "      <td>-0.915045</td>\n",
       "      <td>-0.967624</td>\n",
       "      <td>-0.975803</td>\n",
       "    </tr>\n",
       "    <tr>\n",
       "      <th>GSM748348</th>\n",
       "      <td>0.145484</td>\n",
       "      <td>1.405374</td>\n",
       "      <td>-1.128660</td>\n",
       "      <td>-1.324731</td>\n",
       "      <td>-0.616809</td>\n",
       "      <td>-2.056943</td>\n",
       "      <td>-0.886540</td>\n",
       "      <td>0.389898</td>\n",
       "      <td>-0.477490</td>\n",
       "      <td>0.052196</td>\n",
       "      <td>...</td>\n",
       "      <td>0.421926</td>\n",
       "      <td>-0.926353</td>\n",
       "      <td>-0.696471</td>\n",
       "      <td>-0.814533</td>\n",
       "      <td>-0.861982</td>\n",
       "      <td>-0.845582</td>\n",
       "      <td>-0.925234</td>\n",
       "      <td>-1.051169</td>\n",
       "      <td>-0.657399</td>\n",
       "      <td>-0.658583</td>\n",
       "    </tr>\n",
       "    <tr>\n",
       "      <th>GSM748349</th>\n",
       "      <td>-0.778181</td>\n",
       "      <td>1.864967</td>\n",
       "      <td>0.149878</td>\n",
       "      <td>-0.419731</td>\n",
       "      <td>-0.343833</td>\n",
       "      <td>-1.306425</td>\n",
       "      <td>-0.214183</td>\n",
       "      <td>-0.944450</td>\n",
       "      <td>0.082005</td>\n",
       "      <td>-1.013015</td>\n",
       "      <td>...</td>\n",
       "      <td>-0.694998</td>\n",
       "      <td>-0.601386</td>\n",
       "      <td>-0.017352</td>\n",
       "      <td>-0.571824</td>\n",
       "      <td>-0.537345</td>\n",
       "      <td>-0.529798</td>\n",
       "      <td>-0.650419</td>\n",
       "      <td>-0.593155</td>\n",
       "      <td>-0.501575</td>\n",
       "      <td>-0.512382</td>\n",
       "    </tr>\n",
       "    <tr>\n",
       "      <th>GSM748350</th>\n",
       "      <td>-0.740479</td>\n",
       "      <td>1.095494</td>\n",
       "      <td>0.745535</td>\n",
       "      <td>-0.372488</td>\n",
       "      <td>-0.534295</td>\n",
       "      <td>-0.438797</td>\n",
       "      <td>-0.706590</td>\n",
       "      <td>0.583957</td>\n",
       "      <td>1.009507</td>\n",
       "      <td>-0.949262</td>\n",
       "      <td>...</td>\n",
       "      <td>0.370817</td>\n",
       "      <td>-1.293875</td>\n",
       "      <td>-1.527602</td>\n",
       "      <td>-1.451243</td>\n",
       "      <td>-1.219727</td>\n",
       "      <td>-1.198361</td>\n",
       "      <td>-1.395138</td>\n",
       "      <td>-1.360921</td>\n",
       "      <td>-1.314928</td>\n",
       "      <td>-1.323447</td>\n",
       "    </tr>\n",
       "    <tr>\n",
       "      <th>GSM748351</th>\n",
       "      <td>1.737714</td>\n",
       "      <td>0.945739</td>\n",
       "      <td>-0.208312</td>\n",
       "      <td>-0.272164</td>\n",
       "      <td>-0.362619</td>\n",
       "      <td>-0.213606</td>\n",
       "      <td>-0.871895</td>\n",
       "      <td>0.098249</td>\n",
       "      <td>-0.175167</td>\n",
       "      <td>0.755831</td>\n",
       "      <td>...</td>\n",
       "      <td>-1.083876</td>\n",
       "      <td>-1.073781</td>\n",
       "      <td>-1.202390</td>\n",
       "      <td>-1.262822</td>\n",
       "      <td>-1.141090</td>\n",
       "      <td>-0.901410</td>\n",
       "      <td>-1.240646</td>\n",
       "      <td>-1.271957</td>\n",
       "      <td>-1.562840</td>\n",
       "      <td>-1.305482</td>\n",
       "    </tr>\n",
       "    <tr>\n",
       "      <th>GSM748352</th>\n",
       "      <td>1.537198</td>\n",
       "      <td>0.514604</td>\n",
       "      <td>-1.059654</td>\n",
       "      <td>-0.685096</td>\n",
       "      <td>-0.450233</td>\n",
       "      <td>-0.090212</td>\n",
       "      <td>-0.379107</td>\n",
       "      <td>-0.129299</td>\n",
       "      <td>1.040723</td>\n",
       "      <td>2.053775</td>\n",
       "      <td>...</td>\n",
       "      <td>0.119158</td>\n",
       "      <td>-1.303420</td>\n",
       "      <td>-1.343121</td>\n",
       "      <td>-1.271396</td>\n",
       "      <td>-1.425805</td>\n",
       "      <td>-1.331295</td>\n",
       "      <td>-1.479332</td>\n",
       "      <td>-1.548936</td>\n",
       "      <td>-1.552811</td>\n",
       "      <td>-1.497247</td>\n",
       "    </tr>\n",
       "    <tr>\n",
       "      <th>GSM748353</th>\n",
       "      <td>0.260917</td>\n",
       "      <td>1.369231</td>\n",
       "      <td>-1.359474</td>\n",
       "      <td>-1.165667</td>\n",
       "      <td>-0.305519</td>\n",
       "      <td>-0.087235</td>\n",
       "      <td>-0.875366</td>\n",
       "      <td>-1.676616</td>\n",
       "      <td>0.698875</td>\n",
       "      <td>0.376967</td>\n",
       "      <td>...</td>\n",
       "      <td>-1.447602</td>\n",
       "      <td>-1.119347</td>\n",
       "      <td>-1.008648</td>\n",
       "      <td>-1.020343</td>\n",
       "      <td>-1.199075</td>\n",
       "      <td>-1.201901</td>\n",
       "      <td>-1.461658</td>\n",
       "      <td>-1.353566</td>\n",
       "      <td>-1.318342</td>\n",
       "      <td>-1.227196</td>\n",
       "    </tr>\n",
       "    <tr>\n",
       "      <th>GSM748354</th>\n",
       "      <td>0.847930</td>\n",
       "      <td>0.452913</td>\n",
       "      <td>0.087513</td>\n",
       "      <td>-0.785966</td>\n",
       "      <td>0.343108</td>\n",
       "      <td>-0.996972</td>\n",
       "      <td>-1.053755</td>\n",
       "      <td>0.566477</td>\n",
       "      <td>-0.436416</td>\n",
       "      <td>0.033304</td>\n",
       "      <td>...</td>\n",
       "      <td>-0.243422</td>\n",
       "      <td>-1.089672</td>\n",
       "      <td>-1.410517</td>\n",
       "      <td>-1.271376</td>\n",
       "      <td>-1.313955</td>\n",
       "      <td>-1.263249</td>\n",
       "      <td>-1.443229</td>\n",
       "      <td>-1.548056</td>\n",
       "      <td>-1.661777</td>\n",
       "      <td>-1.494054</td>\n",
       "    </tr>\n",
       "    <tr>\n",
       "      <th>GSM748355</th>\n",
       "      <td>-0.197107</td>\n",
       "      <td>1.059219</td>\n",
       "      <td>-0.201053</td>\n",
       "      <td>-1.085750</td>\n",
       "      <td>0.106067</td>\n",
       "      <td>-0.233661</td>\n",
       "      <td>-0.934946</td>\n",
       "      <td>0.182884</td>\n",
       "      <td>0.851590</td>\n",
       "      <td>-0.300761</td>\n",
       "      <td>...</td>\n",
       "      <td>-0.669884</td>\n",
       "      <td>-0.718870</td>\n",
       "      <td>-0.385808</td>\n",
       "      <td>-0.322615</td>\n",
       "      <td>-0.433022</td>\n",
       "      <td>-0.492507</td>\n",
       "      <td>-0.751555</td>\n",
       "      <td>-0.689883</td>\n",
       "      <td>-0.734301</td>\n",
       "      <td>-0.716122</td>\n",
       "    </tr>\n",
       "    <tr>\n",
       "      <th>GSM748356</th>\n",
       "      <td>0.305628</td>\n",
       "      <td>1.176282</td>\n",
       "      <td>-0.284984</td>\n",
       "      <td>-0.821519</td>\n",
       "      <td>-0.436561</td>\n",
       "      <td>-0.366795</td>\n",
       "      <td>-1.079891</td>\n",
       "      <td>-0.780597</td>\n",
       "      <td>0.714056</td>\n",
       "      <td>0.157425</td>\n",
       "      <td>...</td>\n",
       "      <td>0.530290</td>\n",
       "      <td>-1.278020</td>\n",
       "      <td>-1.106363</td>\n",
       "      <td>-1.204456</td>\n",
       "      <td>-1.241917</td>\n",
       "      <td>-1.149945</td>\n",
       "      <td>-1.346695</td>\n",
       "      <td>-1.291225</td>\n",
       "      <td>-1.494742</td>\n",
       "      <td>-1.527617</td>\n",
       "    </tr>\n",
       "    <tr>\n",
       "      <th>GSM748357</th>\n",
       "      <td>-0.092851</td>\n",
       "      <td>0.833751</td>\n",
       "      <td>-0.130533</td>\n",
       "      <td>-0.244545</td>\n",
       "      <td>-0.599394</td>\n",
       "      <td>1.231295</td>\n",
       "      <td>-1.344919</td>\n",
       "      <td>-0.638936</td>\n",
       "      <td>1.366705</td>\n",
       "      <td>-0.132441</td>\n",
       "      <td>...</td>\n",
       "      <td>-1.014131</td>\n",
       "      <td>-1.187718</td>\n",
       "      <td>-1.646369</td>\n",
       "      <td>-1.126910</td>\n",
       "      <td>-1.508000</td>\n",
       "      <td>-1.319948</td>\n",
       "      <td>-1.358773</td>\n",
       "      <td>-1.492575</td>\n",
       "      <td>-1.490776</td>\n",
       "      <td>-1.593835</td>\n",
       "    </tr>\n",
       "    <tr>\n",
       "      <th>GSM748358</th>\n",
       "      <td>-0.317250</td>\n",
       "      <td>1.251501</td>\n",
       "      <td>0.123818</td>\n",
       "      <td>-0.801279</td>\n",
       "      <td>-0.205469</td>\n",
       "      <td>-0.803312</td>\n",
       "      <td>-0.818204</td>\n",
       "      <td>-0.215356</td>\n",
       "      <td>0.779825</td>\n",
       "      <td>-0.681299</td>\n",
       "      <td>...</td>\n",
       "      <td>-0.027446</td>\n",
       "      <td>-0.810711</td>\n",
       "      <td>-0.490580</td>\n",
       "      <td>-0.654049</td>\n",
       "      <td>-0.626407</td>\n",
       "      <td>-0.655921</td>\n",
       "      <td>-0.616419</td>\n",
       "      <td>-0.750245</td>\n",
       "      <td>-0.566651</td>\n",
       "      <td>-0.640725</td>\n",
       "    </tr>\n",
       "    <tr>\n",
       "      <th>GSM748359</th>\n",
       "      <td>-0.659848</td>\n",
       "      <td>1.711140</td>\n",
       "      <td>0.036117</td>\n",
       "      <td>-0.778014</td>\n",
       "      <td>9.281047</td>\n",
       "      <td>-1.796403</td>\n",
       "      <td>-0.485352</td>\n",
       "      <td>-1.331566</td>\n",
       "      <td>0.610659</td>\n",
       "      <td>-0.590807</td>\n",
       "      <td>...</td>\n",
       "      <td>0.872812</td>\n",
       "      <td>-0.535940</td>\n",
       "      <td>-0.457028</td>\n",
       "      <td>-0.385785</td>\n",
       "      <td>-0.436460</td>\n",
       "      <td>-0.384683</td>\n",
       "      <td>-0.814862</td>\n",
       "      <td>-0.864790</td>\n",
       "      <td>-0.837148</td>\n",
       "      <td>-0.937527</td>\n",
       "    </tr>\n",
       "    <tr>\n",
       "      <th>GSM748360</th>\n",
       "      <td>-0.294212</td>\n",
       "      <td>1.260043</td>\n",
       "      <td>-0.447717</td>\n",
       "      <td>-0.860240</td>\n",
       "      <td>0.020230</td>\n",
       "      <td>-1.188014</td>\n",
       "      <td>-0.983833</td>\n",
       "      <td>-0.957284</td>\n",
       "      <td>0.845814</td>\n",
       "      <td>-0.620841</td>\n",
       "      <td>...</td>\n",
       "      <td>-0.317212</td>\n",
       "      <td>-0.684336</td>\n",
       "      <td>-0.612619</td>\n",
       "      <td>-0.436582</td>\n",
       "      <td>-0.597726</td>\n",
       "      <td>-0.716793</td>\n",
       "      <td>-0.715618</td>\n",
       "      <td>-0.830215</td>\n",
       "      <td>-0.897297</td>\n",
       "      <td>-0.897597</td>\n",
       "    </tr>\n",
       "    <tr>\n",
       "      <th>GSM748361</th>\n",
       "      <td>0.302745</td>\n",
       "      <td>1.565747</td>\n",
       "      <td>-0.769289</td>\n",
       "      <td>-0.710240</td>\n",
       "      <td>-0.117670</td>\n",
       "      <td>-0.588865</td>\n",
       "      <td>-1.163424</td>\n",
       "      <td>-0.835748</td>\n",
       "      <td>0.497495</td>\n",
       "      <td>-0.907706</td>\n",
       "      <td>...</td>\n",
       "      <td>-2.237813</td>\n",
       "      <td>-0.752589</td>\n",
       "      <td>-0.799466</td>\n",
       "      <td>-0.739208</td>\n",
       "      <td>-0.753549</td>\n",
       "      <td>-0.834194</td>\n",
       "      <td>-1.025477</td>\n",
       "      <td>-1.043543</td>\n",
       "      <td>-1.029766</td>\n",
       "      <td>-1.006402</td>\n",
       "    </tr>\n",
       "    <tr>\n",
       "      <th>GSM748362</th>\n",
       "      <td>-0.666008</td>\n",
       "      <td>1.409164</td>\n",
       "      <td>0.094658</td>\n",
       "      <td>-0.724163</td>\n",
       "      <td>0.107560</td>\n",
       "      <td>0.762160</td>\n",
       "      <td>-0.962730</td>\n",
       "      <td>0.042896</td>\n",
       "      <td>1.520192</td>\n",
       "      <td>-0.431743</td>\n",
       "      <td>...</td>\n",
       "      <td>-1.073077</td>\n",
       "      <td>-1.006515</td>\n",
       "      <td>-0.870991</td>\n",
       "      <td>-0.738245</td>\n",
       "      <td>-0.862563</td>\n",
       "      <td>-1.004798</td>\n",
       "      <td>-0.994544</td>\n",
       "      <td>-0.953726</td>\n",
       "      <td>-1.057924</td>\n",
       "      <td>-1.066555</td>\n",
       "    </tr>\n",
       "    <tr>\n",
       "      <th>GSM748363</th>\n",
       "      <td>-1.747168</td>\n",
       "      <td>1.644007</td>\n",
       "      <td>-0.346415</td>\n",
       "      <td>-1.211165</td>\n",
       "      <td>-0.248015</td>\n",
       "      <td>-1.768905</td>\n",
       "      <td>-0.877915</td>\n",
       "      <td>-0.435809</td>\n",
       "      <td>0.108111</td>\n",
       "      <td>0.146135</td>\n",
       "      <td>...</td>\n",
       "      <td>1.687502</td>\n",
       "      <td>-0.915435</td>\n",
       "      <td>-0.408759</td>\n",
       "      <td>-0.656718</td>\n",
       "      <td>-0.860383</td>\n",
       "      <td>-0.724503</td>\n",
       "      <td>-0.987889</td>\n",
       "      <td>-1.068006</td>\n",
       "      <td>-0.850945</td>\n",
       "      <td>-0.845770</td>\n",
       "    </tr>\n",
       "    <tr>\n",
       "      <th>GSM748364</th>\n",
       "      <td>-0.379330</td>\n",
       "      <td>1.061774</td>\n",
       "      <td>-0.229797</td>\n",
       "      <td>-0.745055</td>\n",
       "      <td>-0.098292</td>\n",
       "      <td>-0.631497</td>\n",
       "      <td>-0.981832</td>\n",
       "      <td>-0.640185</td>\n",
       "      <td>-0.124324</td>\n",
       "      <td>0.602344</td>\n",
       "      <td>...</td>\n",
       "      <td>-0.124087</td>\n",
       "      <td>-1.027157</td>\n",
       "      <td>-0.891740</td>\n",
       "      <td>-1.136383</td>\n",
       "      <td>-1.108945</td>\n",
       "      <td>-1.208478</td>\n",
       "      <td>-1.305072</td>\n",
       "      <td>-1.337264</td>\n",
       "      <td>-1.074739</td>\n",
       "      <td>-1.124033</td>\n",
       "    </tr>\n",
       "    <tr>\n",
       "      <th>GSM748365</th>\n",
       "      <td>-0.368557</td>\n",
       "      <td>1.688063</td>\n",
       "      <td>-0.467127</td>\n",
       "      <td>-1.298666</td>\n",
       "      <td>0.275564</td>\n",
       "      <td>-0.445618</td>\n",
       "      <td>-0.932018</td>\n",
       "      <td>-0.603670</td>\n",
       "      <td>0.325108</td>\n",
       "      <td>0.255617</td>\n",
       "      <td>...</td>\n",
       "      <td>-0.070980</td>\n",
       "      <td>-0.828458</td>\n",
       "      <td>-0.445597</td>\n",
       "      <td>-0.740200</td>\n",
       "      <td>-0.807407</td>\n",
       "      <td>-0.811428</td>\n",
       "      <td>-0.969251</td>\n",
       "      <td>-1.033726</td>\n",
       "      <td>-0.866787</td>\n",
       "      <td>-0.864661</td>\n",
       "    </tr>\n",
       "    <tr>\n",
       "      <th>GSM748366</th>\n",
       "      <td>-0.985562</td>\n",
       "      <td>1.004015</td>\n",
       "      <td>-0.251075</td>\n",
       "      <td>-0.303588</td>\n",
       "      <td>-0.142973</td>\n",
       "      <td>-0.773386</td>\n",
       "      <td>-0.747112</td>\n",
       "      <td>-0.402518</td>\n",
       "      <td>0.635026</td>\n",
       "      <td>0.002670</td>\n",
       "      <td>...</td>\n",
       "      <td>0.095850</td>\n",
       "      <td>-0.696394</td>\n",
       "      <td>-0.317384</td>\n",
       "      <td>-0.512419</td>\n",
       "      <td>-0.613109</td>\n",
       "      <td>-0.514069</td>\n",
       "      <td>-0.754311</td>\n",
       "      <td>-0.863852</td>\n",
       "      <td>-0.794868</td>\n",
       "      <td>-0.730866</td>\n",
       "    </tr>\n",
       "  </tbody>\n",
       "</table>\n",
       "<p>293 rows × 54675 columns</p>\n",
       "</div>"
      ],
      "text/plain": [
       "            1007_s_at   1053_at    117_at    121_at  1255_g_at   1294_at  \\\n",
       "GSM1465989   0.445540  0.282024  0.063585 -0.923700  -0.796165  1.269242   \n",
       "GSM1465990  -1.194637  1.001315 -0.462227 -0.805564   1.218419 -0.003497   \n",
       "GSM1465991   0.421063  1.526440 -1.003824 -1.354617   5.356114 -0.031524   \n",
       "GSM1465992   1.094008  1.008033 -0.366276 -0.954361  -0.579665  2.812313   \n",
       "GSM1465993   1.122995  1.187527 -0.449719 -0.646736  -0.416540 -1.074118   \n",
       "GSM1465994   0.655517  0.653680  0.647504 -1.385277  -0.564372  1.476937   \n",
       "GSM1465995   0.087129  0.524200 -1.177222 -0.870957  -0.306079  0.064599   \n",
       "GSM1465996   0.371086  1.517284 -0.364993 -1.112867  -0.235233 -0.560806   \n",
       "GSM1465997  -2.557545  1.374788 -0.641662 -1.373835  -0.072237 -1.195229   \n",
       "GSM1465998   1.533422  1.160432  0.368002 -0.451443  -0.063374 -0.110492   \n",
       "GSM1465999   0.998358  2.027025 -0.527311  0.151982  -0.431468 -2.006416   \n",
       "GSM748053    0.678919  0.320926 -0.218699 -1.101001  -0.589357  0.798465   \n",
       "GSM748054    0.208008  0.923879 -0.226409 -0.702235  -0.263672  0.864290   \n",
       "GSM748055    0.907573  1.189996 -0.338909 -0.413752  -0.386888  0.797045   \n",
       "GSM748056   -0.121307  0.519719 -0.319444 -1.131946  -0.470599  1.317776   \n",
       "GSM748057    0.201546  0.215185 -0.185468 -0.335998  -0.418571  0.576490   \n",
       "GSM748058    0.183671  0.490717 -1.112735 -0.857640  -0.664115  1.032425   \n",
       "GSM748059    0.752780  1.231660  0.758486 -0.584938  -0.602623 -1.283020   \n",
       "GSM748061   -0.469520  1.236706  0.183328 -0.166645  -0.007755 -1.552708   \n",
       "GSM748062    0.163406  1.050604 -0.190790 -0.529444  -0.188389 -1.314948   \n",
       "GSM748063    1.365462  1.133168 -0.547444 -0.548346   0.145181 -0.147180   \n",
       "GSM748064   -0.420574  0.380737  0.762505 -1.239702  -0.204213  0.522435   \n",
       "GSM748065    0.492029  1.572436 -0.820454 -1.201473  -0.053996 -0.209577   \n",
       "GSM748066   -0.334204  1.408724  1.475516 -1.583224   0.712906 -0.445084   \n",
       "GSM748067    0.633579  1.392086 -0.543972  0.209499   0.092885 -1.279302   \n",
       "GSM748068   -0.309105  0.754391  0.038188 -0.850840  -0.354127  0.583442   \n",
       "GSM748069   -1.041476  0.886799  0.164651 -1.252020  -0.238230  0.675252   \n",
       "GSM748071   -0.511758  0.491613  0.770200 -1.374417  -0.350019  0.229557   \n",
       "GSM748072    0.713431  1.631981  0.292610 -0.369040  -0.118760 -0.433383   \n",
       "GSM748073   -0.780262  0.504509  1.540191 -0.854063  -0.504792  1.487044   \n",
       "...               ...       ...       ...       ...        ...       ...   \n",
       "GSM748336   -0.705934  1.285925 -0.833676 -1.931204   0.431490 -0.870800   \n",
       "GSM748337    0.056541  0.842264 -1.128599 -1.045204  -0.155498 -0.055744   \n",
       "GSM748338   -0.522035  2.032366  0.463852 -0.711192   0.191241 -0.772616   \n",
       "GSM748339   -0.718733  1.555262  1.356162 -0.686094  -0.083784 -1.498118   \n",
       "GSM748341   -2.325946  0.728443  0.176801 -0.442474  -0.270898  0.510673   \n",
       "GSM748342   -0.374296  1.002912 -0.461478 -0.508543   0.365636 -0.016698   \n",
       "GSM748343   -0.455270  1.140304 -0.721477 -0.634646  -0.067030 -1.020431   \n",
       "GSM748344   -1.501898  0.751217 -1.628454 -0.207272  -0.295063 -0.766594   \n",
       "GSM748345   -3.671730  0.641093 -1.260394 -1.343607  -0.501299 -0.723035   \n",
       "GSM748346   -0.281392  0.972850 -0.040009 -0.578905  -0.251781 -0.102567   \n",
       "GSM748347   -1.048555  1.365931  0.703851 -0.626914   1.637290 -1.455056   \n",
       "GSM748348    0.145484  1.405374 -1.128660 -1.324731  -0.616809 -2.056943   \n",
       "GSM748349   -0.778181  1.864967  0.149878 -0.419731  -0.343833 -1.306425   \n",
       "GSM748350   -0.740479  1.095494  0.745535 -0.372488  -0.534295 -0.438797   \n",
       "GSM748351    1.737714  0.945739 -0.208312 -0.272164  -0.362619 -0.213606   \n",
       "GSM748352    1.537198  0.514604 -1.059654 -0.685096  -0.450233 -0.090212   \n",
       "GSM748353    0.260917  1.369231 -1.359474 -1.165667  -0.305519 -0.087235   \n",
       "GSM748354    0.847930  0.452913  0.087513 -0.785966   0.343108 -0.996972   \n",
       "GSM748355   -0.197107  1.059219 -0.201053 -1.085750   0.106067 -0.233661   \n",
       "GSM748356    0.305628  1.176282 -0.284984 -0.821519  -0.436561 -0.366795   \n",
       "GSM748357   -0.092851  0.833751 -0.130533 -0.244545  -0.599394  1.231295   \n",
       "GSM748358   -0.317250  1.251501  0.123818 -0.801279  -0.205469 -0.803312   \n",
       "GSM748359   -0.659848  1.711140  0.036117 -0.778014   9.281047 -1.796403   \n",
       "GSM748360   -0.294212  1.260043 -0.447717 -0.860240   0.020230 -1.188014   \n",
       "GSM748361    0.302745  1.565747 -0.769289 -0.710240  -0.117670 -0.588865   \n",
       "GSM748362   -0.666008  1.409164  0.094658 -0.724163   0.107560  0.762160   \n",
       "GSM748363   -1.747168  1.644007 -0.346415 -1.211165  -0.248015 -1.768905   \n",
       "GSM748364   -0.379330  1.061774 -0.229797 -0.745055  -0.098292 -0.631497   \n",
       "GSM748365   -0.368557  1.688063 -0.467127 -1.298666   0.275564 -0.445618   \n",
       "GSM748366   -0.985562  1.004015 -0.251075 -0.303588  -0.142973 -0.773386   \n",
       "\n",
       "             1316_at   1320_at  1405_i_at   1431_at         ...           \\\n",
       "GSM1465989 -0.982203 -0.526164   0.867532 -0.492645         ...            \n",
       "GSM1465990 -0.561204 -0.743963   0.966588 -0.323624         ...            \n",
       "GSM1465991 -1.583259 -1.762543   1.246622 -1.016209         ...            \n",
       "GSM1465992 -1.644370 -1.557184   1.198235 -0.519859         ...            \n",
       "GSM1465993 -0.917985  0.741041  -1.020935  0.404182         ...            \n",
       "GSM1465994 -1.048404 -0.671793   1.221516 -0.576066         ...            \n",
       "GSM1465995 -0.710422 -0.151646   1.459146 -0.396341         ...            \n",
       "GSM1465996 -0.748704  0.051594  -0.484736  0.299942         ...            \n",
       "GSM1465997 -1.063323  0.288944   0.719369 -0.839000         ...            \n",
       "GSM1465998 -1.355469  1.835828   1.018707 -0.911312         ...            \n",
       "GSM1465999 -1.121235 -0.076225  -1.201517 -0.639959         ...            \n",
       "GSM748053  -1.122735  1.269846   0.762570  0.026747         ...            \n",
       "GSM748054  -1.130244  0.247195   0.308612 -0.750961         ...            \n",
       "GSM748055  -0.851454  0.197473   0.309542 -0.688839         ...            \n",
       "GSM748056  -0.506367  0.102205   1.400586 -0.556499         ...            \n",
       "GSM748057  -0.475682  0.568009   0.275719  0.083166         ...            \n",
       "GSM748058  -0.812779  1.264889   0.900313 -0.559053         ...            \n",
       "GSM748059  -1.068426  0.575052   0.726479 -0.543059         ...            \n",
       "GSM748061  -1.190373  1.103525   0.368202 -0.839616         ...            \n",
       "GSM748062  -0.661587  0.881012  -0.303574 -0.741517         ...            \n",
       "GSM748063  -1.093719 -0.478537   0.891525 -0.820572         ...            \n",
       "GSM748064  -1.243082 -0.103244   0.984720 -0.497807         ...            \n",
       "GSM748065  -1.424528 -0.427284   0.826721  0.038451         ...            \n",
       "GSM748066  -0.523123 -0.095434   1.053874 -0.623891         ...            \n",
       "GSM748067  -0.974167 -0.476532   0.264316 -0.857468         ...            \n",
       "GSM748068  -0.909826 -0.416559   1.182363 -0.558829         ...            \n",
       "GSM748069  -0.744844 -0.709502   1.942431  0.777815         ...            \n",
       "GSM748071  -0.770652  2.397593   1.063478 -0.613836         ...            \n",
       "GSM748072  -1.016395  0.064450   0.888320 -0.347291         ...            \n",
       "GSM748073  -1.037404  0.535761   1.149351 -0.598018         ...            \n",
       "...              ...       ...        ...       ...         ...            \n",
       "GSM748336  -1.012439 -2.335791   1.334505  1.667297         ...            \n",
       "GSM748337  -0.836579 -1.150186   1.062447 -0.657458         ...            \n",
       "GSM748338  -0.863058  1.608640   0.970242 -0.826899         ...            \n",
       "GSM748339  -0.789026  0.269833  -0.606254  0.214924         ...            \n",
       "GSM748341  -0.732043 -0.376956   1.912530 -0.481574         ...            \n",
       "GSM748342  -0.697087 -0.349015   1.800683  1.101220         ...            \n",
       "GSM748343  -1.336532  1.359804   0.166078 -0.633240         ...            \n",
       "GSM748344  -0.978984 -1.326421  -0.012932  0.603961         ...            \n",
       "GSM748345  -0.895885  0.792486  -0.648890  1.182107         ...            \n",
       "GSM748346  -1.018135 -0.343175   0.700597  0.017808         ...            \n",
       "GSM748347  -1.028867  0.202934   0.136040  1.445401         ...            \n",
       "GSM748348  -0.886540  0.389898  -0.477490  0.052196         ...            \n",
       "GSM748349  -0.214183 -0.944450   0.082005 -1.013015         ...            \n",
       "GSM748350  -0.706590  0.583957   1.009507 -0.949262         ...            \n",
       "GSM748351  -0.871895  0.098249  -0.175167  0.755831         ...            \n",
       "GSM748352  -0.379107 -0.129299   1.040723  2.053775         ...            \n",
       "GSM748353  -0.875366 -1.676616   0.698875  0.376967         ...            \n",
       "GSM748354  -1.053755  0.566477  -0.436416  0.033304         ...            \n",
       "GSM748355  -0.934946  0.182884   0.851590 -0.300761         ...            \n",
       "GSM748356  -1.079891 -0.780597   0.714056  0.157425         ...            \n",
       "GSM748357  -1.344919 -0.638936   1.366705 -0.132441         ...            \n",
       "GSM748358  -0.818204 -0.215356   0.779825 -0.681299         ...            \n",
       "GSM748359  -0.485352 -1.331566   0.610659 -0.590807         ...            \n",
       "GSM748360  -0.983833 -0.957284   0.845814 -0.620841         ...            \n",
       "GSM748361  -1.163424 -0.835748   0.497495 -0.907706         ...            \n",
       "GSM748362  -0.962730  0.042896   1.520192 -0.431743         ...            \n",
       "GSM748363  -0.877915 -0.435809   0.108111  0.146135         ...            \n",
       "GSM748364  -0.981832 -0.640185  -0.124324  0.602344         ...            \n",
       "GSM748365  -0.932018 -0.603670   0.325108  0.255617         ...            \n",
       "GSM748366  -0.747112 -0.402518   0.635026  0.002670         ...            \n",
       "\n",
       "            AFFX-r2-Bs-thr-M_s_at  AFFX-r2-Ec-bioB-3_at  AFFX-r2-Ec-bioB-5_at  \\\n",
       "GSM1465989               0.475348             -1.023178             -0.978445   \n",
       "GSM1465990              -0.898609             -0.875073             -0.801362   \n",
       "GSM1465991              -1.002567             -1.573687             -1.453035   \n",
       "GSM1465992              -1.018332             -1.442333             -1.352991   \n",
       "GSM1465993               0.275938             -1.330875             -1.073906   \n",
       "GSM1465994              -1.567399             -1.595061             -1.468059   \n",
       "GSM1465995               0.472746             -0.720284             -0.518196   \n",
       "GSM1465996               0.194668             -0.482139              0.123051   \n",
       "GSM1465997              -1.033411             -0.939800             -0.522793   \n",
       "GSM1465998              -0.669729             -1.097267             -1.380577   \n",
       "GSM1465999               0.880804             -1.054989             -1.723475   \n",
       "GSM748053               -0.466988             -0.272056              0.142070   \n",
       "GSM748054                0.319390             -0.551860             -0.204382   \n",
       "GSM748055                0.410383             -1.371012             -1.272929   \n",
       "GSM748056               -0.307996             -0.365494             -0.051190   \n",
       "GSM748057                0.635841             -0.239629              0.026518   \n",
       "GSM748058               -0.881889             -0.537921             -0.265561   \n",
       "GSM748059               -1.097435             -0.627759             -0.056896   \n",
       "GSM748061               -0.837073             -0.346972              0.059014   \n",
       "GSM748062               -0.435794             -0.403810             -0.093748   \n",
       "GSM748063               -0.605054             -0.537454             -0.286473   \n",
       "GSM748064                0.079591             -0.887814             -0.934994   \n",
       "GSM748065               -1.121001             -1.079026             -0.579894   \n",
       "GSM748066                0.920197             -0.790834             -0.462061   \n",
       "GSM748067                1.016963             -0.963845             -0.657724   \n",
       "GSM748068               -0.335215             -1.060056             -0.809302   \n",
       "GSM748069               -0.111084             -0.397482              0.069102   \n",
       "GSM748071               -0.575401             -0.992959             -0.561523   \n",
       "GSM748072                0.272192             -0.827756             -0.656458   \n",
       "GSM748073                0.526105             -0.856683             -0.763812   \n",
       "...                           ...                   ...                   ...   \n",
       "GSM748336               -0.530902             -1.324046             -1.132920   \n",
       "GSM748337               -0.391151             -0.732042             -0.430411   \n",
       "GSM748338                0.341311             -1.433851             -1.268321   \n",
       "GSM748339                1.479711             -0.990901             -1.378998   \n",
       "GSM748341                0.089929             -1.105413             -1.385328   \n",
       "GSM748342                0.265108             -1.030455             -1.097917   \n",
       "GSM748343               -0.326078             -0.974141             -0.623330   \n",
       "GSM748344               -0.570259             -0.970334             -0.742726   \n",
       "GSM748345                1.849683             -0.863314             -0.389854   \n",
       "GSM748346                0.214184             -0.915483             -0.817086   \n",
       "GSM748347               -0.466527             -0.684710             -0.653311   \n",
       "GSM748348                0.421926             -0.926353             -0.696471   \n",
       "GSM748349               -0.694998             -0.601386             -0.017352   \n",
       "GSM748350                0.370817             -1.293875             -1.527602   \n",
       "GSM748351               -1.083876             -1.073781             -1.202390   \n",
       "GSM748352                0.119158             -1.303420             -1.343121   \n",
       "GSM748353               -1.447602             -1.119347             -1.008648   \n",
       "GSM748354               -0.243422             -1.089672             -1.410517   \n",
       "GSM748355               -0.669884             -0.718870             -0.385808   \n",
       "GSM748356                0.530290             -1.278020             -1.106363   \n",
       "GSM748357               -1.014131             -1.187718             -1.646369   \n",
       "GSM748358               -0.027446             -0.810711             -0.490580   \n",
       "GSM748359                0.872812             -0.535940             -0.457028   \n",
       "GSM748360               -0.317212             -0.684336             -0.612619   \n",
       "GSM748361               -2.237813             -0.752589             -0.799466   \n",
       "GSM748362               -1.073077             -1.006515             -0.870991   \n",
       "GSM748363                1.687502             -0.915435             -0.408759   \n",
       "GSM748364               -0.124087             -1.027157             -0.891740   \n",
       "GSM748365               -0.070980             -0.828458             -0.445597   \n",
       "GSM748366                0.095850             -0.696394             -0.317384   \n",
       "\n",
       "            AFFX-r2-Ec-bioB-M_at  AFFX-r2-Ec-bioC-3_at  AFFX-r2-Ec-bioC-5_at  \\\n",
       "GSM1465989             -1.047695             -1.447841             -1.188075   \n",
       "GSM1465990             -0.661802             -0.724912             -0.617783   \n",
       "GSM1465991             -1.421714             -1.742591             -1.634807   \n",
       "GSM1465992             -1.424709             -1.805782             -1.800381   \n",
       "GSM1465993             -1.387462             -1.664052             -1.621164   \n",
       "GSM1465994             -1.772644             -1.823315             -1.860806   \n",
       "GSM1465995             -0.756077             -0.699391             -0.707043   \n",
       "GSM1465996             -0.337047             -0.299712             -0.436592   \n",
       "GSM1465997             -0.870680             -0.874126             -0.980068   \n",
       "GSM1465998             -1.367079             -1.471265             -1.270997   \n",
       "GSM1465999             -1.664236             -1.548769             -1.465812   \n",
       "GSM748053              -0.043712             -0.130226             -0.225623   \n",
       "GSM748054              -0.346068             -0.388963             -0.551069   \n",
       "GSM748055              -1.424302             -1.510721             -1.435527   \n",
       "GSM748056              -0.176071             -0.162108             -0.309313   \n",
       "GSM748057              -0.470169             -0.281472             -0.336830   \n",
       "GSM748058              -0.421008             -0.303419             -0.332224   \n",
       "GSM748059              -0.339740             -0.552921             -0.505782   \n",
       "GSM748061              -0.355680             -0.398550             -0.438971   \n",
       "GSM748062              -0.332285             -0.455643             -0.449663   \n",
       "GSM748063              -0.361460             -0.281236             -0.505375   \n",
       "GSM748064              -0.780070             -0.914224             -0.907341   \n",
       "GSM748065              -0.855090             -0.904855             -1.022845   \n",
       "GSM748066              -0.487718             -0.585701             -0.560142   \n",
       "GSM748067              -1.034731             -0.991964             -1.027257   \n",
       "GSM748068              -0.806500             -0.809281             -0.933447   \n",
       "GSM748069              -0.181764             -0.209951             -0.142058   \n",
       "GSM748071              -0.885028             -0.883002             -0.827595   \n",
       "GSM748072              -0.835327             -0.839420             -0.876905   \n",
       "GSM748073              -0.868017             -0.755851             -0.795432   \n",
       "...                          ...                   ...                   ...   \n",
       "GSM748336              -1.220971             -1.386088             -1.506390   \n",
       "GSM748337              -0.616238             -0.633200             -0.751594   \n",
       "GSM748338              -1.335784             -1.594954             -1.375830   \n",
       "GSM748339              -1.294138             -1.290358             -1.454075   \n",
       "GSM748341              -1.141186             -1.062773             -0.978463   \n",
       "GSM748342              -1.099984             -1.039854             -0.944420   \n",
       "GSM748343              -0.956222             -0.935666             -1.098335   \n",
       "GSM748344              -0.921815             -1.091510             -1.208615   \n",
       "GSM748345              -0.832014             -0.929654             -0.869684   \n",
       "GSM748346              -0.993663             -1.002980             -1.022922   \n",
       "GSM748347              -0.665401             -0.800825             -0.752589   \n",
       "GSM748348              -0.814533             -0.861982             -0.845582   \n",
       "GSM748349              -0.571824             -0.537345             -0.529798   \n",
       "GSM748350              -1.451243             -1.219727             -1.198361   \n",
       "GSM748351              -1.262822             -1.141090             -0.901410   \n",
       "GSM748352              -1.271396             -1.425805             -1.331295   \n",
       "GSM748353              -1.020343             -1.199075             -1.201901   \n",
       "GSM748354              -1.271376             -1.313955             -1.263249   \n",
       "GSM748355              -0.322615             -0.433022             -0.492507   \n",
       "GSM748356              -1.204456             -1.241917             -1.149945   \n",
       "GSM748357              -1.126910             -1.508000             -1.319948   \n",
       "GSM748358              -0.654049             -0.626407             -0.655921   \n",
       "GSM748359              -0.385785             -0.436460             -0.384683   \n",
       "GSM748360              -0.436582             -0.597726             -0.716793   \n",
       "GSM748361              -0.739208             -0.753549             -0.834194   \n",
       "GSM748362              -0.738245             -0.862563             -1.004798   \n",
       "GSM748363              -0.656718             -0.860383             -0.724503   \n",
       "GSM748364              -1.136383             -1.108945             -1.208478   \n",
       "GSM748365              -0.740200             -0.807407             -0.811428   \n",
       "GSM748366              -0.512419             -0.613109             -0.514069   \n",
       "\n",
       "            AFFX-r2-Ec-bioD-3_at  AFFX-r2-Ec-bioD-5_at  AFFX-r2-P1-cre-3_at  \\\n",
       "GSM1465989             -1.079267             -1.023832            -1.272248   \n",
       "GSM1465990             -0.946003             -0.836248            -0.939683   \n",
       "GSM1465991             -1.720742             -1.471619            -1.714091   \n",
       "GSM1465992             -1.379895             -1.197916            -1.250841   \n",
       "GSM1465993             -1.482983             -1.248154            -1.428698   \n",
       "GSM1465994             -1.685314             -1.492060            -1.514689   \n",
       "GSM1465995             -0.695551             -0.704878            -0.557200   \n",
       "GSM1465996             -0.340457             -0.384841            -0.351649   \n",
       "GSM1465997             -0.694706             -0.790517            -0.888871   \n",
       "GSM1465998             -1.416087             -1.224304            -1.421578   \n",
       "GSM1465999             -1.309298             -1.263910            -1.539704   \n",
       "GSM748053              -0.172784             -0.252887            -0.290511   \n",
       "GSM748054              -0.346034             -0.559690            -0.457462   \n",
       "GSM748055              -1.566302             -1.518374            -1.455714   \n",
       "GSM748056              -0.053165             -0.270546            -0.362165   \n",
       "GSM748057              -0.114893             -0.257741            -0.466992   \n",
       "GSM748058              -0.195580             -0.444343            -0.362287   \n",
       "GSM748059              -0.489115             -0.667582            -0.790486   \n",
       "GSM748061              -0.165338             -0.394907            -0.516547   \n",
       "GSM748062              -0.371988             -0.619640            -0.666878   \n",
       "GSM748063              -0.267158             -0.488697            -0.536032   \n",
       "GSM748064              -0.926444             -0.996120            -1.193047   \n",
       "GSM748065              -1.026175             -1.097911            -1.136506   \n",
       "GSM748066              -0.787370             -0.801506            -0.858589   \n",
       "GSM748067              -0.992068             -1.174188            -1.056231   \n",
       "GSM748068              -0.963714             -1.015880            -0.960303   \n",
       "GSM748069              -0.478032             -0.392010            -0.536592   \n",
       "GSM748071              -0.938457             -1.124994            -1.064360   \n",
       "GSM748072              -0.921307             -1.098787            -0.865525   \n",
       "GSM748073              -0.818868             -0.955756            -1.119525   \n",
       "...                          ...                   ...                  ...   \n",
       "GSM748336              -1.458866             -1.322066            -1.522789   \n",
       "GSM748337              -0.863574             -0.804807            -0.944794   \n",
       "GSM748338              -1.711455             -1.579831            -1.709318   \n",
       "GSM748339              -1.547151             -1.440459            -1.656574   \n",
       "GSM748341              -1.160348             -1.019638            -1.288232   \n",
       "GSM748342              -1.142261             -1.108087            -1.039497   \n",
       "GSM748343              -1.087839             -1.077558            -1.069210   \n",
       "GSM748344              -1.191423             -1.241855            -1.026344   \n",
       "GSM748345              -1.017654             -0.996789            -1.282591   \n",
       "GSM748346              -1.220073             -1.250857            -1.119871   \n",
       "GSM748347              -0.873955             -0.915045            -0.967624   \n",
       "GSM748348              -0.925234             -1.051169            -0.657399   \n",
       "GSM748349              -0.650419             -0.593155            -0.501575   \n",
       "GSM748350              -1.395138             -1.360921            -1.314928   \n",
       "GSM748351              -1.240646             -1.271957            -1.562840   \n",
       "GSM748352              -1.479332             -1.548936            -1.552811   \n",
       "GSM748353              -1.461658             -1.353566            -1.318342   \n",
       "GSM748354              -1.443229             -1.548056            -1.661777   \n",
       "GSM748355              -0.751555             -0.689883            -0.734301   \n",
       "GSM748356              -1.346695             -1.291225            -1.494742   \n",
       "GSM748357              -1.358773             -1.492575            -1.490776   \n",
       "GSM748358              -0.616419             -0.750245            -0.566651   \n",
       "GSM748359              -0.814862             -0.864790            -0.837148   \n",
       "GSM748360              -0.715618             -0.830215            -0.897297   \n",
       "GSM748361              -1.025477             -1.043543            -1.029766   \n",
       "GSM748362              -0.994544             -0.953726            -1.057924   \n",
       "GSM748363              -0.987889             -1.068006            -0.850945   \n",
       "GSM748364              -1.305072             -1.337264            -1.074739   \n",
       "GSM748365              -0.969251             -1.033726            -0.866787   \n",
       "GSM748366              -0.754311             -0.863852            -0.794868   \n",
       "\n",
       "            AFFX-r2-P1-cre-5_at  \n",
       "GSM1465989            -1.235207  \n",
       "GSM1465990            -0.746389  \n",
       "GSM1465991            -1.727962  \n",
       "GSM1465992            -1.111006  \n",
       "GSM1465993            -1.240091  \n",
       "GSM1465994            -1.390529  \n",
       "GSM1465995            -0.552276  \n",
       "GSM1465996            -0.485036  \n",
       "GSM1465997            -0.782832  \n",
       "GSM1465998            -1.521521  \n",
       "GSM1465999            -1.501426  \n",
       "GSM748053             -0.278222  \n",
       "GSM748054             -0.464361  \n",
       "GSM748055             -1.487192  \n",
       "GSM748056             -0.254817  \n",
       "GSM748057             -0.443054  \n",
       "GSM748058             -0.366939  \n",
       "GSM748059             -0.861298  \n",
       "GSM748061             -0.499821  \n",
       "GSM748062             -0.756753  \n",
       "GSM748063             -0.531835  \n",
       "GSM748064             -1.059510  \n",
       "GSM748065             -1.019999  \n",
       "GSM748066             -0.877634  \n",
       "GSM748067             -1.181470  \n",
       "GSM748068             -1.005291  \n",
       "GSM748069             -0.474010  \n",
       "GSM748071             -0.995433  \n",
       "GSM748072             -0.951674  \n",
       "GSM748073             -1.153133  \n",
       "...                         ...  \n",
       "GSM748336             -1.591487  \n",
       "GSM748337             -0.945873  \n",
       "GSM748338             -1.635398  \n",
       "GSM748339             -1.738615  \n",
       "GSM748341             -1.085331  \n",
       "GSM748342             -0.988710  \n",
       "GSM748343             -1.089797  \n",
       "GSM748344             -1.138942  \n",
       "GSM748345             -1.163834  \n",
       "GSM748346             -1.291366  \n",
       "GSM748347             -0.975803  \n",
       "GSM748348             -0.658583  \n",
       "GSM748349             -0.512382  \n",
       "GSM748350             -1.323447  \n",
       "GSM748351             -1.305482  \n",
       "GSM748352             -1.497247  \n",
       "GSM748353             -1.227196  \n",
       "GSM748354             -1.494054  \n",
       "GSM748355             -0.716122  \n",
       "GSM748356             -1.527617  \n",
       "GSM748357             -1.593835  \n",
       "GSM748358             -0.640725  \n",
       "GSM748359             -0.937527  \n",
       "GSM748360             -0.897597  \n",
       "GSM748361             -1.006402  \n",
       "GSM748362             -1.066555  \n",
       "GSM748363             -0.845770  \n",
       "GSM748364             -1.124033  \n",
       "GSM748365             -0.864661  \n",
       "GSM748366             -0.730866  \n",
       "\n",
       "[293 rows x 54675 columns]"
      ]
     },
     "execution_count": 89,
     "metadata": {},
     "output_type": "execute_result"
    }
   ],
   "source": [
    "X"
   ]
  },
  {
   "cell_type": "code",
   "execution_count": 72,
   "metadata": {
    "collapsed": true
   },
   "outputs": [],
   "source": [
    "OUTPUT = pd.DataFrame(index=X.index,columns=np.arange(1,100))"
   ]
  },
  {
   "cell_type": "code",
   "execution_count": 83,
   "metadata": {
    "collapsed": true
   },
   "outputs": [],
   "source": [
    "Index2 = OUTPUT.index.difference(OUTPUT.loc[OUTPUT[1]].index)"
   ]
  },
  {
   "cell_type": "code",
   "execution_count": 79,
   "metadata": {
    "collapsed": true
   },
   "outputs": [],
   "source": [
    "OUTPUT[1] = c"
   ]
  },
  {
   "cell_type": "code",
   "execution_count": 87,
   "metadata": {
    "scrolled": true
   },
   "outputs": [
    {
     "data": {
      "text/html": [
       "<div>\n",
       "<style scoped>\n",
       "    .dataframe tbody tr th:only-of-type {\n",
       "        vertical-align: middle;\n",
       "    }\n",
       "\n",
       "    .dataframe tbody tr th {\n",
       "        vertical-align: top;\n",
       "    }\n",
       "\n",
       "    .dataframe thead th {\n",
       "        text-align: right;\n",
       "    }\n",
       "</style>\n",
       "<table border=\"1\" class=\"dataframe\">\n",
       "  <thead>\n",
       "    <tr style=\"text-align: right;\">\n",
       "      <th></th>\n",
       "      <th>1</th>\n",
       "      <th>2</th>\n",
       "      <th>3</th>\n",
       "      <th>4</th>\n",
       "      <th>5</th>\n",
       "      <th>6</th>\n",
       "      <th>7</th>\n",
       "      <th>8</th>\n",
       "      <th>9</th>\n",
       "      <th>10</th>\n",
       "      <th>...</th>\n",
       "      <th>90</th>\n",
       "      <th>91</th>\n",
       "      <th>92</th>\n",
       "      <th>93</th>\n",
       "      <th>94</th>\n",
       "      <th>95</th>\n",
       "      <th>96</th>\n",
       "      <th>97</th>\n",
       "      <th>98</th>\n",
       "      <th>99</th>\n",
       "    </tr>\n",
       "  </thead>\n",
       "  <tbody>\n",
       "    <tr>\n",
       "      <th>GSM1465989</th>\n",
       "      <td>True</td>\n",
       "      <td>NaN</td>\n",
       "      <td>NaN</td>\n",
       "      <td>NaN</td>\n",
       "      <td>NaN</td>\n",
       "      <td>NaN</td>\n",
       "      <td>NaN</td>\n",
       "      <td>NaN</td>\n",
       "      <td>NaN</td>\n",
       "      <td>NaN</td>\n",
       "      <td>...</td>\n",
       "      <td>NaN</td>\n",
       "      <td>NaN</td>\n",
       "      <td>NaN</td>\n",
       "      <td>NaN</td>\n",
       "      <td>NaN</td>\n",
       "      <td>NaN</td>\n",
       "      <td>NaN</td>\n",
       "      <td>NaN</td>\n",
       "      <td>NaN</td>\n",
       "      <td>NaN</td>\n",
       "    </tr>\n",
       "    <tr>\n",
       "      <th>GSM1465990</th>\n",
       "      <td>True</td>\n",
       "      <td>NaN</td>\n",
       "      <td>NaN</td>\n",
       "      <td>NaN</td>\n",
       "      <td>NaN</td>\n",
       "      <td>NaN</td>\n",
       "      <td>NaN</td>\n",
       "      <td>NaN</td>\n",
       "      <td>NaN</td>\n",
       "      <td>NaN</td>\n",
       "      <td>...</td>\n",
       "      <td>NaN</td>\n",
       "      <td>NaN</td>\n",
       "      <td>NaN</td>\n",
       "      <td>NaN</td>\n",
       "      <td>NaN</td>\n",
       "      <td>NaN</td>\n",
       "      <td>NaN</td>\n",
       "      <td>NaN</td>\n",
       "      <td>NaN</td>\n",
       "      <td>NaN</td>\n",
       "    </tr>\n",
       "    <tr>\n",
       "      <th>GSM1465991</th>\n",
       "      <td>True</td>\n",
       "      <td>NaN</td>\n",
       "      <td>NaN</td>\n",
       "      <td>NaN</td>\n",
       "      <td>NaN</td>\n",
       "      <td>NaN</td>\n",
       "      <td>NaN</td>\n",
       "      <td>NaN</td>\n",
       "      <td>NaN</td>\n",
       "      <td>NaN</td>\n",
       "      <td>...</td>\n",
       "      <td>NaN</td>\n",
       "      <td>NaN</td>\n",
       "      <td>NaN</td>\n",
       "      <td>NaN</td>\n",
       "      <td>NaN</td>\n",
       "      <td>NaN</td>\n",
       "      <td>NaN</td>\n",
       "      <td>NaN</td>\n",
       "      <td>NaN</td>\n",
       "      <td>NaN</td>\n",
       "    </tr>\n",
       "    <tr>\n",
       "      <th>GSM1465992</th>\n",
       "      <td>True</td>\n",
       "      <td>NaN</td>\n",
       "      <td>NaN</td>\n",
       "      <td>NaN</td>\n",
       "      <td>NaN</td>\n",
       "      <td>NaN</td>\n",
       "      <td>NaN</td>\n",
       "      <td>NaN</td>\n",
       "      <td>NaN</td>\n",
       "      <td>NaN</td>\n",
       "      <td>...</td>\n",
       "      <td>NaN</td>\n",
       "      <td>NaN</td>\n",
       "      <td>NaN</td>\n",
       "      <td>NaN</td>\n",
       "      <td>NaN</td>\n",
       "      <td>NaN</td>\n",
       "      <td>NaN</td>\n",
       "      <td>NaN</td>\n",
       "      <td>NaN</td>\n",
       "      <td>NaN</td>\n",
       "    </tr>\n",
       "    <tr>\n",
       "      <th>GSM1465993</th>\n",
       "      <td>True</td>\n",
       "      <td>NaN</td>\n",
       "      <td>NaN</td>\n",
       "      <td>NaN</td>\n",
       "      <td>NaN</td>\n",
       "      <td>NaN</td>\n",
       "      <td>NaN</td>\n",
       "      <td>NaN</td>\n",
       "      <td>NaN</td>\n",
       "      <td>NaN</td>\n",
       "      <td>...</td>\n",
       "      <td>NaN</td>\n",
       "      <td>NaN</td>\n",
       "      <td>NaN</td>\n",
       "      <td>NaN</td>\n",
       "      <td>NaN</td>\n",
       "      <td>NaN</td>\n",
       "      <td>NaN</td>\n",
       "      <td>NaN</td>\n",
       "      <td>NaN</td>\n",
       "      <td>NaN</td>\n",
       "    </tr>\n",
       "    <tr>\n",
       "      <th>GSM1465994</th>\n",
       "      <td>True</td>\n",
       "      <td>NaN</td>\n",
       "      <td>NaN</td>\n",
       "      <td>NaN</td>\n",
       "      <td>NaN</td>\n",
       "      <td>NaN</td>\n",
       "      <td>NaN</td>\n",
       "      <td>NaN</td>\n",
       "      <td>NaN</td>\n",
       "      <td>NaN</td>\n",
       "      <td>...</td>\n",
       "      <td>NaN</td>\n",
       "      <td>NaN</td>\n",
       "      <td>NaN</td>\n",
       "      <td>NaN</td>\n",
       "      <td>NaN</td>\n",
       "      <td>NaN</td>\n",
       "      <td>NaN</td>\n",
       "      <td>NaN</td>\n",
       "      <td>NaN</td>\n",
       "      <td>NaN</td>\n",
       "    </tr>\n",
       "    <tr>\n",
       "      <th>GSM1465995</th>\n",
       "      <td>True</td>\n",
       "      <td>NaN</td>\n",
       "      <td>NaN</td>\n",
       "      <td>NaN</td>\n",
       "      <td>NaN</td>\n",
       "      <td>NaN</td>\n",
       "      <td>NaN</td>\n",
       "      <td>NaN</td>\n",
       "      <td>NaN</td>\n",
       "      <td>NaN</td>\n",
       "      <td>...</td>\n",
       "      <td>NaN</td>\n",
       "      <td>NaN</td>\n",
       "      <td>NaN</td>\n",
       "      <td>NaN</td>\n",
       "      <td>NaN</td>\n",
       "      <td>NaN</td>\n",
       "      <td>NaN</td>\n",
       "      <td>NaN</td>\n",
       "      <td>NaN</td>\n",
       "      <td>NaN</td>\n",
       "    </tr>\n",
       "    <tr>\n",
       "      <th>GSM1465996</th>\n",
       "      <td>False</td>\n",
       "      <td>NaN</td>\n",
       "      <td>NaN</td>\n",
       "      <td>NaN</td>\n",
       "      <td>NaN</td>\n",
       "      <td>NaN</td>\n",
       "      <td>NaN</td>\n",
       "      <td>NaN</td>\n",
       "      <td>NaN</td>\n",
       "      <td>NaN</td>\n",
       "      <td>...</td>\n",
       "      <td>NaN</td>\n",
       "      <td>NaN</td>\n",
       "      <td>NaN</td>\n",
       "      <td>NaN</td>\n",
       "      <td>NaN</td>\n",
       "      <td>NaN</td>\n",
       "      <td>NaN</td>\n",
       "      <td>NaN</td>\n",
       "      <td>NaN</td>\n",
       "      <td>NaN</td>\n",
       "    </tr>\n",
       "    <tr>\n",
       "      <th>GSM1465997</th>\n",
       "      <td>True</td>\n",
       "      <td>NaN</td>\n",
       "      <td>NaN</td>\n",
       "      <td>NaN</td>\n",
       "      <td>NaN</td>\n",
       "      <td>NaN</td>\n",
       "      <td>NaN</td>\n",
       "      <td>NaN</td>\n",
       "      <td>NaN</td>\n",
       "      <td>NaN</td>\n",
       "      <td>...</td>\n",
       "      <td>NaN</td>\n",
       "      <td>NaN</td>\n",
       "      <td>NaN</td>\n",
       "      <td>NaN</td>\n",
       "      <td>NaN</td>\n",
       "      <td>NaN</td>\n",
       "      <td>NaN</td>\n",
       "      <td>NaN</td>\n",
       "      <td>NaN</td>\n",
       "      <td>NaN</td>\n",
       "    </tr>\n",
       "    <tr>\n",
       "      <th>GSM1465998</th>\n",
       "      <td>True</td>\n",
       "      <td>NaN</td>\n",
       "      <td>NaN</td>\n",
       "      <td>NaN</td>\n",
       "      <td>NaN</td>\n",
       "      <td>NaN</td>\n",
       "      <td>NaN</td>\n",
       "      <td>NaN</td>\n",
       "      <td>NaN</td>\n",
       "      <td>NaN</td>\n",
       "      <td>...</td>\n",
       "      <td>NaN</td>\n",
       "      <td>NaN</td>\n",
       "      <td>NaN</td>\n",
       "      <td>NaN</td>\n",
       "      <td>NaN</td>\n",
       "      <td>NaN</td>\n",
       "      <td>NaN</td>\n",
       "      <td>NaN</td>\n",
       "      <td>NaN</td>\n",
       "      <td>NaN</td>\n",
       "    </tr>\n",
       "    <tr>\n",
       "      <th>GSM1465999</th>\n",
       "      <td>True</td>\n",
       "      <td>NaN</td>\n",
       "      <td>NaN</td>\n",
       "      <td>NaN</td>\n",
       "      <td>NaN</td>\n",
       "      <td>NaN</td>\n",
       "      <td>NaN</td>\n",
       "      <td>NaN</td>\n",
       "      <td>NaN</td>\n",
       "      <td>NaN</td>\n",
       "      <td>...</td>\n",
       "      <td>NaN</td>\n",
       "      <td>NaN</td>\n",
       "      <td>NaN</td>\n",
       "      <td>NaN</td>\n",
       "      <td>NaN</td>\n",
       "      <td>NaN</td>\n",
       "      <td>NaN</td>\n",
       "      <td>NaN</td>\n",
       "      <td>NaN</td>\n",
       "      <td>NaN</td>\n",
       "    </tr>\n",
       "    <tr>\n",
       "      <th>GSM748053</th>\n",
       "      <td>False</td>\n",
       "      <td>NaN</td>\n",
       "      <td>NaN</td>\n",
       "      <td>NaN</td>\n",
       "      <td>NaN</td>\n",
       "      <td>NaN</td>\n",
       "      <td>NaN</td>\n",
       "      <td>NaN</td>\n",
       "      <td>NaN</td>\n",
       "      <td>NaN</td>\n",
       "      <td>...</td>\n",
       "      <td>NaN</td>\n",
       "      <td>NaN</td>\n",
       "      <td>NaN</td>\n",
       "      <td>NaN</td>\n",
       "      <td>NaN</td>\n",
       "      <td>NaN</td>\n",
       "      <td>NaN</td>\n",
       "      <td>NaN</td>\n",
       "      <td>NaN</td>\n",
       "      <td>NaN</td>\n",
       "    </tr>\n",
       "    <tr>\n",
       "      <th>GSM748054</th>\n",
       "      <td>True</td>\n",
       "      <td>NaN</td>\n",
       "      <td>NaN</td>\n",
       "      <td>NaN</td>\n",
       "      <td>NaN</td>\n",
       "      <td>NaN</td>\n",
       "      <td>NaN</td>\n",
       "      <td>NaN</td>\n",
       "      <td>NaN</td>\n",
       "      <td>NaN</td>\n",
       "      <td>...</td>\n",
       "      <td>NaN</td>\n",
       "      <td>NaN</td>\n",
       "      <td>NaN</td>\n",
       "      <td>NaN</td>\n",
       "      <td>NaN</td>\n",
       "      <td>NaN</td>\n",
       "      <td>NaN</td>\n",
       "      <td>NaN</td>\n",
       "      <td>NaN</td>\n",
       "      <td>NaN</td>\n",
       "    </tr>\n",
       "    <tr>\n",
       "      <th>GSM748055</th>\n",
       "      <td>False</td>\n",
       "      <td>NaN</td>\n",
       "      <td>NaN</td>\n",
       "      <td>NaN</td>\n",
       "      <td>NaN</td>\n",
       "      <td>NaN</td>\n",
       "      <td>NaN</td>\n",
       "      <td>NaN</td>\n",
       "      <td>NaN</td>\n",
       "      <td>NaN</td>\n",
       "      <td>...</td>\n",
       "      <td>NaN</td>\n",
       "      <td>NaN</td>\n",
       "      <td>NaN</td>\n",
       "      <td>NaN</td>\n",
       "      <td>NaN</td>\n",
       "      <td>NaN</td>\n",
       "      <td>NaN</td>\n",
       "      <td>NaN</td>\n",
       "      <td>NaN</td>\n",
       "      <td>NaN</td>\n",
       "    </tr>\n",
       "    <tr>\n",
       "      <th>GSM748056</th>\n",
       "      <td>True</td>\n",
       "      <td>NaN</td>\n",
       "      <td>NaN</td>\n",
       "      <td>NaN</td>\n",
       "      <td>NaN</td>\n",
       "      <td>NaN</td>\n",
       "      <td>NaN</td>\n",
       "      <td>NaN</td>\n",
       "      <td>NaN</td>\n",
       "      <td>NaN</td>\n",
       "      <td>...</td>\n",
       "      <td>NaN</td>\n",
       "      <td>NaN</td>\n",
       "      <td>NaN</td>\n",
       "      <td>NaN</td>\n",
       "      <td>NaN</td>\n",
       "      <td>NaN</td>\n",
       "      <td>NaN</td>\n",
       "      <td>NaN</td>\n",
       "      <td>NaN</td>\n",
       "      <td>NaN</td>\n",
       "    </tr>\n",
       "    <tr>\n",
       "      <th>GSM748057</th>\n",
       "      <td>True</td>\n",
       "      <td>NaN</td>\n",
       "      <td>NaN</td>\n",
       "      <td>NaN</td>\n",
       "      <td>NaN</td>\n",
       "      <td>NaN</td>\n",
       "      <td>NaN</td>\n",
       "      <td>NaN</td>\n",
       "      <td>NaN</td>\n",
       "      <td>NaN</td>\n",
       "      <td>...</td>\n",
       "      <td>NaN</td>\n",
       "      <td>NaN</td>\n",
       "      <td>NaN</td>\n",
       "      <td>NaN</td>\n",
       "      <td>NaN</td>\n",
       "      <td>NaN</td>\n",
       "      <td>NaN</td>\n",
       "      <td>NaN</td>\n",
       "      <td>NaN</td>\n",
       "      <td>NaN</td>\n",
       "    </tr>\n",
       "    <tr>\n",
       "      <th>GSM748058</th>\n",
       "      <td>True</td>\n",
       "      <td>NaN</td>\n",
       "      <td>NaN</td>\n",
       "      <td>NaN</td>\n",
       "      <td>NaN</td>\n",
       "      <td>NaN</td>\n",
       "      <td>NaN</td>\n",
       "      <td>NaN</td>\n",
       "      <td>NaN</td>\n",
       "      <td>NaN</td>\n",
       "      <td>...</td>\n",
       "      <td>NaN</td>\n",
       "      <td>NaN</td>\n",
       "      <td>NaN</td>\n",
       "      <td>NaN</td>\n",
       "      <td>NaN</td>\n",
       "      <td>NaN</td>\n",
       "      <td>NaN</td>\n",
       "      <td>NaN</td>\n",
       "      <td>NaN</td>\n",
       "      <td>NaN</td>\n",
       "    </tr>\n",
       "    <tr>\n",
       "      <th>GSM748059</th>\n",
       "      <td>True</td>\n",
       "      <td>NaN</td>\n",
       "      <td>NaN</td>\n",
       "      <td>NaN</td>\n",
       "      <td>NaN</td>\n",
       "      <td>NaN</td>\n",
       "      <td>NaN</td>\n",
       "      <td>NaN</td>\n",
       "      <td>NaN</td>\n",
       "      <td>NaN</td>\n",
       "      <td>...</td>\n",
       "      <td>NaN</td>\n",
       "      <td>NaN</td>\n",
       "      <td>NaN</td>\n",
       "      <td>NaN</td>\n",
       "      <td>NaN</td>\n",
       "      <td>NaN</td>\n",
       "      <td>NaN</td>\n",
       "      <td>NaN</td>\n",
       "      <td>NaN</td>\n",
       "      <td>NaN</td>\n",
       "    </tr>\n",
       "    <tr>\n",
       "      <th>GSM748061</th>\n",
       "      <td>False</td>\n",
       "      <td>NaN</td>\n",
       "      <td>NaN</td>\n",
       "      <td>NaN</td>\n",
       "      <td>NaN</td>\n",
       "      <td>NaN</td>\n",
       "      <td>NaN</td>\n",
       "      <td>NaN</td>\n",
       "      <td>NaN</td>\n",
       "      <td>NaN</td>\n",
       "      <td>...</td>\n",
       "      <td>NaN</td>\n",
       "      <td>NaN</td>\n",
       "      <td>NaN</td>\n",
       "      <td>NaN</td>\n",
       "      <td>NaN</td>\n",
       "      <td>NaN</td>\n",
       "      <td>NaN</td>\n",
       "      <td>NaN</td>\n",
       "      <td>NaN</td>\n",
       "      <td>NaN</td>\n",
       "    </tr>\n",
       "    <tr>\n",
       "      <th>GSM748062</th>\n",
       "      <td>True</td>\n",
       "      <td>NaN</td>\n",
       "      <td>NaN</td>\n",
       "      <td>NaN</td>\n",
       "      <td>NaN</td>\n",
       "      <td>NaN</td>\n",
       "      <td>NaN</td>\n",
       "      <td>NaN</td>\n",
       "      <td>NaN</td>\n",
       "      <td>NaN</td>\n",
       "      <td>...</td>\n",
       "      <td>NaN</td>\n",
       "      <td>NaN</td>\n",
       "      <td>NaN</td>\n",
       "      <td>NaN</td>\n",
       "      <td>NaN</td>\n",
       "      <td>NaN</td>\n",
       "      <td>NaN</td>\n",
       "      <td>NaN</td>\n",
       "      <td>NaN</td>\n",
       "      <td>NaN</td>\n",
       "    </tr>\n",
       "    <tr>\n",
       "      <th>GSM748063</th>\n",
       "      <td>False</td>\n",
       "      <td>NaN</td>\n",
       "      <td>NaN</td>\n",
       "      <td>NaN</td>\n",
       "      <td>NaN</td>\n",
       "      <td>NaN</td>\n",
       "      <td>NaN</td>\n",
       "      <td>NaN</td>\n",
       "      <td>NaN</td>\n",
       "      <td>NaN</td>\n",
       "      <td>...</td>\n",
       "      <td>NaN</td>\n",
       "      <td>NaN</td>\n",
       "      <td>NaN</td>\n",
       "      <td>NaN</td>\n",
       "      <td>NaN</td>\n",
       "      <td>NaN</td>\n",
       "      <td>NaN</td>\n",
       "      <td>NaN</td>\n",
       "      <td>NaN</td>\n",
       "      <td>NaN</td>\n",
       "    </tr>\n",
       "    <tr>\n",
       "      <th>GSM748064</th>\n",
       "      <td>True</td>\n",
       "      <td>NaN</td>\n",
       "      <td>NaN</td>\n",
       "      <td>NaN</td>\n",
       "      <td>NaN</td>\n",
       "      <td>NaN</td>\n",
       "      <td>NaN</td>\n",
       "      <td>NaN</td>\n",
       "      <td>NaN</td>\n",
       "      <td>NaN</td>\n",
       "      <td>...</td>\n",
       "      <td>NaN</td>\n",
       "      <td>NaN</td>\n",
       "      <td>NaN</td>\n",
       "      <td>NaN</td>\n",
       "      <td>NaN</td>\n",
       "      <td>NaN</td>\n",
       "      <td>NaN</td>\n",
       "      <td>NaN</td>\n",
       "      <td>NaN</td>\n",
       "      <td>NaN</td>\n",
       "    </tr>\n",
       "    <tr>\n",
       "      <th>GSM748065</th>\n",
       "      <td>True</td>\n",
       "      <td>NaN</td>\n",
       "      <td>NaN</td>\n",
       "      <td>NaN</td>\n",
       "      <td>NaN</td>\n",
       "      <td>NaN</td>\n",
       "      <td>NaN</td>\n",
       "      <td>NaN</td>\n",
       "      <td>NaN</td>\n",
       "      <td>NaN</td>\n",
       "      <td>...</td>\n",
       "      <td>NaN</td>\n",
       "      <td>NaN</td>\n",
       "      <td>NaN</td>\n",
       "      <td>NaN</td>\n",
       "      <td>NaN</td>\n",
       "      <td>NaN</td>\n",
       "      <td>NaN</td>\n",
       "      <td>NaN</td>\n",
       "      <td>NaN</td>\n",
       "      <td>NaN</td>\n",
       "    </tr>\n",
       "    <tr>\n",
       "      <th>GSM748066</th>\n",
       "      <td>True</td>\n",
       "      <td>NaN</td>\n",
       "      <td>NaN</td>\n",
       "      <td>NaN</td>\n",
       "      <td>NaN</td>\n",
       "      <td>NaN</td>\n",
       "      <td>NaN</td>\n",
       "      <td>NaN</td>\n",
       "      <td>NaN</td>\n",
       "      <td>NaN</td>\n",
       "      <td>...</td>\n",
       "      <td>NaN</td>\n",
       "      <td>NaN</td>\n",
       "      <td>NaN</td>\n",
       "      <td>NaN</td>\n",
       "      <td>NaN</td>\n",
       "      <td>NaN</td>\n",
       "      <td>NaN</td>\n",
       "      <td>NaN</td>\n",
       "      <td>NaN</td>\n",
       "      <td>NaN</td>\n",
       "    </tr>\n",
       "    <tr>\n",
       "      <th>GSM748067</th>\n",
       "      <td>False</td>\n",
       "      <td>NaN</td>\n",
       "      <td>NaN</td>\n",
       "      <td>NaN</td>\n",
       "      <td>NaN</td>\n",
       "      <td>NaN</td>\n",
       "      <td>NaN</td>\n",
       "      <td>NaN</td>\n",
       "      <td>NaN</td>\n",
       "      <td>NaN</td>\n",
       "      <td>...</td>\n",
       "      <td>NaN</td>\n",
       "      <td>NaN</td>\n",
       "      <td>NaN</td>\n",
       "      <td>NaN</td>\n",
       "      <td>NaN</td>\n",
       "      <td>NaN</td>\n",
       "      <td>NaN</td>\n",
       "      <td>NaN</td>\n",
       "      <td>NaN</td>\n",
       "      <td>NaN</td>\n",
       "    </tr>\n",
       "    <tr>\n",
       "      <th>GSM748068</th>\n",
       "      <td>True</td>\n",
       "      <td>NaN</td>\n",
       "      <td>NaN</td>\n",
       "      <td>NaN</td>\n",
       "      <td>NaN</td>\n",
       "      <td>NaN</td>\n",
       "      <td>NaN</td>\n",
       "      <td>NaN</td>\n",
       "      <td>NaN</td>\n",
       "      <td>NaN</td>\n",
       "      <td>...</td>\n",
       "      <td>NaN</td>\n",
       "      <td>NaN</td>\n",
       "      <td>NaN</td>\n",
       "      <td>NaN</td>\n",
       "      <td>NaN</td>\n",
       "      <td>NaN</td>\n",
       "      <td>NaN</td>\n",
       "      <td>NaN</td>\n",
       "      <td>NaN</td>\n",
       "      <td>NaN</td>\n",
       "    </tr>\n",
       "    <tr>\n",
       "      <th>GSM748069</th>\n",
       "      <td>True</td>\n",
       "      <td>NaN</td>\n",
       "      <td>NaN</td>\n",
       "      <td>NaN</td>\n",
       "      <td>NaN</td>\n",
       "      <td>NaN</td>\n",
       "      <td>NaN</td>\n",
       "      <td>NaN</td>\n",
       "      <td>NaN</td>\n",
       "      <td>NaN</td>\n",
       "      <td>...</td>\n",
       "      <td>NaN</td>\n",
       "      <td>NaN</td>\n",
       "      <td>NaN</td>\n",
       "      <td>NaN</td>\n",
       "      <td>NaN</td>\n",
       "      <td>NaN</td>\n",
       "      <td>NaN</td>\n",
       "      <td>NaN</td>\n",
       "      <td>NaN</td>\n",
       "      <td>NaN</td>\n",
       "    </tr>\n",
       "    <tr>\n",
       "      <th>GSM748071</th>\n",
       "      <td>True</td>\n",
       "      <td>NaN</td>\n",
       "      <td>NaN</td>\n",
       "      <td>NaN</td>\n",
       "      <td>NaN</td>\n",
       "      <td>NaN</td>\n",
       "      <td>NaN</td>\n",
       "      <td>NaN</td>\n",
       "      <td>NaN</td>\n",
       "      <td>NaN</td>\n",
       "      <td>...</td>\n",
       "      <td>NaN</td>\n",
       "      <td>NaN</td>\n",
       "      <td>NaN</td>\n",
       "      <td>NaN</td>\n",
       "      <td>NaN</td>\n",
       "      <td>NaN</td>\n",
       "      <td>NaN</td>\n",
       "      <td>NaN</td>\n",
       "      <td>NaN</td>\n",
       "      <td>NaN</td>\n",
       "    </tr>\n",
       "    <tr>\n",
       "      <th>GSM748072</th>\n",
       "      <td>True</td>\n",
       "      <td>NaN</td>\n",
       "      <td>NaN</td>\n",
       "      <td>NaN</td>\n",
       "      <td>NaN</td>\n",
       "      <td>NaN</td>\n",
       "      <td>NaN</td>\n",
       "      <td>NaN</td>\n",
       "      <td>NaN</td>\n",
       "      <td>NaN</td>\n",
       "      <td>...</td>\n",
       "      <td>NaN</td>\n",
       "      <td>NaN</td>\n",
       "      <td>NaN</td>\n",
       "      <td>NaN</td>\n",
       "      <td>NaN</td>\n",
       "      <td>NaN</td>\n",
       "      <td>NaN</td>\n",
       "      <td>NaN</td>\n",
       "      <td>NaN</td>\n",
       "      <td>NaN</td>\n",
       "    </tr>\n",
       "    <tr>\n",
       "      <th>GSM748073</th>\n",
       "      <td>True</td>\n",
       "      <td>NaN</td>\n",
       "      <td>NaN</td>\n",
       "      <td>NaN</td>\n",
       "      <td>NaN</td>\n",
       "      <td>NaN</td>\n",
       "      <td>NaN</td>\n",
       "      <td>NaN</td>\n",
       "      <td>NaN</td>\n",
       "      <td>NaN</td>\n",
       "      <td>...</td>\n",
       "      <td>NaN</td>\n",
       "      <td>NaN</td>\n",
       "      <td>NaN</td>\n",
       "      <td>NaN</td>\n",
       "      <td>NaN</td>\n",
       "      <td>NaN</td>\n",
       "      <td>NaN</td>\n",
       "      <td>NaN</td>\n",
       "      <td>NaN</td>\n",
       "      <td>NaN</td>\n",
       "    </tr>\n",
       "    <tr>\n",
       "      <th>...</th>\n",
       "      <td>...</td>\n",
       "      <td>...</td>\n",
       "      <td>...</td>\n",
       "      <td>...</td>\n",
       "      <td>...</td>\n",
       "      <td>...</td>\n",
       "      <td>...</td>\n",
       "      <td>...</td>\n",
       "      <td>...</td>\n",
       "      <td>...</td>\n",
       "      <td>...</td>\n",
       "      <td>...</td>\n",
       "      <td>...</td>\n",
       "      <td>...</td>\n",
       "      <td>...</td>\n",
       "      <td>...</td>\n",
       "      <td>...</td>\n",
       "      <td>...</td>\n",
       "      <td>...</td>\n",
       "      <td>...</td>\n",
       "      <td>...</td>\n",
       "    </tr>\n",
       "    <tr>\n",
       "      <th>GSM748336</th>\n",
       "      <td>True</td>\n",
       "      <td>NaN</td>\n",
       "      <td>NaN</td>\n",
       "      <td>NaN</td>\n",
       "      <td>NaN</td>\n",
       "      <td>NaN</td>\n",
       "      <td>NaN</td>\n",
       "      <td>NaN</td>\n",
       "      <td>NaN</td>\n",
       "      <td>NaN</td>\n",
       "      <td>...</td>\n",
       "      <td>NaN</td>\n",
       "      <td>NaN</td>\n",
       "      <td>NaN</td>\n",
       "      <td>NaN</td>\n",
       "      <td>NaN</td>\n",
       "      <td>NaN</td>\n",
       "      <td>NaN</td>\n",
       "      <td>NaN</td>\n",
       "      <td>NaN</td>\n",
       "      <td>NaN</td>\n",
       "    </tr>\n",
       "    <tr>\n",
       "      <th>GSM748337</th>\n",
       "      <td>True</td>\n",
       "      <td>NaN</td>\n",
       "      <td>NaN</td>\n",
       "      <td>NaN</td>\n",
       "      <td>NaN</td>\n",
       "      <td>NaN</td>\n",
       "      <td>NaN</td>\n",
       "      <td>NaN</td>\n",
       "      <td>NaN</td>\n",
       "      <td>NaN</td>\n",
       "      <td>...</td>\n",
       "      <td>NaN</td>\n",
       "      <td>NaN</td>\n",
       "      <td>NaN</td>\n",
       "      <td>NaN</td>\n",
       "      <td>NaN</td>\n",
       "      <td>NaN</td>\n",
       "      <td>NaN</td>\n",
       "      <td>NaN</td>\n",
       "      <td>NaN</td>\n",
       "      <td>NaN</td>\n",
       "    </tr>\n",
       "    <tr>\n",
       "      <th>GSM748338</th>\n",
       "      <td>True</td>\n",
       "      <td>NaN</td>\n",
       "      <td>NaN</td>\n",
       "      <td>NaN</td>\n",
       "      <td>NaN</td>\n",
       "      <td>NaN</td>\n",
       "      <td>NaN</td>\n",
       "      <td>NaN</td>\n",
       "      <td>NaN</td>\n",
       "      <td>NaN</td>\n",
       "      <td>...</td>\n",
       "      <td>NaN</td>\n",
       "      <td>NaN</td>\n",
       "      <td>NaN</td>\n",
       "      <td>NaN</td>\n",
       "      <td>NaN</td>\n",
       "      <td>NaN</td>\n",
       "      <td>NaN</td>\n",
       "      <td>NaN</td>\n",
       "      <td>NaN</td>\n",
       "      <td>NaN</td>\n",
       "    </tr>\n",
       "    <tr>\n",
       "      <th>GSM748339</th>\n",
       "      <td>False</td>\n",
       "      <td>NaN</td>\n",
       "      <td>NaN</td>\n",
       "      <td>NaN</td>\n",
       "      <td>NaN</td>\n",
       "      <td>NaN</td>\n",
       "      <td>NaN</td>\n",
       "      <td>NaN</td>\n",
       "      <td>NaN</td>\n",
       "      <td>NaN</td>\n",
       "      <td>...</td>\n",
       "      <td>NaN</td>\n",
       "      <td>NaN</td>\n",
       "      <td>NaN</td>\n",
       "      <td>NaN</td>\n",
       "      <td>NaN</td>\n",
       "      <td>NaN</td>\n",
       "      <td>NaN</td>\n",
       "      <td>NaN</td>\n",
       "      <td>NaN</td>\n",
       "      <td>NaN</td>\n",
       "    </tr>\n",
       "    <tr>\n",
       "      <th>GSM748341</th>\n",
       "      <td>True</td>\n",
       "      <td>NaN</td>\n",
       "      <td>NaN</td>\n",
       "      <td>NaN</td>\n",
       "      <td>NaN</td>\n",
       "      <td>NaN</td>\n",
       "      <td>NaN</td>\n",
       "      <td>NaN</td>\n",
       "      <td>NaN</td>\n",
       "      <td>NaN</td>\n",
       "      <td>...</td>\n",
       "      <td>NaN</td>\n",
       "      <td>NaN</td>\n",
       "      <td>NaN</td>\n",
       "      <td>NaN</td>\n",
       "      <td>NaN</td>\n",
       "      <td>NaN</td>\n",
       "      <td>NaN</td>\n",
       "      <td>NaN</td>\n",
       "      <td>NaN</td>\n",
       "      <td>NaN</td>\n",
       "    </tr>\n",
       "    <tr>\n",
       "      <th>GSM748342</th>\n",
       "      <td>True</td>\n",
       "      <td>NaN</td>\n",
       "      <td>NaN</td>\n",
       "      <td>NaN</td>\n",
       "      <td>NaN</td>\n",
       "      <td>NaN</td>\n",
       "      <td>NaN</td>\n",
       "      <td>NaN</td>\n",
       "      <td>NaN</td>\n",
       "      <td>NaN</td>\n",
       "      <td>...</td>\n",
       "      <td>NaN</td>\n",
       "      <td>NaN</td>\n",
       "      <td>NaN</td>\n",
       "      <td>NaN</td>\n",
       "      <td>NaN</td>\n",
       "      <td>NaN</td>\n",
       "      <td>NaN</td>\n",
       "      <td>NaN</td>\n",
       "      <td>NaN</td>\n",
       "      <td>NaN</td>\n",
       "    </tr>\n",
       "    <tr>\n",
       "      <th>GSM748343</th>\n",
       "      <td>True</td>\n",
       "      <td>NaN</td>\n",
       "      <td>NaN</td>\n",
       "      <td>NaN</td>\n",
       "      <td>NaN</td>\n",
       "      <td>NaN</td>\n",
       "      <td>NaN</td>\n",
       "      <td>NaN</td>\n",
       "      <td>NaN</td>\n",
       "      <td>NaN</td>\n",
       "      <td>...</td>\n",
       "      <td>NaN</td>\n",
       "      <td>NaN</td>\n",
       "      <td>NaN</td>\n",
       "      <td>NaN</td>\n",
       "      <td>NaN</td>\n",
       "      <td>NaN</td>\n",
       "      <td>NaN</td>\n",
       "      <td>NaN</td>\n",
       "      <td>NaN</td>\n",
       "      <td>NaN</td>\n",
       "    </tr>\n",
       "    <tr>\n",
       "      <th>GSM748344</th>\n",
       "      <td>True</td>\n",
       "      <td>NaN</td>\n",
       "      <td>NaN</td>\n",
       "      <td>NaN</td>\n",
       "      <td>NaN</td>\n",
       "      <td>NaN</td>\n",
       "      <td>NaN</td>\n",
       "      <td>NaN</td>\n",
       "      <td>NaN</td>\n",
       "      <td>NaN</td>\n",
       "      <td>...</td>\n",
       "      <td>NaN</td>\n",
       "      <td>NaN</td>\n",
       "      <td>NaN</td>\n",
       "      <td>NaN</td>\n",
       "      <td>NaN</td>\n",
       "      <td>NaN</td>\n",
       "      <td>NaN</td>\n",
       "      <td>NaN</td>\n",
       "      <td>NaN</td>\n",
       "      <td>NaN</td>\n",
       "    </tr>\n",
       "    <tr>\n",
       "      <th>GSM748345</th>\n",
       "      <td>True</td>\n",
       "      <td>NaN</td>\n",
       "      <td>NaN</td>\n",
       "      <td>NaN</td>\n",
       "      <td>NaN</td>\n",
       "      <td>NaN</td>\n",
       "      <td>NaN</td>\n",
       "      <td>NaN</td>\n",
       "      <td>NaN</td>\n",
       "      <td>NaN</td>\n",
       "      <td>...</td>\n",
       "      <td>NaN</td>\n",
       "      <td>NaN</td>\n",
       "      <td>NaN</td>\n",
       "      <td>NaN</td>\n",
       "      <td>NaN</td>\n",
       "      <td>NaN</td>\n",
       "      <td>NaN</td>\n",
       "      <td>NaN</td>\n",
       "      <td>NaN</td>\n",
       "      <td>NaN</td>\n",
       "    </tr>\n",
       "    <tr>\n",
       "      <th>GSM748346</th>\n",
       "      <td>True</td>\n",
       "      <td>NaN</td>\n",
       "      <td>NaN</td>\n",
       "      <td>NaN</td>\n",
       "      <td>NaN</td>\n",
       "      <td>NaN</td>\n",
       "      <td>NaN</td>\n",
       "      <td>NaN</td>\n",
       "      <td>NaN</td>\n",
       "      <td>NaN</td>\n",
       "      <td>...</td>\n",
       "      <td>NaN</td>\n",
       "      <td>NaN</td>\n",
       "      <td>NaN</td>\n",
       "      <td>NaN</td>\n",
       "      <td>NaN</td>\n",
       "      <td>NaN</td>\n",
       "      <td>NaN</td>\n",
       "      <td>NaN</td>\n",
       "      <td>NaN</td>\n",
       "      <td>NaN</td>\n",
       "    </tr>\n",
       "    <tr>\n",
       "      <th>GSM748347</th>\n",
       "      <td>True</td>\n",
       "      <td>NaN</td>\n",
       "      <td>NaN</td>\n",
       "      <td>NaN</td>\n",
       "      <td>NaN</td>\n",
       "      <td>NaN</td>\n",
       "      <td>NaN</td>\n",
       "      <td>NaN</td>\n",
       "      <td>NaN</td>\n",
       "      <td>NaN</td>\n",
       "      <td>...</td>\n",
       "      <td>NaN</td>\n",
       "      <td>NaN</td>\n",
       "      <td>NaN</td>\n",
       "      <td>NaN</td>\n",
       "      <td>NaN</td>\n",
       "      <td>NaN</td>\n",
       "      <td>NaN</td>\n",
       "      <td>NaN</td>\n",
       "      <td>NaN</td>\n",
       "      <td>NaN</td>\n",
       "    </tr>\n",
       "    <tr>\n",
       "      <th>GSM748348</th>\n",
       "      <td>False</td>\n",
       "      <td>NaN</td>\n",
       "      <td>NaN</td>\n",
       "      <td>NaN</td>\n",
       "      <td>NaN</td>\n",
       "      <td>NaN</td>\n",
       "      <td>NaN</td>\n",
       "      <td>NaN</td>\n",
       "      <td>NaN</td>\n",
       "      <td>NaN</td>\n",
       "      <td>...</td>\n",
       "      <td>NaN</td>\n",
       "      <td>NaN</td>\n",
       "      <td>NaN</td>\n",
       "      <td>NaN</td>\n",
       "      <td>NaN</td>\n",
       "      <td>NaN</td>\n",
       "      <td>NaN</td>\n",
       "      <td>NaN</td>\n",
       "      <td>NaN</td>\n",
       "      <td>NaN</td>\n",
       "    </tr>\n",
       "    <tr>\n",
       "      <th>GSM748349</th>\n",
       "      <td>True</td>\n",
       "      <td>NaN</td>\n",
       "      <td>NaN</td>\n",
       "      <td>NaN</td>\n",
       "      <td>NaN</td>\n",
       "      <td>NaN</td>\n",
       "      <td>NaN</td>\n",
       "      <td>NaN</td>\n",
       "      <td>NaN</td>\n",
       "      <td>NaN</td>\n",
       "      <td>...</td>\n",
       "      <td>NaN</td>\n",
       "      <td>NaN</td>\n",
       "      <td>NaN</td>\n",
       "      <td>NaN</td>\n",
       "      <td>NaN</td>\n",
       "      <td>NaN</td>\n",
       "      <td>NaN</td>\n",
       "      <td>NaN</td>\n",
       "      <td>NaN</td>\n",
       "      <td>NaN</td>\n",
       "    </tr>\n",
       "    <tr>\n",
       "      <th>GSM748350</th>\n",
       "      <td>True</td>\n",
       "      <td>NaN</td>\n",
       "      <td>NaN</td>\n",
       "      <td>NaN</td>\n",
       "      <td>NaN</td>\n",
       "      <td>NaN</td>\n",
       "      <td>NaN</td>\n",
       "      <td>NaN</td>\n",
       "      <td>NaN</td>\n",
       "      <td>NaN</td>\n",
       "      <td>...</td>\n",
       "      <td>NaN</td>\n",
       "      <td>NaN</td>\n",
       "      <td>NaN</td>\n",
       "      <td>NaN</td>\n",
       "      <td>NaN</td>\n",
       "      <td>NaN</td>\n",
       "      <td>NaN</td>\n",
       "      <td>NaN</td>\n",
       "      <td>NaN</td>\n",
       "      <td>NaN</td>\n",
       "    </tr>\n",
       "    <tr>\n",
       "      <th>GSM748351</th>\n",
       "      <td>True</td>\n",
       "      <td>NaN</td>\n",
       "      <td>NaN</td>\n",
       "      <td>NaN</td>\n",
       "      <td>NaN</td>\n",
       "      <td>NaN</td>\n",
       "      <td>NaN</td>\n",
       "      <td>NaN</td>\n",
       "      <td>NaN</td>\n",
       "      <td>NaN</td>\n",
       "      <td>...</td>\n",
       "      <td>NaN</td>\n",
       "      <td>NaN</td>\n",
       "      <td>NaN</td>\n",
       "      <td>NaN</td>\n",
       "      <td>NaN</td>\n",
       "      <td>NaN</td>\n",
       "      <td>NaN</td>\n",
       "      <td>NaN</td>\n",
       "      <td>NaN</td>\n",
       "      <td>NaN</td>\n",
       "    </tr>\n",
       "    <tr>\n",
       "      <th>GSM748352</th>\n",
       "      <td>True</td>\n",
       "      <td>NaN</td>\n",
       "      <td>NaN</td>\n",
       "      <td>NaN</td>\n",
       "      <td>NaN</td>\n",
       "      <td>NaN</td>\n",
       "      <td>NaN</td>\n",
       "      <td>NaN</td>\n",
       "      <td>NaN</td>\n",
       "      <td>NaN</td>\n",
       "      <td>...</td>\n",
       "      <td>NaN</td>\n",
       "      <td>NaN</td>\n",
       "      <td>NaN</td>\n",
       "      <td>NaN</td>\n",
       "      <td>NaN</td>\n",
       "      <td>NaN</td>\n",
       "      <td>NaN</td>\n",
       "      <td>NaN</td>\n",
       "      <td>NaN</td>\n",
       "      <td>NaN</td>\n",
       "    </tr>\n",
       "    <tr>\n",
       "      <th>GSM748353</th>\n",
       "      <td>True</td>\n",
       "      <td>NaN</td>\n",
       "      <td>NaN</td>\n",
       "      <td>NaN</td>\n",
       "      <td>NaN</td>\n",
       "      <td>NaN</td>\n",
       "      <td>NaN</td>\n",
       "      <td>NaN</td>\n",
       "      <td>NaN</td>\n",
       "      <td>NaN</td>\n",
       "      <td>...</td>\n",
       "      <td>NaN</td>\n",
       "      <td>NaN</td>\n",
       "      <td>NaN</td>\n",
       "      <td>NaN</td>\n",
       "      <td>NaN</td>\n",
       "      <td>NaN</td>\n",
       "      <td>NaN</td>\n",
       "      <td>NaN</td>\n",
       "      <td>NaN</td>\n",
       "      <td>NaN</td>\n",
       "    </tr>\n",
       "    <tr>\n",
       "      <th>GSM748354</th>\n",
       "      <td>False</td>\n",
       "      <td>NaN</td>\n",
       "      <td>NaN</td>\n",
       "      <td>NaN</td>\n",
       "      <td>NaN</td>\n",
       "      <td>NaN</td>\n",
       "      <td>NaN</td>\n",
       "      <td>NaN</td>\n",
       "      <td>NaN</td>\n",
       "      <td>NaN</td>\n",
       "      <td>...</td>\n",
       "      <td>NaN</td>\n",
       "      <td>NaN</td>\n",
       "      <td>NaN</td>\n",
       "      <td>NaN</td>\n",
       "      <td>NaN</td>\n",
       "      <td>NaN</td>\n",
       "      <td>NaN</td>\n",
       "      <td>NaN</td>\n",
       "      <td>NaN</td>\n",
       "      <td>NaN</td>\n",
       "    </tr>\n",
       "    <tr>\n",
       "      <th>GSM748355</th>\n",
       "      <td>False</td>\n",
       "      <td>NaN</td>\n",
       "      <td>NaN</td>\n",
       "      <td>NaN</td>\n",
       "      <td>NaN</td>\n",
       "      <td>NaN</td>\n",
       "      <td>NaN</td>\n",
       "      <td>NaN</td>\n",
       "      <td>NaN</td>\n",
       "      <td>NaN</td>\n",
       "      <td>...</td>\n",
       "      <td>NaN</td>\n",
       "      <td>NaN</td>\n",
       "      <td>NaN</td>\n",
       "      <td>NaN</td>\n",
       "      <td>NaN</td>\n",
       "      <td>NaN</td>\n",
       "      <td>NaN</td>\n",
       "      <td>NaN</td>\n",
       "      <td>NaN</td>\n",
       "      <td>NaN</td>\n",
       "    </tr>\n",
       "    <tr>\n",
       "      <th>GSM748356</th>\n",
       "      <td>True</td>\n",
       "      <td>NaN</td>\n",
       "      <td>NaN</td>\n",
       "      <td>NaN</td>\n",
       "      <td>NaN</td>\n",
       "      <td>NaN</td>\n",
       "      <td>NaN</td>\n",
       "      <td>NaN</td>\n",
       "      <td>NaN</td>\n",
       "      <td>NaN</td>\n",
       "      <td>...</td>\n",
       "      <td>NaN</td>\n",
       "      <td>NaN</td>\n",
       "      <td>NaN</td>\n",
       "      <td>NaN</td>\n",
       "      <td>NaN</td>\n",
       "      <td>NaN</td>\n",
       "      <td>NaN</td>\n",
       "      <td>NaN</td>\n",
       "      <td>NaN</td>\n",
       "      <td>NaN</td>\n",
       "    </tr>\n",
       "    <tr>\n",
       "      <th>GSM748357</th>\n",
       "      <td>True</td>\n",
       "      <td>NaN</td>\n",
       "      <td>NaN</td>\n",
       "      <td>NaN</td>\n",
       "      <td>NaN</td>\n",
       "      <td>NaN</td>\n",
       "      <td>NaN</td>\n",
       "      <td>NaN</td>\n",
       "      <td>NaN</td>\n",
       "      <td>NaN</td>\n",
       "      <td>...</td>\n",
       "      <td>NaN</td>\n",
       "      <td>NaN</td>\n",
       "      <td>NaN</td>\n",
       "      <td>NaN</td>\n",
       "      <td>NaN</td>\n",
       "      <td>NaN</td>\n",
       "      <td>NaN</td>\n",
       "      <td>NaN</td>\n",
       "      <td>NaN</td>\n",
       "      <td>NaN</td>\n",
       "    </tr>\n",
       "    <tr>\n",
       "      <th>GSM748358</th>\n",
       "      <td>True</td>\n",
       "      <td>NaN</td>\n",
       "      <td>NaN</td>\n",
       "      <td>NaN</td>\n",
       "      <td>NaN</td>\n",
       "      <td>NaN</td>\n",
       "      <td>NaN</td>\n",
       "      <td>NaN</td>\n",
       "      <td>NaN</td>\n",
       "      <td>NaN</td>\n",
       "      <td>...</td>\n",
       "      <td>NaN</td>\n",
       "      <td>NaN</td>\n",
       "      <td>NaN</td>\n",
       "      <td>NaN</td>\n",
       "      <td>NaN</td>\n",
       "      <td>NaN</td>\n",
       "      <td>NaN</td>\n",
       "      <td>NaN</td>\n",
       "      <td>NaN</td>\n",
       "      <td>NaN</td>\n",
       "    </tr>\n",
       "    <tr>\n",
       "      <th>GSM748359</th>\n",
       "      <td>False</td>\n",
       "      <td>NaN</td>\n",
       "      <td>NaN</td>\n",
       "      <td>NaN</td>\n",
       "      <td>NaN</td>\n",
       "      <td>NaN</td>\n",
       "      <td>NaN</td>\n",
       "      <td>NaN</td>\n",
       "      <td>NaN</td>\n",
       "      <td>NaN</td>\n",
       "      <td>...</td>\n",
       "      <td>NaN</td>\n",
       "      <td>NaN</td>\n",
       "      <td>NaN</td>\n",
       "      <td>NaN</td>\n",
       "      <td>NaN</td>\n",
       "      <td>NaN</td>\n",
       "      <td>NaN</td>\n",
       "      <td>NaN</td>\n",
       "      <td>NaN</td>\n",
       "      <td>NaN</td>\n",
       "    </tr>\n",
       "    <tr>\n",
       "      <th>GSM748360</th>\n",
       "      <td>True</td>\n",
       "      <td>NaN</td>\n",
       "      <td>NaN</td>\n",
       "      <td>NaN</td>\n",
       "      <td>NaN</td>\n",
       "      <td>NaN</td>\n",
       "      <td>NaN</td>\n",
       "      <td>NaN</td>\n",
       "      <td>NaN</td>\n",
       "      <td>NaN</td>\n",
       "      <td>...</td>\n",
       "      <td>NaN</td>\n",
       "      <td>NaN</td>\n",
       "      <td>NaN</td>\n",
       "      <td>NaN</td>\n",
       "      <td>NaN</td>\n",
       "      <td>NaN</td>\n",
       "      <td>NaN</td>\n",
       "      <td>NaN</td>\n",
       "      <td>NaN</td>\n",
       "      <td>NaN</td>\n",
       "    </tr>\n",
       "    <tr>\n",
       "      <th>GSM748361</th>\n",
       "      <td>True</td>\n",
       "      <td>NaN</td>\n",
       "      <td>NaN</td>\n",
       "      <td>NaN</td>\n",
       "      <td>NaN</td>\n",
       "      <td>NaN</td>\n",
       "      <td>NaN</td>\n",
       "      <td>NaN</td>\n",
       "      <td>NaN</td>\n",
       "      <td>NaN</td>\n",
       "      <td>...</td>\n",
       "      <td>NaN</td>\n",
       "      <td>NaN</td>\n",
       "      <td>NaN</td>\n",
       "      <td>NaN</td>\n",
       "      <td>NaN</td>\n",
       "      <td>NaN</td>\n",
       "      <td>NaN</td>\n",
       "      <td>NaN</td>\n",
       "      <td>NaN</td>\n",
       "      <td>NaN</td>\n",
       "    </tr>\n",
       "    <tr>\n",
       "      <th>GSM748362</th>\n",
       "      <td>True</td>\n",
       "      <td>NaN</td>\n",
       "      <td>NaN</td>\n",
       "      <td>NaN</td>\n",
       "      <td>NaN</td>\n",
       "      <td>NaN</td>\n",
       "      <td>NaN</td>\n",
       "      <td>NaN</td>\n",
       "      <td>NaN</td>\n",
       "      <td>NaN</td>\n",
       "      <td>...</td>\n",
       "      <td>NaN</td>\n",
       "      <td>NaN</td>\n",
       "      <td>NaN</td>\n",
       "      <td>NaN</td>\n",
       "      <td>NaN</td>\n",
       "      <td>NaN</td>\n",
       "      <td>NaN</td>\n",
       "      <td>NaN</td>\n",
       "      <td>NaN</td>\n",
       "      <td>NaN</td>\n",
       "    </tr>\n",
       "    <tr>\n",
       "      <th>GSM748363</th>\n",
       "      <td>True</td>\n",
       "      <td>NaN</td>\n",
       "      <td>NaN</td>\n",
       "      <td>NaN</td>\n",
       "      <td>NaN</td>\n",
       "      <td>NaN</td>\n",
       "      <td>NaN</td>\n",
       "      <td>NaN</td>\n",
       "      <td>NaN</td>\n",
       "      <td>NaN</td>\n",
       "      <td>...</td>\n",
       "      <td>NaN</td>\n",
       "      <td>NaN</td>\n",
       "      <td>NaN</td>\n",
       "      <td>NaN</td>\n",
       "      <td>NaN</td>\n",
       "      <td>NaN</td>\n",
       "      <td>NaN</td>\n",
       "      <td>NaN</td>\n",
       "      <td>NaN</td>\n",
       "      <td>NaN</td>\n",
       "    </tr>\n",
       "    <tr>\n",
       "      <th>GSM748364</th>\n",
       "      <td>False</td>\n",
       "      <td>NaN</td>\n",
       "      <td>NaN</td>\n",
       "      <td>NaN</td>\n",
       "      <td>NaN</td>\n",
       "      <td>NaN</td>\n",
       "      <td>NaN</td>\n",
       "      <td>NaN</td>\n",
       "      <td>NaN</td>\n",
       "      <td>NaN</td>\n",
       "      <td>...</td>\n",
       "      <td>NaN</td>\n",
       "      <td>NaN</td>\n",
       "      <td>NaN</td>\n",
       "      <td>NaN</td>\n",
       "      <td>NaN</td>\n",
       "      <td>NaN</td>\n",
       "      <td>NaN</td>\n",
       "      <td>NaN</td>\n",
       "      <td>NaN</td>\n",
       "      <td>NaN</td>\n",
       "    </tr>\n",
       "    <tr>\n",
       "      <th>GSM748365</th>\n",
       "      <td>True</td>\n",
       "      <td>NaN</td>\n",
       "      <td>NaN</td>\n",
       "      <td>NaN</td>\n",
       "      <td>NaN</td>\n",
       "      <td>NaN</td>\n",
       "      <td>NaN</td>\n",
       "      <td>NaN</td>\n",
       "      <td>NaN</td>\n",
       "      <td>NaN</td>\n",
       "      <td>...</td>\n",
       "      <td>NaN</td>\n",
       "      <td>NaN</td>\n",
       "      <td>NaN</td>\n",
       "      <td>NaN</td>\n",
       "      <td>NaN</td>\n",
       "      <td>NaN</td>\n",
       "      <td>NaN</td>\n",
       "      <td>NaN</td>\n",
       "      <td>NaN</td>\n",
       "      <td>NaN</td>\n",
       "    </tr>\n",
       "    <tr>\n",
       "      <th>GSM748366</th>\n",
       "      <td>True</td>\n",
       "      <td>NaN</td>\n",
       "      <td>NaN</td>\n",
       "      <td>NaN</td>\n",
       "      <td>NaN</td>\n",
       "      <td>NaN</td>\n",
       "      <td>NaN</td>\n",
       "      <td>NaN</td>\n",
       "      <td>NaN</td>\n",
       "      <td>NaN</td>\n",
       "      <td>...</td>\n",
       "      <td>NaN</td>\n",
       "      <td>NaN</td>\n",
       "      <td>NaN</td>\n",
       "      <td>NaN</td>\n",
       "      <td>NaN</td>\n",
       "      <td>NaN</td>\n",
       "      <td>NaN</td>\n",
       "      <td>NaN</td>\n",
       "      <td>NaN</td>\n",
       "      <td>NaN</td>\n",
       "    </tr>\n",
       "  </tbody>\n",
       "</table>\n",
       "<p>293 rows × 99 columns</p>\n",
       "</div>"
      ],
      "text/plain": [
       "               1    2    3    4    5    6    7    8    9    10 ...    90   91  \\\n",
       "GSM1465989   True  NaN  NaN  NaN  NaN  NaN  NaN  NaN  NaN  NaN ...   NaN  NaN   \n",
       "GSM1465990   True  NaN  NaN  NaN  NaN  NaN  NaN  NaN  NaN  NaN ...   NaN  NaN   \n",
       "GSM1465991   True  NaN  NaN  NaN  NaN  NaN  NaN  NaN  NaN  NaN ...   NaN  NaN   \n",
       "GSM1465992   True  NaN  NaN  NaN  NaN  NaN  NaN  NaN  NaN  NaN ...   NaN  NaN   \n",
       "GSM1465993   True  NaN  NaN  NaN  NaN  NaN  NaN  NaN  NaN  NaN ...   NaN  NaN   \n",
       "GSM1465994   True  NaN  NaN  NaN  NaN  NaN  NaN  NaN  NaN  NaN ...   NaN  NaN   \n",
       "GSM1465995   True  NaN  NaN  NaN  NaN  NaN  NaN  NaN  NaN  NaN ...   NaN  NaN   \n",
       "GSM1465996  False  NaN  NaN  NaN  NaN  NaN  NaN  NaN  NaN  NaN ...   NaN  NaN   \n",
       "GSM1465997   True  NaN  NaN  NaN  NaN  NaN  NaN  NaN  NaN  NaN ...   NaN  NaN   \n",
       "GSM1465998   True  NaN  NaN  NaN  NaN  NaN  NaN  NaN  NaN  NaN ...   NaN  NaN   \n",
       "GSM1465999   True  NaN  NaN  NaN  NaN  NaN  NaN  NaN  NaN  NaN ...   NaN  NaN   \n",
       "GSM748053   False  NaN  NaN  NaN  NaN  NaN  NaN  NaN  NaN  NaN ...   NaN  NaN   \n",
       "GSM748054    True  NaN  NaN  NaN  NaN  NaN  NaN  NaN  NaN  NaN ...   NaN  NaN   \n",
       "GSM748055   False  NaN  NaN  NaN  NaN  NaN  NaN  NaN  NaN  NaN ...   NaN  NaN   \n",
       "GSM748056    True  NaN  NaN  NaN  NaN  NaN  NaN  NaN  NaN  NaN ...   NaN  NaN   \n",
       "GSM748057    True  NaN  NaN  NaN  NaN  NaN  NaN  NaN  NaN  NaN ...   NaN  NaN   \n",
       "GSM748058    True  NaN  NaN  NaN  NaN  NaN  NaN  NaN  NaN  NaN ...   NaN  NaN   \n",
       "GSM748059    True  NaN  NaN  NaN  NaN  NaN  NaN  NaN  NaN  NaN ...   NaN  NaN   \n",
       "GSM748061   False  NaN  NaN  NaN  NaN  NaN  NaN  NaN  NaN  NaN ...   NaN  NaN   \n",
       "GSM748062    True  NaN  NaN  NaN  NaN  NaN  NaN  NaN  NaN  NaN ...   NaN  NaN   \n",
       "GSM748063   False  NaN  NaN  NaN  NaN  NaN  NaN  NaN  NaN  NaN ...   NaN  NaN   \n",
       "GSM748064    True  NaN  NaN  NaN  NaN  NaN  NaN  NaN  NaN  NaN ...   NaN  NaN   \n",
       "GSM748065    True  NaN  NaN  NaN  NaN  NaN  NaN  NaN  NaN  NaN ...   NaN  NaN   \n",
       "GSM748066    True  NaN  NaN  NaN  NaN  NaN  NaN  NaN  NaN  NaN ...   NaN  NaN   \n",
       "GSM748067   False  NaN  NaN  NaN  NaN  NaN  NaN  NaN  NaN  NaN ...   NaN  NaN   \n",
       "GSM748068    True  NaN  NaN  NaN  NaN  NaN  NaN  NaN  NaN  NaN ...   NaN  NaN   \n",
       "GSM748069    True  NaN  NaN  NaN  NaN  NaN  NaN  NaN  NaN  NaN ...   NaN  NaN   \n",
       "GSM748071    True  NaN  NaN  NaN  NaN  NaN  NaN  NaN  NaN  NaN ...   NaN  NaN   \n",
       "GSM748072    True  NaN  NaN  NaN  NaN  NaN  NaN  NaN  NaN  NaN ...   NaN  NaN   \n",
       "GSM748073    True  NaN  NaN  NaN  NaN  NaN  NaN  NaN  NaN  NaN ...   NaN  NaN   \n",
       "...           ...  ...  ...  ...  ...  ...  ...  ...  ...  ... ...   ...  ...   \n",
       "GSM748336    True  NaN  NaN  NaN  NaN  NaN  NaN  NaN  NaN  NaN ...   NaN  NaN   \n",
       "GSM748337    True  NaN  NaN  NaN  NaN  NaN  NaN  NaN  NaN  NaN ...   NaN  NaN   \n",
       "GSM748338    True  NaN  NaN  NaN  NaN  NaN  NaN  NaN  NaN  NaN ...   NaN  NaN   \n",
       "GSM748339   False  NaN  NaN  NaN  NaN  NaN  NaN  NaN  NaN  NaN ...   NaN  NaN   \n",
       "GSM748341    True  NaN  NaN  NaN  NaN  NaN  NaN  NaN  NaN  NaN ...   NaN  NaN   \n",
       "GSM748342    True  NaN  NaN  NaN  NaN  NaN  NaN  NaN  NaN  NaN ...   NaN  NaN   \n",
       "GSM748343    True  NaN  NaN  NaN  NaN  NaN  NaN  NaN  NaN  NaN ...   NaN  NaN   \n",
       "GSM748344    True  NaN  NaN  NaN  NaN  NaN  NaN  NaN  NaN  NaN ...   NaN  NaN   \n",
       "GSM748345    True  NaN  NaN  NaN  NaN  NaN  NaN  NaN  NaN  NaN ...   NaN  NaN   \n",
       "GSM748346    True  NaN  NaN  NaN  NaN  NaN  NaN  NaN  NaN  NaN ...   NaN  NaN   \n",
       "GSM748347    True  NaN  NaN  NaN  NaN  NaN  NaN  NaN  NaN  NaN ...   NaN  NaN   \n",
       "GSM748348   False  NaN  NaN  NaN  NaN  NaN  NaN  NaN  NaN  NaN ...   NaN  NaN   \n",
       "GSM748349    True  NaN  NaN  NaN  NaN  NaN  NaN  NaN  NaN  NaN ...   NaN  NaN   \n",
       "GSM748350    True  NaN  NaN  NaN  NaN  NaN  NaN  NaN  NaN  NaN ...   NaN  NaN   \n",
       "GSM748351    True  NaN  NaN  NaN  NaN  NaN  NaN  NaN  NaN  NaN ...   NaN  NaN   \n",
       "GSM748352    True  NaN  NaN  NaN  NaN  NaN  NaN  NaN  NaN  NaN ...   NaN  NaN   \n",
       "GSM748353    True  NaN  NaN  NaN  NaN  NaN  NaN  NaN  NaN  NaN ...   NaN  NaN   \n",
       "GSM748354   False  NaN  NaN  NaN  NaN  NaN  NaN  NaN  NaN  NaN ...   NaN  NaN   \n",
       "GSM748355   False  NaN  NaN  NaN  NaN  NaN  NaN  NaN  NaN  NaN ...   NaN  NaN   \n",
       "GSM748356    True  NaN  NaN  NaN  NaN  NaN  NaN  NaN  NaN  NaN ...   NaN  NaN   \n",
       "GSM748357    True  NaN  NaN  NaN  NaN  NaN  NaN  NaN  NaN  NaN ...   NaN  NaN   \n",
       "GSM748358    True  NaN  NaN  NaN  NaN  NaN  NaN  NaN  NaN  NaN ...   NaN  NaN   \n",
       "GSM748359   False  NaN  NaN  NaN  NaN  NaN  NaN  NaN  NaN  NaN ...   NaN  NaN   \n",
       "GSM748360    True  NaN  NaN  NaN  NaN  NaN  NaN  NaN  NaN  NaN ...   NaN  NaN   \n",
       "GSM748361    True  NaN  NaN  NaN  NaN  NaN  NaN  NaN  NaN  NaN ...   NaN  NaN   \n",
       "GSM748362    True  NaN  NaN  NaN  NaN  NaN  NaN  NaN  NaN  NaN ...   NaN  NaN   \n",
       "GSM748363    True  NaN  NaN  NaN  NaN  NaN  NaN  NaN  NaN  NaN ...   NaN  NaN   \n",
       "GSM748364   False  NaN  NaN  NaN  NaN  NaN  NaN  NaN  NaN  NaN ...   NaN  NaN   \n",
       "GSM748365    True  NaN  NaN  NaN  NaN  NaN  NaN  NaN  NaN  NaN ...   NaN  NaN   \n",
       "GSM748366    True  NaN  NaN  NaN  NaN  NaN  NaN  NaN  NaN  NaN ...   NaN  NaN   \n",
       "\n",
       "             92   93   94   95   96   97   98   99  \n",
       "GSM1465989  NaN  NaN  NaN  NaN  NaN  NaN  NaN  NaN  \n",
       "GSM1465990  NaN  NaN  NaN  NaN  NaN  NaN  NaN  NaN  \n",
       "GSM1465991  NaN  NaN  NaN  NaN  NaN  NaN  NaN  NaN  \n",
       "GSM1465992  NaN  NaN  NaN  NaN  NaN  NaN  NaN  NaN  \n",
       "GSM1465993  NaN  NaN  NaN  NaN  NaN  NaN  NaN  NaN  \n",
       "GSM1465994  NaN  NaN  NaN  NaN  NaN  NaN  NaN  NaN  \n",
       "GSM1465995  NaN  NaN  NaN  NaN  NaN  NaN  NaN  NaN  \n",
       "GSM1465996  NaN  NaN  NaN  NaN  NaN  NaN  NaN  NaN  \n",
       "GSM1465997  NaN  NaN  NaN  NaN  NaN  NaN  NaN  NaN  \n",
       "GSM1465998  NaN  NaN  NaN  NaN  NaN  NaN  NaN  NaN  \n",
       "GSM1465999  NaN  NaN  NaN  NaN  NaN  NaN  NaN  NaN  \n",
       "GSM748053   NaN  NaN  NaN  NaN  NaN  NaN  NaN  NaN  \n",
       "GSM748054   NaN  NaN  NaN  NaN  NaN  NaN  NaN  NaN  \n",
       "GSM748055   NaN  NaN  NaN  NaN  NaN  NaN  NaN  NaN  \n",
       "GSM748056   NaN  NaN  NaN  NaN  NaN  NaN  NaN  NaN  \n",
       "GSM748057   NaN  NaN  NaN  NaN  NaN  NaN  NaN  NaN  \n",
       "GSM748058   NaN  NaN  NaN  NaN  NaN  NaN  NaN  NaN  \n",
       "GSM748059   NaN  NaN  NaN  NaN  NaN  NaN  NaN  NaN  \n",
       "GSM748061   NaN  NaN  NaN  NaN  NaN  NaN  NaN  NaN  \n",
       "GSM748062   NaN  NaN  NaN  NaN  NaN  NaN  NaN  NaN  \n",
       "GSM748063   NaN  NaN  NaN  NaN  NaN  NaN  NaN  NaN  \n",
       "GSM748064   NaN  NaN  NaN  NaN  NaN  NaN  NaN  NaN  \n",
       "GSM748065   NaN  NaN  NaN  NaN  NaN  NaN  NaN  NaN  \n",
       "GSM748066   NaN  NaN  NaN  NaN  NaN  NaN  NaN  NaN  \n",
       "GSM748067   NaN  NaN  NaN  NaN  NaN  NaN  NaN  NaN  \n",
       "GSM748068   NaN  NaN  NaN  NaN  NaN  NaN  NaN  NaN  \n",
       "GSM748069   NaN  NaN  NaN  NaN  NaN  NaN  NaN  NaN  \n",
       "GSM748071   NaN  NaN  NaN  NaN  NaN  NaN  NaN  NaN  \n",
       "GSM748072   NaN  NaN  NaN  NaN  NaN  NaN  NaN  NaN  \n",
       "GSM748073   NaN  NaN  NaN  NaN  NaN  NaN  NaN  NaN  \n",
       "...         ...  ...  ...  ...  ...  ...  ...  ...  \n",
       "GSM748336   NaN  NaN  NaN  NaN  NaN  NaN  NaN  NaN  \n",
       "GSM748337   NaN  NaN  NaN  NaN  NaN  NaN  NaN  NaN  \n",
       "GSM748338   NaN  NaN  NaN  NaN  NaN  NaN  NaN  NaN  \n",
       "GSM748339   NaN  NaN  NaN  NaN  NaN  NaN  NaN  NaN  \n",
       "GSM748341   NaN  NaN  NaN  NaN  NaN  NaN  NaN  NaN  \n",
       "GSM748342   NaN  NaN  NaN  NaN  NaN  NaN  NaN  NaN  \n",
       "GSM748343   NaN  NaN  NaN  NaN  NaN  NaN  NaN  NaN  \n",
       "GSM748344   NaN  NaN  NaN  NaN  NaN  NaN  NaN  NaN  \n",
       "GSM748345   NaN  NaN  NaN  NaN  NaN  NaN  NaN  NaN  \n",
       "GSM748346   NaN  NaN  NaN  NaN  NaN  NaN  NaN  NaN  \n",
       "GSM748347   NaN  NaN  NaN  NaN  NaN  NaN  NaN  NaN  \n",
       "GSM748348   NaN  NaN  NaN  NaN  NaN  NaN  NaN  NaN  \n",
       "GSM748349   NaN  NaN  NaN  NaN  NaN  NaN  NaN  NaN  \n",
       "GSM748350   NaN  NaN  NaN  NaN  NaN  NaN  NaN  NaN  \n",
       "GSM748351   NaN  NaN  NaN  NaN  NaN  NaN  NaN  NaN  \n",
       "GSM748352   NaN  NaN  NaN  NaN  NaN  NaN  NaN  NaN  \n",
       "GSM748353   NaN  NaN  NaN  NaN  NaN  NaN  NaN  NaN  \n",
       "GSM748354   NaN  NaN  NaN  NaN  NaN  NaN  NaN  NaN  \n",
       "GSM748355   NaN  NaN  NaN  NaN  NaN  NaN  NaN  NaN  \n",
       "GSM748356   NaN  NaN  NaN  NaN  NaN  NaN  NaN  NaN  \n",
       "GSM748357   NaN  NaN  NaN  NaN  NaN  NaN  NaN  NaN  \n",
       "GSM748358   NaN  NaN  NaN  NaN  NaN  NaN  NaN  NaN  \n",
       "GSM748359   NaN  NaN  NaN  NaN  NaN  NaN  NaN  NaN  \n",
       "GSM748360   NaN  NaN  NaN  NaN  NaN  NaN  NaN  NaN  \n",
       "GSM748361   NaN  NaN  NaN  NaN  NaN  NaN  NaN  NaN  \n",
       "GSM748362   NaN  NaN  NaN  NaN  NaN  NaN  NaN  NaN  \n",
       "GSM748363   NaN  NaN  NaN  NaN  NaN  NaN  NaN  NaN  \n",
       "GSM748364   NaN  NaN  NaN  NaN  NaN  NaN  NaN  NaN  \n",
       "GSM748365   NaN  NaN  NaN  NaN  NaN  NaN  NaN  NaN  \n",
       "GSM748366   NaN  NaN  NaN  NaN  NaN  NaN  NaN  NaN  \n",
       "\n",
       "[293 rows x 99 columns]"
      ]
     },
     "execution_count": 87,
     "metadata": {},
     "output_type": "execute_result"
    }
   ],
   "source": [
    "OUTPUT"
   ]
  },
  {
   "cell_type": "code",
   "execution_count": 50,
   "metadata": {},
   "outputs": [
    {
     "data": {
      "text/plain": [
       "Index(['GSM1465989', 'GSM1465990', 'GSM1465991', 'GSM1465992', 'GSM1465993',\n",
       "       'GSM1465994', 'GSM1465995', 'GSM1465996', 'GSM1465997', 'GSM1465998',\n",
       "       ...\n",
       "       'GSM748357', 'GSM748358', 'GSM748359', 'GSM748360', 'GSM748361',\n",
       "       'GSM748362', 'GSM748363', 'GSM748364', 'GSM748365', 'GSM748366'],\n",
       "      dtype='object', length=293)"
      ]
     },
     "execution_count": 50,
     "metadata": {},
     "output_type": "execute_result"
    }
   ],
   "source": [
    "X.index"
   ]
  },
  {
   "cell_type": "code",
   "execution_count": 41,
   "metadata": {},
   "outputs": [
    {
     "ename": "ValueError",
     "evalue": "Lengths must match to compare",
     "output_type": "error",
     "traceback": [
      "\u001b[0;31m---------------------------------------------------------------------------\u001b[0m",
      "\u001b[0;31mValueError\u001b[0m                                Traceback (most recent call last)",
      "\u001b[0;32m<ipython-input-41-04fab7375413>\u001b[0m in \u001b[0;36m<module>\u001b[0;34m()\u001b[0m\n\u001b[0;32m----> 1\u001b[0;31m \u001b[0mX\u001b[0m\u001b[0;34m.\u001b[0m\u001b[0mloc\u001b[0m\u001b[0;34m[\u001b[0m\u001b[0mX\u001b[0m\u001b[0;34m.\u001b[0m\u001b[0mindex\u001b[0m \u001b[0;32min\u001b[0m \u001b[0mI\u001b[0m\u001b[0;34m]\u001b[0m\u001b[0;34m\u001b[0m\u001b[0m\n\u001b[0m",
      "\u001b[0;32m~/anaconda3/lib/python3.6/site-packages/pandas/core/indexes/base.py\u001b[0m in \u001b[0;36m_evaluate_compare\u001b[0;34m(self, other)\u001b[0m\n\u001b[1;32m   3828\u001b[0m                 \u001b[0;32mif\u001b[0m \u001b[0misinstance\u001b[0m\u001b[0;34m(\u001b[0m\u001b[0mother\u001b[0m\u001b[0;34m,\u001b[0m \u001b[0;34m(\u001b[0m\u001b[0mnp\u001b[0m\u001b[0;34m.\u001b[0m\u001b[0mndarray\u001b[0m\u001b[0;34m,\u001b[0m \u001b[0mIndex\u001b[0m\u001b[0;34m,\u001b[0m \u001b[0mABCSeries\u001b[0m\u001b[0;34m)\u001b[0m\u001b[0;34m)\u001b[0m\u001b[0;34m:\u001b[0m\u001b[0;34m\u001b[0m\u001b[0m\n\u001b[1;32m   3829\u001b[0m                     \u001b[0;32mif\u001b[0m \u001b[0mother\u001b[0m\u001b[0;34m.\u001b[0m\u001b[0mndim\u001b[0m \u001b[0;34m>\u001b[0m \u001b[0;36m0\u001b[0m \u001b[0;32mand\u001b[0m \u001b[0mlen\u001b[0m\u001b[0;34m(\u001b[0m\u001b[0mself\u001b[0m\u001b[0;34m)\u001b[0m \u001b[0;34m!=\u001b[0m \u001b[0mlen\u001b[0m\u001b[0;34m(\u001b[0m\u001b[0mother\u001b[0m\u001b[0;34m)\u001b[0m\u001b[0;34m:\u001b[0m\u001b[0;34m\u001b[0m\u001b[0m\n\u001b[0;32m-> 3830\u001b[0;31m                         \u001b[0;32mraise\u001b[0m \u001b[0mValueError\u001b[0m\u001b[0;34m(\u001b[0m\u001b[0;34m'Lengths must match to compare'\u001b[0m\u001b[0;34m)\u001b[0m\u001b[0;34m\u001b[0m\u001b[0m\n\u001b[0m\u001b[1;32m   3831\u001b[0m \u001b[0;34m\u001b[0m\u001b[0m\n\u001b[1;32m   3832\u001b[0m                 \u001b[0;31m# we may need to directly compare underlying\u001b[0m\u001b[0;34m\u001b[0m\u001b[0;34m\u001b[0m\u001b[0m\n",
      "\u001b[0;31mValueError\u001b[0m: Lengths must match to compare"
     ]
    }
   ],
   "source": [
    "X.loc[X.index in I]"
   ]
  },
  {
   "cell_type": "code",
   "execution_count": null,
   "metadata": {
    "collapsed": true
   },
   "outputs": [],
   "source": []
  },
  {
   "cell_type": "code",
   "execution_count": 14,
   "metadata": {
    "collapsed": true
   },
   "outputs": [],
   "source": [
    "from sklearn.model_selection import RepeatedKFold"
   ]
  },
  {
   "cell_type": "code",
   "execution_count": 15,
   "metadata": {
    "collapsed": true
   },
   "outputs": [],
   "source": [
    "RKF = RepeatedKFold(n_splits=5,n_repeats=10)"
   ]
  },
  {
   "cell_type": "code",
   "execution_count": null,
   "metadata": {
    "collapsed": true
   },
   "outputs": [],
   "source": []
  },
  {
   "cell_type": "code",
   "execution_count": 13,
   "metadata": {
    "collapsed": true
   },
   "outputs": [],
   "source": [
    "import pickle"
   ]
  },
  {
   "cell_type": "code",
   "execution_count": 46,
   "metadata": {
    "collapsed": true
   },
   "outputs": [],
   "source": [
    "data = {\"1\":2,\"3\":4}"
   ]
  },
  {
   "cell_type": "code",
   "execution_count": 47,
   "metadata": {
    "collapsed": true
   },
   "outputs": [],
   "source": [
    "with open('temp.pkl', 'wb') as fp:\n",
    "    pickle.dump(data, fp, protocol=pickle.HIGHEST_PROTOCOL)"
   ]
  },
  {
   "cell_type": "code",
   "execution_count": 48,
   "metadata": {
    "collapsed": true
   },
   "outputs": [],
   "source": [
    "with open('temp.pkl', 'rb') as fp:\n",
    "    data2 = pickle.load(fp)"
   ]
  },
  {
   "cell_type": "code",
   "execution_count": 60,
   "metadata": {},
   "outputs": [
    {
     "data": {
      "text/plain": [
       "[('1', 2), ('3', 4)]"
      ]
     },
     "execution_count": 60,
     "metadata": {},
     "output_type": "execute_result"
    }
   ],
   "source": [
    "[*[i for i in data2.items()]]"
   ]
  },
  {
   "cell_type": "code",
   "execution_count": 64,
   "metadata": {},
   "outputs": [
    {
     "ename": "ValueError",
     "evalue": "not enough values to unpack (expected 3, got 2)",
     "output_type": "error",
     "traceback": [
      "\u001b[0;31m---------------------------------------------------------------------------\u001b[0m",
      "\u001b[0;31mValueError\u001b[0m                                Traceback (most recent call last)",
      "\u001b[0;32m<ipython-input-64-e60c5223dbac>\u001b[0m in \u001b[0;36m<module>\u001b[0;34m()\u001b[0m\n\u001b[0;32m----> 1\u001b[0;31m \u001b[0;34m[\u001b[0m\u001b[0;34m*\u001b[0m\u001b[0;34m[\u001b[0m\u001b[0;34m(\u001b[0m\u001b[0mi\u001b[0m\u001b[0;34m,\u001b[0m\u001b[0;34m(\u001b[0m\u001b[0mj\u001b[0m\u001b[0;34m,\u001b[0m\u001b[0mk\u001b[0m\u001b[0;34m)\u001b[0m\u001b[0;34m)\u001b[0m \u001b[0;32mfor\u001b[0m \u001b[0mi\u001b[0m\u001b[0;34m,\u001b[0m\u001b[0mj\u001b[0m\u001b[0;34m,\u001b[0m\u001b[0mk\u001b[0m \u001b[0;32min\u001b[0m \u001b[0menumerate\u001b[0m\u001b[0;34m(\u001b[0m\u001b[0mdata2\u001b[0m\u001b[0;34m.\u001b[0m\u001b[0mitems\u001b[0m\u001b[0;34m(\u001b[0m\u001b[0;34m)\u001b[0m\u001b[0;34m)\u001b[0m\u001b[0;34m]\u001b[0m\u001b[0;34m]\u001b[0m\u001b[0;34m\u001b[0m\u001b[0m\n\u001b[0m",
      "\u001b[0;32m<ipython-input-64-e60c5223dbac>\u001b[0m in \u001b[0;36m<listcomp>\u001b[0;34m(.0)\u001b[0m\n\u001b[0;32m----> 1\u001b[0;31m \u001b[0;34m[\u001b[0m\u001b[0;34m*\u001b[0m\u001b[0;34m[\u001b[0m\u001b[0;34m(\u001b[0m\u001b[0mi\u001b[0m\u001b[0;34m,\u001b[0m\u001b[0;34m(\u001b[0m\u001b[0mj\u001b[0m\u001b[0;34m,\u001b[0m\u001b[0mk\u001b[0m\u001b[0;34m)\u001b[0m\u001b[0;34m)\u001b[0m \u001b[0;32mfor\u001b[0m \u001b[0mi\u001b[0m\u001b[0;34m,\u001b[0m\u001b[0mj\u001b[0m\u001b[0;34m,\u001b[0m\u001b[0mk\u001b[0m \u001b[0;32min\u001b[0m \u001b[0menumerate\u001b[0m\u001b[0;34m(\u001b[0m\u001b[0mdata2\u001b[0m\u001b[0;34m.\u001b[0m\u001b[0mitems\u001b[0m\u001b[0;34m(\u001b[0m\u001b[0;34m)\u001b[0m\u001b[0;34m)\u001b[0m\u001b[0;34m]\u001b[0m\u001b[0;34m]\u001b[0m\u001b[0;34m\u001b[0m\u001b[0m\n\u001b[0m",
      "\u001b[0;31mValueError\u001b[0m: not enough values to unpack (expected 3, got 2)"
     ]
    }
   ],
   "source": [
    "[*[(i,(j,k)) for i,j,k in enumerate(data2.items())]]"
   ]
  },
  {
   "cell_type": "code",
   "execution_count": 48,
   "metadata": {
    "collapsed": true
   },
   "outputs": [],
   "source": [
    "arrays = [['general']*2,['score','fs_size']]\n",
    "MI = pd.MultiIndex.from_arrays(arrays)"
   ]
  },
  {
   "cell_type": "code",
   "execution_count": 49,
   "metadata": {
    "collapsed": true
   },
   "outputs": [],
   "source": [
    "metrics = {'log_loss':log_loss,'roc':'roc'}"
   ]
  },
  {
   "cell_type": "code",
   "execution_count": 50,
   "metadata": {
    "collapsed": true
   },
   "outputs": [],
   "source": [
    "arrays = [['loss']*len(metrics),[*metrics.keys()]]\n",
    "MI2 = pd.MultiIndex.from_arrays(arrays)"
   ]
  },
  {
   "cell_type": "code",
   "execution_count": 51,
   "metadata": {},
   "outputs": [
    {
     "data": {
      "text/plain": [
       "MultiIndex(levels=[['general', 'loss'], ['fs_size', 'log_loss', 'roc', 'score']],\n",
       "           labels=[[0, 0, 1, 1], [3, 0, 1, 2]])"
      ]
     },
     "execution_count": 51,
     "metadata": {},
     "output_type": "execute_result"
    }
   ],
   "source": [
    "MI.append(MI2)"
   ]
  },
  {
   "cell_type": "code",
   "execution_count": 152,
   "metadata": {},
   "outputs": [
    {
     "data": {
      "text/plain": [
       "MultiIndex(levels=[['score', 'fs_size']],\n",
       "           labels=[[1, 0]])"
      ]
     },
     "execution_count": 152,
     "metadata": {},
     "output_type": "execute_result"
    }
   ],
   "source": [
    "MI.set_levels([['score','fs_size']])"
   ]
  },
  {
   "cell_type": "code",
   "execution_count": 152,
   "metadata": {},
   "outputs": [
    {
     "data": {
      "text/plain": [
       "MultiIndex(levels=[['score', 'fs_size']],\n",
       "           labels=[[1, 0]])"
      ]
     },
     "execution_count": 152,
     "metadata": {},
     "output_type": "execute_result"
    }
   ],
   "source": [
    "MI.set_levels([['score','fs_size']])"
   ]
  },
  {
   "cell_type": "code",
   "execution_count": 72,
   "metadata": {},
   "outputs": [
    {
     "data": {
      "text/plain": [
       "['log_loss', 'roc']"
      ]
     },
     "execution_count": 72,
     "metadata": {},
     "output_type": "execute_result"
    }
   ],
   "source": [
    "arrays[1]"
   ]
  },
  {
   "cell_type": "code",
   "execution_count": 64,
   "metadata": {
    "collapsed": true
   },
   "outputs": [],
   "source": [
    "[1,2].append([1])"
   ]
  },
  {
   "cell_type": "code",
   "execution_count": 63,
   "metadata": {
    "collapsed": true
   },
   "outputs": [],
   "source": [
    "[1,2].append([])"
   ]
  },
  {
   "cell_type": "code",
   "execution_count": 56,
   "metadata": {},
   "outputs": [
    {
     "data": {
      "text/plain": [
       "MultiIndex(levels=[['general'], ['fs_size', 'score']],\n",
       "           labels=[[0, 0], [1, 0]])"
      ]
     },
     "execution_count": 56,
     "metadata": {},
     "output_type": "execute_result"
    }
   ],
   "source": [
    "MI.copy()"
   ]
  },
  {
   "cell_type": "code",
   "execution_count": 52,
   "metadata": {
    "collapsed": true
   },
   "outputs": [],
   "source": [
    "df = pd.DataFrame(index=np.arange(5),columns=MI.append(MI2))"
   ]
  },
  {
   "cell_type": "code",
   "execution_count": 54,
   "metadata": {
    "collapsed": true
   },
   "outputs": [],
   "source": [
    "df.loc[1,'loss']=[1,2]"
   ]
  },
  {
   "cell_type": "code",
   "execution_count": 47,
   "metadata": {},
   "outputs": [
    {
     "data": {
      "text/plain": [
       "FrozenList([['loss'], ['log_loss', 'roc']])"
      ]
     },
     "execution_count": 47,
     "metadata": {},
     "output_type": "execute_result"
    }
   ],
   "source": [
    "MI2.levels"
   ]
  },
  {
   "cell_type": "code",
   "execution_count": 60,
   "metadata": {},
   "outputs": [
    {
     "data": {
      "text/plain": [
       "array(['score', 'fs_size'], dtype=object)"
      ]
     },
     "execution_count": 60,
     "metadata": {},
     "output_type": "execute_result"
    }
   ],
   "source": [
    "df['general'].columns.values"
   ]
  },
  {
   "cell_type": "code",
   "execution_count": null,
   "metadata": {
    "collapsed": true
   },
   "outputs": [],
   "source": [
    "metrics"
   ]
  },
  {
   "cell_type": "code",
   "execution_count": 163,
   "metadata": {
    "collapsed": true
   },
   "outputs": [],
   "source": [
    "f = log_loss"
   ]
  },
  {
   "cell_type": "code",
   "execution_count": 164,
   "metadata": {
    "collapsed": true
   },
   "outputs": [],
   "source": [
    "f2 = log_loss"
   ]
  },
  {
   "cell_type": "code",
   "execution_count": 174,
   "metadata": {
    "collapsed": true,
    "scrolled": true
   },
   "outputs": [],
   "source": [
    "scoring = make_scorer(log_loss,greater_is_better=False,needs_proba=True,labels=[0,1])"
   ]
  },
  {
   "cell_type": "code",
   "execution_count": 167,
   "metadata": {
    "collapsed": true
   },
   "outputs": [],
   "source": [
    "metrics = {}"
   ]
  },
  {
   "cell_type": "code",
   "execution_count": 180,
   "metadata": {
    "collapsed": true
   },
   "outputs": [],
   "source": [
    "GdS = GridSearchCV(LogisticRegression(),{'C':np.arange(0.5,1,0.1)},scoring = scoring)"
   ]
  },
  {
   "cell_type": "code",
   "execution_count": 181,
   "metadata": {
    "scrolled": true
   },
   "outputs": [
    {
     "data": {
      "text/plain": [
       "{'cv': None,\n",
       " 'error_score': 'raise',\n",
       " 'estimator': LogisticRegression(C=1.0, class_weight=None, dual=False, fit_intercept=True,\n",
       "           intercept_scaling=1, max_iter=100, multi_class='ovr', n_jobs=1,\n",
       "           penalty='l2', random_state=None, solver='liblinear', tol=0.0001,\n",
       "           verbose=0, warm_start=False),\n",
       " 'estimator__C': 1.0,\n",
       " 'estimator__class_weight': None,\n",
       " 'estimator__dual': False,\n",
       " 'estimator__fit_intercept': True,\n",
       " 'estimator__intercept_scaling': 1,\n",
       " 'estimator__max_iter': 100,\n",
       " 'estimator__multi_class': 'ovr',\n",
       " 'estimator__n_jobs': 1,\n",
       " 'estimator__penalty': 'l2',\n",
       " 'estimator__random_state': None,\n",
       " 'estimator__solver': 'liblinear',\n",
       " 'estimator__tol': 0.0001,\n",
       " 'estimator__verbose': 0,\n",
       " 'estimator__warm_start': False,\n",
       " 'fit_params': None,\n",
       " 'iid': True,\n",
       " 'n_jobs': 1,\n",
       " 'param_grid': {'C': array([ 0.5,  0.6,  0.7,  0.8,  0.9])},\n",
       " 'pre_dispatch': '2*n_jobs',\n",
       " 'refit': True,\n",
       " 'return_train_score': 'warn',\n",
       " 'scoring': make_scorer(log_loss, greater_is_better=False, needs_proba=True, labels=[0, 1]),\n",
       " 'verbose': 0}"
      ]
     },
     "execution_count": 181,
     "metadata": {},
     "output_type": "execute_result"
    }
   ],
   "source": [
    "GdS.get_params()"
   ]
  },
  {
   "cell_type": "code",
   "execution_count": 188,
   "metadata": {},
   "outputs": [
    {
     "data": {
      "text/plain": [
       "'log_loss'"
      ]
     },
     "execution_count": 188,
     "metadata": {},
     "output_type": "execute_result"
    }
   ],
   "source": [
    "GdS.get_params()['scoring'].__dict__['_score_func'].__name__"
   ]
  },
  {
   "cell_type": "code",
   "execution_count": 170,
   "metadata": {
    "collapsed": true
   },
   "outputs": [],
   "source": [
    "arrays = [['metrics']*len(metrics),[*metrics.keys()]]"
   ]
  },
  {
   "cell_type": "code",
   "execution_count": 218,
   "metadata": {},
   "outputs": [
    {
     "data": {
      "text/plain": [
       "[1, 1, 2]"
      ]
     },
     "execution_count": 218,
     "metadata": {},
     "output_type": "execute_result"
    }
   ],
   "source": [
    "[1,*d.keys()]"
   ]
  },
  {
   "cell_type": "code",
   "execution_count": 214,
   "metadata": {
    "collapsed": true
   },
   "outputs": [],
   "source": [
    "d[2]=3"
   ]
  },
  {
   "cell_type": "code",
   "execution_count": 171,
   "metadata": {},
   "outputs": [
    {
     "ename": "TypeError",
     "evalue": "Must pass both levels and labels",
     "output_type": "error",
     "traceback": [
      "\u001b[0;31m---------------------------------------------------------------------------\u001b[0m",
      "\u001b[0;31mTypeError\u001b[0m                                 Traceback (most recent call last)",
      "\u001b[0;32m<ipython-input-171-eb31ba2ef192>\u001b[0m in \u001b[0;36m<module>\u001b[0;34m()\u001b[0m\n\u001b[0;32m----> 1\u001b[0;31m \u001b[0mMI2\u001b[0m \u001b[0;34m=\u001b[0m \u001b[0mpd\u001b[0m\u001b[0;34m.\u001b[0m\u001b[0mMultiIndex\u001b[0m\u001b[0;34m(\u001b[0m\u001b[0marrays\u001b[0m\u001b[0;34m)\u001b[0m\u001b[0;34m\u001b[0m\u001b[0m\n\u001b[0m",
      "\u001b[0;32m~/anaconda3/lib/python3.6/site-packages/pandas/core/indexes/multi.py\u001b[0m in \u001b[0;36m__new__\u001b[0;34m(cls, levels, labels, sortorder, names, copy, verify_integrity, _set_identity, name, **kwargs)\u001b[0m\n\u001b[1;32m    116\u001b[0m             \u001b[0mnames\u001b[0m \u001b[0;34m=\u001b[0m \u001b[0mname\u001b[0m\u001b[0;34m\u001b[0m\u001b[0m\n\u001b[1;32m    117\u001b[0m         \u001b[0;32mif\u001b[0m \u001b[0mlevels\u001b[0m \u001b[0;32mis\u001b[0m \u001b[0;32mNone\u001b[0m \u001b[0;32mor\u001b[0m \u001b[0mlabels\u001b[0m \u001b[0;32mis\u001b[0m \u001b[0;32mNone\u001b[0m\u001b[0;34m:\u001b[0m\u001b[0;34m\u001b[0m\u001b[0m\n\u001b[0;32m--> 118\u001b[0;31m             \u001b[0;32mraise\u001b[0m \u001b[0mTypeError\u001b[0m\u001b[0;34m(\u001b[0m\u001b[0;34m\"Must pass both levels and labels\"\u001b[0m\u001b[0;34m)\u001b[0m\u001b[0;34m\u001b[0m\u001b[0m\n\u001b[0m\u001b[1;32m    119\u001b[0m         \u001b[0;32mif\u001b[0m \u001b[0mlen\u001b[0m\u001b[0;34m(\u001b[0m\u001b[0mlevels\u001b[0m\u001b[0;34m)\u001b[0m \u001b[0;34m!=\u001b[0m \u001b[0mlen\u001b[0m\u001b[0;34m(\u001b[0m\u001b[0mlabels\u001b[0m\u001b[0;34m)\u001b[0m\u001b[0;34m:\u001b[0m\u001b[0;34m\u001b[0m\u001b[0m\n\u001b[1;32m    120\u001b[0m             \u001b[0;32mraise\u001b[0m \u001b[0mValueError\u001b[0m\u001b[0;34m(\u001b[0m\u001b[0;34m'Length of levels and labels must be the same.'\u001b[0m\u001b[0;34m)\u001b[0m\u001b[0;34m\u001b[0m\u001b[0m\n",
      "\u001b[0;31mTypeError\u001b[0m: Must pass both levels and labels"
     ]
    }
   ],
   "source": [
    "MI2 = pd.MultiIndex(arrays)"
   ]
  },
  {
   "cell_type": "code",
   "execution_count": 195,
   "metadata": {
    "collapsed": true
   },
   "outputs": [],
   "source": [
    "M = MI.append(MI2)"
   ]
  },
  {
   "cell_type": "code",
   "execution_count": 196,
   "metadata": {
    "scrolled": true
   },
   "outputs": [
    {
     "data": {
      "text/html": [
       "<div>\n",
       "<style scoped>\n",
       "    .dataframe tbody tr th:only-of-type {\n",
       "        vertical-align: middle;\n",
       "    }\n",
       "\n",
       "    .dataframe tbody tr th {\n",
       "        vertical-align: top;\n",
       "    }\n",
       "\n",
       "    .dataframe thead tr th {\n",
       "        text-align: left;\n",
       "    }\n",
       "</style>\n",
       "<table border=\"1\" class=\"dataframe\">\n",
       "  <thead>\n",
       "    <tr>\n",
       "      <th></th>\n",
       "      <th colspan=\"2\" halign=\"left\">general</th>\n",
       "      <th colspan=\"2\" halign=\"left\">loss</th>\n",
       "    </tr>\n",
       "    <tr>\n",
       "      <th></th>\n",
       "      <th>score</th>\n",
       "      <th>fs_size</th>\n",
       "      <th>log_loss</th>\n",
       "      <th>roc</th>\n",
       "    </tr>\n",
       "  </thead>\n",
       "  <tbody>\n",
       "  </tbody>\n",
       "</table>\n",
       "</div>"
      ],
      "text/plain": [
       "Empty DataFrame\n",
       "Columns: [(general, score), (general, fs_size), (loss, log_loss), (loss, roc)]\n",
       "Index: []"
      ]
     },
     "execution_count": 196,
     "metadata": {},
     "output_type": "execute_result"
    }
   ],
   "source": [
    "pd.DataFrame(columns=MI.append(MI2))"
   ]
  },
  {
   "cell_type": "code",
   "execution_count": 203,
   "metadata": {
    "collapsed": true
   },
   "outputs": [],
   "source": [
    "data = [3,2,4,1]"
   ]
  },
  {
   "cell_type": "code",
   "execution_count": 202,
   "metadata": {
    "collapsed": true
   },
   "outputs": [],
   "source": [
    "data = {'score':3,'fs_size':2,'log_loss':4,'roc':1}"
   ]
  },
  {
   "cell_type": "code",
   "execution_count": 204,
   "metadata": {
    "collapsed": true
   },
   "outputs": [],
   "source": [
    "S = pd.Series(data=data,index=M)"
   ]
  },
  {
   "cell_type": "code",
   "execution_count": 211,
   "metadata": {},
   "outputs": [
    {
     "data": {
      "text/plain": [
       "Index(['fs_size', 'log_loss', 'roc', 'score'], dtype='object')"
      ]
     },
     "execution_count": 211,
     "metadata": {},
     "output_type": "execute_result"
    }
   ],
   "source": [
    "M.levels[1]"
   ]
  },
  {
   "cell_type": "code",
   "execution_count": 205,
   "metadata": {},
   "outputs": [
    {
     "data": {
      "text/plain": [
       "general  score       3\n",
       "         fs_size     2\n",
       "loss     log_loss    4\n",
       "         roc         1\n",
       "dtype: int64"
      ]
     },
     "execution_count": 205,
     "metadata": {},
     "output_type": "execute_result"
    }
   ],
   "source": [
    "S"
   ]
  },
  {
   "cell_type": "code",
   "execution_count": 143,
   "metadata": {},
   "outputs": [
    {
     "data": {
      "text/html": [
       "<div>\n",
       "<style scoped>\n",
       "    .dataframe tbody tr th:only-of-type {\n",
       "        vertical-align: middle;\n",
       "    }\n",
       "\n",
       "    .dataframe tbody tr th {\n",
       "        vertical-align: top;\n",
       "    }\n",
       "\n",
       "    .dataframe thead tr th {\n",
       "        text-align: left;\n",
       "    }\n",
       "</style>\n",
       "<table border=\"1\" class=\"dataframe\">\n",
       "  <thead>\n",
       "    <tr>\n",
       "      <th></th>\n",
       "      <th colspan=\"2\" halign=\"left\">loss</th>\n",
       "    </tr>\n",
       "    <tr>\n",
       "      <th></th>\n",
       "      <th>log_loss</th>\n",
       "      <th>roc</th>\n",
       "    </tr>\n",
       "  </thead>\n",
       "  <tbody>\n",
       "  </tbody>\n",
       "</table>\n",
       "</div>"
      ],
      "text/plain": [
       "Empty DataFrame\n",
       "Columns: [(loss, log_loss), (loss, roc)]\n",
       "Index: []"
      ]
     },
     "execution_count": 143,
     "metadata": {},
     "output_type": "execute_result"
    }
   ],
   "source": [
    "pd.DataFrame(columns=MI2)"
   ]
  },
  {
   "cell_type": "code",
   "execution_count": 150,
   "metadata": {},
   "outputs": [
    {
     "data": {
      "text/html": [
       "<div>\n",
       "<style scoped>\n",
       "    .dataframe tbody tr th:only-of-type {\n",
       "        vertical-align: middle;\n",
       "    }\n",
       "\n",
       "    .dataframe tbody tr th {\n",
       "        vertical-align: top;\n",
       "    }\n",
       "\n",
       "    .dataframe thead tr th {\n",
       "        text-align: left;\n",
       "    }\n",
       "</style>\n",
       "<table border=\"1\" class=\"dataframe\">\n",
       "  <thead>\n",
       "    <tr>\n",
       "      <th></th>\n",
       "      <th>fs_size</th>\n",
       "      <th>score</th>\n",
       "    </tr>\n",
       "  </thead>\n",
       "  <tbody>\n",
       "  </tbody>\n",
       "</table>\n",
       "</div>"
      ],
      "text/plain": [
       "Empty DataFrame\n",
       "Columns: [(fs_size,), (score,)]\n",
       "Index: []"
      ]
     },
     "execution_count": 150,
     "metadata": {},
     "output_type": "execute_result"
    }
   ],
   "source": [
    "pd.DataFrame(columns=MI3)"
   ]
  },
  {
   "cell_type": "code",
   "execution_count": 23,
   "metadata": {
    "collapsed": true
   },
   "outputs": [],
   "source": [
    "cv_primary = StratifiedKFold(n_splits=5,shuffle=True)"
   ]
  },
  {
   "cell_type": "code",
   "execution_count": 21,
   "metadata": {
    "collapsed": true
   },
   "outputs": [],
   "source": [
    "cv_primary = KFold(n_splits=5,shuffle=True)"
   ]
  },
  {
   "cell_type": "code",
   "execution_count": 16,
   "metadata": {
    "collapsed": true
   },
   "outputs": [],
   "source": [
    "base = 'epilung'"
   ]
  },
  {
   "cell_type": "code",
   "execution_count": 17,
   "metadata": {
    "collapsed": true
   },
   "outputs": [],
   "source": [
    "id_list = np.arange(1,5)"
   ]
  },
  {
   "cell_type": "code",
   "execution_count": 18,
   "metadata": {
    "collapsed": true
   },
   "outputs": [],
   "source": [
    "nmois = 12"
   ]
  },
  {
   "cell_type": "code",
   "execution_count": 19,
   "metadata": {
    "collapsed": true
   },
   "outputs": [],
   "source": [
    "std = True"
   ]
  },
  {
   "cell_type": "code",
   "execution_count": 24,
   "metadata": {},
   "outputs": [],
   "source": [
    "ds = ms.DataSet(base,id_list,cv_primary,nmois,std)"
   ]
  },
  {
   "cell_type": "code",
   "execution_count": 25,
   "metadata": {
    "collapsed": true
   },
   "outputs": [],
   "source": [
    "Y = proc.import_Y(base,nmois)"
   ]
  },
  {
   "cell_type": "code",
   "execution_count": 26,
   "metadata": {
    "collapsed": true
   },
   "outputs": [],
   "source": [
    "X = proc.import_X(base,nmois)"
   ]
  },
  {
   "cell_type": "code",
   "execution_count": 27,
   "metadata": {},
   "outputs": [
    {
     "ename": "NameError",
     "evalue": "name 'dataSet' is not defined",
     "output_type": "error",
     "traceback": [
      "\u001b[0;31m---------------------------------------------------------------------------\u001b[0m",
      "\u001b[0;31mNameError\u001b[0m                                 Traceback (most recent call last)",
      "\u001b[0;32m<ipython-input-27-b5eb1d639637>\u001b[0m in \u001b[0;36m<module>\u001b[0;34m()\u001b[0m\n\u001b[0;32m----> 1\u001b[0;31m \u001b[0mms\u001b[0m\u001b[0;34m.\u001b[0m\u001b[0mgenerate_CV_sets\u001b[0m\u001b[0;34m(\u001b[0m\u001b[0mdataSet\u001b[0m\u001b[0;34m)\u001b[0m\u001b[0;34m\u001b[0m\u001b[0m\n\u001b[0m",
      "\u001b[0;31mNameError\u001b[0m: name 'dataSet' is not defined"
     ]
    }
   ],
   "source": [
    "ms.generate_CV_sets(ds)"
   ]
  },
  {
   "cell_type": "code",
   "execution_count": 28,
   "metadata": {
    "collapsed": true
   },
   "outputs": [],
   "source": [
    "grid_frelevance = np.arange(0,1,0.01)"
   ]
  },
  {
   "cell_type": "code",
   "execution_count": 29,
   "metadata": {
    "collapsed": true
   },
   "outputs": [],
   "source": [
    "weight_frelevance = 'coef_'"
   ]
  },
  {
   "cell_type": "code",
   "execution_count": 30,
   "metadata": {
    "collapsed": true
   },
   "outputs": [],
   "source": [
    "metric_fselect = log_loss"
   ]
  },
  {
   "cell_type": "code",
   "execution_count": 31,
   "metadata": {
    "collapsed": true
   },
   "outputs": [],
   "source": [
    "scoring = make_scorer(log_loss,needs_proba=True,labels=[0,1])"
   ]
  },
  {
   "cell_type": "code",
   "execution_count": 32,
   "metadata": {
    "collapsed": true
   },
   "outputs": [],
   "source": [
    "smoothing = lambda m:proc.smooth(m,window_len=5,window='hanning')"
   ]
  },
  {
   "cell_type": "code",
   "execution_count": 33,
   "metadata": {
    "collapsed": true
   },
   "outputs": [],
   "source": [
    "cv_frelevance = RepeatedKFold(n_splits=5,n_repeats=100)"
   ]
  },
  {
   "cell_type": "code",
   "execution_count": 34,
   "metadata": {
    "collapsed": true
   },
   "outputs": [],
   "source": [
    "cv_fselect = RepeatedKFold(n_splits=5,n_repeats=100)"
   ]
  },
  {
   "cell_type": "code",
   "execution_count": 35,
   "metadata": {},
   "outputs": [],
   "source": [
    "classifieur_fr = cl.Classifier(LogisticRegression(penalty='l1'))\n",
    "classifieur_fs = cl.Classifier(LogisticRegression())"
   ]
  },
  {
   "cell_type": "code",
   "execution_count": 36,
   "metadata": {},
   "outputs": [],
   "source": [
    "FS = ms.FeatureSelector(classifieur_fr,grid_frelevance,weight_frelevance,classifieur_fs,metric_fselect,smoothing,cv_frelevance,cv_fselect)"
   ]
  },
  {
   "cell_type": "code",
   "execution_count": 65,
   "metadata": {},
   "outputs": [
    {
     "name": "stdout",
     "output_type": "stream",
     "text": [
      "1\n"
     ]
    }
   ],
   "source": [
    "FS.generate_featureselection(base,cv_primary,[1],nmois,save_graph=True,std=False)"
   ]
  },
  {
   "cell_type": "code",
   "execution_count": 60,
   "metadata": {
    "collapsed": true
   },
   "outputs": [],
   "source": [
    "C_grid = np.logspace(-1,1,num=5)"
   ]
  },
  {
   "cell_type": "code",
   "execution_count": 69,
   "metadata": {
    "collapsed": true
   },
   "outputs": [],
   "source": [
    "cv_model = RepeatedStratifiedKFold(n_splits=5,n_repeats=10)"
   ]
  },
  {
   "cell_type": "code",
   "execution_count": 61,
   "metadata": {},
   "outputs": [],
   "source": [
    "pCV = LogisticRegressionCV(C_grid,cv=cv_model,n_jobs=-1,scoring=scoring,solver='liblinear',refit=True)"
   ]
  },
  {
   "cell_type": "code",
   "execution_count": 70,
   "metadata": {
    "collapsed": true
   },
   "outputs": [],
   "source": [
    "pCV = GridSearchCV(LogisticRegression(),param_grid={\"C\":C_grid},scoring='neg_log_loss',n_jobs=-1,cv=cv_model,refit=True,return_train_score=False)"
   ]
  },
  {
   "cell_type": "code",
   "execution_count": 72,
   "metadata": {},
   "outputs": [],
   "source": [
    "predictorCV = cl.PredictorCV(pCV,'param_grid','best_params_')"
   ]
  },
  {
   "cell_type": "code",
   "execution_count": 71,
   "metadata": {
    "collapsed": true
   },
   "outputs": [],
   "source": [
    "cl = imp.reload(cl)"
   ]
  },
  {
   "cell_type": "code",
   "execution_count": 79,
   "metadata": {
    "collapsed": true
   },
   "outputs": [],
   "source": [
    "ms = imp.reload(ms)"
   ]
  },
  {
   "cell_type": "code",
   "execution_count": 80,
   "metadata": {
    "collapsed": true
   },
   "outputs": [],
   "source": [
    "model = ms.Model(FS,predictorCV)"
   ]
  },
  {
   "cell_type": "code",
   "execution_count": null,
   "metadata": {},
   "outputs": [],
   "source": [
    "model.score_model(ds,use_fs=False)"
   ]
  },
  {
   "cell_type": "code",
   "execution_count": null,
   "metadata": {
    "collapsed": true
   },
   "outputs": [],
   "source": [
    "df = pd.read_pickle('epilung/cv-sets/LogR1-LogR2/GSCV/C-12.S.SKF.5-1.pkl')"
   ]
  },
  {
   "cell_type": "code",
   "execution_count": null,
   "metadata": {},
   "outputs": [],
   "source": [
    "df"
   ]
  },
  {
   "cell_type": "code",
   "execution_count": 58,
   "metadata": {
    "collapsed": true
   },
   "outputs": [],
   "source": [
    "df2 = pd.read_pickle('epilung/cv-sets/LogR1-LogR2/GSCV/C-12.S.SKF.5-1.pkl')"
   ]
  },
  {
   "cell_type": "code",
   "execution_count": 59,
   "metadata": {},
   "outputs": [
    {
     "data": {
      "text/html": [
       "<div>\n",
       "<style scoped>\n",
       "    .dataframe tbody tr th:only-of-type {\n",
       "        vertical-align: middle;\n",
       "    }\n",
       "\n",
       "    .dataframe tbody tr th {\n",
       "        vertical-align: top;\n",
       "    }\n",
       "\n",
       "    .dataframe thead tr th {\n",
       "        text-align: left;\n",
       "    }\n",
       "</style>\n",
       "<table border=\"1\" class=\"dataframe\">\n",
       "  <thead>\n",
       "    <tr>\n",
       "      <th></th>\n",
       "      <th>general</th>\n",
       "      <th>Test</th>\n",
       "      <th colspan=\"2\" halign=\"left\">Validation</th>\n",
       "    </tr>\n",
       "    <tr>\n",
       "      <th></th>\n",
       "      <th>fs_size</th>\n",
       "      <th>score</th>\n",
       "      <th>score</th>\n",
       "      <th>C</th>\n",
       "    </tr>\n",
       "  </thead>\n",
       "  <tbody>\n",
       "    <tr>\n",
       "      <th>0</th>\n",
       "      <td>287</td>\n",
       "      <td>[-1.66869218651]</td>\n",
       "      <td>-0.0187893</td>\n",
       "      <td>100</td>\n",
       "    </tr>\n",
       "    <tr>\n",
       "      <th>1</th>\n",
       "      <td>273</td>\n",
       "      <td>[-1.53779666811]</td>\n",
       "      <td>-0.0151566</td>\n",
       "      <td>100</td>\n",
       "    </tr>\n",
       "    <tr>\n",
       "      <th>2</th>\n",
       "      <td>187</td>\n",
       "      <td>[-1.65388353347]</td>\n",
       "      <td>-0.0215838</td>\n",
       "      <td>100</td>\n",
       "    </tr>\n",
       "    <tr>\n",
       "      <th>3</th>\n",
       "      <td>109</td>\n",
       "      <td>[-1.37126656116]</td>\n",
       "      <td>-0.0131217</td>\n",
       "      <td>100</td>\n",
       "    </tr>\n",
       "    <tr>\n",
       "      <th>4</th>\n",
       "      <td>336</td>\n",
       "      <td>[-1.40417864256]</td>\n",
       "      <td>-0.025846</td>\n",
       "      <td>100</td>\n",
       "    </tr>\n",
       "  </tbody>\n",
       "</table>\n",
       "</div>"
      ],
      "text/plain": [
       "  general              Test Validation     \n",
       "  fs_size             score      score    C\n",
       "0     287  [-1.66869218651] -0.0187893  100\n",
       "1     273  [-1.53779666811] -0.0151566  100\n",
       "2     187  [-1.65388353347] -0.0215838  100\n",
       "3     109  [-1.37126656116] -0.0131217  100\n",
       "4     336  [-1.40417864256]  -0.025846  100"
      ]
     },
     "execution_count": 59,
     "metadata": {},
     "output_type": "execute_result"
    }
   ],
   "source": [
    "df2"
   ]
  },
  {
   "cell_type": "code",
   "execution_count": null,
   "metadata": {
    "collapsed": true
   },
   "outputs": [],
   "source": []
  },
  {
   "cell_type": "code",
   "execution_count": 342,
   "metadata": {
    "collapsed": true
   },
   "outputs": [],
   "source": [
    "C_grid = np.logspace(-3,-1,num=20)"
   ]
  },
  {
   "cell_type": "code",
   "execution_count": 343,
   "metadata": {
    "collapsed": true
   },
   "outputs": [],
   "source": [
    "pCV = GridSearchCV(LogisticRegression(),param_grid={\"C\":C_grid},scoring='neg_log_loss',n_jobs=-1,cv=cv_model,refit=True,return_train_score=True)"
   ]
  },
  {
   "cell_type": "code",
   "execution_count": 273,
   "metadata": {
    "collapsed": true
   },
   "outputs": [],
   "source": [
    "X = ds.import_X()"
   ]
  },
  {
   "cell_type": "code",
   "execution_count": 274,
   "metadata": {
    "collapsed": true
   },
   "outputs": [],
   "source": [
    "Y = ds.import_Y()"
   ]
  },
  {
   "cell_type": "code",
   "execution_count": 276,
   "metadata": {
    "collapsed": true
   },
   "outputs": [],
   "source": [
    "filename = ds.get_filename(1)"
   ]
  },
  {
   "cell_type": "code",
   "execution_count": 282,
   "metadata": {},
   "outputs": [],
   "source": [
    "foldername_cv,foldername_fs,foldername_scoring = ms.get_foldername('all',ds.base,classifieur_fr,classifieur_fs,predictorCV)"
   ]
  },
  {
   "cell_type": "code",
   "execution_count": 283,
   "metadata": {
    "collapsed": true
   },
   "outputs": [],
   "source": [
    "df_cv = pd.read_pickle(foldername_cv + filename)\n",
    "df_fs = pd.read_pickle(foldername_fs + filename)"
   ]
  },
  {
   "cell_type": "code",
   "execution_count": 284,
   "metadata": {
    "collapsed": true
   },
   "outputs": [],
   "source": [
    "i = 0"
   ]
  },
  {
   "cell_type": "code",
   "execution_count": 286,
   "metadata": {},
   "outputs": [],
   "source": [
    "IndexVal_fs = df_fs[i].loc[X.columns]\n",
    "IndexVal_cv,IndexTest_cv = ms.get_test_train_indexes(df_cv,i)\n",
    "\n",
    "Xval = X.loc[IndexVal_cv,IndexVal_fs]\n",
    "Xtest = X.loc[IndexTest_cv,IndexVal_fs]\n",
    "\n",
    "Yval = Y.loc[IndexVal_cv]\n",
    "Ytest = Y.loc[IndexTest_cv]"
   ]
  },
  {
   "cell_type": "code",
   "execution_count": 373,
   "metadata": {
    "scrolled": true
   },
   "outputs": [
    {
     "data": {
      "text/plain": [
       "GridSearchCV(cv=<sklearn.model_selection._split.RepeatedStratifiedKFold object at 0x7fe783b12a58>,\n",
       "       error_score='raise',\n",
       "       estimator=LogisticRegression(C=1.0, class_weight=None, dual=False, fit_intercept=True,\n",
       "          intercept_scaling=1, max_iter=100, multi_class='ovr', n_jobs=1,\n",
       "          penalty='l2', random_state=None, solver='liblinear', tol=0.0001,\n",
       "          verbose=0, warm_start=False),\n",
       "       fit_params=None, iid=True, n_jobs=-1,\n",
       "       param_grid={'C': array([ 0.001  ,  0.00127,  0.00162,  0.00207,  0.00264,  0.00336,\n",
       "        0.00428,  0.00546,  0.00695,  0.00886,  0.01129,  0.01438,\n",
       "        0.01833,  0.02336,  0.02976,  0.03793,  0.04833,  0.06158,\n",
       "        0.07848,  0.1    ])},\n",
       "       pre_dispatch='2*n_jobs', refit=True, return_train_score=False,\n",
       "       scoring='neg_log_loss', verbose=0)"
      ]
     },
     "execution_count": 373,
     "metadata": {},
     "output_type": "execute_result"
    }
   ],
   "source": [
    "pCV.fit(Xval,Yval)"
   ]
  },
  {
   "cell_type": "code",
   "execution_count": 376,
   "metadata": {},
   "outputs": [
    {
     "data": {
      "text/plain": [
       "{'C': array([ 0.001     ,  0.00127427,  0.00162378,  0.00206914,  0.00263665,\n",
       "         0.00335982,  0.00428133,  0.00545559,  0.00695193,  0.00885867,\n",
       "         0.01128838,  0.0143845 ,  0.01832981,  0.02335721,  0.02976351,\n",
       "         0.0379269 ,  0.0483293 ,  0.06158482,  0.078476  ,  0.1       ])}"
      ]
     },
     "execution_count": 376,
     "metadata": {},
     "output_type": "execute_result"
    }
   ],
   "source": [
    "pCV.get_params()['param_grid']"
   ]
  },
  {
   "cell_type": "code",
   "execution_count": 360,
   "metadata": {},
   "outputs": [
    {
     "data": {
      "text/plain": [
       "-0.065116778861784533"
      ]
     },
     "execution_count": 360,
     "metadata": {},
     "output_type": "execute_result"
    }
   ],
   "source": [
    "pCV.best_score_"
   ]
  },
  {
   "cell_type": "code",
   "execution_count": 352,
   "metadata": {},
   "outputs": [
    {
     "ename": "IndexError",
     "evalue": "only integers, slices (`:`), ellipsis (`...`), numpy.newaxis (`None`) and integer or boolean arrays are valid indices",
     "output_type": "error",
     "traceback": [
      "\u001b[0;31m---------------------------------------------------------------------------\u001b[0m",
      "\u001b[0;31mIndexError\u001b[0m                                Traceback (most recent call last)",
      "\u001b[0;32m<ipython-input-352-decb4f94c9a5>\u001b[0m in \u001b[0;36m<module>\u001b[0;34m()\u001b[0m\n\u001b[0;32m----> 1\u001b[0;31m \u001b[0mpCV\u001b[0m\u001b[0;34m.\u001b[0m\u001b[0mcv_results_\u001b[0m\u001b[0;34m[\u001b[0m\u001b[0;34m'param_C'\u001b[0m\u001b[0;34m]\u001b[0m\u001b[0;34m[\u001b[0m\u001b[0mpCV\u001b[0m\u001b[0;34m.\u001b[0m\u001b[0mbest_params_\u001b[0m\u001b[0;34m[\u001b[0m\u001b[0;34m'C'\u001b[0m\u001b[0;34m]\u001b[0m\u001b[0;34m]\u001b[0m\u001b[0;34m\u001b[0m\u001b[0m\n\u001b[0m",
      "\u001b[0;32m~/anaconda3/lib/python3.6/site-packages/numpy/ma/core.py\u001b[0m in \u001b[0;36m__getitem__\u001b[0;34m(self, indx)\u001b[0m\n\u001b[1;32m   3218\u001b[0m         \u001b[0;31m# mask of being reshaped if it hasn't been set up properly yet\u001b[0m\u001b[0;34m\u001b[0m\u001b[0;34m\u001b[0m\u001b[0m\n\u001b[1;32m   3219\u001b[0m         \u001b[0;31m# So it's easier to stick to the current version\u001b[0m\u001b[0;34m\u001b[0m\u001b[0;34m\u001b[0m\u001b[0m\n\u001b[0;32m-> 3220\u001b[0;31m         \u001b[0mdout\u001b[0m \u001b[0;34m=\u001b[0m \u001b[0mself\u001b[0m\u001b[0;34m.\u001b[0m\u001b[0mdata\u001b[0m\u001b[0;34m[\u001b[0m\u001b[0mindx\u001b[0m\u001b[0;34m]\u001b[0m\u001b[0;34m\u001b[0m\u001b[0m\n\u001b[0m\u001b[1;32m   3221\u001b[0m         \u001b[0m_mask\u001b[0m \u001b[0;34m=\u001b[0m \u001b[0mself\u001b[0m\u001b[0;34m.\u001b[0m\u001b[0m_mask\u001b[0m\u001b[0;34m\u001b[0m\u001b[0m\n\u001b[1;32m   3222\u001b[0m \u001b[0;34m\u001b[0m\u001b[0m\n",
      "\u001b[0;31mIndexError\u001b[0m: only integers, slices (`:`), ellipsis (`...`), numpy.newaxis (`None`) and integer or boolean arrays are valid indices"
     ]
    }
   ],
   "source": [
    "pCV.cv_results_['param_C'][pCV.best_params_['C']]"
   ]
  },
  {
   "cell_type": "code",
   "execution_count": 348,
   "metadata": {},
   "outputs": [
    {
     "data": {
      "text/plain": [
       "array([-0.32528297, -0.2998332 , -0.27575333, -0.25310121, -0.23189658,\n",
       "       -0.21215414, -0.19386956, -0.17702725, -0.16159735, -0.14753429,\n",
       "       -0.1347786 , -0.12325802, -0.11288839, -0.10358317, -0.09524766,\n",
       "       -0.08779372, -0.08113232, -0.07518352, -0.069868  , -0.06511678])"
      ]
     },
     "execution_count": 348,
     "metadata": {},
     "output_type": "execute_result"
    }
   ],
   "source": [
    "pCV.cv_results_['mean_test_score']"
   ]
  },
  {
   "cell_type": "code",
   "execution_count": 345,
   "metadata": {
    "scrolled": true
   },
   "outputs": [
    {
     "data": {
      "text/html": [
       "<div>\n",
       "<style scoped>\n",
       "    .dataframe tbody tr th:only-of-type {\n",
       "        vertical-align: middle;\n",
       "    }\n",
       "\n",
       "    .dataframe tbody tr th {\n",
       "        vertical-align: top;\n",
       "    }\n",
       "\n",
       "    .dataframe thead th {\n",
       "        text-align: right;\n",
       "    }\n",
       "</style>\n",
       "<table border=\"1\" class=\"dataframe\">\n",
       "  <thead>\n",
       "    <tr style=\"text-align: right;\">\n",
       "      <th></th>\n",
       "      <th>mean_test_score</th>\n",
       "      <th>mean_train_score</th>\n",
       "      <th>param_C</th>\n",
       "    </tr>\n",
       "  </thead>\n",
       "  <tbody>\n",
       "    <tr>\n",
       "      <th>0</th>\n",
       "      <td>-0.325283</td>\n",
       "      <td>-0.296005</td>\n",
       "      <td>0.001</td>\n",
       "    </tr>\n",
       "    <tr>\n",
       "      <th>1</th>\n",
       "      <td>-0.299833</td>\n",
       "      <td>-0.267292</td>\n",
       "      <td>0.00127427</td>\n",
       "    </tr>\n",
       "    <tr>\n",
       "      <th>2</th>\n",
       "      <td>-0.275753</td>\n",
       "      <td>-0.239931</td>\n",
       "      <td>0.00162378</td>\n",
       "    </tr>\n",
       "    <tr>\n",
       "      <th>3</th>\n",
       "      <td>-0.253101</td>\n",
       "      <td>-0.214069</td>\n",
       "      <td>0.00206914</td>\n",
       "    </tr>\n",
       "    <tr>\n",
       "      <th>4</th>\n",
       "      <td>-0.231897</td>\n",
       "      <td>-0.189815</td>\n",
       "      <td>0.00263665</td>\n",
       "    </tr>\n",
       "    <tr>\n",
       "      <th>5</th>\n",
       "      <td>-0.212154</td>\n",
       "      <td>-0.167270</td>\n",
       "      <td>0.00335982</td>\n",
       "    </tr>\n",
       "    <tr>\n",
       "      <th>6</th>\n",
       "      <td>-0.193870</td>\n",
       "      <td>-0.146501</td>\n",
       "      <td>0.00428133</td>\n",
       "    </tr>\n",
       "    <tr>\n",
       "      <th>7</th>\n",
       "      <td>-0.177027</td>\n",
       "      <td>-0.127545</td>\n",
       "      <td>0.00545559</td>\n",
       "    </tr>\n",
       "    <tr>\n",
       "      <th>8</th>\n",
       "      <td>-0.161597</td>\n",
       "      <td>-0.110405</td>\n",
       "      <td>0.00695193</td>\n",
       "    </tr>\n",
       "    <tr>\n",
       "      <th>9</th>\n",
       "      <td>-0.147534</td>\n",
       "      <td>-0.095049</td>\n",
       "      <td>0.00885867</td>\n",
       "    </tr>\n",
       "    <tr>\n",
       "      <th>10</th>\n",
       "      <td>-0.134779</td>\n",
       "      <td>-0.081413</td>\n",
       "      <td>0.0112884</td>\n",
       "    </tr>\n",
       "    <tr>\n",
       "      <th>11</th>\n",
       "      <td>-0.123258</td>\n",
       "      <td>-0.069406</td>\n",
       "      <td>0.0143845</td>\n",
       "    </tr>\n",
       "    <tr>\n",
       "      <th>12</th>\n",
       "      <td>-0.112888</td>\n",
       "      <td>-0.058915</td>\n",
       "      <td>0.0183298</td>\n",
       "    </tr>\n",
       "    <tr>\n",
       "      <th>13</th>\n",
       "      <td>-0.103583</td>\n",
       "      <td>-0.049813</td>\n",
       "      <td>0.0233572</td>\n",
       "    </tr>\n",
       "    <tr>\n",
       "      <th>14</th>\n",
       "      <td>-0.095248</td>\n",
       "      <td>-0.041964</td>\n",
       "      <td>0.0297635</td>\n",
       "    </tr>\n",
       "    <tr>\n",
       "      <th>15</th>\n",
       "      <td>-0.087794</td>\n",
       "      <td>-0.035236</td>\n",
       "      <td>0.0379269</td>\n",
       "    </tr>\n",
       "    <tr>\n",
       "      <th>16</th>\n",
       "      <td>-0.081132</td>\n",
       "      <td>-0.029499</td>\n",
       "      <td>0.0483293</td>\n",
       "    </tr>\n",
       "    <tr>\n",
       "      <th>17</th>\n",
       "      <td>-0.075184</td>\n",
       "      <td>-0.024628</td>\n",
       "      <td>0.0615848</td>\n",
       "    </tr>\n",
       "    <tr>\n",
       "      <th>18</th>\n",
       "      <td>-0.069868</td>\n",
       "      <td>-0.020509</td>\n",
       "      <td>0.078476</td>\n",
       "    </tr>\n",
       "    <tr>\n",
       "      <th>19</th>\n",
       "      <td>-0.065117</td>\n",
       "      <td>-0.017039</td>\n",
       "      <td>0.1</td>\n",
       "    </tr>\n",
       "  </tbody>\n",
       "</table>\n",
       "</div>"
      ],
      "text/plain": [
       "    mean_test_score  mean_train_score     param_C\n",
       "0         -0.325283         -0.296005       0.001\n",
       "1         -0.299833         -0.267292  0.00127427\n",
       "2         -0.275753         -0.239931  0.00162378\n",
       "3         -0.253101         -0.214069  0.00206914\n",
       "4         -0.231897         -0.189815  0.00263665\n",
       "5         -0.212154         -0.167270  0.00335982\n",
       "6         -0.193870         -0.146501  0.00428133\n",
       "7         -0.177027         -0.127545  0.00545559\n",
       "8         -0.161597         -0.110405  0.00695193\n",
       "9         -0.147534         -0.095049  0.00885867\n",
       "10        -0.134779         -0.081413   0.0112884\n",
       "11        -0.123258         -0.069406   0.0143845\n",
       "12        -0.112888         -0.058915   0.0183298\n",
       "13        -0.103583         -0.049813   0.0233572\n",
       "14        -0.095248         -0.041964   0.0297635\n",
       "15        -0.087794         -0.035236   0.0379269\n",
       "16        -0.081132         -0.029499   0.0483293\n",
       "17        -0.075184         -0.024628   0.0615848\n",
       "18        -0.069868         -0.020509    0.078476\n",
       "19        -0.065117         -0.017039         0.1"
      ]
     },
     "execution_count": 345,
     "metadata": {},
     "output_type": "execute_result"
    }
   ],
   "source": [
    "pd.DataFrame(pCV.cv_results_).loc[:,['mean_test_score','mean_train_score','param_C']]"
   ]
  },
  {
   "cell_type": "code",
   "execution_count": 346,
   "metadata": {},
   "outputs": [
    {
     "data": {
      "text/plain": [
       "{'C': 0.10000000000000001}"
      ]
     },
     "execution_count": 346,
     "metadata": {},
     "output_type": "execute_result"
    }
   ],
   "source": [
    "pCV.best_params_"
   ]
  },
  {
   "cell_type": "code",
   "execution_count": 131,
   "metadata": {
    "collapsed": true
   },
   "outputs": [],
   "source": [
    "df = pd.DataFrame(columns=['metrics'])"
   ]
  },
  {
   "cell_type": "code",
   "execution_count": 132,
   "metadata": {},
   "outputs": [
    {
     "data": {
      "text/plain": [
       "True"
      ]
     },
     "execution_count": 132,
     "metadata": {},
     "output_type": "execute_result"
    }
   ],
   "source": [
    "'metrics' in df.columns"
   ]
  },
  {
   "cell_type": "code",
   "execution_count": 242,
   "metadata": {
    "collapsed": true
   },
   "outputs": [],
   "source": [
    "df = pd.read_pickle('epilung/cv-sets/None-None/Index-0.pkl')"
   ]
  },
  {
   "cell_type": "code",
   "execution_count": 243,
   "metadata": {
    "collapsed": true
   },
   "outputs": [],
   "source": [
    "XOP = X.loc[:,df['percentage']]"
   ]
  },
  {
   "cell_type": "code",
   "execution_count": 257,
   "metadata": {
    "collapsed": true
   },
   "outputs": [
    {
     "ename": "ValueError",
     "evalue": "Classification metrics can't handle a mix of binary and continuous-multioutput targets",
     "output_type": "error",
     "traceback": [
      "\u001b[0;31m---------------------------------------------------------------------------\u001b[0m",
      "\u001b[0;31mValueError\u001b[0m                                Traceback (most recent call last)",
      "\u001b[0;32m<ipython-input-257-f5985b56ce00>\u001b[0m in \u001b[0;36m<module>\u001b[0;34m()\u001b[0m\n\u001b[0;32m----> 1\u001b[0;31m \u001b[0mRes\u001b[0m \u001b[0;34m=\u001b[0m \u001b[0mclassifieur_fs\u001b[0m\u001b[0;34m.\u001b[0m\u001b[0mfeature_relevance\u001b[0m\u001b[0;34m(\u001b[0m\u001b[0mX\u001b[0m\u001b[0;34m=\u001b[0m\u001b[0mXOP\u001b[0m\u001b[0;34m,\u001b[0m\u001b[0mY\u001b[0m\u001b[0;34m=\u001b[0m\u001b[0mY\u001b[0m\u001b[0;34m,\u001b[0m\u001b[0mcv\u001b[0m\u001b[0;34m=\u001b[0m\u001b[0mcv_fselect\u001b[0m\u001b[0;34m,\u001b[0m\u001b[0mmetrics\u001b[0m\u001b[0;34m=\u001b[0m\u001b[0;34m{\u001b[0m\u001b[0;34m'logloss'\u001b[0m\u001b[0;34m:\u001b[0m\u001b[0mlog_loss\u001b[0m\u001b[0;34m,\u001b[0m\u001b[0;34m'precision'\u001b[0m\u001b[0;34m:\u001b[0m\u001b[0mprecision_score\u001b[0m\u001b[0;34m,\u001b[0m\u001b[0;34m'recall'\u001b[0m\u001b[0;34m:\u001b[0m\u001b[0mrecall_score\u001b[0m\u001b[0;34m}\u001b[0m\u001b[0;34m,\u001b[0m\u001b[0mweights\u001b[0m\u001b[0;34m=\u001b[0m\u001b[0;34m[\u001b[0m\u001b[0;34m]\u001b[0m\u001b[0;34m)\u001b[0m\u001b[0;34m\u001b[0m\u001b[0m\n\u001b[0m",
      "\u001b[0;32m~/Cassiopee/Predicteurs.py\u001b[0m in \u001b[0;36mfeature_relevance\u001b[0;34m(self, **kwargs)\u001b[0m\n\u001b[1;32m     83\u001b[0m             \u001b[0;32mfor\u001b[0m \u001b[0mk\u001b[0m\u001b[0;34m,\u001b[0m\u001b[0mm\u001b[0m \u001b[0;32min\u001b[0m \u001b[0mmetrics\u001b[0m\u001b[0;34m.\u001b[0m\u001b[0mitems\u001b[0m\u001b[0;34m(\u001b[0m\u001b[0;34m)\u001b[0m\u001b[0;34m:\u001b[0m\u001b[0;34m\u001b[0m\u001b[0m\n\u001b[1;32m     84\u001b[0m \u001b[0;34m\u001b[0m\u001b[0m\n\u001b[0;32m---> 85\u001b[0;31m                 \u001b[0mloss\u001b[0m \u001b[0;34m=\u001b[0m \u001b[0mm\u001b[0m\u001b[0;34m(\u001b[0m\u001b[0mYtest\u001b[0m\u001b[0;34m,\u001b[0m\u001b[0mself\u001b[0m\u001b[0;34m.\u001b[0m\u001b[0mpredicteur\u001b[0m\u001b[0;34m.\u001b[0m\u001b[0mpredict_proba\u001b[0m\u001b[0;34m(\u001b[0m\u001b[0mXtest\u001b[0m\u001b[0;34m)\u001b[0m\u001b[0;34m,\u001b[0m\u001b[0mlabels\u001b[0m\u001b[0;34m=\u001b[0m\u001b[0;34m[\u001b[0m\u001b[0;36m0\u001b[0m\u001b[0;34m,\u001b[0m\u001b[0;36m1\u001b[0m\u001b[0;34m]\u001b[0m\u001b[0;34m)\u001b[0m\u001b[0;34m\u001b[0m\u001b[0m\n\u001b[0m\u001b[1;32m     86\u001b[0m                 \u001b[0mrow\u001b[0m \u001b[0;34m=\u001b[0m \u001b[0mnp\u001b[0m\u001b[0;34m.\u001b[0m\u001b[0mappend\u001b[0m\u001b[0;34m(\u001b[0m\u001b[0mrow\u001b[0m\u001b[0;34m,\u001b[0m\u001b[0mloss\u001b[0m\u001b[0;34m)\u001b[0m\u001b[0;34m\u001b[0m\u001b[0m\n\u001b[1;32m     87\u001b[0m \u001b[0;34m\u001b[0m\u001b[0m\n",
      "\u001b[0;32m~/anaconda3/lib/python3.6/site-packages/sklearn/metrics/classification.py\u001b[0m in \u001b[0;36mprecision_score\u001b[0;34m(y_true, y_pred, labels, pos_label, average, sample_weight)\u001b[0m\n\u001b[1;32m   1259\u001b[0m                                                  \u001b[0maverage\u001b[0m\u001b[0;34m=\u001b[0m\u001b[0maverage\u001b[0m\u001b[0;34m,\u001b[0m\u001b[0;34m\u001b[0m\u001b[0m\n\u001b[1;32m   1260\u001b[0m                                                  \u001b[0mwarn_for\u001b[0m\u001b[0;34m=\u001b[0m\u001b[0;34m(\u001b[0m\u001b[0;34m'precision'\u001b[0m\u001b[0;34m,\u001b[0m\u001b[0;34m)\u001b[0m\u001b[0;34m,\u001b[0m\u001b[0;34m\u001b[0m\u001b[0m\n\u001b[0;32m-> 1261\u001b[0;31m                                                  sample_weight=sample_weight)\n\u001b[0m\u001b[1;32m   1262\u001b[0m     \u001b[0;32mreturn\u001b[0m \u001b[0mp\u001b[0m\u001b[0;34m\u001b[0m\u001b[0m\n\u001b[1;32m   1263\u001b[0m \u001b[0;34m\u001b[0m\u001b[0m\n",
      "\u001b[0;32m~/anaconda3/lib/python3.6/site-packages/sklearn/metrics/classification.py\u001b[0m in \u001b[0;36mprecision_recall_fscore_support\u001b[0;34m(y_true, y_pred, beta, labels, pos_label, average, warn_for, sample_weight)\u001b[0m\n\u001b[1;32m   1023\u001b[0m         \u001b[0;32mraise\u001b[0m \u001b[0mValueError\u001b[0m\u001b[0;34m(\u001b[0m\u001b[0;34m\"beta should be >0 in the F-beta score\"\u001b[0m\u001b[0;34m)\u001b[0m\u001b[0;34m\u001b[0m\u001b[0m\n\u001b[1;32m   1024\u001b[0m \u001b[0;34m\u001b[0m\u001b[0m\n\u001b[0;32m-> 1025\u001b[0;31m     \u001b[0my_type\u001b[0m\u001b[0;34m,\u001b[0m \u001b[0my_true\u001b[0m\u001b[0;34m,\u001b[0m \u001b[0my_pred\u001b[0m \u001b[0;34m=\u001b[0m \u001b[0m_check_targets\u001b[0m\u001b[0;34m(\u001b[0m\u001b[0my_true\u001b[0m\u001b[0;34m,\u001b[0m \u001b[0my_pred\u001b[0m\u001b[0;34m)\u001b[0m\u001b[0;34m\u001b[0m\u001b[0m\n\u001b[0m\u001b[1;32m   1026\u001b[0m     \u001b[0mpresent_labels\u001b[0m \u001b[0;34m=\u001b[0m \u001b[0munique_labels\u001b[0m\u001b[0;34m(\u001b[0m\u001b[0my_true\u001b[0m\u001b[0;34m,\u001b[0m \u001b[0my_pred\u001b[0m\u001b[0;34m)\u001b[0m\u001b[0;34m\u001b[0m\u001b[0m\n\u001b[1;32m   1027\u001b[0m \u001b[0;34m\u001b[0m\u001b[0m\n",
      "\u001b[0;32m~/anaconda3/lib/python3.6/site-packages/sklearn/metrics/classification.py\u001b[0m in \u001b[0;36m_check_targets\u001b[0;34m(y_true, y_pred)\u001b[0m\n\u001b[1;32m     79\u001b[0m     \u001b[0;32mif\u001b[0m \u001b[0mlen\u001b[0m\u001b[0;34m(\u001b[0m\u001b[0my_type\u001b[0m\u001b[0;34m)\u001b[0m \u001b[0;34m>\u001b[0m \u001b[0;36m1\u001b[0m\u001b[0;34m:\u001b[0m\u001b[0;34m\u001b[0m\u001b[0m\n\u001b[1;32m     80\u001b[0m         raise ValueError(\"Classification metrics can't handle a mix of {0} \"\n\u001b[0;32m---> 81\u001b[0;31m                          \"and {1} targets\".format(type_true, type_pred))\n\u001b[0m\u001b[1;32m     82\u001b[0m \u001b[0;34m\u001b[0m\u001b[0m\n\u001b[1;32m     83\u001b[0m     \u001b[0;31m# We can't have more than one value on y_type => The set is no more needed\u001b[0m\u001b[0;34m\u001b[0m\u001b[0;34m\u001b[0m\u001b[0m\n",
      "\u001b[0;31mValueError\u001b[0m: Classification metrics can't handle a mix of binary and continuous-multioutput targets"
     ]
    }
   ],
   "source": [
    "Res = classifieur_fs.feature_relevance(X=XOP,Y=Y,cv=cv_fselect,metrics={'logloss':log_loss},weights=[])"
   ]
  },
  {
   "cell_type": "code",
   "execution_count": 258,
   "metadata": {
    "collapsed": true
   },
   "outputs": [],
   "source": [
    "Res.stat_v()"
   ]
  },
  {
   "cell_type": "code",
   "execution_count": 259,
   "metadata": {
    "collapsed": true
   },
   "outputs": [
    {
     "data": {
      "text/html": [
       "<div>\n",
       "<style scoped>\n",
       "    .dataframe tbody tr th:only-of-type {\n",
       "        vertical-align: middle;\n",
       "    }\n",
       "\n",
       "    .dataframe tbody tr th {\n",
       "        vertical-align: top;\n",
       "    }\n",
       "\n",
       "    .dataframe thead tr th {\n",
       "        text-align: left;\n",
       "    }\n",
       "</style>\n",
       "<table border=\"1\" class=\"dataframe\">\n",
       "  <thead>\n",
       "    <tr>\n",
       "      <th></th>\n",
       "      <th>metrics</th>\n",
       "    </tr>\n",
       "    <tr>\n",
       "      <th>probe</th>\n",
       "      <th>logloss</th>\n",
       "    </tr>\n",
       "  </thead>\n",
       "  <tbody>\n",
       "    <tr>\n",
       "      <th>0</th>\n",
       "      <td>0.177678</td>\n",
       "    </tr>\n",
       "    <tr>\n",
       "      <th>1</th>\n",
       "      <td>0.311403</td>\n",
       "    </tr>\n",
       "    <tr>\n",
       "      <th>2</th>\n",
       "      <td>0.111873</td>\n",
       "    </tr>\n",
       "    <tr>\n",
       "      <th>3</th>\n",
       "      <td>0.385718</td>\n",
       "    </tr>\n",
       "    <tr>\n",
       "      <th>4</th>\n",
       "      <td>0.241608</td>\n",
       "    </tr>\n",
       "    <tr>\n",
       "      <th>5</th>\n",
       "      <td>0.490811</td>\n",
       "    </tr>\n",
       "    <tr>\n",
       "      <th>6</th>\n",
       "      <td>0.224451</td>\n",
       "    </tr>\n",
       "    <tr>\n",
       "      <th>7</th>\n",
       "      <td>0.092123</td>\n",
       "    </tr>\n",
       "    <tr>\n",
       "      <th>8</th>\n",
       "      <td>0.119293</td>\n",
       "    </tr>\n",
       "    <tr>\n",
       "      <th>9</th>\n",
       "      <td>0.253687</td>\n",
       "    </tr>\n",
       "    <tr>\n",
       "      <th>10</th>\n",
       "      <td>0.135354</td>\n",
       "    </tr>\n",
       "    <tr>\n",
       "      <th>11</th>\n",
       "      <td>0.193721</td>\n",
       "    </tr>\n",
       "    <tr>\n",
       "      <th>12</th>\n",
       "      <td>0.365084</td>\n",
       "    </tr>\n",
       "    <tr>\n",
       "      <th>13</th>\n",
       "      <td>0.124006</td>\n",
       "    </tr>\n",
       "    <tr>\n",
       "      <th>14</th>\n",
       "      <td>0.469819</td>\n",
       "    </tr>\n",
       "    <tr>\n",
       "      <th>15</th>\n",
       "      <td>0.174998</td>\n",
       "    </tr>\n",
       "    <tr>\n",
       "      <th>16</th>\n",
       "      <td>0.159782</td>\n",
       "    </tr>\n",
       "    <tr>\n",
       "      <th>17</th>\n",
       "      <td>0.499844</td>\n",
       "    </tr>\n",
       "    <tr>\n",
       "      <th>18</th>\n",
       "      <td>0.091069</td>\n",
       "    </tr>\n",
       "    <tr>\n",
       "      <th>19</th>\n",
       "      <td>0.355626</td>\n",
       "    </tr>\n",
       "    <tr>\n",
       "      <th>20</th>\n",
       "      <td>0.236572</td>\n",
       "    </tr>\n",
       "    <tr>\n",
       "      <th>21</th>\n",
       "      <td>0.146318</td>\n",
       "    </tr>\n",
       "    <tr>\n",
       "      <th>22</th>\n",
       "      <td>0.478262</td>\n",
       "    </tr>\n",
       "    <tr>\n",
       "      <th>23</th>\n",
       "      <td>0.320526</td>\n",
       "    </tr>\n",
       "    <tr>\n",
       "      <th>24</th>\n",
       "      <td>0.101492</td>\n",
       "    </tr>\n",
       "    <tr>\n",
       "      <th>25</th>\n",
       "      <td>0.278659</td>\n",
       "    </tr>\n",
       "    <tr>\n",
       "      <th>26</th>\n",
       "      <td>0.058118</td>\n",
       "    </tr>\n",
       "    <tr>\n",
       "      <th>27</th>\n",
       "      <td>0.101531</td>\n",
       "    </tr>\n",
       "    <tr>\n",
       "      <th>28</th>\n",
       "      <td>0.413559</td>\n",
       "    </tr>\n",
       "    <tr>\n",
       "      <th>29</th>\n",
       "      <td>0.127123</td>\n",
       "    </tr>\n",
       "    <tr>\n",
       "      <th>30</th>\n",
       "      <td>0.291197</td>\n",
       "    </tr>\n",
       "    <tr>\n",
       "      <th>31</th>\n",
       "      <td>0.132994</td>\n",
       "    </tr>\n",
       "    <tr>\n",
       "      <th>32</th>\n",
       "      <td>0.178744</td>\n",
       "    </tr>\n",
       "    <tr>\n",
       "      <th>33</th>\n",
       "      <td>0.208064</td>\n",
       "    </tr>\n",
       "    <tr>\n",
       "      <th>34</th>\n",
       "      <td>0.283572</td>\n",
       "    </tr>\n",
       "    <tr>\n",
       "      <th>35</th>\n",
       "      <td>0.333074</td>\n",
       "    </tr>\n",
       "    <tr>\n",
       "      <th>36</th>\n",
       "      <td>0.356120</td>\n",
       "    </tr>\n",
       "    <tr>\n",
       "      <th>37</th>\n",
       "      <td>0.213476</td>\n",
       "    </tr>\n",
       "    <tr>\n",
       "      <th>38</th>\n",
       "      <td>0.108496</td>\n",
       "    </tr>\n",
       "    <tr>\n",
       "      <th>39</th>\n",
       "      <td>0.074766</td>\n",
       "    </tr>\n",
       "    <tr>\n",
       "      <th>40</th>\n",
       "      <td>0.325318</td>\n",
       "    </tr>\n",
       "    <tr>\n",
       "      <th>41</th>\n",
       "      <td>0.252337</td>\n",
       "    </tr>\n",
       "    <tr>\n",
       "      <th>42</th>\n",
       "      <td>0.392564</td>\n",
       "    </tr>\n",
       "    <tr>\n",
       "      <th>43</th>\n",
       "      <td>0.263966</td>\n",
       "    </tr>\n",
       "    <tr>\n",
       "      <th>44</th>\n",
       "      <td>0.196028</td>\n",
       "    </tr>\n",
       "    <tr>\n",
       "      <th>45</th>\n",
       "      <td>0.116776</td>\n",
       "    </tr>\n",
       "    <tr>\n",
       "      <th>46</th>\n",
       "      <td>0.244502</td>\n",
       "    </tr>\n",
       "    <tr>\n",
       "      <th>47</th>\n",
       "      <td>0.194892</td>\n",
       "    </tr>\n",
       "    <tr>\n",
       "      <th>48</th>\n",
       "      <td>0.213797</td>\n",
       "    </tr>\n",
       "    <tr>\n",
       "      <th>49</th>\n",
       "      <td>0.371238</td>\n",
       "    </tr>\n",
       "    <tr>\n",
       "      <th>moyenne</th>\n",
       "      <td>0.239841</td>\n",
       "    </tr>\n",
       "    <tr>\n",
       "      <th>variance</th>\n",
       "      <td>0.013991</td>\n",
       "    </tr>\n",
       "  </tbody>\n",
       "</table>\n",
       "</div>"
      ],
      "text/plain": [
       "           metrics\n",
       "probe      logloss\n",
       "0         0.177678\n",
       "1         0.311403\n",
       "2         0.111873\n",
       "3         0.385718\n",
       "4         0.241608\n",
       "5         0.490811\n",
       "6         0.224451\n",
       "7         0.092123\n",
       "8         0.119293\n",
       "9         0.253687\n",
       "10        0.135354\n",
       "11        0.193721\n",
       "12        0.365084\n",
       "13        0.124006\n",
       "14        0.469819\n",
       "15        0.174998\n",
       "16        0.159782\n",
       "17        0.499844\n",
       "18        0.091069\n",
       "19        0.355626\n",
       "20        0.236572\n",
       "21        0.146318\n",
       "22        0.478262\n",
       "23        0.320526\n",
       "24        0.101492\n",
       "25        0.278659\n",
       "26        0.058118\n",
       "27        0.101531\n",
       "28        0.413559\n",
       "29        0.127123\n",
       "30        0.291197\n",
       "31        0.132994\n",
       "32        0.178744\n",
       "33        0.208064\n",
       "34        0.283572\n",
       "35        0.333074\n",
       "36        0.356120\n",
       "37        0.213476\n",
       "38        0.108496\n",
       "39        0.074766\n",
       "40        0.325318\n",
       "41        0.252337\n",
       "42        0.392564\n",
       "43        0.263966\n",
       "44        0.196028\n",
       "45        0.116776\n",
       "46        0.244502\n",
       "47        0.194892\n",
       "48        0.213797\n",
       "49        0.371238\n",
       "moyenne   0.239841\n",
       "variance  0.013991"
      ]
     },
     "execution_count": 259,
     "metadata": {},
     "output_type": "execute_result"
    }
   ],
   "source": [
    "Res.data"
   ]
  },
  {
   "cell_type": "code",
   "execution_count": 229,
   "metadata": {},
   "outputs": [
    {
     "data": {
      "text/plain": [
       "(293, 54675)"
      ]
     },
     "execution_count": 229,
     "metadata": {},
     "output_type": "execute_result"
    }
   ],
   "source": [
    "X.shape"
   ]
  },
  {
   "cell_type": "code",
   "execution_count": 226,
   "metadata": {
    "collapsed": true
   },
   "outputs": [
    {
     "data": {
      "text/plain": [
       "probe\n",
       "1007_s_at                False\n",
       "1053_at                  False\n",
       "117_at                   False\n",
       "121_at                   False\n",
       "1255_g_at                False\n",
       "1294_at                  False\n",
       "1316_at                  False\n",
       "1320_at                  False\n",
       "1405_i_at                False\n",
       "1431_at                  False\n",
       "1438_at                  False\n",
       "1487_at                  False\n",
       "1494_f_at                False\n",
       "1552256_a_at             False\n",
       "1552257_a_at             False\n",
       "1552258_at               False\n",
       "1552261_at               False\n",
       "1552263_at               False\n",
       "1552264_a_at             False\n",
       "1552266_at               False\n",
       "1552269_at               False\n",
       "1552271_at               False\n",
       "1552272_a_at             False\n",
       "1552274_at               False\n",
       "1552275_s_at             False\n",
       "1552276_a_at             False\n",
       "1552277_a_at             False\n",
       "1552278_a_at             False\n",
       "1552279_a_at             False\n",
       "1552280_at               False\n",
       "                         ...  \n",
       "AFFX-PheX-5_at           False\n",
       "AFFX-PheX-M_at           False\n",
       "AFFX-ThrX-3_at           False\n",
       "AFFX-ThrX-5_at           False\n",
       "AFFX-ThrX-M_at           False\n",
       "AFFX-TrpnX-3_at          False\n",
       "AFFX-TrpnX-5_at          False\n",
       "AFFX-TrpnX-M_at          False\n",
       "AFFX-hum_alu_at          False\n",
       "AFFX-r2-Bs-dap-3_at      False\n",
       "AFFX-r2-Bs-dap-5_at      False\n",
       "AFFX-r2-Bs-dap-M_at      False\n",
       "AFFX-r2-Bs-lys-3_at      False\n",
       "AFFX-r2-Bs-lys-5_at      False\n",
       "AFFX-r2-Bs-lys-M_at      False\n",
       "AFFX-r2-Bs-phe-3_at      False\n",
       "AFFX-r2-Bs-phe-5_at      False\n",
       "AFFX-r2-Bs-phe-M_at      False\n",
       "AFFX-r2-Bs-thr-3_s_at    False\n",
       "AFFX-r2-Bs-thr-5_s_at    False\n",
       "AFFX-r2-Bs-thr-M_s_at    False\n",
       "AFFX-r2-Ec-bioB-3_at     False\n",
       "AFFX-r2-Ec-bioB-5_at     False\n",
       "AFFX-r2-Ec-bioB-M_at     False\n",
       "AFFX-r2-Ec-bioC-3_at     False\n",
       "AFFX-r2-Ec-bioC-5_at     False\n",
       "AFFX-r2-Ec-bioD-3_at     False\n",
       "AFFX-r2-Ec-bioD-5_at     False\n",
       "AFFX-r2-P1-cre-3_at      False\n",
       "AFFX-r2-P1-cre-5_at      False\n",
       "Name: percentage, Length: 54675, dtype: bool"
      ]
     },
     "execution_count": 226,
     "metadata": {},
     "output_type": "execute_result"
    }
   ],
   "source": [
    "df['percentage']"
   ]
  },
  {
   "cell_type": "code",
   "execution_count": 369,
   "metadata": {
    "collapsed": true
   },
   "outputs": [],
   "source": [
    "cl = imp.reload(cl)"
   ]
  },
  {
   "cell_type": "code",
   "execution_count": 370,
   "metadata": {
    "collapsed": true
   },
   "outputs": [],
   "source": [
    "ms = imp.reload(ms)"
   ]
  },
  {
   "cell_type": "code",
   "execution_count": 62,
   "metadata": {},
   "outputs": [
    {
     "ename": "AttributeError",
     "evalue": "module 'Traitement' has no attribute 'import_X_fs'",
     "output_type": "error",
     "traceback": [
      "\u001b[0;31m---------------------------------------------------------------------------\u001b[0m",
      "\u001b[0;31mAttributeError\u001b[0m                            Traceback (most recent call last)",
      "\u001b[0;32m<ipython-input-62-830d96f17715>\u001b[0m in \u001b[0;36m<module>\u001b[0;34m()\u001b[0m\n\u001b[0;32m----> 1\u001b[0;31m \u001b[0mproc\u001b[0m\u001b[0;34m.\u001b[0m\u001b[0mimport_X_fs\u001b[0m\u001b[0;34m(\u001b[0m\u001b[0mbase\u001b[0m\u001b[0;34m,\u001b[0m\u001b[0;36m1\u001b[0m\u001b[0;34m,\u001b[0m\u001b[0mcv_primary\u001b[0m\u001b[0;34m,\u001b[0m\u001b[0mclassifieur_fr\u001b[0m\u001b[0;34m,\u001b[0m\u001b[0mclassifieur_fs\u001b[0m\u001b[0;34m,\u001b[0m\u001b[0mnmois\u001b[0m\u001b[0;34m)\u001b[0m\u001b[0;34m\u001b[0m\u001b[0m\n\u001b[0m",
      "\u001b[0;31mAttributeError\u001b[0m: module 'Traitement' has no attribute 'import_X_fs'"
     ]
    }
   ],
   "source": [
    "proc.import_X_fs(base,1,cv_primary,classifieur_fr,classifieur_fs,nmois)"
   ]
  },
  {
   "cell_type": "code",
   "execution_count": 371,
   "metadata": {
    "collapsed": true
   },
   "outputs": [],
   "source": [
    "proc = imp.reload(proc)"
   ]
  },
  {
   "cell_type": "code",
   "execution_count": 314,
   "metadata": {
    "collapsed": true
   },
   "outputs": [],
   "source": [
    "from sklearn.model_selection import train_test_split"
   ]
  },
  {
   "cell_type": "code",
   "execution_count": 320,
   "metadata": {
    "collapsed": true
   },
   "outputs": [],
   "source": [
    "Xtrain,Xtest,Ytrain,Ytest = train_test_split(X,Y)"
   ]
  },
  {
   "cell_type": "code",
   "execution_count": 77,
   "metadata": {
    "collapsed": true
   },
   "outputs": [],
   "source": [
    "df = pd.read_pickle('epilung/cv-sets/C-12.S.SKF.5-1.pkl')"
   ]
  },
  {
   "cell_type": "code",
   "execution_count": 13,
   "metadata": {
    "collapsed": true
   },
   "outputs": [],
   "source": [
    "graph2 = pd.read_pickle('epilung/cv-sets/LogR1-LogR2/Graph.pkl')"
   ]
  },
  {
   "cell_type": "code",
   "execution_count": null,
   "metadata": {
    "collapsed": true
   },
   "outputs": [],
   "source": []
  },
  {
   "cell_type": "code",
   "execution_count": 45,
   "metadata": {
    "collapsed": true
   },
   "outputs": [],
   "source": [
    "df = proc.import_index_fs('epilung',1,cv_primary,classifieur_fr,classifieur_fs,nmois=12)"
   ]
  },
  {
   "cell_type": "code",
   "execution_count": 14,
   "metadata": {
    "collapsed": true
   },
   "outputs": [],
   "source": [
    "g = graph2[3]"
   ]
  },
  {
   "cell_type": "code",
   "execution_count": 22,
   "metadata": {},
   "outputs": [
    {
     "data": {
      "image/png": "[encoded data removed]",
      "text/plain": [
       "<matplotlib.figure.Figure at 0x7f7e9aa5dda0>"
      ]
     },
     "metadata": {},
     "output_type": "display_data"
    }
   ],
   "source": [
    "display_evol(g['abscisse'],smoothing(g['moyenne']),g['std'],title=\"Evolution de l'erreur selon le seuil\",xlabel='seuil',ylabel='log_loss',savefig='errorgraph.png')"
   ]
  },
  {
   "cell_type": "code",
   "execution_count": null,
   "metadata": {
    "collapsed": true
   },
   "outputs": [],
   "source": []
  },
  {
   "cell_type": "code",
   "execution_count": 20,
   "metadata": {
    "collapsed": true
   },
   "outputs": [],
   "source": [
    "def display_evol(x,y,std=None,title=\"\",xlabel=\"\",ylabel=\"\",savefig=None):\n",
    "    plt.plot(x,y)\n",
    "    if std is not None:\n",
    "        plt.fill_between(x,y+std,y-std,facecolor='yellow',alpha=0.5)\n",
    "    plt.ylabel(ylabel)\n",
    "    plt.xlabel(xlabel)\n",
    "    plt.title(title)\n",
    "    if savefig is not None:\n",
    "        plt.savefig(savefig,dpi=300)\n",
    "    plt.show()"
   ]
  }
 ],
 "metadata": {
  "kernelspec": {
   "display_name": "Python 3",
   "language": "python",
   "name": "python3"
  },
  "language_info": {
   "codemirror_mode": {
    "name": "ipython",
    "version": 3
   },
   "file_extension": ".py",
   "mimetype": "text/x-python",
   "name": "python",
   "nbconvert_exporter": "python",
   "pygments_lexer": "ipython3",
   "version": "3.6.3"
  }
 },
 "nbformat": 4,
 "nbformat_minor": 2
}
