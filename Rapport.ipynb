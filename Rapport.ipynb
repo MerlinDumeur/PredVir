{
 "cells": [
  {
   "cell_type": "markdown",
   "metadata": {},
   "source": [
    "# Projet Cassiopée : Prédiction de virulence de Cancer"
   ]
  },
  {
   "cell_type": "markdown",
   "metadata": {},
   "source": [
    "## Sommaire\n",
    "\n",
    "[1. Imports python](#Imports-python)\n",
    "\n",
    "[2. Présentation du projet](#Présentation-du-projet)\n",
    "\n",
    "[3. Présentation des données](#Présentation-des-données)\n",
    "   + [3.1 Import des données](#Import-des-données)\n",
    "      * [3.1.1 Base Epilung](#Base-Epilung)\n",
    "         - [3.1.1.1 Données cliniques](#Données-cliniques)\n",
    "         - [3.1.1.1 Données transcriptomiques](#Données-transcriptomiques)\n",
    "      * [3.1.1 Base NSCLC](#Base-NSCLC)\n",
    "         - [3.1.1.1 Données cliniques](#Base-NSCLC)\n",
    "         - [3.1.1.1 Données transcriptomiques](#aTrscrNSCLC)\n",
    "      * [3.1.1 Base CLCGP](#Base-CLCGP)\n",
    "         - [3.1.1.1 Données cliniques](#Base-CLCGP)\n",
    "         - [3.1.1.1 Données transcriptomiques](#aTrscrCLCGP)\n",
    "         \n",
    "         \n",
    "   + [3.2 Analyse univariée](#Analyse-univariée)\n",
    "      * [3.2.1 Base epilung](#univarEpi)\n",
    "         - [3.1.1.1 Données cliniques](#univarEpiclin)\n",
    "         \n",
    "         \n",
    "   + [3.3 Feature engineering](#Feature-Engineering)\n",
    "      * [3.3.1 Base epilung](#featEpi)\n",
    "         - [3.3.1.1 Données cliniques](#featEpiclin)\n",
    "\n",
    "[4. Modèles GLM](#Régression-Logistique)\n",
    "   + [4.1 Preuve de concept : Détermination de l'histologie](#Preuve-de-concept-:-Détermination-de-l'histologie)\n",
    "      * [4.1.1 Cas biclasse](#Cas-biclasse)\n",
    "      * [4.1.1 Cas multiclasse](#Cas-multiclasse)\n",
    "      \n",
    "      \n",
    "   + [4.2 Prédiction du taux de survie à n mois](#Prédiction-du-taux-de-survie-à-n-mois)\n",
    "   \n",
    "   \n",
    "   + [4.3 Prédiction de la durée de survie](#Prédiction-de-la-durée-de-survie)"
   ]
  },
  {
   "cell_type": "markdown",
   "metadata": {},
   "source": [
    "## Imports python"
   ]
  },
  {
   "cell_type": "code",
   "execution_count": 1,
   "metadata": {
    "collapsed": true
   },
   "outputs": [],
   "source": [
    "import numpy as np"
   ]
  },
  {
   "cell_type": "code",
   "execution_count": 2,
   "metadata": {
    "collapsed": true
   },
   "outputs": [],
   "source": [
    "import pandas as pd"
   ]
  },
  {
   "cell_type": "code",
   "execution_count": 3,
   "metadata": {
    "collapsed": true
   },
   "outputs": [],
   "source": [
    "from matplotlib import pyplot as plt\n",
    "%matplotlib inline"
   ]
  },
  {
   "cell_type": "code",
   "execution_count": 4,
   "metadata": {
    "collapsed": true
   },
   "outputs": [],
   "source": [
    "import Predicteurs as cl"
   ]
  },
  {
   "cell_type": "code",
   "execution_count": 5,
   "metadata": {
    "collapsed": true
   },
   "outputs": [],
   "source": [
    "import Traitement as proc"
   ]
  },
  {
   "cell_type": "code",
   "execution_count": 17,
   "metadata": {
    "collapsed": true
   },
   "outputs": [],
   "source": [
    "import Model_selection as ms"
   ]
  },
  {
   "cell_type": "code",
   "execution_count": 190,
   "metadata": {
    "collapsed": true
   },
   "outputs": [],
   "source": [
    "proc = imp.reload(proc)"
   ]
  },
  {
   "cell_type": "markdown",
   "metadata": {},
   "source": [
    "## Présentation du projet"
   ]
  },
  {
   "cell_type": "markdown",
   "metadata": {},
   "source": [
    "L'objectif de ce projet est de fournir un outil précis de prédiction de taux de mortalité pour le cancer, en se basant sur des données transcriptomiques. Pour cela, nous allons test différentes méthodes d'aprentissage automatique afin d'obtenir le meilleur taux de prédiction."
   ]
  },
  {
   "cell_type": "markdown",
   "metadata": {},
   "source": [
    "### Survie"
   ]
  },
  {
   "cell_type": "markdown",
   "metadata": {},
   "source": [
    "TODO : déterminer ce que l'on cherche à prédire\n",
    "\n",
    "Séparer en approches ? Prise en compte du modèle de Cox ?\n",
    "\n",
    "    > Basique : décès ou survie au bout de x mois\n",
    "    > Avancée : prendre en compte la cause du décès : s'intéresser à la rechute (relapse)"
   ]
  },
  {
   "cell_type": "markdown",
   "metadata": {},
   "source": [
    "### Métrique de performances"
   ]
  },
  {
   "cell_type": "markdown",
   "metadata": {},
   "source": [
    "Ici comme on cherche à prédire un taux de surive compris entre 0 et 1, la métrique utilisée sera celle de la perte logarithmique\n",
    "\n"
   ]
  },
  {
   "cell_type": "markdown",
   "metadata": {},
   "source": [
    "## Présentation des données"
   ]
  },
  {
   "cell_type": "markdown",
   "metadata": {},
   "source": [
    "### Import des données"
   ]
  },
  {
   "cell_type": "markdown",
   "metadata": {},
   "source": [
    "On utilise au cours du projet plusieurs bases de données afin d'entraîner et tester nos modèles"
   ]
  },
  {
   "cell_type": "markdown",
   "metadata": {},
   "source": [
    "On définit des constantes pour harmoniser les appellations entre les bases"
   ]
  },
  {
   "cell_type": "code",
   "execution_count": 6,
   "metadata": {
    "collapsed": true
   },
   "outputs": [],
   "source": [
    "HISTOLOGY = \"histology\"\n",
    "SEX = \"sex\"\n",
    "ID = \"id\"\n",
    "AGE = \"age\"\n",
    "OS = \"Overall survival\"\n",
    "EFS = \"Event Free Survival\"\n",
    "PATHOLOGY = \"pathology\"\n",
    "DEAD = \"dead\""
   ]
  },
  {
   "cell_type": "markdown",
   "metadata": {},
   "source": [
    "#### Base Epilung"
   ]
  },
  {
   "cell_type": "markdown",
   "metadata": {},
   "source": [
    "La base epilung concerne 660 échantillons, dont 353 proviennent de tissus tumoraux\n",
    "\n",
    "A chaque échantillon est associé \n",
    "    - Des données cliniques concernant le patient\n",
    "    - Un profil d'expression transcriptomique réalisé avec 54675 probes\n",
    "    - Un profil de méthylation\n",
    "    \n"
   ]
  },
  {
   "cell_type": "markdown",
   "metadata": {},
   "source": [
    "Nous allons maintenant nous intéresser aux données"
   ]
  },
  {
   "cell_type": "code",
   "execution_count": 162,
   "metadata": {
    "collapsed": true
   },
   "outputs": [],
   "source": [
    "base = \"epilung\""
   ]
  },
  {
   "cell_type": "markdown",
   "metadata": {},
   "source": [
    "##### Données cliniques"
   ]
  },
  {
   "cell_type": "code",
   "execution_count": 163,
   "metadata": {
    "collapsed": true
   },
   "outputs": [],
   "source": [
    "keep = ['id_sample','sex','age_min','age_max','id_topology','id_topology_group','id_morphology','id_pathology','t','n','m','tnm_stage','dfs_months','os_months','relapsed','dead','treatment','exposure','index_histology_code','efs','os','lof_gof']\n",
    "rename = {\"id_sample\":ID,\"age_min\":AGE,\"index_histology_code\":HISTOLOGY,'os':OS,\"id_pathology\":PATHOLOGY,'efs':EFS,'dead':DEAD}\n",
    "dropna = [HISTOLOGY,PATHOLOGY]"
   ]
  },
  {
   "cell_type": "code",
   "execution_count": 165,
   "metadata": {
    "collapsed": true
   },
   "outputs": [],
   "source": [
    "XpG = proc.refining_expGrp(base=base,keep=keep,rename=rename,dropna_col=dropna)"
   ]
  },
  {
   "cell_type": "code",
   "execution_count": 167,
   "metadata": {
    "collapsed": true
   },
   "outputs": [],
   "source": [
    "XpG.to_pickle(base+r'/XpG_refined.pkl')"
   ]
  },
  {
   "cell_type": "markdown",
   "metadata": {},
   "source": [
    "##### Données transcriptomiques"
   ]
  },
  {
   "cell_type": "code",
   "execution_count": 168,
   "metadata": {
    "collapsed": true
   },
   "outputs": [],
   "source": [
    "Trscr = proc.refining_trscr(base=base,transpose=True)"
   ]
  },
  {
   "cell_type": "code",
   "execution_count": 169,
   "metadata": {
    "collapsed": true
   },
   "outputs": [],
   "source": [
    "Trscr.to_pickle(base+r'/trscr.pkl')"
   ]
  },
  {
   "cell_type": "markdown",
   "metadata": {},
   "source": [
    "##### Plateforme "
   ]
  },
  {
   "cell_type": "code",
   "execution_count": 170,
   "metadata": {
    "collapsed": true
   },
   "outputs": [],
   "source": [
    "keep = ['ID','GB_ACC','Gene Symbol','ENTREZ_GENE_ID','RefSeq Transcript ID']\n",
    "rename = {'ID':ID}\n",
    "dtype={'SPOT_ID':str}"
   ]
  },
  {
   "cell_type": "code",
   "execution_count": 171,
   "metadata": {
    "collapsed": true
   },
   "outputs": [],
   "source": [
    "Plt = proc.refining_platform(base=base,keep=keep,rename=rename,dtype=dtype,remove_control=True)"
   ]
  },
  {
   "cell_type": "code",
   "execution_count": 173,
   "metadata": {
    "collapsed": true
   },
   "outputs": [],
   "source": [
    "Plt.to_pickle(base+r'/platform-refined.pkl')"
   ]
  },
  {
   "cell_type": "markdown",
   "metadata": {},
   "source": [
    "#### Base NSCLC"
   ]
  },
  {
   "cell_type": "code",
   "execution_count": 174,
   "metadata": {
    "collapsed": true
   },
   "outputs": [],
   "source": [
    "base = \"nsclc\""
   ]
  },
  {
   "cell_type": "markdown",
   "metadata": {},
   "source": [
    "##### Données cliniques"
   ]
  },
  {
   "cell_type": "code",
   "execution_count": 194,
   "metadata": {
    "collapsed": true
   },
   "outputs": [],
   "source": [
    "keep = ['id','Characteristics..sex.','Characteristics..age.','Characteristics.individual.','histo','os','os_months']\n",
    "rename = {'Characteristics..sex.':SEX,'Characteristcs..age.':AGE,'histo':HISTOLOGY,'os':OS}\n",
    "dropna = [OS]"
   ]
  },
  {
   "cell_type": "code",
   "execution_count": 195,
   "metadata": {
    "collapsed": true,
    "scrolled": true
   },
   "outputs": [],
   "source": [
    "XpG = proc.refining_expGrp(base=base,keep=keep,rename=rename,dropna_col=dropna)"
   ]
  },
  {
   "cell_type": "code",
   "execution_count": 196,
   "metadata": {
    "collapsed": true
   },
   "outputs": [],
   "source": [
    "XpG.to_pickle(base+r'/XpG_refined.pkl')"
   ]
  },
  {
   "cell_type": "markdown",
   "metadata": {},
   "source": [
    "##### Données transcriptomiques"
   ]
  },
  {
   "cell_type": "code",
   "execution_count": 198,
   "metadata": {
    "collapsed": true
   },
   "outputs": [],
   "source": [
    "Trscr = proc.refining_trscr(base=base,transpose=True)"
   ]
  },
  {
   "cell_type": "code",
   "execution_count": 201,
   "metadata": {
    "collapsed": true
   },
   "outputs": [],
   "source": [
    "Trscr.to_pickle(base+r'/trscr.pkl')"
   ]
  },
  {
   "cell_type": "markdown",
   "metadata": {},
   "source": [
    "##### Plateforme "
   ]
  },
  {
   "cell_type": "code",
   "execution_count": 205,
   "metadata": {
    "collapsed": true
   },
   "outputs": [],
   "source": [
    "keep = ['gene_symbol']\n",
    "rename = {'gene_symbol':ID}\n",
    "dtype={'gene_symbol':str}"
   ]
  },
  {
   "cell_type": "code",
   "execution_count": 206,
   "metadata": {
    "collapsed": true
   },
   "outputs": [],
   "source": [
    "Plt = proc.refining_platform(base=base,keep=keep,rename=rename,dtype=dtype)"
   ]
  },
  {
   "cell_type": "code",
   "execution_count": 207,
   "metadata": {
    "collapsed": true
   },
   "outputs": [],
   "source": [
    "Plt.to_pickle(base+r'/platform-refined.pkl')"
   ]
  },
  {
   "cell_type": "markdown",
   "metadata": {},
   "source": [
    "<a id = \"aTrscrNSCLC\"></a>"
   ]
  },
  {
   "cell_type": "markdown",
   "metadata": {},
   "source": [
    "#### Base CLCGP"
   ]
  },
  {
   "cell_type": "code",
   "execution_count": 89,
   "metadata": {
    "collapsed": true
   },
   "outputs": [],
   "source": [
    "base = \"clcgp\""
   ]
  },
  {
   "cell_type": "markdown",
   "metadata": {},
   "source": [
    "##### Données cliniques"
   ]
  },
  {
   "cell_type": "code",
   "execution_count": 123,
   "metadata": {
    "collapsed": true
   },
   "outputs": [],
   "source": [
    "keep = ['Unnamed: 0','histo','os','efs','dead','os_months']\n",
    "rename = {\"Unnamed: 0\":ID,'histo':HISTOLOGY,'os':OS,'efs':EFS,'dead':DEAD}\n",
    "dropna = [OS,HISTOLOGY]"
   ]
  },
  {
   "cell_type": "code",
   "execution_count": 129,
   "metadata": {
    "collapsed": true
   },
   "outputs": [],
   "source": [
    "XpG = proc.refining_expGrp(base=base,keep=keep,rename=rename,dropna_col=dropna)"
   ]
  },
  {
   "cell_type": "code",
   "execution_count": 138,
   "metadata": {
    "collapsed": true
   },
   "outputs": [],
   "source": [
    "XpG.to_pickle(base+rf'/XpG_refined.pkl')"
   ]
  },
  {
   "cell_type": "markdown",
   "metadata": {},
   "source": [
    "##### Données transcriptomiques"
   ]
  },
  {
   "cell_type": "code",
   "execution_count": 135,
   "metadata": {
    "collapsed": true
   },
   "outputs": [],
   "source": [
    "Trscr = proc.refining_trscr(base=base,transpose=True)"
   ]
  },
  {
   "cell_type": "code",
   "execution_count": 141,
   "metadata": {
    "collapsed": true
   },
   "outputs": [],
   "source": [
    "Trscr.to_pickle(base+rf'/trscr.pkl')"
   ]
  },
  {
   "cell_type": "markdown",
   "metadata": {},
   "source": [
    "##### Plateforme "
   ]
  },
  {
   "cell_type": "code",
   "execution_count": 151,
   "metadata": {
    "collapsed": true
   },
   "outputs": [],
   "source": [
    "keep = ['gene_symbol','lower_gs']\n",
    "rename = {'gene_symbol':ID}\n",
    "dtype={'gene_symbol':str,'lower_gs':str}"
   ]
  },
  {
   "cell_type": "code",
   "execution_count": 159,
   "metadata": {
    "collapsed": true
   },
   "outputs": [],
   "source": [
    "Plt = proc.refining_platform(base=base,keep=keep,rename=rename,dtype=dtype)"
   ]
  },
  {
   "cell_type": "code",
   "execution_count": 161,
   "metadata": {
    "collapsed": true
   },
   "outputs": [],
   "source": [
    "Plt.to_pickle(base+r'/platform-refined.pkl')"
   ]
  },
  {
   "cell_type": "markdown",
   "metadata": {},
   "source": [
    "<a id = \"aTrscrCLCGP\"></a>"
   ]
  },
  {
   "cell_type": "markdown",
   "metadata": {},
   "source": [
    "### Analyse univariée"
   ]
  },
  {
   "cell_type": "markdown",
   "metadata": {},
   "source": [
    "<a id = \"univarEpi\"></a>"
   ]
  },
  {
   "cell_type": "markdown",
   "metadata": {},
   "source": [
    "#### Base epilung"
   ]
  },
  {
   "cell_type": "markdown",
   "metadata": {},
   "source": [
    "<a id = \"univarEpiclin\"></a>"
   ]
  },
  {
   "cell_type": "markdown",
   "metadata": {},
   "source": []
  },
  {
   "cell_type": "code",
   "execution_count": 4,
   "metadata": {
    "collapsed": true
   },
   "outputs": [],
   "source": [
    "Clinique = pd.read_csv(\"epilung/XpG_refined.csv\",index_col='id_sample')"
   ]
  },
  {
   "cell_type": "code",
   "execution_count": 5,
   "metadata": {
    "collapsed": true
   },
   "outputs": [],
   "source": [
    "Clinique_sain = Clinique['index_histology_code'].isnull()\n",
    "Clinique_malade = Clinique_sain.isin([False])\n",
    "\n",
    "Index_sain = Clinique_sain.loc[Clinique_sain].index.values\n",
    "Index_malade = Clinique_malade.loc[Clinique_malade].index.values"
   ]
  },
  {
   "cell_type": "code",
   "execution_count": 6,
   "metadata": {
    "collapsed": true
   },
   "outputs": [],
   "source": [
    "F_malade = (Clinique['sex'].loc[Index_malade].values == 'F').sum()\n",
    "M_malade = (Clinique['sex'].loc[Index_malade].values == 'M').sum()\n",
    "nan_malade = Clinique['sex'].loc[Index_malade].shape[0]-F_malade-M_malade\n",
    "malade = [F_malade,M_malade,nan_malade]"
   ]
  },
  {
   "cell_type": "code",
   "execution_count": 7,
   "metadata": {
    "collapsed": true
   },
   "outputs": [],
   "source": [
    "F_sain = (Clinique['sex'].loc[Index_sain].values == 'F').sum()\n",
    "M_sain = (Clinique['sex'].loc[Index_sain].values == 'M').sum()\n",
    "nan_sain = Clinique['sex'].loc[Index_sain].shape[0]-F_sain-M_sain\n",
    "sain = [F_sain,M_sain,nan_sain]"
   ]
  },
  {
   "cell_type": "code",
   "execution_count": 119,
   "metadata": {
    "collapsed": true
   },
   "outputs": [],
   "source": [
    "def barsplot(df,titre='',figsize=(6,4)):\n",
    "    \n",
    "    valeurs = df.unique()\n",
    "    \n",
    "    categories_sain = []\n",
    "    categories_malade = []\n",
    "    \n",
    "    for v in valeurs:\n",
    "        \n",
    "        if pd.isnull(v):\n",
    "            categories_sain.append(Clinique['id_pathology'].loc[Index_sain].apply(pd.isnull).sum())\n",
    "            categories_malade.append(Clinique['id_pathology'].loc[Index_malade].apply(pd.isnull).sum())\n",
    "        else:\n",
    "            categories_malade.append((df.loc[Index_malade].values == v).sum())\n",
    "            categories_sain.append((df.loc[Index_sain].values == v).sum())\n",
    "\n",
    "    index = np.arange(valeurs.shape[0])\n",
    "    \n",
    "    fig=plt.figure(figsize=figsize)\n",
    "    \n",
    "    p1 = plt.bar(index,categories_malade)\n",
    "    p2 = plt.bar(index,categories_sain,bottom=categories_malade)\n",
    "\n",
    "    plt.ylabel('N')\n",
    "    plt.title(titre)\n",
    "    plt.xticks(index,valeurs)\n",
    "    plt.legend((p2[0],p1[0]),('Sain','Malade'))\n",
    "    plt.show()"
   ]
  },
  {
   "cell_type": "code",
   "execution_count": null,
   "metadata": {
    "collapsed": true
   },
   "outputs": [],
   "source": [
    "barsplot(Clinique['id_tissue_status'],'')\n",
    "\n",
    "barsplot(Clinique['id_topology'],'',(17,10))\n",
    "\n",
    "barsplot(Clinique['id_topology_group'],'')\n",
    "\n",
    "barsplot(Clinique['id_morphology'],'',(15,8))\n",
    "\n",
    "barsplot(Clinique['t'],'',(15,8))\n",
    "\n",
    "barsplot(Clinique['n'],'',(15,8))\n",
    "\n",
    "barsplot(Clinique['m'],'',(15,8))\n",
    "\n",
    "barsplot(Clinique['tnm_stage'],'',(15,8))\n",
    "\n",
    "Clinique['dfs_months'].hist(bins=13)\n",
    "plt.show()\n",
    "\n",
    "Clinique['os_months'].hist(bins=13)\n",
    "plt.show()\n",
    "\n",
    "barsplot(Clinique['relapsed'],'',(8,6))\n",
    "\n",
    "barsplot(Clinique['dead'],'',(8,6))\n",
    "\n",
    "barsplot(Clinique['treatment'],'',(8,6))\n",
    "\n",
    "barsplot(Clinique['exposure'],'',(12,6))\n",
    "\n",
    "barsplot(Clinique['index_histology_code'],'',(12,6))\n",
    "\n",
    "barsplot(Clinique['lof_gof'],'',(12,6))"
   ]
  },
  {
   "cell_type": "markdown",
   "metadata": {},
   "source": [
    "#### Base NSCLC"
   ]
  },
  {
   "cell_type": "code",
   "execution_count": 35,
   "metadata": {
    "collapsed": true
   },
   "outputs": [],
   "source": [
    "base = \"nsclc\""
   ]
  },
  {
   "cell_type": "code",
   "execution_count": 217,
   "metadata": {
    "collapsed": true
   },
   "outputs": [],
   "source": [
    "Clinique = pd.read_csv(base+r\"/\"+base+\"_XpG_refined.csv\",index_col='id')"
   ]
  },
  {
   "cell_type": "markdown",
   "metadata": {},
   "source": [
    "### Feature Engineering"
   ]
  },
  {
   "cell_type": "markdown",
   "metadata": {},
   "source": [
    "#### Base epilung"
   ]
  },
  {
   "cell_type": "markdown",
   "metadata": {},
   "source": [
    "<a id = \"featEpi\"></a>"
   ]
  },
  {
   "cell_type": "code",
   "execution_count": 210,
   "metadata": {
    "collapsed": true
   },
   "outputs": [],
   "source": [
    "base = \"epilung\""
   ]
  },
  {
   "cell_type": "markdown",
   "metadata": {},
   "source": [
    "<a id = \"featEpiclin\"></a>"
   ]
  },
  {
   "cell_type": "markdown",
   "metadata": {},
   "source": [
    "On réalise un one-hot encoding sur les variables catégoriques"
   ]
  },
  {
   "cell_type": "code",
   "execution_count": 232,
   "metadata": {
    "collapsed": true
   },
   "outputs": [],
   "source": [
    "categorical_columns = [SEX,'id_topology','id_topology_group','id_morphology','t','n','m','tnm_stage','treatment','exposure',HISTOLOGY,'lof_gof']\n",
    "filename = base+r'/XpG_refined.pkl'"
   ]
  },
  {
   "cell_type": "code",
   "execution_count": 236,
   "metadata": {
    "collapsed": true
   },
   "outputs": [],
   "source": [
    "Clinique_OH = proc.OHEncoding(filename,categorical_columns)"
   ]
  },
  {
   "cell_type": "code",
   "execution_count": 238,
   "metadata": {
    "collapsed": true
   },
   "outputs": [],
   "source": [
    "Clinique_OH.to_pickle(base+r'/clinique_OH.pkl')"
   ]
  },
  {
   "cell_type": "markdown",
   "metadata": {},
   "source": [
    "#### Base clcgp"
   ]
  },
  {
   "cell_type": "code",
   "execution_count": 320,
   "metadata": {
    "collapsed": true
   },
   "outputs": [],
   "source": [
    "categorical_columns = [HISTOLOGY]\n",
    "filename = base+r'/XpG_refined.pkl'"
   ]
  },
  {
   "cell_type": "code",
   "execution_count": 321,
   "metadata": {
    "collapsed": true
   },
   "outputs": [],
   "source": [
    "Clinique_OH = proc.OHEncoding(filename,categorical_columns)"
   ]
  },
  {
   "cell_type": "code",
   "execution_count": 322,
   "metadata": {
    "collapsed": true
   },
   "outputs": [],
   "source": [
    "Clinique_OH.to_pickle(base+r'/clinique_OH.pkl')"
   ]
  },
  {
   "cell_type": "code",
   "execution_count": null,
   "metadata": {
    "collapsed": true
   },
   "outputs": [],
   "source": []
  },
  {
   "cell_type": "markdown",
   "metadata": {},
   "source": [
    "### Génération des dataframes X et Y"
   ]
  },
  {
   "cell_type": "code",
   "execution_count": null,
   "metadata": {
    "collapsed": true
   },
   "outputs": [],
   "source": [
    "base = 'epilung'"
   ]
  },
  {
   "cell_type": "markdown",
   "metadata": {},
   "source": [
    "Création des index des patients que l'on utilisera pour la régression"
   ]
  },
  {
   "cell_type": "code",
   "execution_count": null,
   "metadata": {
    "collapsed": true
   },
   "outputs": [],
   "source": [
    "Clinique_OH = pd.read_pickle(base+r'/clinique_OH.pkl')"
   ]
  },
  {
   "cell_type": "code",
   "execution_count": 240,
   "metadata": {
    "collapsed": true
   },
   "outputs": [],
   "source": [
    "Index_regression = proc.Create_Patient_Index_Regression(Clinique_OH)"
   ]
  },
  {
   "cell_type": "markdown",
   "metadata": {},
   "source": [
    "On créé nos dataframes X et Y"
   ]
  },
  {
   "cell_type": "code",
   "execution_count": 249,
   "metadata": {
    "collapsed": true
   },
   "outputs": [],
   "source": [
    "X_r = proc.X_transcriptome(base,Index_regression)"
   ]
  },
  {
   "cell_type": "code",
   "execution_count": 254,
   "metadata": {
    "collapsed": true
   },
   "outputs": [],
   "source": [
    "X_r_nostd = proc.X_transcriptome(base,Index_regression,standardize=False)"
   ]
  },
  {
   "cell_type": "code",
   "execution_count": 252,
   "metadata": {
    "collapsed": true
   },
   "outputs": [],
   "source": [
    "Y_r = proc.Y_clinique(base,Index_regression)"
   ]
  },
  {
   "cell_type": "markdown",
   "metadata": {},
   "source": [
    "On exporte les X et Y construits"
   ]
  },
  {
   "cell_type": "code",
   "execution_count": 256,
   "metadata": {
    "collapsed": true
   },
   "outputs": [],
   "source": [
    "X_r.to_pickle(base+r'/X_regression.pkl')"
   ]
  },
  {
   "cell_type": "code",
   "execution_count": 257,
   "metadata": {
    "collapsed": true
   },
   "outputs": [],
   "source": [
    "X_r_nostd.to_pickle(base+r'/X_regression_nostd.pkl')"
   ]
  },
  {
   "cell_type": "code",
   "execution_count": 258,
   "metadata": {
    "collapsed": true
   },
   "outputs": [],
   "source": [
    "Y_r.to_pickle(base+r'/Y_regression.pkl')"
   ]
  },
  {
   "cell_type": "markdown",
   "metadata": {},
   "source": [
    "Création des index des patients que l'on utilisera pour la classification"
   ]
  },
  {
   "cell_type": "code",
   "execution_count": 259,
   "metadata": {
    "collapsed": true
   },
   "outputs": [],
   "source": [
    "nmois = 12"
   ]
  },
  {
   "cell_type": "code",
   "execution_count": 260,
   "metadata": {
    "collapsed": true
   },
   "outputs": [],
   "source": [
    "Index_classification = proc.Create_Patient_Drop_Index_Classification(Clinique_OH,nmois)"
   ]
  },
  {
   "cell_type": "markdown",
   "metadata": {},
   "source": [
    "On créé nos dataframes X et Y"
   ]
  },
  {
   "cell_type": "code",
   "execution_count": 262,
   "metadata": {
    "collapsed": true
   },
   "outputs": [],
   "source": [
    "X_nmois = proc.X_transcriptome(base,Index_classification)"
   ]
  },
  {
   "cell_type": "code",
   "execution_count": 264,
   "metadata": {
    "collapsed": true
   },
   "outputs": [],
   "source": [
    "X_nmois_nostd = proc.X_transcriptome(base,Index_classification,standardize=False)"
   ]
  },
  {
   "cell_type": "code",
   "execution_count": 263,
   "metadata": {
    "collapsed": true
   },
   "outputs": [],
   "source": [
    "Y_nmois = proc.Y_clinique(base,Index_classification,nmois)"
   ]
  },
  {
   "cell_type": "markdown",
   "metadata": {},
   "source": [
    "On exporte les X et Y construits"
   ]
  },
  {
   "cell_type": "code",
   "execution_count": 265,
   "metadata": {
    "collapsed": true
   },
   "outputs": [],
   "source": [
    "X_nmois.to_pickle(base+rf'/X_classification-{nmois}.pkl')"
   ]
  },
  {
   "cell_type": "code",
   "execution_count": 266,
   "metadata": {
    "collapsed": true
   },
   "outputs": [],
   "source": [
    "X_nmois_nostd.to_pickle(base+rf'/X_classification-{nmois}_nostd.pkl')"
   ]
  },
  {
   "cell_type": "code",
   "execution_count": 267,
   "metadata": {
    "collapsed": true
   },
   "outputs": [],
   "source": [
    "Y_nmois.to_pickle(base+rf'/Y_classification-{nmois}.pkl')"
   ]
  },
  {
   "cell_type": "markdown",
   "metadata": {},
   "source": [
    "# Régression Logistique"
   ]
  },
  {
   "cell_type": "code",
   "execution_count": 7,
   "metadata": {
    "collapsed": true
   },
   "outputs": [],
   "source": [
    "from sklearn.linear_model import LogisticRegression\n",
    "from sklearn.metrics import log_loss\n",
    "from sklearn.model_selection import KFold"
   ]
  },
  {
   "cell_type": "markdown",
   "metadata": {},
   "source": [
    "## Preuve de concept : Détermination de l'histologie"
   ]
  },
  {
   "cell_type": "markdown",
   "metadata": {},
   "source": [
    "On cherche ici à déterminer l'histologie (le type de cancer), à partir des données transcriptomiques seulement.\n",
    "\n",
    "En plus de la perte logarithmique on peut s'intéresser au taux de succès, cependant cet indicateur a un intérêt limité, car il n'est que peu lié à l'erreur commise par notre estimateur"
   ]
  },
  {
   "cell_type": "markdown",
   "metadata": {},
   "source": [
    "### Pénalisation"
   ]
  },
  {
   "cell_type": "markdown",
   "metadata": {},
   "source": [
    "On remarque rapidement que nous avons beaucoup plus de variables que de données. En effet, nous disposns de plus de 50 000 variables transcriptomiques, avec seulement 300 patients atteint de cancer.\n",
    "\n",
    "Cela a un impact sur les performances de la régression GLM : en effet il faut déterminer un coefficient par variable. Or lorsqu'on a moins de points de données que de paramètres à estimer, les coefficients déterminés par le modèle vont trop dépendre des données.\n",
    "\n",
    "Concrètement, lorsque l'on effectue une régression GLM, on résoud un problème d'optimisation : minimiser l'erreur quadratique moyenne entre une fonction et les données. Or dans le cas ou on dispose de plus de variables que de donénes, il existe une infinité de manière de choisir les coefficients tels qu'on minimise l'erreur quadratique moyenne. Dans notre cas on cherche à choisir les coefficients qui sont les plus performants en généralisation.\n",
    "\n",
    "Pour régler cela, on fait appel à la pénalisation, aussi appellée régularisation. Cela correspond à changer le problème d'optimisation en ajoutant un terme qui modifie le problème, en incluant un terme qui dépend du vecteur de coefficients. Quand on résoud le problème d'optimisation, on cherchera donc des solutions qui minimisent l'erreur quadratique plus la norme en question. On choisit en général d'utiliser une norme du vecteur de coefficients. \n",
    "\n",
    "On parle de pénalisation ridge pour la norme 2, qui a pour effet de diminuer les valeurs du vecteur de coefficients.\n",
    "\n",
    "On parle de pénalisation lasso pour la norme 1, qui a pour effet de mettre les valeurs de certains coefficients à zéro.\n",
    "\n",
    "La pénalisation permet de gagner en généralisation en appliquant le principe du rasoir d'Occam : on privilégie les solutions les moins spécifiques."
   ]
  },
  {
   "cell_type": "markdown",
   "metadata": {},
   "source": [
    "### Cas biclasse"
   ]
  },
  {
   "cell_type": "markdown",
   "metadata": {},
   "source": [
    "Dans le cas présent on ne s'intéresse que aux deux histologies les plus fréquentes dans notre jeux de données : ADK (type 2), et SQC (type 5)."
   ]
  },
  {
   "cell_type": "code",
   "execution_count": 191,
   "metadata": {
    "collapsed": true
   },
   "outputs": [],
   "source": [
    "Y = pd.read_csv(base+r\"/\"+base+'_XpG_refined.csv',usecols=[ID,HISTOLOGY],index_col=0)\n",
    "Y = Y.loc[(Y[HISTOLOGY] == 2) | (Y[HISTOLOGY] == 5)]\n",
    "Y.loc[:,HISTOLOGY] = Y.loc[:,HISTOLOGY].apply(lambda x: int(x>3))\n",
    "\n",
    "X = pd.read_csv(base+r\"/\"+base+'_trscr.csv',index_col=0)\n",
    "X = X.loc[Y.index.values]"
   ]
  },
  {
   "cell_type": "markdown",
   "metadata": {},
   "source": [
    "On va maintenant tester l'approche la plus basique, avec une simple division apprentissage/test"
   ]
  },
  {
   "cell_type": "code",
   "execution_count": 192,
   "metadata": {
    "collapsed": true
   },
   "outputs": [],
   "source": [
    "Xtrain = X.iloc[73:]\n",
    "Ytrain = Y.iloc[73:]\n",
    "\n",
    "Xtest = X.iloc[:73]\n",
    "Ytest = Y.iloc[:73]"
   ]
  },
  {
   "cell_type": "markdown",
   "metadata": {},
   "source": [
    "On teste les performances de la régression logistique avec les pénalisations norme 1 et 2"
   ]
  },
  {
   "cell_type": "code",
   "execution_count": 195,
   "metadata": {
    "collapsed": true
   },
   "outputs": [],
   "source": [
    "LogR2 = LogisticRegression(penalty=\"l2\")\n",
    "LogR1 = LogisticRegression(penalty=\"l1\")"
   ]
  },
  {
   "cell_type": "code",
   "execution_count": 207,
   "metadata": {},
   "outputs": [
    {
     "data": {
      "text/plain": [
       "LogisticRegression(C=1.0, class_weight=None, dual=False, fit_intercept=True,\n",
       "          intercept_scaling=1, max_iter=100, multi_class='ovr', n_jobs=1,\n",
       "          penalty='l1', random_state=None, solver='liblinear', tol=0.0001,\n",
       "          verbose=0, warm_start=False)"
      ]
     },
     "execution_count": 207,
     "metadata": {},
     "output_type": "execute_result"
    }
   ],
   "source": [
    "LogR2.fit(Xtrain,Ytrain[HISTOLOGY])\n",
    "LogR1.fit(Xtrain,Ytrain[HISTOLOGY])"
   ]
  },
  {
   "cell_type": "markdown",
   "metadata": {},
   "source": [
    "On peut obtenir facilement le pourcentage de classifications correctes, ainsi que la perte logarithmique"
   ]
  },
  {
   "cell_type": "code",
   "execution_count": 208,
   "metadata": {},
   "outputs": [
    {
     "data": {
      "text/plain": [
       "0.9726027397260274"
      ]
     },
     "execution_count": 208,
     "metadata": {},
     "output_type": "execute_result"
    }
   ],
   "source": [
    "LogR2.score(Xtest,Ytest)"
   ]
  },
  {
   "cell_type": "code",
   "execution_count": 209,
   "metadata": {
    "scrolled": true
   },
   "outputs": [
    {
     "data": {
      "text/plain": [
       "0.01296257323884808"
      ]
     },
     "execution_count": 209,
     "metadata": {},
     "output_type": "execute_result"
    }
   ],
   "source": [
    "log_loss(Ytest,LogR2.predict(Xtest))/Xtest.shape[0]"
   ]
  },
  {
   "cell_type": "code",
   "execution_count": 210,
   "metadata": {},
   "outputs": [
    {
     "data": {
      "text/plain": [
       "0.9726027397260274"
      ]
     },
     "execution_count": 210,
     "metadata": {},
     "output_type": "execute_result"
    }
   ],
   "source": [
    "LogR1.score(Xtest,Ytest)"
   ]
  },
  {
   "cell_type": "code",
   "execution_count": 211,
   "metadata": {
    "scrolled": true
   },
   "outputs": [
    {
     "data": {
      "text/plain": [
       "0.01296257323884808"
      ]
     },
     "execution_count": 211,
     "metadata": {},
     "output_type": "execute_result"
    }
   ],
   "source": [
    "log_loss(Ytest,LogR1.predict(Xtest))/Xtest.shape[0]"
   ]
  },
  {
   "cell_type": "markdown",
   "metadata": {},
   "source": [
    "#### Validation croisée"
   ]
  },
  {
   "cell_type": "markdown",
   "metadata": {},
   "source": [
    "On met maintenant en oeuvre la validation croisée afin d'obtenir des résultats indépendants de la division apprentissage/test de notre jeu de données.\n",
    "\n",
    "On commence par définir des fonctions qui permettent de calculer la moyenne de la perte logarithmique et du score sur N itérations de validation croisée."
   ]
  },
  {
   "cell_type": "markdown",
   "metadata": {},
   "source": [
    "On utilise ici la validation croisée KFold, en divisant notre base de données en 5.\n",
    "\n",
    "Le principe de la KFold est de diviser la base en $n$ sous-bases, et de moyenner la perte sur $n$ essais, en choisissant comme base de test la $k^e$ sous-base, et en joignant le reste des bases pour former la base d'apprentissage. Cela permet d'obtenir des scores plus fiables, car beaucoup moins dépendant de la manière dont effectue la séparation entre base d'apprentissage et base de test par rapport à l'approche classique.\n",
    "\n",
    "On utilisera les modèles de régression logistique avec les deux pénalisations."
   ]
  },
  {
   "cell_type": "code",
   "execution_count": 13,
   "metadata": {
    "collapsed": true
   },
   "outputs": [],
   "source": [
    "kfold = KFold(n_splits = 5,shuffle=True)"
   ]
  },
  {
   "cell_type": "markdown",
   "metadata": {},
   "source": [
    "On commence par tester à nouveau les performances des deux pénalisations, moyennées sur 100 validations croisées"
   ]
  },
  {
   "cell_type": "code",
   "execution_count": 21,
   "metadata": {
    "scrolled": true
   },
   "outputs": [
    {
     "data": {
      "text/plain": [
       "0.029122315863983606"
      ]
     },
     "execution_count": 21,
     "metadata": {},
     "output_type": "execute_result"
    }
   ],
   "source": [
    "avg_logloss_cv(X=X,Y=Y[HISTOLOGY],cv=kfold,classifier=LogR2)"
   ]
  },
  {
   "cell_type": "code",
   "execution_count": 22,
   "metadata": {},
   "outputs": [
    {
     "data": {
      "text/plain": [
       "0.97483908045976986"
      ]
     },
     "execution_count": 22,
     "metadata": {},
     "output_type": "execute_result"
    }
   ],
   "source": [
    "avg_score_cv(X=X,Y=Y[HISTOLOGY],cv=kfold,classifier=LogR2)"
   ]
  },
  {
   "cell_type": "code",
   "execution_count": 29,
   "metadata": {},
   "outputs": [
    {
     "data": {
      "text/plain": [
       "0.024306575515202863"
      ]
     },
     "execution_count": 29,
     "metadata": {},
     "output_type": "execute_result"
    }
   ],
   "source": [
    "avg_logloss_cv(X=X,Y=Y[HISTOLOGY],cv=kfold,classifier=LogR1)"
   ]
  },
  {
   "cell_type": "code",
   "execution_count": 30,
   "metadata": {},
   "outputs": [
    {
     "data": {
      "text/plain": [
       "0.97947356321839107"
      ]
     },
     "execution_count": 30,
     "metadata": {},
     "output_type": "execute_result"
    }
   ],
   "source": [
    "avg_score_cv(X=X,Y=Y[HISTOLOGY],cv=kfold,classifier=LogR1)"
   ]
  },
  {
   "cell_type": "markdown",
   "metadata": {},
   "source": [
    "On remarque qu'en moyenne, la pénalisation norme 1 est plus efficace, ce qui est attendu car on a beacoup de variables qui ont un impact faible : le coefficient de la régression qui leur est associé vaut alors 0.\n",
    "\n",
    "On va maintenant utiliser ce principe afin de sélectionner le set de variables qui minimise la perte.\n",
    "\n",
    "Pour cela, on va effectuer 100 validations croisées, et à chaque fois que l'on adapte notre modèle à la base d'apprentissage (soit 5 fois par validation croisée), l'on va incrémenter un compteur.\n",
    "\n",
    "On obtient alors un vecteur qui contient pour chaque variable le pourcentage de cas où la régression penalisée en norme 1 lui a associé un coefficient non nul. A l'aide de ce vecteur on va pouvoir choisir un seuil entre 0 et 1 et retirer les composantes dont le pourcentage d'occurence est inférieur au seuil."
   ]
  },
  {
   "cell_type": "code",
   "execution_count": null,
   "metadata": {
    "collapsed": true
   },
   "outputs": [],
   "source": [
    "C = get_important_parameters()"
   ]
  },
  {
   "cell_type": "markdown",
   "metadata": {},
   "source": [
    "Afin de déterminer le seuil optimal, on calcule la perte sur 100 validations croisées pour chaque valeur de seuil comprise entre 0 et 1, avec des incréments de 0.01. Le seuil qui minimisera la perte sera alors retenu."
   ]
  },
  {
   "cell_type": "code",
   "execution_count": 52,
   "metadata": {
    "collapsed": true
   },
   "outputs": [],
   "source": [
    "x = np.arange(0,1,0.01)\n",
    "y = []\n",
    "for k in x:\n",
    "    Index_k = np.nonzero(seuil(C,k))[0]\n",
    "    Xk = X.iloc[:,Index_k]\n",
    "    y.append(avg_logloss_cv(X=Xk,Y=Y[HISTOLOGY],cv=kfold,classifier=LogR2))"
   ]
  },
  {
   "cell_type": "code",
   "execution_count": 53,
   "metadata": {
    "scrolled": true
   },
   "outputs": [
    {
     "data": {
      "image/png": "[encoded data removed]",
      "text/plain": [
       "<matplotlib.figure.Figure at 0x7ffb8c486828>"
      ]
     },
     "metadata": {},
     "output_type": "display_data"
    }
   ],
   "source": [
    "plt.plot(x,y)\n",
    "plt.ylabel(\"Log loss\")\n",
    "plt.xlabel(\"Seuil\")\n",
    "plt.title(\"Evolution de la perte moyenne selon le seuil\")\n",
    "plt.show()"
   ]
  },
  {
   "cell_type": "markdown",
   "metadata": {},
   "source": [
    "On obtient que le seuil optimal est 0.9, avec une perte logarithmique associée de 0.003."
   ]
  },
  {
   "cell_type": "code",
   "execution_count": 54,
   "metadata": {
    "scrolled": true
   },
   "outputs": [
    {
     "data": {
      "text/plain": [
       "0.98999999999999999"
      ]
     },
     "execution_count": 54,
     "metadata": {},
     "output_type": "execute_result"
    }
   ],
   "source": [
    "x[np.argmin(y)]"
   ]
  },
  {
   "cell_type": "code",
   "execution_count": 56,
   "metadata": {},
   "outputs": [
    {
     "data": {
      "text/plain": [
       "0.0030101106494383983"
      ]
     },
     "execution_count": 56,
     "metadata": {},
     "output_type": "execute_result"
    }
   ],
   "source": [
    "avg_logloss_cv(X=X90,Y=Y[HISTOLOGY],cv=kfold,classifier=LogR2)"
   ]
  },
  {
   "cell_type": "markdown",
   "metadata": {},
   "source": [
    "On calcule un score moyen sur 100 validations croisées de 99.8% de classifications correctes"
   ]
  },
  {
   "cell_type": "code",
   "execution_count": 57,
   "metadata": {},
   "outputs": [
    {
     "data": {
      "text/plain": [
       "0.99815862068965511"
      ]
     },
     "execution_count": 57,
     "metadata": {},
     "output_type": "execute_result"
    }
   ],
   "source": [
    "avg_score_cv(X=X90,Y=Y[HISTOLOGY],cv=kfold,classifier=LogR2)"
   ]
  },
  {
   "cell_type": "markdown",
   "metadata": {},
   "source": [
    "On récupère les noms des sondes que l'on a gardé avec un seuil à 0.9"
   ]
  },
  {
   "cell_type": "code",
   "execution_count": 55,
   "metadata": {},
   "outputs": [
    {
     "data": {
      "text/plain": [
       "array(['201820_at', '203074_at', '203757_s_at', '203824_at', '203953_s_at',\n",
       "       '204455_at', '204855_at', '204920_at', '205549_at', '205776_at',\n",
       "       '206165_s_at', '206166_s_at', '206239_s_at', '206884_s_at',\n",
       "       '208168_s_at', '210020_x_at', '210505_at', '210674_s_at',\n",
       "       '211024_s_at', '211756_at', '213796_at', '213992_at', '215125_s_at',\n",
       "       '217272_s_at', '217528_at', '217564_s_at', '218858_at',\n",
       "       '218990_s_at', '221796_at', '226226_at', '226755_at', '227174_at',\n",
       "       '227194_at', '229290_at', '230323_s_at', '231315_at', '232202_at',\n",
       "       '235075_at', '240422_at'], dtype=object)"
      ]
     },
     "execution_count": 55,
     "metadata": {},
     "output_type": "execute_result"
    }
   ],
   "source": [
    "Index_90 = np.nonzero(seuil(C,x[90]))[0]\n",
    "X90 = X.iloc[:,Index_90]\n",
    "\n",
    "X.iloc[:,Index_90].dtypes.index.values"
   ]
  },
  {
   "cell_type": "markdown",
   "metadata": {},
   "source": [
    "On établit la correspondance des sondes avec les gènes"
   ]
  },
  {
   "cell_type": "code",
   "execution_count": 63,
   "metadata": {
    "collapsed": true
   },
   "outputs": [],
   "source": [
    "Plt = pd.read_csv(\"epilung/epilung_platform-refined.csv\",index_col=0)"
   ]
  },
  {
   "cell_type": "code",
   "execution_count": null,
   "metadata": {
    "collapsed": true
   },
   "outputs": [],
   "source": [
    "Plt.loc[['201820_at', '203074_at', '203757_s_at', '203824_at', '203953_s_at',\n",
    "       '204455_at', '204855_at', '204920_at', '205549_at', '205776_at',\n",
    "       '206165_s_at', '206166_s_at', '206239_s_at', '206884_s_at',\n",
    "       '208168_s_at', '210020_x_at', '210505_at', '210674_s_at',\n",
    "       '211024_s_at', '211756_at', '213796_at', '213992_at', '215125_s_at',\n",
    "       '217272_s_at', '217528_at', '217564_s_at', '218858_at',\n",
    "       '218990_s_at', '221796_at', '226226_at', '226755_at', '227174_at',\n",
    "       '227194_at', '229290_at', '230323_s_at', '231315_at', '232202_at',\n",
    "       '235075_at', '240422_at']]"
   ]
  },
  {
   "cell_type": "markdown",
   "metadata": {},
   "source": [
    "-> Composantes principales de la PCA ?"
   ]
  },
  {
   "cell_type": "markdown",
   "metadata": {},
   "source": [
    "### Base NSCLC"
   ]
  },
  {
   "cell_type": "code",
   "execution_count": 44,
   "metadata": {
    "collapsed": true
   },
   "outputs": [],
   "source": [
    "Y = pd.read_csv(r\"nsclc/nsclc_XpG_refined.csv\",usecols=['id','histo'],index_col=0)\n",
    "Y = Y.loc[(Y[HISTOLOGY] == 0) | (Y[HISTOLOGY] == 1)]\n",
    "\n",
    "X = pd.read_csv(r\"nsclc/nsclc_trscr.csv\",index_col=0)\n",
    "X = X.loc[Y.index.values]"
   ]
  },
  {
   "cell_type": "code",
   "execution_count": 29,
   "metadata": {},
   "outputs": [
    {
     "name": "stderr",
     "output_type": "stream",
     "text": [
      "/home/merlin/anaconda3/lib/python3.6/site-packages/pandas/core/indexing.py:517: SettingWithCopyWarning: \n",
      "A value is trying to be set on a copy of a slice from a DataFrame.\n",
      "Try using .loc[row_indexer,col_indexer] = value instead\n",
      "\n",
      "See the caveats in the documentation: http://pandas.pydata.org/pandas-docs/stable/indexing.html#indexing-view-versus-copy\n",
      "  self.obj[item] = s\n"
     ]
    }
   ],
   "source": [
    "Histologies = ['ADK', 'SQC', 'OTH', 'NTL']\n",
    "\n",
    "Y.loc[:,HISTOLOGY] = Y.loc[:,HISTOLOGY].apply(lambda x : Histologies.index(x))"
   ]
  },
  {
   "cell_type": "markdown",
   "metadata": {},
   "source": [
    "On commence par tester à nouveau les performances des deux pénalisations, moyennées sur 100 validations croisées"
   ]
  },
  {
   "cell_type": "code",
   "execution_count": 63,
   "metadata": {},
   "outputs": [
    {
     "data": {
      "text/plain": [
       "0.028589953857989202"
      ]
     },
     "execution_count": 63,
     "metadata": {},
     "output_type": "execute_result"
    }
   ],
   "source": [
    "avg_logloss_cv(X=X,Y=Y[HISTOLOGY],cv=kfold,classifier=LogR2)"
   ]
  },
  {
   "cell_type": "code",
   "execution_count": 62,
   "metadata": {},
   "outputs": [
    {
     "data": {
      "text/plain": [
       "0.96971428571428575"
      ]
     },
     "execution_count": 62,
     "metadata": {},
     "output_type": "execute_result"
    }
   ],
   "source": [
    "avg_score_cv(X=X,Y=Y[HISTOLOGY],cv=kfold,classifier=LogR2)"
   ]
  },
  {
   "cell_type": "code",
   "execution_count": 64,
   "metadata": {},
   "outputs": [
    {
     "data": {
      "text/plain": [
       "0.0265599640393702"
      ]
     },
     "execution_count": 64,
     "metadata": {},
     "output_type": "execute_result"
    }
   ],
   "source": [
    "avg_logloss_cv(X=X,Y=Y[HISTOLOGY],cv=kfold,classifier=LogR1)"
   ]
  },
  {
   "cell_type": "code",
   "execution_count": 66,
   "metadata": {},
   "outputs": [
    {
     "data": {
      "text/plain": [
       "0.97268571428571438"
      ]
     },
     "execution_count": 66,
     "metadata": {},
     "output_type": "execute_result"
    }
   ],
   "source": [
    "avg_score_cv(X=X,Y=Y[HISTOLOGY],cv=kfold,classifier=LogR1)"
   ]
  },
  {
   "cell_type": "markdown",
   "metadata": {},
   "source": []
  },
  {
   "cell_type": "code",
   "execution_count": null,
   "metadata": {
    "collapsed": true
   },
   "outputs": [],
   "source": [
    "C = get_important_parameters()"
   ]
  },
  {
   "cell_type": "code",
   "execution_count": 71,
   "metadata": {
    "collapsed": true
   },
   "outputs": [],
   "source": [
    "x = np.arange(0,1,0.01)\n",
    "y = []\n",
    "for k in x:\n",
    "    Index_k = np.nonzero(seuil(C,k))[0]\n",
    "    Xk = X.iloc[:,Index_k]\n",
    "    y.append(avg_logloss_cv(X=Xk,Y=Y[HISTOLOGY],cv=kfold,classifier=LogR2))"
   ]
  },
  {
   "cell_type": "code",
   "execution_count": 72,
   "metadata": {
    "scrolled": true
   },
   "outputs": [
    {
     "data": {
      "image/png": "[encoded data removed]",
      "text/plain": [
       "<matplotlib.figure.Figure at 0x7f4df7a25cc0>"
      ]
     },
     "metadata": {},
     "output_type": "display_data"
    }
   ],
   "source": [
    "plt.plot(x,y)\n",
    "plt.ylabel(\"Log loss\")\n",
    "plt.xlabel(\"Seuil\")\n",
    "plt.title(\"Evolution de la perte moyenne selon le seuil\")\n",
    "plt.show()"
   ]
  },
  {
   "cell_type": "markdown",
   "metadata": {},
   "source": [
    "On obtient que le seuil optimal est 0.9, avec une perte logarithmique associée de 0.003."
   ]
  },
  {
   "cell_type": "code",
   "execution_count": 75,
   "metadata": {
    "scrolled": true
   },
   "outputs": [
    {
     "data": {
      "text/plain": [
       "0.96999999999999997"
      ]
     },
     "execution_count": 75,
     "metadata": {},
     "output_type": "execute_result"
    }
   ],
   "source": [
    "x[np.argmin(y)]"
   ]
  },
  {
   "cell_type": "code",
   "execution_count": 79,
   "metadata": {},
   "outputs": [
    {
     "data": {
      "text/plain": [
       "0.024473455140685028"
      ]
     },
     "execution_count": 79,
     "metadata": {},
     "output_type": "execute_result"
    }
   ],
   "source": [
    "avg_logloss_cv(X=X97,Y=Y[HISTOLOGY],cv=kfold,classifier=LogR2)"
   ]
  },
  {
   "cell_type": "markdown",
   "metadata": {},
   "source": [
    "On calcule un score moyen sur 100 validations croisées de 99.8% de classifications correctes"
   ]
  },
  {
   "cell_type": "code",
   "execution_count": 80,
   "metadata": {},
   "outputs": [
    {
     "data": {
      "text/plain": [
       "0.97479999999999978"
      ]
     },
     "execution_count": 80,
     "metadata": {},
     "output_type": "execute_result"
    }
   ],
   "source": [
    "avg_score_cv(X=X97,Y=Y[HISTOLOGY],cv=kfold,classifier=LogR2)"
   ]
  },
  {
   "cell_type": "markdown",
   "metadata": {},
   "source": [
    "On récupère les noms des sondes que l'on a gardé avec un seuil à 0.9"
   ]
  },
  {
   "cell_type": "code",
   "execution_count": 76,
   "metadata": {},
   "outputs": [
    {
     "data": {
      "text/plain": [
       "array(['A2M', 'ABCC5', 'ACTB', 'ACTG1', 'ACTN1', 'AFAP1-AS1', 'AHNAK',\n",
       "       'ALDH1A1', 'ALDH1A3', 'ALDOA', 'ANXA1', 'ANXA2', 'ANXA5', 'AP2M1',\n",
       "       'APLP2', 'APP', 'ARF1', 'ARF4', 'ARL6IP1', 'ATHL1', 'ATP13A3',\n",
       "       'ATP2A2', 'B2M', 'BMS1P20', 'BPIFB1', 'C3', 'C7', 'CALD1', 'CALM2',\n",
       "       'CALR', 'CALU', 'CANX', 'CAPN2', 'CD24', 'CD2AP', 'CD44', 'CD46',\n",
       "       'CD55', 'CD59', 'CD63', 'CD74', 'CEACAM5', 'CEACAM6', 'CES1', 'CFB',\n",
       "       'CGN', 'CLCA2', 'CLDN1', 'CLU', 'COL1A1', 'COL1A2', 'COL3A1',\n",
       "       'COL4A2', 'COL5A2', 'COL6A3', 'CP', 'CPD', 'CSTA', 'CTSB', 'CTSC',\n",
       "       'CTSD', 'DAP', 'DHCR24', 'DIO2', 'DNAJC10', 'DPYSL3', 'DSG2', 'DSP',\n",
       "       'EEF1A1', 'EEF1G', 'EIF4G1', 'EIF4G2', 'EMP1', 'ENO1', 'EPHX1',\n",
       "       'ERBB3', 'ERRFI1', 'F11R', 'FABP7', 'FAT2', 'FBL', 'FBN2', 'FGA',\n",
       "       'FGFR2', 'FGG', 'FKBP9', 'FN1', 'FSTL1', 'FTH1', 'FTL', 'FXYD3',\n",
       "       'GABRP', 'GAPDH', 'GM2A', 'GNB2L1', 'GOLM1', 'GPC3', 'GPCPD1',\n",
       "       'GPNMB', 'H1F0', 'HLA-A', 'HLA-B', 'HLA-C', 'HLA-DQB1', 'HLA-DRA',\n",
       "       'HLA-DRB5', 'HNRNPU', 'HSP90AB1', 'HSP90B1', 'HSPA5', 'ICAM1',\n",
       "       'IGFBP3', 'IGFBP5', 'IGLL5', 'IL13RA1', 'IRF2BP2', 'IRF6', 'ITGA2',\n",
       "       'ITGA6', 'ITGAV', 'ITGB1', 'ITGB4', 'ITGBL1', 'JCHAIN', 'KDELR2',\n",
       "       'KREMEN1', 'KRT13', 'KRT17', 'KRT18', 'KRT5', 'KRT6A', 'KRT7',\n",
       "       'LAMA3', 'LAMB3', 'LAMC2', 'LAPTM5', 'LINC01206', 'LTA4H', 'LTF',\n",
       "       'LUM', 'LYZ', 'MACC1', 'MAL2', 'MALAT1', 'MET', 'MGP', 'MMP10',\n",
       "       'MMP12', 'MMP2', 'MMP7', 'MSN', 'MTUS1', 'MUC1', 'MUC16', 'MUC5B',\n",
       "       'MX1', 'MYH9', 'MYO1B', 'MYOF', 'NAPSA', 'NEAT1', 'NFE2L2', 'NQO1',\n",
       "       'NTRK2', 'ODC1', 'OS9', 'OSMR', 'PABPC1', 'PAK1', 'PDGFRB', 'PDIA6',\n",
       "       'PDXDC1', 'PEG10', 'PERP', 'PGC', 'PGK1', 'PKM', 'PLAT', 'PLAUR',\n",
       "       'PLS3', 'PLXNA1', 'PLXND1', 'PMEPA1', 'PSAP', 'PSMD2', 'PTPRF',\n",
       "       'PVRL1', 'QSOX1', 'RAPH1', 'RCC2', 'RNASE1', 'RPL12', 'RPL3',\n",
       "       'RPL37', 'RPL37A', 'RPL7A', 'RPL9', 'RPLP0', 'RPS27', 'RPS27A',\n",
       "       'RPS3', 'RPS6', 'RPS7', 'S100A2', 'S100A4', 'S100A6', 'SAMD9',\n",
       "       'SAT1', 'SCD', 'SCGB3A2', 'SDC1', 'SEL1L3', 'SEMA3C', 'SERPINA1',\n",
       "       'SERPINA3', 'SERPINE1', 'SESN3', 'SFRP2', 'SFRP4', 'SFTPA1',\n",
       "       'SFTPA2', 'SFTPB', 'SFTPC', 'SLC34A2', 'SLC44A4', 'SLC6A14',\n",
       "       'SLC6A8', 'SLC7A5', 'SORT1', 'SPARC', 'SPP1', 'SUSD6', 'SYNCRIP',\n",
       "       'TFRC', 'TGFBI', 'TGM2', 'TMSB10', 'TMSB4X', 'TNC', 'TNFSF10',\n",
       "       'TPT1', 'TRIM29', 'TSPAN13', 'TUBB', 'TXNIP', 'VCL', 'VIM', 'XIST',\n",
       "       'YBX1', 'YBX3', 'ZDHHC9'], dtype=object)"
      ]
     },
     "execution_count": 76,
     "metadata": {},
     "output_type": "execute_result"
    }
   ],
   "source": [
    "Index_97 = np.nonzero(seuil(C,x[97]))[0]\n",
    "X97 = X.iloc[:,Index_97]\n",
    "\n",
    "X.iloc[:,Index_97].dtypes.index.values"
   ]
  },
  {
   "cell_type": "markdown",
   "metadata": {},
   "source": [
    "## Prédiction du taux de survie à n mois"
   ]
  },
  {
   "cell_type": "code",
   "execution_count": 8,
   "metadata": {
    "collapsed": true
   },
   "outputs": [],
   "source": [
    "from sklearn.linear_model import LogisticRegression\n",
    "from sklearn.metrics import log_loss\n",
    "from sklearn.model_selection import KFold, RepeatedKFold"
   ]
  },
  {
   "cell_type": "code",
   "execution_count": 10,
   "metadata": {
    "collapsed": true
   },
   "outputs": [],
   "source": [
    "from sklearn.model_selection import GridSearchCV"
   ]
  },
  {
   "cell_type": "code",
   "execution_count": 23,
   "metadata": {
    "collapsed": true
   },
   "outputs": [],
   "source": [
    "from sklearn.metrics import make_scorer"
   ]
  },
  {
   "cell_type": "code",
   "execution_count": 9,
   "metadata": {
    "collapsed": true
   },
   "outputs": [],
   "source": [
    "import imp"
   ]
  },
  {
   "cell_type": "markdown",
   "metadata": {},
   "source": [
    "### Base epilung"
   ]
  },
  {
   "cell_type": "code",
   "execution_count": 11,
   "metadata": {
    "collapsed": true
   },
   "outputs": [],
   "source": [
    "base = \"epilung\""
   ]
  },
  {
   "cell_type": "markdown",
   "metadata": {},
   "source": [
    "#### n=12 mois"
   ]
  },
  {
   "cell_type": "code",
   "execution_count": 12,
   "metadata": {
    "collapsed": true
   },
   "outputs": [],
   "source": [
    "nmois = 12"
   ]
  },
  {
   "cell_type": "code",
   "execution_count": 13,
   "metadata": {
    "collapsed": true
   },
   "outputs": [],
   "source": [
    "X = pd.read_csv(base+rf'/X_classification-{nmois}.csv',index_col=0)\n",
    "Y = pd.read_csv(base+rf'/Y_classification-{nmois}.csv',index_col=0,header=None)"
   ]
  },
  {
   "cell_type": "code",
   "execution_count": 14,
   "metadata": {
    "collapsed": true
   },
   "outputs": [],
   "source": [
    "kfold = KFold(n_splits = 5,shuffle=True)\n",
    "rkfold = RepeatedKFold(n_splits=5,n_repeats=100)"
   ]
  },
  {
   "cell_type": "code",
   "execution_count": 249,
   "metadata": {
    "collapsed": true
   },
   "outputs": [],
   "source": [
    "cl = imp.reload(cl)"
   ]
  },
  {
   "cell_type": "code",
   "execution_count": 51,
   "metadata": {
    "collapsed": true
   },
   "outputs": [],
   "source": [
    "pd = imp.reload(pd)"
   ]
  },
  {
   "cell_type": "code",
   "execution_count": 248,
   "metadata": {},
   "outputs": [
    {
     "name": "stdout",
     "output_type": "stream",
     "text": [
      "remote: Counting objects: 3, done.\u001b[K\n",
      "remote: Compressing objects: 100% (1/1), done.\u001b[K\n",
      "remote: Total 3 (delta 2), reused 3 (delta 2), pack-reused 0\u001b[K\n",
      "Dépaquetage des objets: 100% (3/3), fait.\n",
      "Depuis https://github.com/MerlinDumeur/PredVir\n",
      "   c8dcf6d..07eb4e2  master     -> origin/master\n",
      "Mise à jour c8dcf6d..07eb4e2\n",
      "Fast-forward\n",
      " Predicteurs.py | 1 \u001b[32m+\u001b[m\n",
      " 1 file changed, 1 insertion(+)\n"
     ]
    }
   ],
   "source": [
    "!git pull"
   ]
  },
  {
   "cell_type": "code",
   "execution_count": 195,
   "metadata": {
    "collapsed": true
   },
   "outputs": [],
   "source": [
    "LogR2 = cl.LinearClassifieur(LogisticRegression(penalty=\"l2\",C=1.0),nmois=nmois,cv=rkfold,X=X,Y=Y[1],folder=base)\n",
    "LogR1 = cl.LinearClassifieur(LogisticRegression(penalty=\"l1\",C=1.0),nmois=nmois,cv=rkfold,X=X,Y=Y[1],folder=base)"
   ]
  },
  {
   "cell_type": "markdown",
   "metadata": {},
   "source": [
    "On commence par se donner une idée des scores de base"
   ]
  },
  {
   "cell_type": "code",
   "execution_count": 76,
   "metadata": {
    "scrolled": true
   },
   "outputs": [
    {
     "data": {
      "text/plain": [
       "0.13202444932052301"
      ]
     },
     "execution_count": 76,
     "metadata": {},
     "output_type": "execute_result"
    }
   ],
   "source": [
    "avg_logloss_cv(X=X,Y=Y[1],cv=kfold,classifier=LogR2)"
   ]
  },
  {
   "cell_type": "code",
   "execution_count": 77,
   "metadata": {},
   "outputs": [
    {
     "data": {
      "text/plain": [
       "0.77695616598480433"
      ]
     },
     "execution_count": 77,
     "metadata": {},
     "output_type": "execute_result"
    }
   ],
   "source": [
    "avg_score_cv(X=X,Y=Y[1],cv=kfold,classifier=LogR2)"
   ]
  },
  {
   "cell_type": "code",
   "execution_count": 78,
   "metadata": {},
   "outputs": [
    {
     "data": {
      "text/plain": [
       "0.12638496955395132"
      ]
     },
     "execution_count": 78,
     "metadata": {},
     "output_type": "execute_result"
    }
   ],
   "source": [
    "avg_logloss_cv(X=X,Y=Y[1],cv=kfold,classifier=LogR1)"
   ]
  },
  {
   "cell_type": "code",
   "execution_count": 79,
   "metadata": {},
   "outputs": [
    {
     "data": {
      "text/plain": [
       "0.78690531852717771"
      ]
     },
     "execution_count": 79,
     "metadata": {},
     "output_type": "execute_result"
    }
   ],
   "source": [
    "avg_score_cv(X=X,Y=Y[1],cv=kfold,classifier=LogR1)"
   ]
  },
  {
   "cell_type": "markdown",
   "metadata": {},
   "source": [
    "Influence de $C$ sur la feature selection"
   ]
  },
  {
   "cell_type": "markdown",
   "metadata": {},
   "source": [
    "##### Feature selection"
   ]
  },
  {
   "cell_type": "markdown",
   "metadata": {},
   "source": [
    "TODO : Comparer la feature selection avec $C=0.05$ et $C=1$"
   ]
  },
  {
   "cell_type": "markdown",
   "metadata": {},
   "source": [
    "$C=1$"
   ]
  },
  {
   "cell_type": "code",
   "execution_count": 56,
   "metadata": {
    "collapsed": true
   },
   "outputs": [],
   "source": [
    "import Model_selection as ms"
   ]
  },
  {
   "cell_type": "code",
   "execution_count": 192,
   "metadata": {
    "collapsed": true
   },
   "outputs": [],
   "source": [
    "cl = imp.reload(cl)"
   ]
  },
  {
   "cell_type": "code",
   "execution_count": 193,
   "metadata": {
    "collapsed": true
   },
   "outputs": [],
   "source": [
    "ms = imp.reload(ms)"
   ]
  },
  {
   "cell_type": "code",
   "execution_count": 194,
   "metadata": {
    "collapsed": true
   },
   "outputs": [],
   "source": [
    "proc = imp.reload(proc)"
   ]
  },
  {
   "cell_type": "code",
   "execution_count": 177,
   "metadata": {
    "collapsed": true
   },
   "outputs": [],
   "source": [
    "proc = imp.reload(proc)"
   ]
  },
  {
   "cell_type": "code",
   "execution_count": 84,
   "metadata": {
    "collapsed": true
   },
   "outputs": [],
   "source": [
    "ResLogR1 = LogR1.feature_relevance()"
   ]
  },
  {
   "cell_type": "code",
   "execution_count": 239,
   "metadata": {
    "collapsed": true
   },
   "outputs": [],
   "source": [
    "ResLogR1.stat_v(redo_m=True)"
   ]
  },
  {
   "cell_type": "code",
   "execution_count": 173,
   "metadata": {
    "collapsed": true
   },
   "outputs": [],
   "source": [
    "ResLogR1.stat_percentage()"
   ]
  },
  {
   "cell_type": "code",
   "execution_count": 240,
   "metadata": {
    "collapsed": true
   },
   "outputs": [],
   "source": [
    "ResLogR1.save(replace=True)"
   ]
  },
  {
   "cell_type": "code",
   "execution_count": 238,
   "metadata": {
    "collapsed": true
   },
   "outputs": [],
   "source": [
    "ResLogR1 = cl.load_resultat(info={\"base\":'epilung',\"predicteur_type\":'C',\"id\":0,\"predicteur\":\"Log\",\"nmois\":12})"
   ]
  },
  {
   "cell_type": "code",
   "execution_count": 252,
   "metadata": {
    "collapsed": true
   },
   "outputs": [
    {
     "data": {
      "text/plain": [
       "         probe                \n",
       "metrics  logloss                  float64\n",
       "coef_    1007_s_at                float64\n",
       "         1053_at                  float64\n",
       "         117_at                   float64\n",
       "         121_at                   float64\n",
       "         1255_g_at                float64\n",
       "         1294_at                  float64\n",
       "         1316_at                  float64\n",
       "         1320_at                  float64\n",
       "         1405_i_at                float64\n",
       "         1431_at                  float64\n",
       "         1438_at                  float64\n",
       "         1487_at                  float64\n",
       "         1494_f_at                float64\n",
       "         1552256_a_at             float64\n",
       "         1552257_a_at             float64\n",
       "         1552258_at               float64\n",
       "         1552261_at               float64\n",
       "         1552263_at               float64\n",
       "         1552264_a_at             float64\n",
       "         1552266_at               float64\n",
       "         1552269_at               float64\n",
       "         1552271_at               float64\n",
       "         1552272_a_at             float64\n",
       "         1552274_at               float64\n",
       "         1552275_s_at             float64\n",
       "         1552276_a_at             float64\n",
       "         1552277_a_at             float64\n",
       "         1552278_a_at             float64\n",
       "         1552279_a_at             float64\n",
       "                                   ...   \n",
       "         AFFX-PheX-5_at           float64\n",
       "         AFFX-PheX-M_at           float64\n",
       "         AFFX-ThrX-3_at           float64\n",
       "         AFFX-ThrX-5_at           float64\n",
       "         AFFX-ThrX-M_at           float64\n",
       "         AFFX-TrpnX-3_at          float64\n",
       "         AFFX-TrpnX-5_at          float64\n",
       "         AFFX-TrpnX-M_at          float64\n",
       "         AFFX-hum_alu_at          float64\n",
       "         AFFX-r2-Bs-dap-3_at      float64\n",
       "         AFFX-r2-Bs-dap-5_at      float64\n",
       "         AFFX-r2-Bs-dap-M_at      float64\n",
       "         AFFX-r2-Bs-lys-3_at      float64\n",
       "         AFFX-r2-Bs-lys-5_at      float64\n",
       "         AFFX-r2-Bs-lys-M_at      float64\n",
       "         AFFX-r2-Bs-phe-3_at      float64\n",
       "         AFFX-r2-Bs-phe-5_at      float64\n",
       "         AFFX-r2-Bs-phe-M_at      float64\n",
       "         AFFX-r2-Bs-thr-3_s_at    float64\n",
       "         AFFX-r2-Bs-thr-5_s_at    float64\n",
       "         AFFX-r2-Bs-thr-M_s_at    float64\n",
       "         AFFX-r2-Ec-bioB-3_at     float64\n",
       "         AFFX-r2-Ec-bioB-5_at     float64\n",
       "         AFFX-r2-Ec-bioB-M_at     float64\n",
       "         AFFX-r2-Ec-bioC-3_at     float64\n",
       "         AFFX-r2-Ec-bioC-5_at     float64\n",
       "         AFFX-r2-Ec-bioD-3_at     float64\n",
       "         AFFX-r2-Ec-bioD-5_at     float64\n",
       "         AFFX-r2-P1-cre-3_at      float64\n",
       "         AFFX-r2-P1-cre-5_at      float64\n",
       "Length: 54676, dtype: object"
      ]
     },
     "execution_count": 252,
     "metadata": {},
     "output_type": "execute_result"
    }
   ],
   "source": [
    "ResLogR1.data.dtypes"
   ]
  },
  {
   "cell_type": "code",
   "execution_count": null,
   "metadata": {
    "collapsed": true,
    "scrolled": true
   },
   "outputs": [],
   "source": [
    "seuil_grid = np.arange(0.1,1.0,0.01)\n",
    "m,s,x = LogR2.stat_seuil(seuil_grid,ResLogR1.data['coef_'].loc['percentage'])"
   ]
  },
  {
   "cell_type": "code",
   "execution_count": null,
   "metadata": {
    "collapsed": true
   },
   "outputs": [],
   "source": [
    "moy = np.array(m['logloss'])\n",
    "std = np.array(s['logloss'])"
   ]
  },
  {
   "cell_type": "code",
   "execution_count": null,
   "metadata": {
    "collapsed": true
   },
   "outputs": [],
   "source": [
    "x[np.argmin(moy)]"
   ]
  },
  {
   "cell_type": "code",
   "execution_count": null,
   "metadata": {
    "collapsed": true
   },
   "outputs": [],
   "source": [
    "percentage = ResLogR1.data['coef_'].loc['percentage']\n",
    "compare = x[np.argmin(moy)] * np.ones(len(percentage))\n",
    "index_percent = np.greater(percentage,compare)\n",
    "I = percentage.loc[index_percent].index\n",
    "Xk = X[I]            "
   ]
  },
  {
   "cell_type": "code",
   "execution_count": 261,
   "metadata": {
    "scrolled": true
   },
   "outputs": [
    {
     "data": {
      "image/png": "[encoded data removed]",
      "text/plain": [
       "<matplotlib.figure.Figure at 0x7f9dee040780>"
      ]
     },
     "metadata": {},
     "output_type": "display_data"
    }
   ],
   "source": [
    "display_evol(x,moy,std=std)"
   ]
  },
  {
   "cell_type": "code",
   "execution_count": null,
   "metadata": {
    "collapsed": true
   },
   "outputs": [],
   "source": []
  },
  {
   "cell_type": "code",
   "execution_count": 165,
   "metadata": {
    "collapsed": true
   },
   "outputs": [],
   "source": [
    "def display_evol(x,y,std=None,title=\"\",xlabel=\"\",ylabel=\"\",):\n",
    "    plt.plot(x,y)\n",
    "    if std is not None:\n",
    "        plt.fill_between(x,y+std,y-std,facecolor='yellow',alpha=0.5)\n",
    "    plt.ylabel(ylabel)\n",
    "    plt.xlabel(xlabel)\n",
    "    plt.title(title)\n",
    "    plt.show()"
   ]
  },
  {
   "cell_type": "code",
   "execution_count": 53,
   "metadata": {
    "collapsed": true
   },
   "outputs": [],
   "source": [
    "def select_features(X,Y,pourcentage,classifierTest,N=100):\n",
    "    seuil_grid = np.arange(0,1,0.01)\n",
    "    moy,var = classifierTest.stat_seuil(seuil_grid,pourcentage,X=X,Y=Y,N=N)\n",
    "    return (x,y)"
   ]
  },
  {
   "cell_type": "code",
   "execution_count": 30,
   "metadata": {
    "collapsed": true
   },
   "outputs": [],
   "source": [
    "def display_evol_erreur(x,y,parameter_name):\n",
    "    plt.plot(x,y)\n",
    "    plt.ylabel(\"Log loss\")\n",
    "    plt.xlabel(f\"{parameter_name}\")\n",
    "    plt.title(f\"Evolution de la perte moyenne selon {parameter_name}\")\n",
    "    plt.show()"
   ]
  },
  {
   "cell_type": "code",
   "execution_count": null,
   "metadata": {
    "collapsed": true
   },
   "outputs": [],
   "source": [
    "x,y = select_features(X,Y[1],logR1,logR2)"
   ]
  },
  {
   "cell_type": "code",
   "execution_count": 31,
   "metadata": {},
   "outputs": [
    {
     "data": {
      "image/png": "[encoded data removed]",
      "text/plain": [
       "<matplotlib.figure.Figure at 0x7fd971e88390>"
      ]
     },
     "metadata": {},
     "output_type": "display_data"
    }
   ],
   "source": [
    "display_evol_erreur(x,y,\"le seuil\")"
   ]
  },
  {
   "cell_type": "code",
   "execution_count": 29,
   "metadata": {},
   "outputs": [
    {
     "data": {
      "text/plain": [
       "0.68000000000000005"
      ]
     },
     "execution_count": 29,
     "metadata": {},
     "output_type": "execute_result"
    }
   ],
   "source": [
    "x[np.argmin(y)]"
   ]
  },
  {
   "cell_type": "code",
   "execution_count": 56,
   "metadata": {},
   "outputs": [
    {
     "data": {
      "image/png": "[encoded data removed]",
      "text/plain": [
       "<matplotlib.figure.Figure at 0x7fd97b2c46d8>"
      ]
     },
     "metadata": {},
     "output_type": "display_data"
    }
   ],
   "source": [
    "fenetre = 5\n",
    "ym = moyennage(y,fenetre)\n",
    "display_evol_erreur(x,ym,\"le seuil\")"
   ]
  },
  {
   "cell_type": "code",
   "execution_count": 33,
   "metadata": {},
   "outputs": [
    {
     "data": {
      "text/plain": [
       "0.71999999999999997"
      ]
     },
     "execution_count": 33,
     "metadata": {},
     "output_type": "execute_result"
    }
   ],
   "source": [
    "x[np.argmin(ym)]"
   ]
  },
  {
   "cell_type": "code",
   "execution_count": 34,
   "metadata": {
    "collapsed": true
   },
   "outputs": [],
   "source": [
    "Index_op = np.nonzero(seuil(coefs,x[np.argmin(ym)]))[0]\n",
    "XOP = X.iloc[:,Index_op]"
   ]
  },
  {
   "cell_type": "code",
   "execution_count": 39,
   "metadata": {
    "scrolled": true
   },
   "outputs": [
    {
     "data": {
      "text/plain": [
       "0.028443247872131039"
      ]
     },
     "execution_count": 39,
     "metadata": {},
     "output_type": "execute_result"
    }
   ],
   "source": [
    "avg_logloss_cv(X=XOP,Y=Y[1],cv=kfold,classifier=LogR2)"
   ]
  },
  {
   "cell_type": "code",
   "execution_count": 40,
   "metadata": {
    "scrolled": true
   },
   "outputs": [
    {
     "data": {
      "text/plain": [
       "0.95232261835184095"
      ]
     },
     "execution_count": 40,
     "metadata": {},
     "output_type": "execute_result"
    }
   ],
   "source": [
    "avg_score_cv(X=XOP,Y=Y[1],cv=kfold,classifier=LogR2)"
   ]
  },
  {
   "cell_type": "code",
   "execution_count": null,
   "metadata": {
    "collapsed": true
   },
   "outputs": [],
   "source": [
    "Plt = pd.read_csv(\"epilung/epilung_platform-refined.csv\",index_col=0)\n",
    "Plt.loc[XOP.columns.values]"
   ]
  },
  {
   "cell_type": "code",
   "execution_count": 55,
   "metadata": {
    "collapsed": true
   },
   "outputs": [],
   "source": [
    "XOP.to_csv(rf'epilung/X_classification-{nmois}-{C}.csv')"
   ]
  },
  {
   "cell_type": "markdown",
   "metadata": {},
   "source": [
    "$C=0.157$"
   ]
  },
  {
   "cell_type": "code",
   "execution_count": 54,
   "metadata": {
    "collapsed": true
   },
   "outputs": [],
   "source": [
    "C = 0.157\n",
    "LogR1 = LogisticRegression(penalty='l1',C=C)\n",
    "LogR2 = LogisticRegression(penalty='l2',C=C)"
   ]
  },
  {
   "cell_type": "code",
   "execution_count": null,
   "metadata": {
    "collapsed": true
   },
   "outputs": [],
   "source": [
    "x,y = select_features(X,Y[1],logR1,logR2)"
   ]
  },
  {
   "cell_type": "code",
   "execution_count": 38,
   "metadata": {},
   "outputs": [
    {
     "data": {
      "image/png": "[encoded data removed]",
      "text/plain": [
       "<matplotlib.figure.Figure at 0x7f2071d32940>"
      ]
     },
     "metadata": {},
     "output_type": "display_data"
    }
   ],
   "source": [
    "display_evol_erreur(x,y,\"le seuil\")"
   ]
  },
  {
   "cell_type": "code",
   "execution_count": 58,
   "metadata": {},
   "outputs": [
    {
     "data": {
      "text/plain": [
       "0.02"
      ]
     },
     "execution_count": 58,
     "metadata": {},
     "output_type": "execute_result"
    }
   ],
   "source": [
    "x[np.argmin(y)]"
   ]
  },
  {
   "cell_type": "code",
   "execution_count": 43,
   "metadata": {},
   "outputs": [
    {
     "data": {
      "text/plain": [
       "[<matplotlib.lines.Line2D at 0x7f20716dcb00>]"
      ]
     },
     "execution_count": 43,
     "metadata": {},
     "output_type": "execute_result"
    },
    {
     "data": {
      "image/png": "[encoded data removed]",
      "text/plain": [
       "<matplotlib.figure.Figure at 0x7f2071761390>"
      ]
     },
     "metadata": {},
     "output_type": "display_data"
    }
   ],
   "source": [
    "fenetre = 7\n",
    "ym = moyennage(y,7)\n",
    "display_evol_erreur(x,ym,'le seuil')"
   ]
  },
  {
   "cell_type": "code",
   "execution_count": 58,
   "metadata": {},
   "outputs": [
    {
     "data": {
      "text/plain": [
       "0.02"
      ]
     },
     "execution_count": 58,
     "metadata": {},
     "output_type": "execute_result"
    }
   ],
   "source": [
    "x[np.argmin(ym)]"
   ]
  },
  {
   "cell_type": "code",
   "execution_count": 47,
   "metadata": {
    "collapsed": true
   },
   "outputs": [],
   "source": [
    "Index_op = np.nonzero(seuil(coefs,x[np.argmin(ym)]))[0]\n",
    "XOP = X.iloc[:,Index_op]"
   ]
  },
  {
   "cell_type": "code",
   "execution_count": 39,
   "metadata": {
    "scrolled": true
   },
   "outputs": [
    {
     "data": {
      "text/plain": [
       "0.028443247872131039"
      ]
     },
     "execution_count": 39,
     "metadata": {},
     "output_type": "execute_result"
    }
   ],
   "source": [
    "avg_logloss_cv(X=XOP,Y=Y[1],cv=kfold,classifier=LogR2)"
   ]
  },
  {
   "cell_type": "code",
   "execution_count": 40,
   "metadata": {
    "scrolled": true
   },
   "outputs": [
    {
     "data": {
      "text/plain": [
       "0.95232261835184095"
      ]
     },
     "execution_count": 40,
     "metadata": {},
     "output_type": "execute_result"
    }
   ],
   "source": [
    "avg_score_cv(X=XOP,Y=Y[1],cv=kfold,classifier=LogR2)"
   ]
  },
  {
   "cell_type": "code",
   "execution_count": null,
   "metadata": {
    "collapsed": true
   },
   "outputs": [],
   "source": [
    "Plt = pd.read_csv(\"epilung/epilung_platform-refined.csv\",index_col=0)\n",
    "Plt.loc[XOP.columns.values]"
   ]
  },
  {
   "cell_type": "code",
   "execution_count": 55,
   "metadata": {
    "collapsed": true
   },
   "outputs": [],
   "source": [
    "XOP.to_csv(rf'epilung/X_classification-{nmois}-{C}.csv')"
   ]
  },
  {
   "cell_type": "markdown",
   "metadata": {},
   "source": [
    "##### Recherche de paramètre"
   ]
  },
  {
   "cell_type": "markdown",
   "metadata": {},
   "source": [
    "On cherche la valeur optimale de $C$ pour la pénalisation $l_2$"
   ]
  },
  {
   "cell_type": "code",
   "execution_count": 81,
   "metadata": {
    "collapsed": true
   },
   "outputs": [],
   "source": [
    "import itertools"
   ]
  },
  {
   "cell_type": "code",
   "execution_count": null,
   "metadata": {
    "collapsed": true
   },
   "outputs": [],
   "source": [
    "for k in itertools.product(C_val,C_val):\n",
    "    print(k)"
   ]
  },
  {
   "cell_type": "code",
   "execution_count": 165,
   "metadata": {
    "collapsed": true
   },
   "outputs": [],
   "source": [
    "def stat_logloss_cv(X=None,Y=None,classifier=None,cv=None,N=100):\n",
    "    l = []\n",
    "    for i in range(N):\n",
    "        l.append(classifier.logloss())\n",
    "    moyenne = np.mean(l)\n",
    "    variance = np.mean((l-moyenne)**2)\n",
    "    return moyenne,variance"
   ]
  },
  {
   "cell_type": "code",
   "execution_count": 181,
   "metadata": {
    "collapsed": true
   },
   "outputs": [],
   "source": [
    "def GridLoss(X,Y,classifier,arrays,params,cv,n_iter):\n",
    "    perte = []\n",
    "    variance = []\n",
    "    for k in itertools.product(arrays):\n",
    "        #print(f\"{k}\")\n",
    "        for (p,v) in zip(params,k):\n",
    "            classifier.objetSK.set_params(**{p:v})\n",
    "        mu,var = stat_logloss_cv(X=X,Y=Y,cv=cv,classifier=classifier,N=n_iter)\n",
    "        perte.append(mu)\n",
    "        variance.append(var)\n",
    "    return perte,variance"
   ]
  },
  {
   "cell_type": "code",
   "execution_count": null,
   "metadata": {
    "collapsed": true
   },
   "outputs": [],
   "source": [
    "C_val = np.arange(1.0,5000.0,1)\n",
    "perte,variance = GridLoss(XOP,Y[1],LogR2,C_val,['C'],kfold,10)"
   ]
  },
  {
   "cell_type": "code",
   "execution_count": 170,
   "metadata": {},
   "outputs": [
    {
     "data": {
      "image/png": "[encoded data removed]",
      "text/plain": [
       "<matplotlib.figure.Figure at 0x7fd9792ad278>"
      ]
     },
     "metadata": {},
     "output_type": "display_data"
    }
   ],
   "source": [
    "display_evol(C_val,perte)"
   ]
  },
  {
   "cell_type": "code",
   "execution_count": 171,
   "metadata": {},
   "outputs": [
    {
     "data": {
      "image/png": "[encoded data removed]",
      "text/plain": [
       "<matplotlib.figure.Figure at 0x7fd97b3a98d0>"
      ]
     },
     "metadata": {},
     "output_type": "display_data"
    }
   ],
   "source": [
    "display_evol(C_val,variance)"
   ]
  },
  {
   "cell_type": "code",
   "execution_count": 180,
   "metadata": {},
   "outputs": [
    {
     "data": {
      "image/png": "[encoded data removed]",
      "text/plain": [
       "<matplotlib.figure.Figure at 0x7fd9790a26d8>"
      ]
     },
     "metadata": {},
     "output_type": "display_data"
    }
   ],
   "source": [
    "ym = moyennage(perte,1)\n",
    "display_evol(C_val,ym)"
   ]
  },
  {
   "cell_type": "markdown",
   "metadata": {},
   "source": [
    "#### n=60 mois"
   ]
  },
  {
   "cell_type": "code",
   "execution_count": 263,
   "metadata": {
    "collapsed": true
   },
   "outputs": [],
   "source": [
    "nmois = 60"
   ]
  },
  {
   "cell_type": "code",
   "execution_count": 10,
   "metadata": {
    "collapsed": true
   },
   "outputs": [],
   "source": [
    "base = 'epilung'"
   ]
  },
  {
   "cell_type": "code",
   "execution_count": 11,
   "metadata": {
    "collapsed": true
   },
   "outputs": [],
   "source": [
    "X = pd.read_csv(base+rf'/X_classification-{nmois}.csv',index_col=0)\n",
    "Y = pd.read_csv(base+rf'/Y_classification-{nmois}.csv',index_col=0,header=None)"
   ]
  },
  {
   "cell_type": "code",
   "execution_count": 8,
   "metadata": {
    "collapsed": true
   },
   "outputs": [],
   "source": [
    "kfold = KFold(n_splits = 5,shuffle=True)"
   ]
  },
  {
   "cell_type": "code",
   "execution_count": 126,
   "metadata": {
    "collapsed": true
   },
   "outputs": [],
   "source": [
    "cl = imp.reload(cl)"
   ]
  },
  {
   "cell_type": "code",
   "execution_count": 264,
   "metadata": {
    "collapsed": true,
    "scrolled": true
   },
   "outputs": [],
   "source": [
    "LogR2 = cl.LinearClassifieur(LogisticRegression(penalty='l2',C=1.0),nmois,rkfold,X=X,Y=Y[1])\n",
    "LogR1 = cl.LinearClassifieur(LogisticRegression(penalty=\"l1\",C=1.0),nmois,rkfold,X=X,Y=Y[1])"
   ]
  },
  {
   "cell_type": "markdown",
   "metadata": {},
   "source": [
    "On commence par se donner une idée des scores de base"
   ]
  },
  {
   "cell_type": "code",
   "execution_count": 31,
   "metadata": {
    "scrolled": true
   },
   "outputs": [
    {
     "data": {
      "text/plain": [
       "(0.21298954737264228, 9.9179464304644476e-05)"
      ]
     },
     "execution_count": 31,
     "metadata": {},
     "output_type": "execute_result"
    }
   ],
   "source": [
    "LogR2.stat_logloss()"
   ]
  },
  {
   "cell_type": "code",
   "execution_count": 33,
   "metadata": {},
   "outputs": [
    {
     "data": {
      "text/plain": [
       "(0.64088836937463467, 0.00021400645802369914)"
      ]
     },
     "execution_count": 33,
     "metadata": {},
     "output_type": "execute_result"
    }
   ],
   "source": [
    "LogR2.stat_score(N=10)"
   ]
  },
  {
   "cell_type": "code",
   "execution_count": 34,
   "metadata": {},
   "outputs": [
    {
     "data": {
      "text/plain": [
       "(0.20979874839845816, 6.3989989908250125e-05)"
      ]
     },
     "execution_count": 34,
     "metadata": {},
     "output_type": "execute_result"
    }
   ],
   "source": [
    "LogR1.stat_logloss(N=10)"
   ]
  },
  {
   "cell_type": "code",
   "execution_count": 35,
   "metadata": {},
   "outputs": [
    {
     "data": {
      "text/plain": [
       "(0.6355581531268264, 0.00045697038552413476)"
      ]
     },
     "execution_count": 35,
     "metadata": {},
     "output_type": "execute_result"
    }
   ],
   "source": [
    "LogR1.stat_score(N=10)"
   ]
  },
  {
   "cell_type": "code",
   "execution_count": 23,
   "metadata": {
    "collapsed": true
   },
   "outputs": [],
   "source": [
    "def display_evol_erreur(x,y,parameter_name):\n",
    "    plt.plot(x,y)\n",
    "    plt.ylabel(\"Log loss\")\n",
    "    plt.xlabel(f\"{parameter_name}\")\n",
    "    plt.title(f\"Evolution de la perte moyenne selon {parameter_name}\")\n",
    "    plt.show()"
   ]
  },
  {
   "cell_type": "code",
   "execution_count": 21,
   "metadata": {
    "collapsed": true
   },
   "outputs": [],
   "source": [
    "def erreur_seuil(x,classifier):\n",
    "    y = []\n",
    "    for k in x:\n",
    "        Index_k = np.nonzero(seuil(coefs,k))[0]\n",
    "        Xk = X.iloc[:,Index_k]\n",
    "        y.append(avg_logloss_cv(X=Xk,Y=Y[1],cv=kfold,classifier=classifier))\n",
    "    return y"
   ]
  },
  {
   "cell_type": "code",
   "execution_count": 22,
   "metadata": {
    "collapsed": true
   },
   "outputs": [],
   "source": [
    "def erreur_C(X,Y,C_val,classifier,cv):\n",
    "    perte = []\n",
    "    for C in C_val:\n",
    "        classifier.set_params(C=C)\n",
    "        perte.append(avg_logloss_cv(X=X,Y=Y,cv=cv,classifier=classifier))\n",
    "    return perte"
   ]
  },
  {
   "cell_type": "markdown",
   "metadata": {},
   "source": [
    "#### Feature selection"
   ]
  },
  {
   "cell_type": "code",
   "execution_count": 74,
   "metadata": {
    "collapsed": true
   },
   "outputs": [],
   "source": [
    "from timeit import default_timer as timer"
   ]
  },
  {
   "cell_type": "code",
   "execution_count": 20,
   "metadata": {
    "collapsed": true
   },
   "outputs": [],
   "source": [
    "def moyennage(signal,taille_fenetre):\n",
    "    sortie = []\n",
    "    n = len(signal)\n",
    "    for i in range(n):\n",
    "        fenetre = signal[max(0,i-taille_fenetre):min(n,i+taille_fenetre)]\n",
    "        avg = sum(fenetre)\n",
    "        sortie.append(avg/len(fenetre))\n",
    "    return sortie"
   ]
  },
  {
   "cell_type": "code",
   "execution_count": 42,
   "metadata": {
    "collapsed": true
   },
   "outputs": [],
   "source": [
    "def display_evol(x,y,std=None,title=\"\",xlabel=\"\",ylabel=\"\",):\n",
    "    plt.plot(x,y)\n",
    "    if std is not None:\n",
    "        plt.fill_between(x,y+std,y-std,facecolor='yellow',alpha=0.5)\n",
    "    plt.ylabel(ylabel)\n",
    "    plt.xlabel(xlabel)\n",
    "    plt.title(title)\n",
    "    plt.show()"
   ]
  },
  {
   "cell_type": "code",
   "execution_count": 23,
   "metadata": {
    "collapsed": true
   },
   "outputs": [],
   "source": [
    "def seuil(Array,S):\n",
    "    f_s = lambda x: int(x > S)\n",
    "    f = np.vectorize(f_s)\n",
    "    return f(Array)"
   ]
  },
  {
   "cell_type": "code",
   "execution_count": 53,
   "metadata": {
    "collapsed": true
   },
   "outputs": [],
   "source": [
    "def select_features(X,Y,pourcentage,classifierTest,N=100):\n",
    "    seuil_grid = np.arange(0,1,0.01)\n",
    "    moy,var = classifierTest.stat_seuil(seuil_grid,pourcentage,X=X,Y=Y,N=N)\n",
    "    return (x,y)"
   ]
  },
  {
   "cell_type": "code",
   "execution_count": null,
   "metadata": {
    "collapsed": true
   },
   "outputs": [],
   "source": [
    "ResLogR1_60 = LogR1.feature_relevance()"
   ]
  },
  {
   "cell_type": "code",
   "execution_count": null,
   "metadata": {
    "collapsed": true
   },
   "outputs": [],
   "source": [
    "ResLogR1_60.stat_m()"
   ]
  },
  {
   "cell_type": "code",
   "execution_count": null,
   "metadata": {
    "collapsed": true
   },
   "outputs": [],
   "source": [
    "ResLogR1_60.stat_v(redo_m=True)"
   ]
  },
  {
   "cell_type": "code",
   "execution_count": null,
   "metadata": {
    "collapsed": true
   },
   "outputs": [],
   "source": [
    "ResLogR1_60.stat_percentage()"
   ]
  },
  {
   "cell_type": "code",
   "execution_count": null,
   "metadata": {
    "collapsed": true
   },
   "outputs": [],
   "source": [
    "ResLogR1_60.save(filename='Stat.C.Log-60_0.csv',replace=False,number=0)"
   ]
  },
  {
   "cell_type": "code",
   "execution_count": null,
   "metadata": {
    "collapsed": true
   },
   "outputs": [],
   "source": [
    "ResLogR1_60 = cl.load_resultat(info={\"base\":'epilung',\"predicteur_type\":'C',\"id\":0,\"predicteur\":\"Log\",\"nmois\":60})"
   ]
  },
  {
   "cell_type": "code",
   "execution_count": null,
   "metadata": {
    "collapsed": true,
    "scrolled": true
   },
   "outputs": [],
   "source": [
    "seuil_grid = np.arange(0.1,1.0,0.01)\n",
    "m2,s2,x2 = LogR2.stat_seuil(seuil_grid,ResLogR1_60.data['coef_'].loc['percentage'])"
   ]
  },
  {
   "cell_type": "code",
   "execution_count": null,
   "metadata": {
    "collapsed": true
   },
   "outputs": [],
   "source": [
    "moy2 = np.array(m2['logloss'])\n",
    "std2 = np.array(s2['logloss'])"
   ]
  },
  {
   "cell_type": "code",
   "execution_count": null,
   "metadata": {
    "collapsed": true
   },
   "outputs": [],
   "source": [
    "percentage = ResLogR1_60.data['coef_'].loc['percentage']\n",
    "compare = x[np.argmin(moy2)] * np.ones(len(percentage))\n",
    "index_percent = np.greater(percentage,compare)\n",
    "I = percentage.loc[index_percent].index\n",
    "Xk2 = X[I]"
   ]
  },
  {
   "cell_type": "code",
   "execution_count": null,
   "metadata": {
    "collapsed": true
   },
   "outputs": [],
   "source": [
    "Xk2.columns"
   ]
  },
  {
   "cell_type": "code",
   "execution_count": 276,
   "metadata": {
    "collapsed": true
   },
   "outputs": [
    {
     "data": {
      "text/html": [
       "<div>\n",
       "<style scoped>\n",
       "    .dataframe tbody tr th:only-of-type {\n",
       "        vertical-align: middle;\n",
       "    }\n",
       "\n",
       "    .dataframe tbody tr th {\n",
       "        vertical-align: top;\n",
       "    }\n",
       "\n",
       "    .dataframe thead tr th {\n",
       "        text-align: left;\n",
       "    }\n",
       "</style>\n",
       "<table border=\"1\" class=\"dataframe\">\n",
       "  <thead>\n",
       "    <tr>\n",
       "      <th></th>\n",
       "      <th>metrics</th>\n",
       "      <th colspan=\"20\" halign=\"left\">coef_</th>\n",
       "    </tr>\n",
       "    <tr>\n",
       "      <th>probe</th>\n",
       "      <th>logloss</th>\n",
       "      <th>1007_s_at</th>\n",
       "      <th>1053_at</th>\n",
       "      <th>117_at</th>\n",
       "      <th>121_at</th>\n",
       "      <th>1255_g_at</th>\n",
       "      <th>1294_at</th>\n",
       "      <th>1316_at</th>\n",
       "      <th>1320_at</th>\n",
       "      <th>1405_i_at</th>\n",
       "      <th>...</th>\n",
       "      <th>AFFX-r2-Bs-thr-M_s_at</th>\n",
       "      <th>AFFX-r2-Ec-bioB-3_at</th>\n",
       "      <th>AFFX-r2-Ec-bioB-5_at</th>\n",
       "      <th>AFFX-r2-Ec-bioB-M_at</th>\n",
       "      <th>AFFX-r2-Ec-bioC-3_at</th>\n",
       "      <th>AFFX-r2-Ec-bioC-5_at</th>\n",
       "      <th>AFFX-r2-Ec-bioD-3_at</th>\n",
       "      <th>AFFX-r2-Ec-bioD-5_at</th>\n",
       "      <th>AFFX-r2-P1-cre-3_at</th>\n",
       "      <th>AFFX-r2-P1-cre-5_at</th>\n",
       "    </tr>\n",
       "  </thead>\n",
       "  <tbody>\n",
       "    <tr>\n",
       "      <th>0</th>\n",
       "      <td>0.008891</td>\n",
       "      <td>0.000000e+00</td>\n",
       "      <td>0.0</td>\n",
       "      <td>0.000000e+00</td>\n",
       "      <td>0.0</td>\n",
       "      <td>0.000000</td>\n",
       "      <td>0.0</td>\n",
       "      <td>0.0</td>\n",
       "      <td>0.0</td>\n",
       "      <td>0.0</td>\n",
       "      <td>...</td>\n",
       "      <td>0.0</td>\n",
       "      <td>0.0</td>\n",
       "      <td>0.000000e+00</td>\n",
       "      <td>0.0</td>\n",
       "      <td>0.000000e+00</td>\n",
       "      <td>0.0</td>\n",
       "      <td>0.000000e+00</td>\n",
       "      <td>0.000000e+00</td>\n",
       "      <td>0.000000e+00</td>\n",
       "      <td>0.000000e+00</td>\n",
       "    </tr>\n",
       "    <tr>\n",
       "      <th>1</th>\n",
       "      <td>0.004888</td>\n",
       "      <td>0.000000e+00</td>\n",
       "      <td>0.0</td>\n",
       "      <td>0.000000e+00</td>\n",
       "      <td>0.0</td>\n",
       "      <td>0.000000</td>\n",
       "      <td>0.0</td>\n",
       "      <td>0.0</td>\n",
       "      <td>0.0</td>\n",
       "      <td>0.0</td>\n",
       "      <td>...</td>\n",
       "      <td>0.0</td>\n",
       "      <td>0.0</td>\n",
       "      <td>0.000000e+00</td>\n",
       "      <td>0.0</td>\n",
       "      <td>0.000000e+00</td>\n",
       "      <td>0.0</td>\n",
       "      <td>0.000000e+00</td>\n",
       "      <td>0.000000e+00</td>\n",
       "      <td>0.000000e+00</td>\n",
       "      <td>0.000000e+00</td>\n",
       "    </tr>\n",
       "    <tr>\n",
       "      <th>2</th>\n",
       "      <td>0.008754</td>\n",
       "      <td>0.000000e+00</td>\n",
       "      <td>0.0</td>\n",
       "      <td>0.000000e+00</td>\n",
       "      <td>0.0</td>\n",
       "      <td>-0.010254</td>\n",
       "      <td>0.0</td>\n",
       "      <td>0.0</td>\n",
       "      <td>0.0</td>\n",
       "      <td>0.0</td>\n",
       "      <td>...</td>\n",
       "      <td>0.0</td>\n",
       "      <td>0.0</td>\n",
       "      <td>0.000000e+00</td>\n",
       "      <td>0.0</td>\n",
       "      <td>0.000000e+00</td>\n",
       "      <td>0.0</td>\n",
       "      <td>0.000000e+00</td>\n",
       "      <td>0.000000e+00</td>\n",
       "      <td>0.000000e+00</td>\n",
       "      <td>0.000000e+00</td>\n",
       "    </tr>\n",
       "    <tr>\n",
       "      <th>3</th>\n",
       "      <td>0.017928</td>\n",
       "      <td>0.000000e+00</td>\n",
       "      <td>0.0</td>\n",
       "      <td>0.000000e+00</td>\n",
       "      <td>0.0</td>\n",
       "      <td>-0.028330</td>\n",
       "      <td>0.0</td>\n",
       "      <td>0.0</td>\n",
       "      <td>0.0</td>\n",
       "      <td>0.0</td>\n",
       "      <td>...</td>\n",
       "      <td>0.0</td>\n",
       "      <td>0.0</td>\n",
       "      <td>0.000000e+00</td>\n",
       "      <td>0.0</td>\n",
       "      <td>0.000000e+00</td>\n",
       "      <td>0.0</td>\n",
       "      <td>0.000000e+00</td>\n",
       "      <td>0.000000e+00</td>\n",
       "      <td>0.000000e+00</td>\n",
       "      <td>0.000000e+00</td>\n",
       "    </tr>\n",
       "    <tr>\n",
       "      <th>4</th>\n",
       "      <td>0.011611</td>\n",
       "      <td>0.000000e+00</td>\n",
       "      <td>0.0</td>\n",
       "      <td>-4.218628e-03</td>\n",
       "      <td>0.0</td>\n",
       "      <td>0.000000</td>\n",
       "      <td>0.0</td>\n",
       "      <td>0.0</td>\n",
       "      <td>0.0</td>\n",
       "      <td>0.0</td>\n",
       "      <td>...</td>\n",
       "      <td>0.0</td>\n",
       "      <td>0.0</td>\n",
       "      <td>0.000000e+00</td>\n",
       "      <td>0.0</td>\n",
       "      <td>0.000000e+00</td>\n",
       "      <td>0.0</td>\n",
       "      <td>0.000000e+00</td>\n",
       "      <td>0.000000e+00</td>\n",
       "      <td>0.000000e+00</td>\n",
       "      <td>0.000000e+00</td>\n",
       "    </tr>\n",
       "    <tr>\n",
       "      <th>5</th>\n",
       "      <td>0.008355</td>\n",
       "      <td>0.000000e+00</td>\n",
       "      <td>0.0</td>\n",
       "      <td>0.000000e+00</td>\n",
       "      <td>0.0</td>\n",
       "      <td>-0.012497</td>\n",
       "      <td>0.0</td>\n",
       "      <td>0.0</td>\n",
       "      <td>0.0</td>\n",
       "      <td>0.0</td>\n",
       "      <td>...</td>\n",
       "      <td>0.0</td>\n",
       "      <td>0.0</td>\n",
       "      <td>0.000000e+00</td>\n",
       "      <td>0.0</td>\n",
       "      <td>0.000000e+00</td>\n",
       "      <td>0.0</td>\n",
       "      <td>0.000000e+00</td>\n",
       "      <td>0.000000e+00</td>\n",
       "      <td>0.000000e+00</td>\n",
       "      <td>0.000000e+00</td>\n",
       "    </tr>\n",
       "    <tr>\n",
       "      <th>6</th>\n",
       "      <td>0.008986</td>\n",
       "      <td>0.000000e+00</td>\n",
       "      <td>0.0</td>\n",
       "      <td>0.000000e+00</td>\n",
       "      <td>0.0</td>\n",
       "      <td>0.000000</td>\n",
       "      <td>0.0</td>\n",
       "      <td>0.0</td>\n",
       "      <td>0.0</td>\n",
       "      <td>0.0</td>\n",
       "      <td>...</td>\n",
       "      <td>0.0</td>\n",
       "      <td>0.0</td>\n",
       "      <td>0.000000e+00</td>\n",
       "      <td>0.0</td>\n",
       "      <td>0.000000e+00</td>\n",
       "      <td>0.0</td>\n",
       "      <td>0.000000e+00</td>\n",
       "      <td>0.000000e+00</td>\n",
       "      <td>0.000000e+00</td>\n",
       "      <td>0.000000e+00</td>\n",
       "    </tr>\n",
       "    <tr>\n",
       "      <th>7</th>\n",
       "      <td>0.013733</td>\n",
       "      <td>0.000000e+00</td>\n",
       "      <td>0.0</td>\n",
       "      <td>0.000000e+00</td>\n",
       "      <td>0.0</td>\n",
       "      <td>0.000000</td>\n",
       "      <td>0.0</td>\n",
       "      <td>0.0</td>\n",
       "      <td>0.0</td>\n",
       "      <td>0.0</td>\n",
       "      <td>...</td>\n",
       "      <td>0.0</td>\n",
       "      <td>0.0</td>\n",
       "      <td>0.000000e+00</td>\n",
       "      <td>0.0</td>\n",
       "      <td>0.000000e+00</td>\n",
       "      <td>0.0</td>\n",
       "      <td>0.000000e+00</td>\n",
       "      <td>0.000000e+00</td>\n",
       "      <td>0.000000e+00</td>\n",
       "      <td>0.000000e+00</td>\n",
       "    </tr>\n",
       "    <tr>\n",
       "      <th>8</th>\n",
       "      <td>0.014210</td>\n",
       "      <td>0.000000e+00</td>\n",
       "      <td>0.0</td>\n",
       "      <td>0.000000e+00</td>\n",
       "      <td>0.0</td>\n",
       "      <td>-0.001153</td>\n",
       "      <td>0.0</td>\n",
       "      <td>0.0</td>\n",
       "      <td>0.0</td>\n",
       "      <td>0.0</td>\n",
       "      <td>...</td>\n",
       "      <td>0.0</td>\n",
       "      <td>0.0</td>\n",
       "      <td>0.000000e+00</td>\n",
       "      <td>0.0</td>\n",
       "      <td>0.000000e+00</td>\n",
       "      <td>0.0</td>\n",
       "      <td>0.000000e+00</td>\n",
       "      <td>0.000000e+00</td>\n",
       "      <td>0.000000e+00</td>\n",
       "      <td>0.000000e+00</td>\n",
       "    </tr>\n",
       "    <tr>\n",
       "      <th>9</th>\n",
       "      <td>0.007332</td>\n",
       "      <td>0.000000e+00</td>\n",
       "      <td>0.0</td>\n",
       "      <td>0.000000e+00</td>\n",
       "      <td>0.0</td>\n",
       "      <td>0.000000</td>\n",
       "      <td>0.0</td>\n",
       "      <td>0.0</td>\n",
       "      <td>0.0</td>\n",
       "      <td>0.0</td>\n",
       "      <td>...</td>\n",
       "      <td>0.0</td>\n",
       "      <td>0.0</td>\n",
       "      <td>0.000000e+00</td>\n",
       "      <td>0.0</td>\n",
       "      <td>0.000000e+00</td>\n",
       "      <td>0.0</td>\n",
       "      <td>0.000000e+00</td>\n",
       "      <td>0.000000e+00</td>\n",
       "      <td>0.000000e+00</td>\n",
       "      <td>0.000000e+00</td>\n",
       "    </tr>\n",
       "    <tr>\n",
       "      <th>10</th>\n",
       "      <td>0.014052</td>\n",
       "      <td>0.000000e+00</td>\n",
       "      <td>0.0</td>\n",
       "      <td>0.000000e+00</td>\n",
       "      <td>0.0</td>\n",
       "      <td>0.000000</td>\n",
       "      <td>0.0</td>\n",
       "      <td>0.0</td>\n",
       "      <td>0.0</td>\n",
       "      <td>0.0</td>\n",
       "      <td>...</td>\n",
       "      <td>0.0</td>\n",
       "      <td>0.0</td>\n",
       "      <td>0.000000e+00</td>\n",
       "      <td>0.0</td>\n",
       "      <td>0.000000e+00</td>\n",
       "      <td>0.0</td>\n",
       "      <td>0.000000e+00</td>\n",
       "      <td>0.000000e+00</td>\n",
       "      <td>0.000000e+00</td>\n",
       "      <td>0.000000e+00</td>\n",
       "    </tr>\n",
       "    <tr>\n",
       "      <th>11</th>\n",
       "      <td>0.007695</td>\n",
       "      <td>0.000000e+00</td>\n",
       "      <td>0.0</td>\n",
       "      <td>0.000000e+00</td>\n",
       "      <td>0.0</td>\n",
       "      <td>0.000000</td>\n",
       "      <td>0.0</td>\n",
       "      <td>0.0</td>\n",
       "      <td>0.0</td>\n",
       "      <td>0.0</td>\n",
       "      <td>...</td>\n",
       "      <td>0.0</td>\n",
       "      <td>0.0</td>\n",
       "      <td>0.000000e+00</td>\n",
       "      <td>0.0</td>\n",
       "      <td>0.000000e+00</td>\n",
       "      <td>0.0</td>\n",
       "      <td>0.000000e+00</td>\n",
       "      <td>0.000000e+00</td>\n",
       "      <td>0.000000e+00</td>\n",
       "      <td>0.000000e+00</td>\n",
       "    </tr>\n",
       "    <tr>\n",
       "      <th>12</th>\n",
       "      <td>0.009472</td>\n",
       "      <td>0.000000e+00</td>\n",
       "      <td>0.0</td>\n",
       "      <td>0.000000e+00</td>\n",
       "      <td>0.0</td>\n",
       "      <td>0.000000</td>\n",
       "      <td>0.0</td>\n",
       "      <td>0.0</td>\n",
       "      <td>0.0</td>\n",
       "      <td>0.0</td>\n",
       "      <td>...</td>\n",
       "      <td>0.0</td>\n",
       "      <td>0.0</td>\n",
       "      <td>0.000000e+00</td>\n",
       "      <td>0.0</td>\n",
       "      <td>0.000000e+00</td>\n",
       "      <td>0.0</td>\n",
       "      <td>0.000000e+00</td>\n",
       "      <td>0.000000e+00</td>\n",
       "      <td>0.000000e+00</td>\n",
       "      <td>0.000000e+00</td>\n",
       "    </tr>\n",
       "    <tr>\n",
       "      <th>13</th>\n",
       "      <td>0.009409</td>\n",
       "      <td>0.000000e+00</td>\n",
       "      <td>0.0</td>\n",
       "      <td>0.000000e+00</td>\n",
       "      <td>0.0</td>\n",
       "      <td>-0.008325</td>\n",
       "      <td>0.0</td>\n",
       "      <td>0.0</td>\n",
       "      <td>0.0</td>\n",
       "      <td>0.0</td>\n",
       "      <td>...</td>\n",
       "      <td>0.0</td>\n",
       "      <td>0.0</td>\n",
       "      <td>0.000000e+00</td>\n",
       "      <td>0.0</td>\n",
       "      <td>0.000000e+00</td>\n",
       "      <td>0.0</td>\n",
       "      <td>0.000000e+00</td>\n",
       "      <td>0.000000e+00</td>\n",
       "      <td>0.000000e+00</td>\n",
       "      <td>0.000000e+00</td>\n",
       "    </tr>\n",
       "    <tr>\n",
       "      <th>14</th>\n",
       "      <td>0.013136</td>\n",
       "      <td>0.000000e+00</td>\n",
       "      <td>0.0</td>\n",
       "      <td>0.000000e+00</td>\n",
       "      <td>0.0</td>\n",
       "      <td>0.000000</td>\n",
       "      <td>0.0</td>\n",
       "      <td>0.0</td>\n",
       "      <td>0.0</td>\n",
       "      <td>0.0</td>\n",
       "      <td>...</td>\n",
       "      <td>0.0</td>\n",
       "      <td>0.0</td>\n",
       "      <td>0.000000e+00</td>\n",
       "      <td>0.0</td>\n",
       "      <td>0.000000e+00</td>\n",
       "      <td>0.0</td>\n",
       "      <td>0.000000e+00</td>\n",
       "      <td>0.000000e+00</td>\n",
       "      <td>0.000000e+00</td>\n",
       "      <td>0.000000e+00</td>\n",
       "    </tr>\n",
       "    <tr>\n",
       "      <th>15</th>\n",
       "      <td>0.012031</td>\n",
       "      <td>0.000000e+00</td>\n",
       "      <td>0.0</td>\n",
       "      <td>0.000000e+00</td>\n",
       "      <td>0.0</td>\n",
       "      <td>0.000000</td>\n",
       "      <td>0.0</td>\n",
       "      <td>0.0</td>\n",
       "      <td>0.0</td>\n",
       "      <td>0.0</td>\n",
       "      <td>...</td>\n",
       "      <td>0.0</td>\n",
       "      <td>0.0</td>\n",
       "      <td>4.641332e-05</td>\n",
       "      <td>0.0</td>\n",
       "      <td>0.000000e+00</td>\n",
       "      <td>0.0</td>\n",
       "      <td>0.000000e+00</td>\n",
       "      <td>0.000000e+00</td>\n",
       "      <td>0.000000e+00</td>\n",
       "      <td>0.000000e+00</td>\n",
       "    </tr>\n",
       "    <tr>\n",
       "      <th>16</th>\n",
       "      <td>0.009539</td>\n",
       "      <td>0.000000e+00</td>\n",
       "      <td>0.0</td>\n",
       "      <td>0.000000e+00</td>\n",
       "      <td>0.0</td>\n",
       "      <td>0.000000</td>\n",
       "      <td>0.0</td>\n",
       "      <td>0.0</td>\n",
       "      <td>0.0</td>\n",
       "      <td>0.0</td>\n",
       "      <td>...</td>\n",
       "      <td>0.0</td>\n",
       "      <td>0.0</td>\n",
       "      <td>0.000000e+00</td>\n",
       "      <td>0.0</td>\n",
       "      <td>0.000000e+00</td>\n",
       "      <td>0.0</td>\n",
       "      <td>0.000000e+00</td>\n",
       "      <td>0.000000e+00</td>\n",
       "      <td>0.000000e+00</td>\n",
       "      <td>0.000000e+00</td>\n",
       "    </tr>\n",
       "    <tr>\n",
       "      <th>17</th>\n",
       "      <td>0.008118</td>\n",
       "      <td>0.000000e+00</td>\n",
       "      <td>0.0</td>\n",
       "      <td>0.000000e+00</td>\n",
       "      <td>0.0</td>\n",
       "      <td>0.000000</td>\n",
       "      <td>0.0</td>\n",
       "      <td>0.0</td>\n",
       "      <td>0.0</td>\n",
       "      <td>0.0</td>\n",
       "      <td>...</td>\n",
       "      <td>0.0</td>\n",
       "      <td>0.0</td>\n",
       "      <td>0.000000e+00</td>\n",
       "      <td>0.0</td>\n",
       "      <td>0.000000e+00</td>\n",
       "      <td>0.0</td>\n",
       "      <td>0.000000e+00</td>\n",
       "      <td>0.000000e+00</td>\n",
       "      <td>0.000000e+00</td>\n",
       "      <td>0.000000e+00</td>\n",
       "    </tr>\n",
       "    <tr>\n",
       "      <th>18</th>\n",
       "      <td>0.013705</td>\n",
       "      <td>0.000000e+00</td>\n",
       "      <td>0.0</td>\n",
       "      <td>0.000000e+00</td>\n",
       "      <td>0.0</td>\n",
       "      <td>-0.033535</td>\n",
       "      <td>0.0</td>\n",
       "      <td>0.0</td>\n",
       "      <td>0.0</td>\n",
       "      <td>0.0</td>\n",
       "      <td>...</td>\n",
       "      <td>0.0</td>\n",
       "      <td>0.0</td>\n",
       "      <td>0.000000e+00</td>\n",
       "      <td>0.0</td>\n",
       "      <td>0.000000e+00</td>\n",
       "      <td>0.0</td>\n",
       "      <td>0.000000e+00</td>\n",
       "      <td>0.000000e+00</td>\n",
       "      <td>0.000000e+00</td>\n",
       "      <td>0.000000e+00</td>\n",
       "    </tr>\n",
       "    <tr>\n",
       "      <th>19</th>\n",
       "      <td>0.005651</td>\n",
       "      <td>0.000000e+00</td>\n",
       "      <td>0.0</td>\n",
       "      <td>0.000000e+00</td>\n",
       "      <td>0.0</td>\n",
       "      <td>0.000000</td>\n",
       "      <td>0.0</td>\n",
       "      <td>0.0</td>\n",
       "      <td>0.0</td>\n",
       "      <td>0.0</td>\n",
       "      <td>...</td>\n",
       "      <td>0.0</td>\n",
       "      <td>0.0</td>\n",
       "      <td>0.000000e+00</td>\n",
       "      <td>0.0</td>\n",
       "      <td>0.000000e+00</td>\n",
       "      <td>0.0</td>\n",
       "      <td>0.000000e+00</td>\n",
       "      <td>0.000000e+00</td>\n",
       "      <td>0.000000e+00</td>\n",
       "      <td>0.000000e+00</td>\n",
       "    </tr>\n",
       "    <tr>\n",
       "      <th>20</th>\n",
       "      <td>0.012400</td>\n",
       "      <td>-1.025510e-03</td>\n",
       "      <td>0.0</td>\n",
       "      <td>0.000000e+00</td>\n",
       "      <td>0.0</td>\n",
       "      <td>0.000000</td>\n",
       "      <td>0.0</td>\n",
       "      <td>0.0</td>\n",
       "      <td>0.0</td>\n",
       "      <td>0.0</td>\n",
       "      <td>...</td>\n",
       "      <td>0.0</td>\n",
       "      <td>0.0</td>\n",
       "      <td>0.000000e+00</td>\n",
       "      <td>0.0</td>\n",
       "      <td>0.000000e+00</td>\n",
       "      <td>0.0</td>\n",
       "      <td>0.000000e+00</td>\n",
       "      <td>0.000000e+00</td>\n",
       "      <td>0.000000e+00</td>\n",
       "      <td>0.000000e+00</td>\n",
       "    </tr>\n",
       "    <tr>\n",
       "      <th>21</th>\n",
       "      <td>0.008226</td>\n",
       "      <td>0.000000e+00</td>\n",
       "      <td>0.0</td>\n",
       "      <td>0.000000e+00</td>\n",
       "      <td>0.0</td>\n",
       "      <td>-0.039860</td>\n",
       "      <td>0.0</td>\n",
       "      <td>0.0</td>\n",
       "      <td>0.0</td>\n",
       "      <td>0.0</td>\n",
       "      <td>...</td>\n",
       "      <td>0.0</td>\n",
       "      <td>0.0</td>\n",
       "      <td>0.000000e+00</td>\n",
       "      <td>0.0</td>\n",
       "      <td>0.000000e+00</td>\n",
       "      <td>0.0</td>\n",
       "      <td>0.000000e+00</td>\n",
       "      <td>0.000000e+00</td>\n",
       "      <td>0.000000e+00</td>\n",
       "      <td>0.000000e+00</td>\n",
       "    </tr>\n",
       "    <tr>\n",
       "      <th>22</th>\n",
       "      <td>0.011787</td>\n",
       "      <td>0.000000e+00</td>\n",
       "      <td>0.0</td>\n",
       "      <td>0.000000e+00</td>\n",
       "      <td>0.0</td>\n",
       "      <td>0.000000</td>\n",
       "      <td>0.0</td>\n",
       "      <td>0.0</td>\n",
       "      <td>0.0</td>\n",
       "      <td>0.0</td>\n",
       "      <td>...</td>\n",
       "      <td>0.0</td>\n",
       "      <td>0.0</td>\n",
       "      <td>0.000000e+00</td>\n",
       "      <td>0.0</td>\n",
       "      <td>0.000000e+00</td>\n",
       "      <td>0.0</td>\n",
       "      <td>0.000000e+00</td>\n",
       "      <td>0.000000e+00</td>\n",
       "      <td>0.000000e+00</td>\n",
       "      <td>0.000000e+00</td>\n",
       "    </tr>\n",
       "    <tr>\n",
       "      <th>23</th>\n",
       "      <td>0.009431</td>\n",
       "      <td>0.000000e+00</td>\n",
       "      <td>0.0</td>\n",
       "      <td>0.000000e+00</td>\n",
       "      <td>0.0</td>\n",
       "      <td>0.000000</td>\n",
       "      <td>0.0</td>\n",
       "      <td>0.0</td>\n",
       "      <td>0.0</td>\n",
       "      <td>0.0</td>\n",
       "      <td>...</td>\n",
       "      <td>0.0</td>\n",
       "      <td>0.0</td>\n",
       "      <td>0.000000e+00</td>\n",
       "      <td>0.0</td>\n",
       "      <td>0.000000e+00</td>\n",
       "      <td>0.0</td>\n",
       "      <td>0.000000e+00</td>\n",
       "      <td>0.000000e+00</td>\n",
       "      <td>0.000000e+00</td>\n",
       "      <td>0.000000e+00</td>\n",
       "    </tr>\n",
       "    <tr>\n",
       "      <th>24</th>\n",
       "      <td>0.009968</td>\n",
       "      <td>0.000000e+00</td>\n",
       "      <td>0.0</td>\n",
       "      <td>0.000000e+00</td>\n",
       "      <td>0.0</td>\n",
       "      <td>0.000000</td>\n",
       "      <td>0.0</td>\n",
       "      <td>0.0</td>\n",
       "      <td>0.0</td>\n",
       "      <td>0.0</td>\n",
       "      <td>...</td>\n",
       "      <td>0.0</td>\n",
       "      <td>0.0</td>\n",
       "      <td>0.000000e+00</td>\n",
       "      <td>0.0</td>\n",
       "      <td>0.000000e+00</td>\n",
       "      <td>0.0</td>\n",
       "      <td>0.000000e+00</td>\n",
       "      <td>0.000000e+00</td>\n",
       "      <td>0.000000e+00</td>\n",
       "      <td>0.000000e+00</td>\n",
       "    </tr>\n",
       "    <tr>\n",
       "      <th>25</th>\n",
       "      <td>0.010274</td>\n",
       "      <td>0.000000e+00</td>\n",
       "      <td>0.0</td>\n",
       "      <td>0.000000e+00</td>\n",
       "      <td>0.0</td>\n",
       "      <td>0.000000</td>\n",
       "      <td>0.0</td>\n",
       "      <td>0.0</td>\n",
       "      <td>0.0</td>\n",
       "      <td>0.0</td>\n",
       "      <td>...</td>\n",
       "      <td>0.0</td>\n",
       "      <td>0.0</td>\n",
       "      <td>0.000000e+00</td>\n",
       "      <td>0.0</td>\n",
       "      <td>0.000000e+00</td>\n",
       "      <td>0.0</td>\n",
       "      <td>0.000000e+00</td>\n",
       "      <td>0.000000e+00</td>\n",
       "      <td>0.000000e+00</td>\n",
       "      <td>0.000000e+00</td>\n",
       "    </tr>\n",
       "    <tr>\n",
       "      <th>26</th>\n",
       "      <td>0.011990</td>\n",
       "      <td>0.000000e+00</td>\n",
       "      <td>0.0</td>\n",
       "      <td>0.000000e+00</td>\n",
       "      <td>0.0</td>\n",
       "      <td>0.000000</td>\n",
       "      <td>0.0</td>\n",
       "      <td>0.0</td>\n",
       "      <td>0.0</td>\n",
       "      <td>0.0</td>\n",
       "      <td>...</td>\n",
       "      <td>0.0</td>\n",
       "      <td>0.0</td>\n",
       "      <td>0.000000e+00</td>\n",
       "      <td>0.0</td>\n",
       "      <td>0.000000e+00</td>\n",
       "      <td>0.0</td>\n",
       "      <td>0.000000e+00</td>\n",
       "      <td>0.000000e+00</td>\n",
       "      <td>0.000000e+00</td>\n",
       "      <td>0.000000e+00</td>\n",
       "    </tr>\n",
       "    <tr>\n",
       "      <th>27</th>\n",
       "      <td>0.008011</td>\n",
       "      <td>0.000000e+00</td>\n",
       "      <td>0.0</td>\n",
       "      <td>0.000000e+00</td>\n",
       "      <td>0.0</td>\n",
       "      <td>0.000000</td>\n",
       "      <td>0.0</td>\n",
       "      <td>0.0</td>\n",
       "      <td>0.0</td>\n",
       "      <td>0.0</td>\n",
       "      <td>...</td>\n",
       "      <td>0.0</td>\n",
       "      <td>0.0</td>\n",
       "      <td>0.000000e+00</td>\n",
       "      <td>0.0</td>\n",
       "      <td>0.000000e+00</td>\n",
       "      <td>0.0</td>\n",
       "      <td>0.000000e+00</td>\n",
       "      <td>0.000000e+00</td>\n",
       "      <td>0.000000e+00</td>\n",
       "      <td>0.000000e+00</td>\n",
       "    </tr>\n",
       "    <tr>\n",
       "      <th>28</th>\n",
       "      <td>0.010698</td>\n",
       "      <td>0.000000e+00</td>\n",
       "      <td>0.0</td>\n",
       "      <td>0.000000e+00</td>\n",
       "      <td>0.0</td>\n",
       "      <td>-0.004731</td>\n",
       "      <td>0.0</td>\n",
       "      <td>0.0</td>\n",
       "      <td>0.0</td>\n",
       "      <td>0.0</td>\n",
       "      <td>...</td>\n",
       "      <td>0.0</td>\n",
       "      <td>0.0</td>\n",
       "      <td>0.000000e+00</td>\n",
       "      <td>0.0</td>\n",
       "      <td>0.000000e+00</td>\n",
       "      <td>0.0</td>\n",
       "      <td>0.000000e+00</td>\n",
       "      <td>0.000000e+00</td>\n",
       "      <td>0.000000e+00</td>\n",
       "      <td>0.000000e+00</td>\n",
       "    </tr>\n",
       "    <tr>\n",
       "      <th>29</th>\n",
       "      <td>0.011443</td>\n",
       "      <td>0.000000e+00</td>\n",
       "      <td>0.0</td>\n",
       "      <td>0.000000e+00</td>\n",
       "      <td>0.0</td>\n",
       "      <td>0.000000</td>\n",
       "      <td>0.0</td>\n",
       "      <td>0.0</td>\n",
       "      <td>0.0</td>\n",
       "      <td>0.0</td>\n",
       "      <td>...</td>\n",
       "      <td>0.0</td>\n",
       "      <td>0.0</td>\n",
       "      <td>0.000000e+00</td>\n",
       "      <td>0.0</td>\n",
       "      <td>0.000000e+00</td>\n",
       "      <td>0.0</td>\n",
       "      <td>0.000000e+00</td>\n",
       "      <td>0.000000e+00</td>\n",
       "      <td>0.000000e+00</td>\n",
       "      <td>0.000000e+00</td>\n",
       "    </tr>\n",
       "    <tr>\n",
       "      <th>...</th>\n",
       "      <td>...</td>\n",
       "      <td>...</td>\n",
       "      <td>...</td>\n",
       "      <td>...</td>\n",
       "      <td>...</td>\n",
       "      <td>...</td>\n",
       "      <td>...</td>\n",
       "      <td>...</td>\n",
       "      <td>...</td>\n",
       "      <td>...</td>\n",
       "      <td>...</td>\n",
       "      <td>...</td>\n",
       "      <td>...</td>\n",
       "      <td>...</td>\n",
       "      <td>...</td>\n",
       "      <td>...</td>\n",
       "      <td>...</td>\n",
       "      <td>...</td>\n",
       "      <td>...</td>\n",
       "      <td>...</td>\n",
       "      <td>...</td>\n",
       "    </tr>\n",
       "    <tr>\n",
       "      <th>473</th>\n",
       "      <td>0.007959</td>\n",
       "      <td>0.000000e+00</td>\n",
       "      <td>0.0</td>\n",
       "      <td>0.000000e+00</td>\n",
       "      <td>0.0</td>\n",
       "      <td>-0.003037</td>\n",
       "      <td>0.0</td>\n",
       "      <td>0.0</td>\n",
       "      <td>0.0</td>\n",
       "      <td>0.0</td>\n",
       "      <td>...</td>\n",
       "      <td>0.0</td>\n",
       "      <td>0.0</td>\n",
       "      <td>0.000000e+00</td>\n",
       "      <td>0.0</td>\n",
       "      <td>0.000000e+00</td>\n",
       "      <td>0.0</td>\n",
       "      <td>0.000000e+00</td>\n",
       "      <td>0.000000e+00</td>\n",
       "      <td>0.000000e+00</td>\n",
       "      <td>0.000000e+00</td>\n",
       "    </tr>\n",
       "    <tr>\n",
       "      <th>474</th>\n",
       "      <td>0.008299</td>\n",
       "      <td>0.000000e+00</td>\n",
       "      <td>0.0</td>\n",
       "      <td>0.000000e+00</td>\n",
       "      <td>0.0</td>\n",
       "      <td>0.000000</td>\n",
       "      <td>0.0</td>\n",
       "      <td>0.0</td>\n",
       "      <td>0.0</td>\n",
       "      <td>0.0</td>\n",
       "      <td>...</td>\n",
       "      <td>0.0</td>\n",
       "      <td>0.0</td>\n",
       "      <td>0.000000e+00</td>\n",
       "      <td>0.0</td>\n",
       "      <td>0.000000e+00</td>\n",
       "      <td>0.0</td>\n",
       "      <td>0.000000e+00</td>\n",
       "      <td>0.000000e+00</td>\n",
       "      <td>0.000000e+00</td>\n",
       "      <td>0.000000e+00</td>\n",
       "    </tr>\n",
       "    <tr>\n",
       "      <th>475</th>\n",
       "      <td>0.008317</td>\n",
       "      <td>0.000000e+00</td>\n",
       "      <td>0.0</td>\n",
       "      <td>0.000000e+00</td>\n",
       "      <td>0.0</td>\n",
       "      <td>0.000000</td>\n",
       "      <td>0.0</td>\n",
       "      <td>0.0</td>\n",
       "      <td>0.0</td>\n",
       "      <td>0.0</td>\n",
       "      <td>...</td>\n",
       "      <td>0.0</td>\n",
       "      <td>0.0</td>\n",
       "      <td>0.000000e+00</td>\n",
       "      <td>0.0</td>\n",
       "      <td>0.000000e+00</td>\n",
       "      <td>0.0</td>\n",
       "      <td>0.000000e+00</td>\n",
       "      <td>0.000000e+00</td>\n",
       "      <td>0.000000e+00</td>\n",
       "      <td>0.000000e+00</td>\n",
       "    </tr>\n",
       "    <tr>\n",
       "      <th>476</th>\n",
       "      <td>0.008961</td>\n",
       "      <td>0.000000e+00</td>\n",
       "      <td>0.0</td>\n",
       "      <td>0.000000e+00</td>\n",
       "      <td>0.0</td>\n",
       "      <td>-0.007604</td>\n",
       "      <td>0.0</td>\n",
       "      <td>0.0</td>\n",
       "      <td>0.0</td>\n",
       "      <td>0.0</td>\n",
       "      <td>...</td>\n",
       "      <td>0.0</td>\n",
       "      <td>0.0</td>\n",
       "      <td>0.000000e+00</td>\n",
       "      <td>0.0</td>\n",
       "      <td>0.000000e+00</td>\n",
       "      <td>0.0</td>\n",
       "      <td>0.000000e+00</td>\n",
       "      <td>0.000000e+00</td>\n",
       "      <td>0.000000e+00</td>\n",
       "      <td>0.000000e+00</td>\n",
       "    </tr>\n",
       "    <tr>\n",
       "      <th>477</th>\n",
       "      <td>0.009950</td>\n",
       "      <td>0.000000e+00</td>\n",
       "      <td>0.0</td>\n",
       "      <td>0.000000e+00</td>\n",
       "      <td>0.0</td>\n",
       "      <td>0.000000</td>\n",
       "      <td>0.0</td>\n",
       "      <td>0.0</td>\n",
       "      <td>0.0</td>\n",
       "      <td>0.0</td>\n",
       "      <td>...</td>\n",
       "      <td>0.0</td>\n",
       "      <td>0.0</td>\n",
       "      <td>0.000000e+00</td>\n",
       "      <td>0.0</td>\n",
       "      <td>0.000000e+00</td>\n",
       "      <td>0.0</td>\n",
       "      <td>0.000000e+00</td>\n",
       "      <td>0.000000e+00</td>\n",
       "      <td>0.000000e+00</td>\n",
       "      <td>0.000000e+00</td>\n",
       "    </tr>\n",
       "    <tr>\n",
       "      <th>478</th>\n",
       "      <td>0.009451</td>\n",
       "      <td>0.000000e+00</td>\n",
       "      <td>0.0</td>\n",
       "      <td>0.000000e+00</td>\n",
       "      <td>0.0</td>\n",
       "      <td>-0.014548</td>\n",
       "      <td>0.0</td>\n",
       "      <td>0.0</td>\n",
       "      <td>0.0</td>\n",
       "      <td>0.0</td>\n",
       "      <td>...</td>\n",
       "      <td>0.0</td>\n",
       "      <td>0.0</td>\n",
       "      <td>0.000000e+00</td>\n",
       "      <td>0.0</td>\n",
       "      <td>0.000000e+00</td>\n",
       "      <td>0.0</td>\n",
       "      <td>0.000000e+00</td>\n",
       "      <td>0.000000e+00</td>\n",
       "      <td>0.000000e+00</td>\n",
       "      <td>0.000000e+00</td>\n",
       "    </tr>\n",
       "    <tr>\n",
       "      <th>479</th>\n",
       "      <td>0.012001</td>\n",
       "      <td>0.000000e+00</td>\n",
       "      <td>0.0</td>\n",
       "      <td>0.000000e+00</td>\n",
       "      <td>0.0</td>\n",
       "      <td>0.000000</td>\n",
       "      <td>0.0</td>\n",
       "      <td>0.0</td>\n",
       "      <td>0.0</td>\n",
       "      <td>0.0</td>\n",
       "      <td>...</td>\n",
       "      <td>0.0</td>\n",
       "      <td>0.0</td>\n",
       "      <td>0.000000e+00</td>\n",
       "      <td>0.0</td>\n",
       "      <td>0.000000e+00</td>\n",
       "      <td>0.0</td>\n",
       "      <td>0.000000e+00</td>\n",
       "      <td>0.000000e+00</td>\n",
       "      <td>0.000000e+00</td>\n",
       "      <td>0.000000e+00</td>\n",
       "    </tr>\n",
       "    <tr>\n",
       "      <th>480</th>\n",
       "      <td>0.005912</td>\n",
       "      <td>0.000000e+00</td>\n",
       "      <td>0.0</td>\n",
       "      <td>0.000000e+00</td>\n",
       "      <td>0.0</td>\n",
       "      <td>0.000000</td>\n",
       "      <td>0.0</td>\n",
       "      <td>0.0</td>\n",
       "      <td>0.0</td>\n",
       "      <td>0.0</td>\n",
       "      <td>...</td>\n",
       "      <td>0.0</td>\n",
       "      <td>0.0</td>\n",
       "      <td>0.000000e+00</td>\n",
       "      <td>0.0</td>\n",
       "      <td>0.000000e+00</td>\n",
       "      <td>0.0</td>\n",
       "      <td>0.000000e+00</td>\n",
       "      <td>0.000000e+00</td>\n",
       "      <td>0.000000e+00</td>\n",
       "      <td>0.000000e+00</td>\n",
       "    </tr>\n",
       "    <tr>\n",
       "      <th>481</th>\n",
       "      <td>0.006326</td>\n",
       "      <td>0.000000e+00</td>\n",
       "      <td>0.0</td>\n",
       "      <td>0.000000e+00</td>\n",
       "      <td>0.0</td>\n",
       "      <td>-0.020017</td>\n",
       "      <td>0.0</td>\n",
       "      <td>0.0</td>\n",
       "      <td>0.0</td>\n",
       "      <td>0.0</td>\n",
       "      <td>...</td>\n",
       "      <td>0.0</td>\n",
       "      <td>0.0</td>\n",
       "      <td>0.000000e+00</td>\n",
       "      <td>0.0</td>\n",
       "      <td>0.000000e+00</td>\n",
       "      <td>0.0</td>\n",
       "      <td>0.000000e+00</td>\n",
       "      <td>0.000000e+00</td>\n",
       "      <td>0.000000e+00</td>\n",
       "      <td>0.000000e+00</td>\n",
       "    </tr>\n",
       "    <tr>\n",
       "      <th>482</th>\n",
       "      <td>0.010011</td>\n",
       "      <td>0.000000e+00</td>\n",
       "      <td>0.0</td>\n",
       "      <td>0.000000e+00</td>\n",
       "      <td>0.0</td>\n",
       "      <td>0.000000</td>\n",
       "      <td>0.0</td>\n",
       "      <td>0.0</td>\n",
       "      <td>0.0</td>\n",
       "      <td>0.0</td>\n",
       "      <td>...</td>\n",
       "      <td>0.0</td>\n",
       "      <td>0.0</td>\n",
       "      <td>0.000000e+00</td>\n",
       "      <td>0.0</td>\n",
       "      <td>0.000000e+00</td>\n",
       "      <td>0.0</td>\n",
       "      <td>0.000000e+00</td>\n",
       "      <td>0.000000e+00</td>\n",
       "      <td>0.000000e+00</td>\n",
       "      <td>0.000000e+00</td>\n",
       "    </tr>\n",
       "    <tr>\n",
       "      <th>483</th>\n",
       "      <td>0.008850</td>\n",
       "      <td>0.000000e+00</td>\n",
       "      <td>0.0</td>\n",
       "      <td>0.000000e+00</td>\n",
       "      <td>0.0</td>\n",
       "      <td>0.000000</td>\n",
       "      <td>0.0</td>\n",
       "      <td>0.0</td>\n",
       "      <td>0.0</td>\n",
       "      <td>0.0</td>\n",
       "      <td>...</td>\n",
       "      <td>0.0</td>\n",
       "      <td>0.0</td>\n",
       "      <td>0.000000e+00</td>\n",
       "      <td>0.0</td>\n",
       "      <td>0.000000e+00</td>\n",
       "      <td>0.0</td>\n",
       "      <td>0.000000e+00</td>\n",
       "      <td>0.000000e+00</td>\n",
       "      <td>0.000000e+00</td>\n",
       "      <td>0.000000e+00</td>\n",
       "    </tr>\n",
       "    <tr>\n",
       "      <th>484</th>\n",
       "      <td>0.017339</td>\n",
       "      <td>-2.781742e-05</td>\n",
       "      <td>0.0</td>\n",
       "      <td>0.000000e+00</td>\n",
       "      <td>0.0</td>\n",
       "      <td>0.000000</td>\n",
       "      <td>0.0</td>\n",
       "      <td>0.0</td>\n",
       "      <td>0.0</td>\n",
       "      <td>0.0</td>\n",
       "      <td>...</td>\n",
       "      <td>0.0</td>\n",
       "      <td>0.0</td>\n",
       "      <td>0.000000e+00</td>\n",
       "      <td>0.0</td>\n",
       "      <td>0.000000e+00</td>\n",
       "      <td>0.0</td>\n",
       "      <td>0.000000e+00</td>\n",
       "      <td>0.000000e+00</td>\n",
       "      <td>0.000000e+00</td>\n",
       "      <td>0.000000e+00</td>\n",
       "    </tr>\n",
       "    <tr>\n",
       "      <th>485</th>\n",
       "      <td>0.009420</td>\n",
       "      <td>0.000000e+00</td>\n",
       "      <td>0.0</td>\n",
       "      <td>0.000000e+00</td>\n",
       "      <td>0.0</td>\n",
       "      <td>0.000000</td>\n",
       "      <td>0.0</td>\n",
       "      <td>0.0</td>\n",
       "      <td>0.0</td>\n",
       "      <td>0.0</td>\n",
       "      <td>...</td>\n",
       "      <td>0.0</td>\n",
       "      <td>0.0</td>\n",
       "      <td>0.000000e+00</td>\n",
       "      <td>0.0</td>\n",
       "      <td>0.000000e+00</td>\n",
       "      <td>0.0</td>\n",
       "      <td>0.000000e+00</td>\n",
       "      <td>0.000000e+00</td>\n",
       "      <td>0.000000e+00</td>\n",
       "      <td>0.000000e+00</td>\n",
       "    </tr>\n",
       "    <tr>\n",
       "      <th>486</th>\n",
       "      <td>0.013019</td>\n",
       "      <td>0.000000e+00</td>\n",
       "      <td>0.0</td>\n",
       "      <td>0.000000e+00</td>\n",
       "      <td>0.0</td>\n",
       "      <td>0.000000</td>\n",
       "      <td>0.0</td>\n",
       "      <td>0.0</td>\n",
       "      <td>0.0</td>\n",
       "      <td>0.0</td>\n",
       "      <td>...</td>\n",
       "      <td>0.0</td>\n",
       "      <td>0.0</td>\n",
       "      <td>0.000000e+00</td>\n",
       "      <td>0.0</td>\n",
       "      <td>0.000000e+00</td>\n",
       "      <td>0.0</td>\n",
       "      <td>0.000000e+00</td>\n",
       "      <td>0.000000e+00</td>\n",
       "      <td>0.000000e+00</td>\n",
       "      <td>0.000000e+00</td>\n",
       "    </tr>\n",
       "    <tr>\n",
       "      <th>487</th>\n",
       "      <td>0.006122</td>\n",
       "      <td>0.000000e+00</td>\n",
       "      <td>0.0</td>\n",
       "      <td>0.000000e+00</td>\n",
       "      <td>0.0</td>\n",
       "      <td>0.000000</td>\n",
       "      <td>0.0</td>\n",
       "      <td>0.0</td>\n",
       "      <td>0.0</td>\n",
       "      <td>0.0</td>\n",
       "      <td>...</td>\n",
       "      <td>0.0</td>\n",
       "      <td>0.0</td>\n",
       "      <td>0.000000e+00</td>\n",
       "      <td>0.0</td>\n",
       "      <td>0.000000e+00</td>\n",
       "      <td>0.0</td>\n",
       "      <td>0.000000e+00</td>\n",
       "      <td>0.000000e+00</td>\n",
       "      <td>0.000000e+00</td>\n",
       "      <td>0.000000e+00</td>\n",
       "    </tr>\n",
       "    <tr>\n",
       "      <th>488</th>\n",
       "      <td>0.006980</td>\n",
       "      <td>0.000000e+00</td>\n",
       "      <td>0.0</td>\n",
       "      <td>0.000000e+00</td>\n",
       "      <td>0.0</td>\n",
       "      <td>0.000000</td>\n",
       "      <td>0.0</td>\n",
       "      <td>0.0</td>\n",
       "      <td>0.0</td>\n",
       "      <td>0.0</td>\n",
       "      <td>...</td>\n",
       "      <td>0.0</td>\n",
       "      <td>0.0</td>\n",
       "      <td>0.000000e+00</td>\n",
       "      <td>0.0</td>\n",
       "      <td>0.000000e+00</td>\n",
       "      <td>0.0</td>\n",
       "      <td>0.000000e+00</td>\n",
       "      <td>0.000000e+00</td>\n",
       "      <td>0.000000e+00</td>\n",
       "      <td>0.000000e+00</td>\n",
       "    </tr>\n",
       "    <tr>\n",
       "      <th>489</th>\n",
       "      <td>0.009213</td>\n",
       "      <td>0.000000e+00</td>\n",
       "      <td>0.0</td>\n",
       "      <td>0.000000e+00</td>\n",
       "      <td>0.0</td>\n",
       "      <td>0.000000</td>\n",
       "      <td>0.0</td>\n",
       "      <td>0.0</td>\n",
       "      <td>0.0</td>\n",
       "      <td>0.0</td>\n",
       "      <td>...</td>\n",
       "      <td>0.0</td>\n",
       "      <td>0.0</td>\n",
       "      <td>0.000000e+00</td>\n",
       "      <td>0.0</td>\n",
       "      <td>0.000000e+00</td>\n",
       "      <td>0.0</td>\n",
       "      <td>0.000000e+00</td>\n",
       "      <td>0.000000e+00</td>\n",
       "      <td>0.000000e+00</td>\n",
       "      <td>0.000000e+00</td>\n",
       "    </tr>\n",
       "    <tr>\n",
       "      <th>490</th>\n",
       "      <td>0.008168</td>\n",
       "      <td>0.000000e+00</td>\n",
       "      <td>0.0</td>\n",
       "      <td>0.000000e+00</td>\n",
       "      <td>0.0</td>\n",
       "      <td>0.000000</td>\n",
       "      <td>0.0</td>\n",
       "      <td>0.0</td>\n",
       "      <td>0.0</td>\n",
       "      <td>0.0</td>\n",
       "      <td>...</td>\n",
       "      <td>0.0</td>\n",
       "      <td>0.0</td>\n",
       "      <td>0.000000e+00</td>\n",
       "      <td>0.0</td>\n",
       "      <td>0.000000e+00</td>\n",
       "      <td>0.0</td>\n",
       "      <td>0.000000e+00</td>\n",
       "      <td>0.000000e+00</td>\n",
       "      <td>0.000000e+00</td>\n",
       "      <td>0.000000e+00</td>\n",
       "    </tr>\n",
       "    <tr>\n",
       "      <th>491</th>\n",
       "      <td>0.009629</td>\n",
       "      <td>0.000000e+00</td>\n",
       "      <td>0.0</td>\n",
       "      <td>0.000000e+00</td>\n",
       "      <td>0.0</td>\n",
       "      <td>0.000000</td>\n",
       "      <td>0.0</td>\n",
       "      <td>0.0</td>\n",
       "      <td>0.0</td>\n",
       "      <td>0.0</td>\n",
       "      <td>...</td>\n",
       "      <td>0.0</td>\n",
       "      <td>0.0</td>\n",
       "      <td>0.000000e+00</td>\n",
       "      <td>0.0</td>\n",
       "      <td>0.000000e+00</td>\n",
       "      <td>0.0</td>\n",
       "      <td>0.000000e+00</td>\n",
       "      <td>0.000000e+00</td>\n",
       "      <td>0.000000e+00</td>\n",
       "      <td>0.000000e+00</td>\n",
       "    </tr>\n",
       "    <tr>\n",
       "      <th>492</th>\n",
       "      <td>0.015131</td>\n",
       "      <td>0.000000e+00</td>\n",
       "      <td>0.0</td>\n",
       "      <td>0.000000e+00</td>\n",
       "      <td>0.0</td>\n",
       "      <td>-0.004642</td>\n",
       "      <td>0.0</td>\n",
       "      <td>0.0</td>\n",
       "      <td>0.0</td>\n",
       "      <td>0.0</td>\n",
       "      <td>...</td>\n",
       "      <td>0.0</td>\n",
       "      <td>0.0</td>\n",
       "      <td>0.000000e+00</td>\n",
       "      <td>0.0</td>\n",
       "      <td>0.000000e+00</td>\n",
       "      <td>0.0</td>\n",
       "      <td>6.326665e-04</td>\n",
       "      <td>0.000000e+00</td>\n",
       "      <td>0.000000e+00</td>\n",
       "      <td>0.000000e+00</td>\n",
       "    </tr>\n",
       "    <tr>\n",
       "      <th>493</th>\n",
       "      <td>0.005711</td>\n",
       "      <td>0.000000e+00</td>\n",
       "      <td>0.0</td>\n",
       "      <td>0.000000e+00</td>\n",
       "      <td>0.0</td>\n",
       "      <td>0.000000</td>\n",
       "      <td>0.0</td>\n",
       "      <td>0.0</td>\n",
       "      <td>0.0</td>\n",
       "      <td>0.0</td>\n",
       "      <td>...</td>\n",
       "      <td>0.0</td>\n",
       "      <td>0.0</td>\n",
       "      <td>0.000000e+00</td>\n",
       "      <td>0.0</td>\n",
       "      <td>0.000000e+00</td>\n",
       "      <td>0.0</td>\n",
       "      <td>0.000000e+00</td>\n",
       "      <td>0.000000e+00</td>\n",
       "      <td>0.000000e+00</td>\n",
       "      <td>0.000000e+00</td>\n",
       "    </tr>\n",
       "    <tr>\n",
       "      <th>494</th>\n",
       "      <td>0.009088</td>\n",
       "      <td>0.000000e+00</td>\n",
       "      <td>0.0</td>\n",
       "      <td>0.000000e+00</td>\n",
       "      <td>0.0</td>\n",
       "      <td>-0.012771</td>\n",
       "      <td>0.0</td>\n",
       "      <td>0.0</td>\n",
       "      <td>0.0</td>\n",
       "      <td>0.0</td>\n",
       "      <td>...</td>\n",
       "      <td>0.0</td>\n",
       "      <td>0.0</td>\n",
       "      <td>0.000000e+00</td>\n",
       "      <td>0.0</td>\n",
       "      <td>0.000000e+00</td>\n",
       "      <td>0.0</td>\n",
       "      <td>0.000000e+00</td>\n",
       "      <td>0.000000e+00</td>\n",
       "      <td>0.000000e+00</td>\n",
       "      <td>0.000000e+00</td>\n",
       "    </tr>\n",
       "    <tr>\n",
       "      <th>495</th>\n",
       "      <td>0.006537</td>\n",
       "      <td>0.000000e+00</td>\n",
       "      <td>0.0</td>\n",
       "      <td>0.000000e+00</td>\n",
       "      <td>0.0</td>\n",
       "      <td>0.000000</td>\n",
       "      <td>0.0</td>\n",
       "      <td>0.0</td>\n",
       "      <td>0.0</td>\n",
       "      <td>0.0</td>\n",
       "      <td>...</td>\n",
       "      <td>0.0</td>\n",
       "      <td>0.0</td>\n",
       "      <td>0.000000e+00</td>\n",
       "      <td>0.0</td>\n",
       "      <td>0.000000e+00</td>\n",
       "      <td>0.0</td>\n",
       "      <td>0.000000e+00</td>\n",
       "      <td>0.000000e+00</td>\n",
       "      <td>0.000000e+00</td>\n",
       "      <td>0.000000e+00</td>\n",
       "    </tr>\n",
       "    <tr>\n",
       "      <th>496</th>\n",
       "      <td>0.009789</td>\n",
       "      <td>0.000000e+00</td>\n",
       "      <td>0.0</td>\n",
       "      <td>0.000000e+00</td>\n",
       "      <td>0.0</td>\n",
       "      <td>0.000000</td>\n",
       "      <td>0.0</td>\n",
       "      <td>0.0</td>\n",
       "      <td>0.0</td>\n",
       "      <td>0.0</td>\n",
       "      <td>...</td>\n",
       "      <td>0.0</td>\n",
       "      <td>0.0</td>\n",
       "      <td>0.000000e+00</td>\n",
       "      <td>0.0</td>\n",
       "      <td>0.000000e+00</td>\n",
       "      <td>0.0</td>\n",
       "      <td>0.000000e+00</td>\n",
       "      <td>1.728366e-05</td>\n",
       "      <td>0.000000e+00</td>\n",
       "      <td>0.000000e+00</td>\n",
       "    </tr>\n",
       "    <tr>\n",
       "      <th>497</th>\n",
       "      <td>0.014653</td>\n",
       "      <td>0.000000e+00</td>\n",
       "      <td>0.0</td>\n",
       "      <td>0.000000e+00</td>\n",
       "      <td>0.0</td>\n",
       "      <td>-0.001747</td>\n",
       "      <td>0.0</td>\n",
       "      <td>0.0</td>\n",
       "      <td>0.0</td>\n",
       "      <td>0.0</td>\n",
       "      <td>...</td>\n",
       "      <td>0.0</td>\n",
       "      <td>0.0</td>\n",
       "      <td>0.000000e+00</td>\n",
       "      <td>0.0</td>\n",
       "      <td>0.000000e+00</td>\n",
       "      <td>0.0</td>\n",
       "      <td>0.000000e+00</td>\n",
       "      <td>0.000000e+00</td>\n",
       "      <td>0.000000e+00</td>\n",
       "      <td>0.000000e+00</td>\n",
       "    </tr>\n",
       "    <tr>\n",
       "      <th>498</th>\n",
       "      <td>0.011390</td>\n",
       "      <td>0.000000e+00</td>\n",
       "      <td>0.0</td>\n",
       "      <td>0.000000e+00</td>\n",
       "      <td>0.0</td>\n",
       "      <td>-0.004929</td>\n",
       "      <td>0.0</td>\n",
       "      <td>0.0</td>\n",
       "      <td>0.0</td>\n",
       "      <td>0.0</td>\n",
       "      <td>...</td>\n",
       "      <td>0.0</td>\n",
       "      <td>0.0</td>\n",
       "      <td>0.000000e+00</td>\n",
       "      <td>0.0</td>\n",
       "      <td>0.000000e+00</td>\n",
       "      <td>0.0</td>\n",
       "      <td>0.000000e+00</td>\n",
       "      <td>0.000000e+00</td>\n",
       "      <td>0.000000e+00</td>\n",
       "      <td>0.000000e+00</td>\n",
       "    </tr>\n",
       "    <tr>\n",
       "      <th>499</th>\n",
       "      <td>0.008085</td>\n",
       "      <td>0.000000e+00</td>\n",
       "      <td>0.0</td>\n",
       "      <td>0.000000e+00</td>\n",
       "      <td>0.0</td>\n",
       "      <td>-0.017414</td>\n",
       "      <td>0.0</td>\n",
       "      <td>0.0</td>\n",
       "      <td>0.0</td>\n",
       "      <td>0.0</td>\n",
       "      <td>...</td>\n",
       "      <td>0.0</td>\n",
       "      <td>0.0</td>\n",
       "      <td>0.000000e+00</td>\n",
       "      <td>0.0</td>\n",
       "      <td>0.000000e+00</td>\n",
       "      <td>0.0</td>\n",
       "      <td>0.000000e+00</td>\n",
       "      <td>0.000000e+00</td>\n",
       "      <td>0.000000e+00</td>\n",
       "      <td>0.000000e+00</td>\n",
       "    </tr>\n",
       "    <tr>\n",
       "      <th>variance</th>\n",
       "      <td>0.000007</td>\n",
       "      <td>1.430712e-07</td>\n",
       "      <td>0.0</td>\n",
       "      <td>1.111582e-07</td>\n",
       "      <td>0.0</td>\n",
       "      <td>0.000103</td>\n",
       "      <td>0.0</td>\n",
       "      <td>0.0</td>\n",
       "      <td>0.0</td>\n",
       "      <td>0.0</td>\n",
       "      <td>...</td>\n",
       "      <td>0.0</td>\n",
       "      <td>0.0</td>\n",
       "      <td>7.600124e-11</td>\n",
       "      <td>0.0</td>\n",
       "      <td>5.535602e-09</td>\n",
       "      <td>0.0</td>\n",
       "      <td>1.228839e-08</td>\n",
       "      <td>1.874166e-08</td>\n",
       "      <td>1.254960e-09</td>\n",
       "      <td>4.891318e-09</td>\n",
       "    </tr>\n",
       "    <tr>\n",
       "      <th>moyenne</th>\n",
       "      <td>0.010354</td>\n",
       "      <td>-3.980900e-05</td>\n",
       "      <td>0.0</td>\n",
       "      <td>-2.927198e-05</td>\n",
       "      <td>0.0</td>\n",
       "      <td>-0.004005</td>\n",
       "      <td>0.0</td>\n",
       "      <td>0.0</td>\n",
       "      <td>0.0</td>\n",
       "      <td>0.0</td>\n",
       "      <td>...</td>\n",
       "      <td>0.0</td>\n",
       "      <td>0.0</td>\n",
       "      <td>4.720778e-07</td>\n",
       "      <td>0.0</td>\n",
       "      <td>5.947203e-06</td>\n",
       "      <td>0.0</td>\n",
       "      <td>1.102748e-05</td>\n",
       "      <td>1.436855e-05</td>\n",
       "      <td>-1.252277e-06</td>\n",
       "      <td>3.637645e-06</td>\n",
       "    </tr>\n",
       "    <tr>\n",
       "      <th>percentage</th>\n",
       "      <td>1.000000</td>\n",
       "      <td>3.000000e-02</td>\n",
       "      <td>0.0</td>\n",
       "      <td>1.200000e-02</td>\n",
       "      <td>0.0</td>\n",
       "      <td>0.234000</td>\n",
       "      <td>0.0</td>\n",
       "      <td>0.0</td>\n",
       "      <td>0.0</td>\n",
       "      <td>0.0</td>\n",
       "      <td>...</td>\n",
       "      <td>0.0</td>\n",
       "      <td>0.0</td>\n",
       "      <td>4.000000e-03</td>\n",
       "      <td>0.0</td>\n",
       "      <td>1.000000e-02</td>\n",
       "      <td>0.0</td>\n",
       "      <td>2.400000e-02</td>\n",
       "      <td>2.600000e-02</td>\n",
       "      <td>1.600000e-02</td>\n",
       "      <td>1.200000e-02</td>\n",
       "    </tr>\n",
       "  </tbody>\n",
       "</table>\n",
       "<p>503 rows × 54676 columns</p>\n",
       "</div>"
      ],
      "text/plain": [
       "             metrics         coef_                                         \\\n",
       "probe        logloss     1007_s_at 1053_at        117_at 121_at 1255_g_at   \n",
       "0           0.008891  0.000000e+00     0.0  0.000000e+00    0.0  0.000000   \n",
       "1           0.004888  0.000000e+00     0.0  0.000000e+00    0.0  0.000000   \n",
       "2           0.008754  0.000000e+00     0.0  0.000000e+00    0.0 -0.010254   \n",
       "3           0.017928  0.000000e+00     0.0  0.000000e+00    0.0 -0.028330   \n",
       "4           0.011611  0.000000e+00     0.0 -4.218628e-03    0.0  0.000000   \n",
       "5           0.008355  0.000000e+00     0.0  0.000000e+00    0.0 -0.012497   \n",
       "6           0.008986  0.000000e+00     0.0  0.000000e+00    0.0  0.000000   \n",
       "7           0.013733  0.000000e+00     0.0  0.000000e+00    0.0  0.000000   \n",
       "8           0.014210  0.000000e+00     0.0  0.000000e+00    0.0 -0.001153   \n",
       "9           0.007332  0.000000e+00     0.0  0.000000e+00    0.0  0.000000   \n",
       "10          0.014052  0.000000e+00     0.0  0.000000e+00    0.0  0.000000   \n",
       "11          0.007695  0.000000e+00     0.0  0.000000e+00    0.0  0.000000   \n",
       "12          0.009472  0.000000e+00     0.0  0.000000e+00    0.0  0.000000   \n",
       "13          0.009409  0.000000e+00     0.0  0.000000e+00    0.0 -0.008325   \n",
       "14          0.013136  0.000000e+00     0.0  0.000000e+00    0.0  0.000000   \n",
       "15          0.012031  0.000000e+00     0.0  0.000000e+00    0.0  0.000000   \n",
       "16          0.009539  0.000000e+00     0.0  0.000000e+00    0.0  0.000000   \n",
       "17          0.008118  0.000000e+00     0.0  0.000000e+00    0.0  0.000000   \n",
       "18          0.013705  0.000000e+00     0.0  0.000000e+00    0.0 -0.033535   \n",
       "19          0.005651  0.000000e+00     0.0  0.000000e+00    0.0  0.000000   \n",
       "20          0.012400 -1.025510e-03     0.0  0.000000e+00    0.0  0.000000   \n",
       "21          0.008226  0.000000e+00     0.0  0.000000e+00    0.0 -0.039860   \n",
       "22          0.011787  0.000000e+00     0.0  0.000000e+00    0.0  0.000000   \n",
       "23          0.009431  0.000000e+00     0.0  0.000000e+00    0.0  0.000000   \n",
       "24          0.009968  0.000000e+00     0.0  0.000000e+00    0.0  0.000000   \n",
       "25          0.010274  0.000000e+00     0.0  0.000000e+00    0.0  0.000000   \n",
       "26          0.011990  0.000000e+00     0.0  0.000000e+00    0.0  0.000000   \n",
       "27          0.008011  0.000000e+00     0.0  0.000000e+00    0.0  0.000000   \n",
       "28          0.010698  0.000000e+00     0.0  0.000000e+00    0.0 -0.004731   \n",
       "29          0.011443  0.000000e+00     0.0  0.000000e+00    0.0  0.000000   \n",
       "...              ...           ...     ...           ...    ...       ...   \n",
       "473         0.007959  0.000000e+00     0.0  0.000000e+00    0.0 -0.003037   \n",
       "474         0.008299  0.000000e+00     0.0  0.000000e+00    0.0  0.000000   \n",
       "475         0.008317  0.000000e+00     0.0  0.000000e+00    0.0  0.000000   \n",
       "476         0.008961  0.000000e+00     0.0  0.000000e+00    0.0 -0.007604   \n",
       "477         0.009950  0.000000e+00     0.0  0.000000e+00    0.0  0.000000   \n",
       "478         0.009451  0.000000e+00     0.0  0.000000e+00    0.0 -0.014548   \n",
       "479         0.012001  0.000000e+00     0.0  0.000000e+00    0.0  0.000000   \n",
       "480         0.005912  0.000000e+00     0.0  0.000000e+00    0.0  0.000000   \n",
       "481         0.006326  0.000000e+00     0.0  0.000000e+00    0.0 -0.020017   \n",
       "482         0.010011  0.000000e+00     0.0  0.000000e+00    0.0  0.000000   \n",
       "483         0.008850  0.000000e+00     0.0  0.000000e+00    0.0  0.000000   \n",
       "484         0.017339 -2.781742e-05     0.0  0.000000e+00    0.0  0.000000   \n",
       "485         0.009420  0.000000e+00     0.0  0.000000e+00    0.0  0.000000   \n",
       "486         0.013019  0.000000e+00     0.0  0.000000e+00    0.0  0.000000   \n",
       "487         0.006122  0.000000e+00     0.0  0.000000e+00    0.0  0.000000   \n",
       "488         0.006980  0.000000e+00     0.0  0.000000e+00    0.0  0.000000   \n",
       "489         0.009213  0.000000e+00     0.0  0.000000e+00    0.0  0.000000   \n",
       "490         0.008168  0.000000e+00     0.0  0.000000e+00    0.0  0.000000   \n",
       "491         0.009629  0.000000e+00     0.0  0.000000e+00    0.0  0.000000   \n",
       "492         0.015131  0.000000e+00     0.0  0.000000e+00    0.0 -0.004642   \n",
       "493         0.005711  0.000000e+00     0.0  0.000000e+00    0.0  0.000000   \n",
       "494         0.009088  0.000000e+00     0.0  0.000000e+00    0.0 -0.012771   \n",
       "495         0.006537  0.000000e+00     0.0  0.000000e+00    0.0  0.000000   \n",
       "496         0.009789  0.000000e+00     0.0  0.000000e+00    0.0  0.000000   \n",
       "497         0.014653  0.000000e+00     0.0  0.000000e+00    0.0 -0.001747   \n",
       "498         0.011390  0.000000e+00     0.0  0.000000e+00    0.0 -0.004929   \n",
       "499         0.008085  0.000000e+00     0.0  0.000000e+00    0.0 -0.017414   \n",
       "variance    0.000007  1.430712e-07     0.0  1.111582e-07    0.0  0.000103   \n",
       "moyenne     0.010354 -3.980900e-05     0.0 -2.927198e-05    0.0 -0.004005   \n",
       "percentage  1.000000  3.000000e-02     0.0  1.200000e-02    0.0  0.234000   \n",
       "\n",
       "                                                     ...          \\\n",
       "probe      1294_at 1316_at 1320_at 1405_i_at         ...           \n",
       "0              0.0     0.0     0.0       0.0         ...           \n",
       "1              0.0     0.0     0.0       0.0         ...           \n",
       "2              0.0     0.0     0.0       0.0         ...           \n",
       "3              0.0     0.0     0.0       0.0         ...           \n",
       "4              0.0     0.0     0.0       0.0         ...           \n",
       "5              0.0     0.0     0.0       0.0         ...           \n",
       "6              0.0     0.0     0.0       0.0         ...           \n",
       "7              0.0     0.0     0.0       0.0         ...           \n",
       "8              0.0     0.0     0.0       0.0         ...           \n",
       "9              0.0     0.0     0.0       0.0         ...           \n",
       "10             0.0     0.0     0.0       0.0         ...           \n",
       "11             0.0     0.0     0.0       0.0         ...           \n",
       "12             0.0     0.0     0.0       0.0         ...           \n",
       "13             0.0     0.0     0.0       0.0         ...           \n",
       "14             0.0     0.0     0.0       0.0         ...           \n",
       "15             0.0     0.0     0.0       0.0         ...           \n",
       "16             0.0     0.0     0.0       0.0         ...           \n",
       "17             0.0     0.0     0.0       0.0         ...           \n",
       "18             0.0     0.0     0.0       0.0         ...           \n",
       "19             0.0     0.0     0.0       0.0         ...           \n",
       "20             0.0     0.0     0.0       0.0         ...           \n",
       "21             0.0     0.0     0.0       0.0         ...           \n",
       "22             0.0     0.0     0.0       0.0         ...           \n",
       "23             0.0     0.0     0.0       0.0         ...           \n",
       "24             0.0     0.0     0.0       0.0         ...           \n",
       "25             0.0     0.0     0.0       0.0         ...           \n",
       "26             0.0     0.0     0.0       0.0         ...           \n",
       "27             0.0     0.0     0.0       0.0         ...           \n",
       "28             0.0     0.0     0.0       0.0         ...           \n",
       "29             0.0     0.0     0.0       0.0         ...           \n",
       "...            ...     ...     ...       ...         ...           \n",
       "473            0.0     0.0     0.0       0.0         ...           \n",
       "474            0.0     0.0     0.0       0.0         ...           \n",
       "475            0.0     0.0     0.0       0.0         ...           \n",
       "476            0.0     0.0     0.0       0.0         ...           \n",
       "477            0.0     0.0     0.0       0.0         ...           \n",
       "478            0.0     0.0     0.0       0.0         ...           \n",
       "479            0.0     0.0     0.0       0.0         ...           \n",
       "480            0.0     0.0     0.0       0.0         ...           \n",
       "481            0.0     0.0     0.0       0.0         ...           \n",
       "482            0.0     0.0     0.0       0.0         ...           \n",
       "483            0.0     0.0     0.0       0.0         ...           \n",
       "484            0.0     0.0     0.0       0.0         ...           \n",
       "485            0.0     0.0     0.0       0.0         ...           \n",
       "486            0.0     0.0     0.0       0.0         ...           \n",
       "487            0.0     0.0     0.0       0.0         ...           \n",
       "488            0.0     0.0     0.0       0.0         ...           \n",
       "489            0.0     0.0     0.0       0.0         ...           \n",
       "490            0.0     0.0     0.0       0.0         ...           \n",
       "491            0.0     0.0     0.0       0.0         ...           \n",
       "492            0.0     0.0     0.0       0.0         ...           \n",
       "493            0.0     0.0     0.0       0.0         ...           \n",
       "494            0.0     0.0     0.0       0.0         ...           \n",
       "495            0.0     0.0     0.0       0.0         ...           \n",
       "496            0.0     0.0     0.0       0.0         ...           \n",
       "497            0.0     0.0     0.0       0.0         ...           \n",
       "498            0.0     0.0     0.0       0.0         ...           \n",
       "499            0.0     0.0     0.0       0.0         ...           \n",
       "variance       0.0     0.0     0.0       0.0         ...           \n",
       "moyenne        0.0     0.0     0.0       0.0         ...           \n",
       "percentage     0.0     0.0     0.0       0.0         ...           \n",
       "\n",
       "                                                                            \\\n",
       "probe      AFFX-r2-Bs-thr-M_s_at AFFX-r2-Ec-bioB-3_at AFFX-r2-Ec-bioB-5_at   \n",
       "0                            0.0                  0.0         0.000000e+00   \n",
       "1                            0.0                  0.0         0.000000e+00   \n",
       "2                            0.0                  0.0         0.000000e+00   \n",
       "3                            0.0                  0.0         0.000000e+00   \n",
       "4                            0.0                  0.0         0.000000e+00   \n",
       "5                            0.0                  0.0         0.000000e+00   \n",
       "6                            0.0                  0.0         0.000000e+00   \n",
       "7                            0.0                  0.0         0.000000e+00   \n",
       "8                            0.0                  0.0         0.000000e+00   \n",
       "9                            0.0                  0.0         0.000000e+00   \n",
       "10                           0.0                  0.0         0.000000e+00   \n",
       "11                           0.0                  0.0         0.000000e+00   \n",
       "12                           0.0                  0.0         0.000000e+00   \n",
       "13                           0.0                  0.0         0.000000e+00   \n",
       "14                           0.0                  0.0         0.000000e+00   \n",
       "15                           0.0                  0.0         4.641332e-05   \n",
       "16                           0.0                  0.0         0.000000e+00   \n",
       "17                           0.0                  0.0         0.000000e+00   \n",
       "18                           0.0                  0.0         0.000000e+00   \n",
       "19                           0.0                  0.0         0.000000e+00   \n",
       "20                           0.0                  0.0         0.000000e+00   \n",
       "21                           0.0                  0.0         0.000000e+00   \n",
       "22                           0.0                  0.0         0.000000e+00   \n",
       "23                           0.0                  0.0         0.000000e+00   \n",
       "24                           0.0                  0.0         0.000000e+00   \n",
       "25                           0.0                  0.0         0.000000e+00   \n",
       "26                           0.0                  0.0         0.000000e+00   \n",
       "27                           0.0                  0.0         0.000000e+00   \n",
       "28                           0.0                  0.0         0.000000e+00   \n",
       "29                           0.0                  0.0         0.000000e+00   \n",
       "...                          ...                  ...                  ...   \n",
       "473                          0.0                  0.0         0.000000e+00   \n",
       "474                          0.0                  0.0         0.000000e+00   \n",
       "475                          0.0                  0.0         0.000000e+00   \n",
       "476                          0.0                  0.0         0.000000e+00   \n",
       "477                          0.0                  0.0         0.000000e+00   \n",
       "478                          0.0                  0.0         0.000000e+00   \n",
       "479                          0.0                  0.0         0.000000e+00   \n",
       "480                          0.0                  0.0         0.000000e+00   \n",
       "481                          0.0                  0.0         0.000000e+00   \n",
       "482                          0.0                  0.0         0.000000e+00   \n",
       "483                          0.0                  0.0         0.000000e+00   \n",
       "484                          0.0                  0.0         0.000000e+00   \n",
       "485                          0.0                  0.0         0.000000e+00   \n",
       "486                          0.0                  0.0         0.000000e+00   \n",
       "487                          0.0                  0.0         0.000000e+00   \n",
       "488                          0.0                  0.0         0.000000e+00   \n",
       "489                          0.0                  0.0         0.000000e+00   \n",
       "490                          0.0                  0.0         0.000000e+00   \n",
       "491                          0.0                  0.0         0.000000e+00   \n",
       "492                          0.0                  0.0         0.000000e+00   \n",
       "493                          0.0                  0.0         0.000000e+00   \n",
       "494                          0.0                  0.0         0.000000e+00   \n",
       "495                          0.0                  0.0         0.000000e+00   \n",
       "496                          0.0                  0.0         0.000000e+00   \n",
       "497                          0.0                  0.0         0.000000e+00   \n",
       "498                          0.0                  0.0         0.000000e+00   \n",
       "499                          0.0                  0.0         0.000000e+00   \n",
       "variance                     0.0                  0.0         7.600124e-11   \n",
       "moyenne                      0.0                  0.0         4.720778e-07   \n",
       "percentage                   0.0                  0.0         4.000000e-03   \n",
       "\n",
       "                                                                           \\\n",
       "probe      AFFX-r2-Ec-bioB-M_at AFFX-r2-Ec-bioC-3_at AFFX-r2-Ec-bioC-5_at   \n",
       "0                           0.0         0.000000e+00                  0.0   \n",
       "1                           0.0         0.000000e+00                  0.0   \n",
       "2                           0.0         0.000000e+00                  0.0   \n",
       "3                           0.0         0.000000e+00                  0.0   \n",
       "4                           0.0         0.000000e+00                  0.0   \n",
       "5                           0.0         0.000000e+00                  0.0   \n",
       "6                           0.0         0.000000e+00                  0.0   \n",
       "7                           0.0         0.000000e+00                  0.0   \n",
       "8                           0.0         0.000000e+00                  0.0   \n",
       "9                           0.0         0.000000e+00                  0.0   \n",
       "10                          0.0         0.000000e+00                  0.0   \n",
       "11                          0.0         0.000000e+00                  0.0   \n",
       "12                          0.0         0.000000e+00                  0.0   \n",
       "13                          0.0         0.000000e+00                  0.0   \n",
       "14                          0.0         0.000000e+00                  0.0   \n",
       "15                          0.0         0.000000e+00                  0.0   \n",
       "16                          0.0         0.000000e+00                  0.0   \n",
       "17                          0.0         0.000000e+00                  0.0   \n",
       "18                          0.0         0.000000e+00                  0.0   \n",
       "19                          0.0         0.000000e+00                  0.0   \n",
       "20                          0.0         0.000000e+00                  0.0   \n",
       "21                          0.0         0.000000e+00                  0.0   \n",
       "22                          0.0         0.000000e+00                  0.0   \n",
       "23                          0.0         0.000000e+00                  0.0   \n",
       "24                          0.0         0.000000e+00                  0.0   \n",
       "25                          0.0         0.000000e+00                  0.0   \n",
       "26                          0.0         0.000000e+00                  0.0   \n",
       "27                          0.0         0.000000e+00                  0.0   \n",
       "28                          0.0         0.000000e+00                  0.0   \n",
       "29                          0.0         0.000000e+00                  0.0   \n",
       "...                         ...                  ...                  ...   \n",
       "473                         0.0         0.000000e+00                  0.0   \n",
       "474                         0.0         0.000000e+00                  0.0   \n",
       "475                         0.0         0.000000e+00                  0.0   \n",
       "476                         0.0         0.000000e+00                  0.0   \n",
       "477                         0.0         0.000000e+00                  0.0   \n",
       "478                         0.0         0.000000e+00                  0.0   \n",
       "479                         0.0         0.000000e+00                  0.0   \n",
       "480                         0.0         0.000000e+00                  0.0   \n",
       "481                         0.0         0.000000e+00                  0.0   \n",
       "482                         0.0         0.000000e+00                  0.0   \n",
       "483                         0.0         0.000000e+00                  0.0   \n",
       "484                         0.0         0.000000e+00                  0.0   \n",
       "485                         0.0         0.000000e+00                  0.0   \n",
       "486                         0.0         0.000000e+00                  0.0   \n",
       "487                         0.0         0.000000e+00                  0.0   \n",
       "488                         0.0         0.000000e+00                  0.0   \n",
       "489                         0.0         0.000000e+00                  0.0   \n",
       "490                         0.0         0.000000e+00                  0.0   \n",
       "491                         0.0         0.000000e+00                  0.0   \n",
       "492                         0.0         0.000000e+00                  0.0   \n",
       "493                         0.0         0.000000e+00                  0.0   \n",
       "494                         0.0         0.000000e+00                  0.0   \n",
       "495                         0.0         0.000000e+00                  0.0   \n",
       "496                         0.0         0.000000e+00                  0.0   \n",
       "497                         0.0         0.000000e+00                  0.0   \n",
       "498                         0.0         0.000000e+00                  0.0   \n",
       "499                         0.0         0.000000e+00                  0.0   \n",
       "variance                    0.0         5.535602e-09                  0.0   \n",
       "moyenne                     0.0         5.947203e-06                  0.0   \n",
       "percentage                  0.0         1.000000e-02                  0.0   \n",
       "\n",
       "                                                                          \\\n",
       "probe      AFFX-r2-Ec-bioD-3_at AFFX-r2-Ec-bioD-5_at AFFX-r2-P1-cre-3_at   \n",
       "0                  0.000000e+00         0.000000e+00        0.000000e+00   \n",
       "1                  0.000000e+00         0.000000e+00        0.000000e+00   \n",
       "2                  0.000000e+00         0.000000e+00        0.000000e+00   \n",
       "3                  0.000000e+00         0.000000e+00        0.000000e+00   \n",
       "4                  0.000000e+00         0.000000e+00        0.000000e+00   \n",
       "5                  0.000000e+00         0.000000e+00        0.000000e+00   \n",
       "6                  0.000000e+00         0.000000e+00        0.000000e+00   \n",
       "7                  0.000000e+00         0.000000e+00        0.000000e+00   \n",
       "8                  0.000000e+00         0.000000e+00        0.000000e+00   \n",
       "9                  0.000000e+00         0.000000e+00        0.000000e+00   \n",
       "10                 0.000000e+00         0.000000e+00        0.000000e+00   \n",
       "11                 0.000000e+00         0.000000e+00        0.000000e+00   \n",
       "12                 0.000000e+00         0.000000e+00        0.000000e+00   \n",
       "13                 0.000000e+00         0.000000e+00        0.000000e+00   \n",
       "14                 0.000000e+00         0.000000e+00        0.000000e+00   \n",
       "15                 0.000000e+00         0.000000e+00        0.000000e+00   \n",
       "16                 0.000000e+00         0.000000e+00        0.000000e+00   \n",
       "17                 0.000000e+00         0.000000e+00        0.000000e+00   \n",
       "18                 0.000000e+00         0.000000e+00        0.000000e+00   \n",
       "19                 0.000000e+00         0.000000e+00        0.000000e+00   \n",
       "20                 0.000000e+00         0.000000e+00        0.000000e+00   \n",
       "21                 0.000000e+00         0.000000e+00        0.000000e+00   \n",
       "22                 0.000000e+00         0.000000e+00        0.000000e+00   \n",
       "23                 0.000000e+00         0.000000e+00        0.000000e+00   \n",
       "24                 0.000000e+00         0.000000e+00        0.000000e+00   \n",
       "25                 0.000000e+00         0.000000e+00        0.000000e+00   \n",
       "26                 0.000000e+00         0.000000e+00        0.000000e+00   \n",
       "27                 0.000000e+00         0.000000e+00        0.000000e+00   \n",
       "28                 0.000000e+00         0.000000e+00        0.000000e+00   \n",
       "29                 0.000000e+00         0.000000e+00        0.000000e+00   \n",
       "...                         ...                  ...                 ...   \n",
       "473                0.000000e+00         0.000000e+00        0.000000e+00   \n",
       "474                0.000000e+00         0.000000e+00        0.000000e+00   \n",
       "475                0.000000e+00         0.000000e+00        0.000000e+00   \n",
       "476                0.000000e+00         0.000000e+00        0.000000e+00   \n",
       "477                0.000000e+00         0.000000e+00        0.000000e+00   \n",
       "478                0.000000e+00         0.000000e+00        0.000000e+00   \n",
       "479                0.000000e+00         0.000000e+00        0.000000e+00   \n",
       "480                0.000000e+00         0.000000e+00        0.000000e+00   \n",
       "481                0.000000e+00         0.000000e+00        0.000000e+00   \n",
       "482                0.000000e+00         0.000000e+00        0.000000e+00   \n",
       "483                0.000000e+00         0.000000e+00        0.000000e+00   \n",
       "484                0.000000e+00         0.000000e+00        0.000000e+00   \n",
       "485                0.000000e+00         0.000000e+00        0.000000e+00   \n",
       "486                0.000000e+00         0.000000e+00        0.000000e+00   \n",
       "487                0.000000e+00         0.000000e+00        0.000000e+00   \n",
       "488                0.000000e+00         0.000000e+00        0.000000e+00   \n",
       "489                0.000000e+00         0.000000e+00        0.000000e+00   \n",
       "490                0.000000e+00         0.000000e+00        0.000000e+00   \n",
       "491                0.000000e+00         0.000000e+00        0.000000e+00   \n",
       "492                6.326665e-04         0.000000e+00        0.000000e+00   \n",
       "493                0.000000e+00         0.000000e+00        0.000000e+00   \n",
       "494                0.000000e+00         0.000000e+00        0.000000e+00   \n",
       "495                0.000000e+00         0.000000e+00        0.000000e+00   \n",
       "496                0.000000e+00         1.728366e-05        0.000000e+00   \n",
       "497                0.000000e+00         0.000000e+00        0.000000e+00   \n",
       "498                0.000000e+00         0.000000e+00        0.000000e+00   \n",
       "499                0.000000e+00         0.000000e+00        0.000000e+00   \n",
       "variance           1.228839e-08         1.874166e-08        1.254960e-09   \n",
       "moyenne            1.102748e-05         1.436855e-05       -1.252277e-06   \n",
       "percentage         2.400000e-02         2.600000e-02        1.600000e-02   \n",
       "\n",
       "                                \n",
       "probe      AFFX-r2-P1-cre-5_at  \n",
       "0                 0.000000e+00  \n",
       "1                 0.000000e+00  \n",
       "2                 0.000000e+00  \n",
       "3                 0.000000e+00  \n",
       "4                 0.000000e+00  \n",
       "5                 0.000000e+00  \n",
       "6                 0.000000e+00  \n",
       "7                 0.000000e+00  \n",
       "8                 0.000000e+00  \n",
       "9                 0.000000e+00  \n",
       "10                0.000000e+00  \n",
       "11                0.000000e+00  \n",
       "12                0.000000e+00  \n",
       "13                0.000000e+00  \n",
       "14                0.000000e+00  \n",
       "15                0.000000e+00  \n",
       "16                0.000000e+00  \n",
       "17                0.000000e+00  \n",
       "18                0.000000e+00  \n",
       "19                0.000000e+00  \n",
       "20                0.000000e+00  \n",
       "21                0.000000e+00  \n",
       "22                0.000000e+00  \n",
       "23                0.000000e+00  \n",
       "24                0.000000e+00  \n",
       "25                0.000000e+00  \n",
       "26                0.000000e+00  \n",
       "27                0.000000e+00  \n",
       "28                0.000000e+00  \n",
       "29                0.000000e+00  \n",
       "...                        ...  \n",
       "473               0.000000e+00  \n",
       "474               0.000000e+00  \n",
       "475               0.000000e+00  \n",
       "476               0.000000e+00  \n",
       "477               0.000000e+00  \n",
       "478               0.000000e+00  \n",
       "479               0.000000e+00  \n",
       "480               0.000000e+00  \n",
       "481               0.000000e+00  \n",
       "482               0.000000e+00  \n",
       "483               0.000000e+00  \n",
       "484               0.000000e+00  \n",
       "485               0.000000e+00  \n",
       "486               0.000000e+00  \n",
       "487               0.000000e+00  \n",
       "488               0.000000e+00  \n",
       "489               0.000000e+00  \n",
       "490               0.000000e+00  \n",
       "491               0.000000e+00  \n",
       "492               0.000000e+00  \n",
       "493               0.000000e+00  \n",
       "494               0.000000e+00  \n",
       "495               0.000000e+00  \n",
       "496               0.000000e+00  \n",
       "497               0.000000e+00  \n",
       "498               0.000000e+00  \n",
       "499               0.000000e+00  \n",
       "variance          4.891318e-09  \n",
       "moyenne           3.637645e-06  \n",
       "percentage        1.200000e-02  \n",
       "\n",
       "[503 rows x 54676 columns]"
      ]
     },
     "execution_count": 276,
     "metadata": {},
     "output_type": "execute_result"
    }
   ],
   "source": [
    "ResLogR1_60.data"
   ]
  },
  {
   "cell_type": "code",
   "execution_count": 275,
   "metadata": {
    "scrolled": true
   },
   "outputs": [
    {
     "data": {
      "image/png": "[encoded data removed]",
      "text/plain": [
       "<matplotlib.figure.Figure at 0x7f9ded47f940>"
      ]
     },
     "metadata": {},
     "output_type": "display_data"
    }
   ],
   "source": [
    "display_evol(x2,moy2,std=std2)"
   ]
  },
  {
   "cell_type": "code",
   "execution_count": 109,
   "metadata": {},
   "outputs": [
    {
     "ename": "TypeError",
     "evalue": "feature_relevance() takes 1 positional argument but 3 were given",
     "output_type": "error",
     "traceback": [
      "\u001b[0;31m---------------------------------------------------------------------------\u001b[0m",
      "\u001b[0;31mTypeError\u001b[0m                                 Traceback (most recent call last)",
      "\u001b[0;32m<ipython-input-109-f3ae7d79b1d6>\u001b[0m in \u001b[0;36m<module>\u001b[0;34m()\u001b[0m\n\u001b[0;32m----> 1\u001b[0;31m \u001b[0mpercent\u001b[0m\u001b[0;34m,\u001b[0m\u001b[0mavg\u001b[0m \u001b[0;34m=\u001b[0m \u001b[0mLogR1\u001b[0m\u001b[0;34m.\u001b[0m\u001b[0mfeature_relevance\u001b[0m\u001b[0;34m(\u001b[0m\u001b[0;36m100\u001b[0m\u001b[0;34m,\u001b[0m\u001b[0;36m0\u001b[0m\u001b[0;34m)\u001b[0m\u001b[0;34m\u001b[0m\u001b[0m\n\u001b[0m",
      "\u001b[0;31mTypeError\u001b[0m: feature_relevance() takes 1 positional argument but 3 were given"
     ]
    }
   ],
   "source": [
    "percent,avg = LogR1.feature_relevance(100,0)"
   ]
  },
  {
   "cell_type": "code",
   "execution_count": 37,
   "metadata": {
    "collapsed": true
   },
   "outputs": [],
   "source": [
    "Stats = pd.DataFrame(data={'pourcentage':percent,'moyenne':avg[0]},index=X.columns)"
   ]
  },
  {
   "cell_type": "code",
   "execution_count": 38,
   "metadata": {
    "collapsed": true
   },
   "outputs": [],
   "source": [
    "seuil_grid = np.arange(0.3,1.0,0.01)\n",
    "moy,var,skipped = LogR2.stat_seuil(seuil_grid,Stats['pourcentage'].values,N=100)"
   ]
  },
  {
   "cell_type": "code",
   "execution_count": 41,
   "metadata": {
    "collapsed": true
   },
   "outputs": [],
   "source": [
    "std = np.sqrt(var)"
   ]
  },
  {
   "cell_type": "code",
   "execution_count": 43,
   "metadata": {
    "scrolled": true
   },
   "outputs": [
    {
     "data": {
      "image/png": "[encoded data removed]",
      "text/plain": [
       "<matplotlib.figure.Figure at 0x7fc365b274a8>"
      ]
     },
     "metadata": {},
     "output_type": "display_data"
    }
   ],
   "source": [
    "display_evol(seuil_grid[:-skipped],moy,std=std)"
   ]
  },
  {
   "cell_type": "code",
   "execution_count": 128,
   "metadata": {
    "collapsed": true
   },
   "outputs": [],
   "source": [
    "std = 1.96*np.sqrt(var)"
   ]
  },
  {
   "cell_type": "code",
   "execution_count": 129,
   "metadata": {
    "scrolled": false
   },
   "outputs": [
    {
     "data": {
      "image/png": "[encoded data removed]",
      "text/plain": [
       "<matplotlib.figure.Figure at 0x7f71760b4358>"
      ]
     },
     "metadata": {},
     "output_type": "display_data"
    }
   ],
   "source": [
    "display_evol(seuil_grid,moy,std=std)"
   ]
  },
  {
   "cell_type": "code",
   "execution_count": 131,
   "metadata": {
    "collapsed": true
   },
   "outputs": [],
   "source": [
    "std = 1.96*np.sqrt(var)"
   ]
  },
  {
   "cell_type": "code",
   "execution_count": 133,
   "metadata": {
    "scrolled": true
   },
   "outputs": [
    {
     "data": {
      "image/png": "[encoded data removed]",
      "text/plain": [
       "<matplotlib.figure.Figure at 0x7f7176063240>"
      ]
     },
     "metadata": {},
     "output_type": "display_data"
    }
   ],
   "source": [
    "display_evol(seuil_grid[:-skipped],moy,std=std)"
   ]
  },
  {
   "cell_type": "code",
   "execution_count": 139,
   "metadata": {
    "collapsed": true
   },
   "outputs": [],
   "source": [
    "seuil_grid = np.arange(0.9,1.0,0.005)\n",
    "moy,var,skipped = LogR2.stat_seuil(seuil_grid,Stats['pourcentage'].values,N=200)"
   ]
  },
  {
   "cell_type": "code",
   "execution_count": 140,
   "metadata": {
    "collapsed": true
   },
   "outputs": [],
   "source": [
    "std = 1.96*np.sqrt(var)"
   ]
  },
  {
   "cell_type": "code",
   "execution_count": 141,
   "metadata": {
    "scrolled": true
   },
   "outputs": [
    {
     "data": {
      "image/png": "[encoded data removed]",
      "text/plain": [
       "<matplotlib.figure.Figure at 0x7f7171c57978>"
      ]
     },
     "metadata": {},
     "output_type": "display_data"
    }
   ],
   "source": [
    "display_evol(seuil_grid[:-skipped],moy,std=std)"
   ]
  },
  {
   "cell_type": "code",
   "execution_count": 44,
   "metadata": {},
   "outputs": [
    {
     "data": {
      "text/plain": [
       "66"
      ]
     },
     "execution_count": 44,
     "metadata": {},
     "output_type": "execute_result"
    }
   ],
   "source": [
    "np.argmin(moy)"
   ]
  },
  {
   "cell_type": "code",
   "execution_count": 45,
   "metadata": {},
   "outputs": [
    {
     "data": {
      "text/plain": [
       "0.96000000000000063"
      ]
     },
     "execution_count": 45,
     "metadata": {},
     "output_type": "execute_result"
    }
   ],
   "source": [
    "seuil_grid[np.argmin(moy)]"
   ]
  },
  {
   "cell_type": "code",
   "execution_count": 47,
   "metadata": {
    "collapsed": true
   },
   "outputs": [],
   "source": [
    "Index_k = np.nonzero(cl.seuil(Stats['pourcentage'],0.96))[0]\n",
    "Xk = X.iloc[:,Index_k]"
   ]
  },
  {
   "cell_type": "code",
   "execution_count": 48,
   "metadata": {},
   "outputs": [
    {
     "data": {
      "text/plain": [
       "Index(['200953_s_at', '203021_at', '203913_s_at', '204712_at', '205489_at',\n",
       "       '220322_at', '220542_s_at', '40665_at'],\n",
       "      dtype='object')"
      ]
     },
     "execution_count": 48,
     "metadata": {},
     "output_type": "execute_result"
    }
   ],
   "source": [
    "Xk.columns"
   ]
  },
  {
   "cell_type": "code",
   "execution_count": 58,
   "metadata": {
    "collapsed": true
   },
   "outputs": [],
   "source": [
    "Xk2.to_csv('X_classification_{nmois}-reduit-2.csv')"
   ]
  },
  {
   "cell_type": "code",
   "execution_count": 57,
   "metadata": {
    "collapsed": true
   },
   "outputs": [],
   "source": [
    "Xk.to_csv('X_classification_{nmois}-reduit-1.csv')"
   ]
  },
  {
   "cell_type": "code",
   "execution_count": 50,
   "metadata": {},
   "outputs": [
    {
     "data": {
      "text/plain": [
       "200953_s_at    0.982\n",
       "203021_at      0.968\n",
       "203913_s_at    0.972\n",
       "204712_at      0.976\n",
       "205489_at      0.974\n",
       "220322_at      0.966\n",
       "220542_s_at    0.980\n",
       "40665_at       0.980\n",
       "Name: pourcentage, dtype: float64"
      ]
     },
     "execution_count": 50,
     "metadata": {},
     "output_type": "execute_result"
    }
   ],
   "source": [
    "Stats['pourcentage'].loc[Xk.columns.values]"
   ]
  },
  {
   "cell_type": "code",
   "execution_count": 54,
   "metadata": {
    "collapsed": true
   },
   "outputs": [],
   "source": [
    "Stats.to_csv(base+rf'/L1_feature-select_{nmois}.csv')"
   ]
  },
  {
   "cell_type": "code",
   "execution_count": 51,
   "metadata": {
    "collapsed": true
   },
   "outputs": [],
   "source": [
    "Index_k2 = np.nonzero(cl.seuil(Stats['pourcentage'],0.90))[0]\n",
    "Xk2 = X.iloc[:,Index_k2]"
   ]
  },
  {
   "cell_type": "code",
   "execution_count": 52,
   "metadata": {},
   "outputs": [
    {
     "data": {
      "text/plain": [
       "Index(['200953_s_at', '202203_s_at', '203021_at', '203913_s_at', '204712_at',\n",
       "       '205399_at', '205489_at', '206698_at', '220129_at', '220322_at',\n",
       "       '220542_s_at', '220591_s_at', '40665_at'],\n",
       "      dtype='object')"
      ]
     },
     "execution_count": 52,
     "metadata": {},
     "output_type": "execute_result"
    }
   ],
   "source": [
    "Xk2.columns"
   ]
  },
  {
   "cell_type": "code",
   "execution_count": 53,
   "metadata": {},
   "outputs": [
    {
     "data": {
      "text/plain": [
       "200953_s_at    0.982\n",
       "202203_s_at    0.936\n",
       "203021_at      0.968\n",
       "203913_s_at    0.972\n",
       "204712_at      0.976\n",
       "205399_at      0.956\n",
       "205489_at      0.974\n",
       "206698_at      0.920\n",
       "220129_at      0.946\n",
       "220322_at      0.966\n",
       "220542_s_at    0.980\n",
       "220591_s_at    0.914\n",
       "40665_at       0.980\n",
       "Name: pourcentage, dtype: float64"
      ]
     },
     "execution_count": 53,
     "metadata": {},
     "output_type": "execute_result"
    }
   ],
   "source": [
    "Stats['pourcentage'].loc[Xk2.columns.values]"
   ]
  },
  {
   "cell_type": "code",
   "execution_count": 150,
   "metadata": {},
   "outputs": [
    {
     "data": {
      "text/html": [
       "<div>\n",
       "<style>\n",
       "    .dataframe thead tr:only-child th {\n",
       "        text-align: right;\n",
       "    }\n",
       "\n",
       "    .dataframe thead th {\n",
       "        text-align: left;\n",
       "    }\n",
       "\n",
       "    .dataframe tbody tr th {\n",
       "        vertical-align: top;\n",
       "    }\n",
       "</style>\n",
       "<table border=\"1\" class=\"dataframe\">\n",
       "  <thead>\n",
       "    <tr style=\"text-align: right;\">\n",
       "      <th></th>\n",
       "      <th>GB_ACC</th>\n",
       "      <th>Gene Symbol</th>\n",
       "      <th>ENTREZ_GENE_ID</th>\n",
       "      <th>RefSeq Transcript ID</th>\n",
       "    </tr>\n",
       "    <tr>\n",
       "      <th>id</th>\n",
       "      <th></th>\n",
       "      <th></th>\n",
       "      <th></th>\n",
       "      <th></th>\n",
       "    </tr>\n",
       "  </thead>\n",
       "  <tbody>\n",
       "    <tr>\n",
       "      <th>200953_s_at</th>\n",
       "      <td>NM_001759</td>\n",
       "      <td>CCND2</td>\n",
       "      <td>894</td>\n",
       "      <td>NM_001759</td>\n",
       "    </tr>\n",
       "    <tr>\n",
       "      <th>203913_s_at</th>\n",
       "      <td>AL574184</td>\n",
       "      <td>HPGD</td>\n",
       "      <td>3248</td>\n",
       "      <td>NM_000860 /// NM_001145816 /// NR_027332</td>\n",
       "    </tr>\n",
       "    <tr>\n",
       "      <th>204712_at</th>\n",
       "      <td>NM_007191</td>\n",
       "      <td>WIF1</td>\n",
       "      <td>11197</td>\n",
       "      <td>NM_007191</td>\n",
       "    </tr>\n",
       "    <tr>\n",
       "      <th>205399_at</th>\n",
       "      <td>NM_004734</td>\n",
       "      <td>DCLK1</td>\n",
       "      <td>9201</td>\n",
       "      <td>NM_001195415 /// NM_001195416 /// NM_001195430...</td>\n",
       "    </tr>\n",
       "    <tr>\n",
       "      <th>205489_at</th>\n",
       "      <td>NM_001888</td>\n",
       "      <td>CRYM</td>\n",
       "      <td>1428</td>\n",
       "      <td>NM_001014444 /// NM_001888</td>\n",
       "    </tr>\n",
       "    <tr>\n",
       "      <th>220542_s_at</th>\n",
       "      <td>NM_016583</td>\n",
       "      <td>PLUNC</td>\n",
       "      <td>51297</td>\n",
       "      <td>NM_016583 /// NM_130852</td>\n",
       "    </tr>\n",
       "    <tr>\n",
       "      <th>40665_at</th>\n",
       "      <td>M83772</td>\n",
       "      <td>FMO3</td>\n",
       "      <td>2328</td>\n",
       "      <td>NM_001002294 /// NM_006894</td>\n",
       "    </tr>\n",
       "  </tbody>\n",
       "</table>\n",
       "</div>"
      ],
      "text/plain": [
       "                GB_ACC Gene Symbol ENTREZ_GENE_ID  \\\n",
       "id                                                  \n",
       "200953_s_at  NM_001759       CCND2            894   \n",
       "203913_s_at   AL574184        HPGD           3248   \n",
       "204712_at    NM_007191        WIF1          11197   \n",
       "205399_at    NM_004734       DCLK1           9201   \n",
       "205489_at    NM_001888        CRYM           1428   \n",
       "220542_s_at  NM_016583       PLUNC          51297   \n",
       "40665_at        M83772        FMO3           2328   \n",
       "\n",
       "                                          RefSeq Transcript ID  \n",
       "id                                                              \n",
       "200953_s_at                                          NM_001759  \n",
       "203913_s_at           NM_000860 /// NM_001145816 /// NR_027332  \n",
       "204712_at                                            NM_007191  \n",
       "205399_at    NM_001195415 /// NM_001195416 /// NM_001195430...  \n",
       "205489_at                           NM_001014444 /// NM_001888  \n",
       "220542_s_at                            NM_016583 /// NM_130852  \n",
       "40665_at                            NM_001002294 /// NM_006894  "
      ]
     },
     "execution_count": 150,
     "metadata": {},
     "output_type": "execute_result"
    }
   ],
   "source": [
    "Plt = pd.read_csv(\"epilung/epilung_platform-refined.csv\",index_col=0)\n",
    "Plt.loc[Xk.columns.values]"
   ]
  },
  {
   "cell_type": "markdown",
   "metadata": {},
   "source": [
    "C"
   ]
  },
  {
   "cell_type": "code",
   "execution_count": 157,
   "metadata": {
    "collapsed": true
   },
   "outputs": [],
   "source": [
    "import itertools"
   ]
  },
  {
   "cell_type": "code",
   "execution_count": 173,
   "metadata": {
    "scrolled": true
   },
   "outputs": [
    {
     "name": "stdout",
     "output_type": "stream",
     "text": [
      "(0.10000000000000001,)\n",
      "(0.20000000000000001,)\n",
      "(0.30000000000000004,)\n",
      "(0.40000000000000002,)\n",
      "(0.5,)\n",
      "(0.59999999999999998,)\n",
      "(0.70000000000000007,)\n",
      "(0.80000000000000004,)\n",
      "(0.90000000000000002,)\n"
     ]
    }
   ],
   "source": [
    "C_val = np.arange(1.0,10.0,1.0)\n",
    "perte,variance = GridLoss(Xk,Y[1],LogR2,C_val,['C'],kfold,10)"
   ]
  },
  {
   "cell_type": "code",
   "execution_count": 174,
   "metadata": {
    "collapsed": true
   },
   "outputs": [],
   "source": [
    "std = 1.96*np.sqrt(variance)"
   ]
  },
  {
   "cell_type": "code",
   "execution_count": 176,
   "metadata": {},
   "outputs": [
    {
     "data": {
      "image/png": "[encoded data removed]",
      "text/plain": [
       "<matplotlib.figure.Figure at 0x7f7171f32780>"
      ]
     },
     "metadata": {},
     "output_type": "display_data"
    }
   ],
   "source": [
    "display_evol(C_val,perte,np.sqrt(variance))"
   ]
  },
  {
   "cell_type": "code",
   "execution_count": 177,
   "metadata": {
    "scrolled": true
   },
   "outputs": [
    {
     "name": "stdout",
     "output_type": "stream",
     "text": [
      "(1.0,)\n",
      "(2.0,)\n",
      "(3.0,)\n",
      "(4.0,)\n",
      "(5.0,)\n",
      "(6.0,)\n",
      "(7.0,)\n",
      "(8.0,)\n",
      "(9.0,)\n"
     ]
    }
   ],
   "source": [
    "C_val = np.arange(1.0,10.0,1.0)\n",
    "perte,variance = GridLoss(Xk,Y[1],LogR2,C_val,['C'],kfold,10)"
   ]
  },
  {
   "cell_type": "code",
   "execution_count": 178,
   "metadata": {
    "collapsed": true
   },
   "outputs": [],
   "source": [
    "std = 1.96*np.sqrt(variance)"
   ]
  },
  {
   "cell_type": "code",
   "execution_count": 179,
   "metadata": {},
   "outputs": [
    {
     "data": {
      "image/png": "[encoded data removed]",
      "text/plain": [
       "<matplotlib.figure.Figure at 0x7f7171f66860>"
      ]
     },
     "metadata": {},
     "output_type": "display_data"
    }
   ],
   "source": [
    "display_evol(C_val,perte,np.sqrt(variance))"
   ]
  },
  {
   "cell_type": "code",
   "execution_count": null,
   "metadata": {
    "collapsed": true,
    "scrolled": true
   },
   "outputs": [],
   "source": [
    "C_val = np.arange(1.0,100.0,1.0)\n",
    "perte,variance = GridLoss(Xk,Y[1],LogR2,C_val,['C'],kfold,20)"
   ]
  },
  {
   "cell_type": "code",
   "execution_count": null,
   "metadata": {
    "collapsed": true
   },
   "outputs": [],
   "source": [
    "std = 1.96*np.sqrt(variance)"
   ]
  },
  {
   "cell_type": "code",
   "execution_count": null,
   "metadata": {
    "collapsed": true
   },
   "outputs": [],
   "source": [
    "display_evol(C_val,perte,np.sqrt(variance))"
   ]
  },
  {
   "cell_type": "markdown",
   "metadata": {},
   "source": [
    "## Prédiction de la durée de survie"
   ]
  },
  {
   "cell_type": "code",
   "execution_count": 181,
   "metadata": {
    "collapsed": true
   },
   "outputs": [],
   "source": [
    "from sklearn.linear_model import Lasso"
   ]
  },
  {
   "cell_type": "code",
   "execution_count": 182,
   "metadata": {
    "collapsed": true
   },
   "outputs": [],
   "source": [
    "from sklearn.linear_model import Ridge"
   ]
  },
  {
   "cell_type": "code",
   "execution_count": 20,
   "metadata": {
    "collapsed": true
   },
   "outputs": [],
   "source": [
    "from sklearn.metrics import mean_squared_error,log_loss"
   ]
  },
  {
   "cell_type": "markdown",
   "metadata": {},
   "source": [
    "### Base epilung"
   ]
  },
  {
   "cell_type": "code",
   "execution_count": 183,
   "metadata": {
    "collapsed": true
   },
   "outputs": [],
   "source": [
    "base = \"epilung\""
   ]
  },
  {
   "cell_type": "code",
   "execution_count": 188,
   "metadata": {
    "collapsed": true
   },
   "outputs": [],
   "source": [
    "def distance_cv(X,Y,cv,classifier):\n",
    "    kf = cv.split(X,Y)\n",
    "    loss = 0\n",
    "    for i in range(cv.get_n_splits()):\n",
    "        IndexTrain,IndexTest = next(kf)\n",
    "        Xtrain,Ytrain = X.iloc[IndexTrain],Y.iloc[IndexTrain]\n",
    "        Xtest,Ytest = X.iloc[IndexTest],Y.iloc[IndexTest]\n",
    "        classifier.fit(Xtrain,Ytrain)\n",
    "        loss += mean_squared_error(Ytest,classifier.predict(Xtest))\n",
    "    return loss/X.shape[0]"
   ]
  },
  {
   "cell_type": "code",
   "execution_count": 192,
   "metadata": {
    "collapsed": true
   },
   "outputs": [],
   "source": [
    "def stat_distance_cv(X,Y,cv,classifier,N=100):\n",
    "    l=[]\n",
    "    for i in range(N):\n",
    "       l.append(distance_cv(X,Y,cv,classifier))\n",
    "    moyenne = np.mean(l)\n",
    "    variance = np.mean((l-moyenne)**2)\n",
    "    return moyenne,variance"
   ]
  },
  {
   "cell_type": "code",
   "execution_count": 56,
   "metadata": {},
   "outputs": [
    {
     "ename": "NameError",
     "evalue": "name 'KFold' is not defined",
     "output_type": "error",
     "traceback": [
      "\u001b[0;31m---------------------------------------------------------------------------\u001b[0m",
      "\u001b[0;31mNameError\u001b[0m                                 Traceback (most recent call last)",
      "\u001b[0;32m<ipython-input-56-d595e1189caa>\u001b[0m in \u001b[0;36m<module>\u001b[0;34m()\u001b[0m\n\u001b[1;32m      2\u001b[0m \u001b[0mY\u001b[0m \u001b[0;34m=\u001b[0m \u001b[0mpd\u001b[0m\u001b[0;34m.\u001b[0m\u001b[0mread_csv\u001b[0m\u001b[0;34m(\u001b[0m\u001b[0mbase\u001b[0m\u001b[0;34m+\u001b[0m\u001b[0;34mrf'/Y_regression.csv'\u001b[0m\u001b[0;34m,\u001b[0m\u001b[0mindex_col\u001b[0m\u001b[0;34m=\u001b[0m\u001b[0;36m0\u001b[0m\u001b[0;34m,\u001b[0m\u001b[0mheader\u001b[0m\u001b[0;34m=\u001b[0m\u001b[0;32mNone\u001b[0m\u001b[0;34m)\u001b[0m\u001b[0;34m\u001b[0m\u001b[0m\n\u001b[1;32m      3\u001b[0m \u001b[0;34m\u001b[0m\u001b[0m\n\u001b[0;32m----> 4\u001b[0;31m \u001b[0mkfold\u001b[0m \u001b[0;34m=\u001b[0m \u001b[0mKFold\u001b[0m\u001b[0;34m(\u001b[0m\u001b[0mn_splits\u001b[0m \u001b[0;34m=\u001b[0m \u001b[0;36m5\u001b[0m\u001b[0;34m,\u001b[0m\u001b[0mshuffle\u001b[0m\u001b[0;34m=\u001b[0m\u001b[0;32mTrue\u001b[0m\u001b[0;34m)\u001b[0m\u001b[0;34m\u001b[0m\u001b[0m\n\u001b[0m",
      "\u001b[0;31mNameError\u001b[0m: name 'KFold' is not defined"
     ]
    }
   ],
   "source": [
    "X = pd.read_csv(base+rf'/X_regression.csv',index_col=0)\n",
    "Y = pd.read_csv(base+rf'/Y_regression.csv',index_col=0,header=None)\n",
    "\n",
    "kfold = KFold(n_splits = 5,shuffle=True)"
   ]
  },
  {
   "cell_type": "code",
   "execution_count": 184,
   "metadata": {
    "collapsed": true
   },
   "outputs": [],
   "source": [
    "LinR2 = Ridge(alpha=1.0)\n",
    "LinR1 = Lasso(alpha=1.0)"
   ]
  },
  {
   "cell_type": "code",
   "execution_count": null,
   "metadata": {
    "collapsed": true
   },
   "outputs": [],
   "source": [
    "from sklearn.metrics import mean_square_error"
   ]
  },
  {
   "cell_type": "code",
   "execution_count": null,
   "metadata": {
    "collapsed": true
   },
   "outputs": [],
   "source": [
    "from sklearn.metrics import mean_absolute_error"
   ]
  },
  {
   "cell_type": "markdown",
   "metadata": {},
   "source": [
    "On commence par se donner une idée des scores de base"
   ]
  },
  {
   "cell_type": "code",
   "execution_count": 193,
   "metadata": {
    "scrolled": false
   },
   "outputs": [
    {
     "data": {
      "text/plain": [
       "(66.244341890910377, 5.2548306580586424)"
      ]
     },
     "execution_count": 193,
     "metadata": {},
     "output_type": "execute_result"
    }
   ],
   "source": [
    "stat_distance_cv(X=X,Y=Y[1],cv=kfold,classifier=LinR2)"
   ]
  },
  {
   "cell_type": "code",
   "execution_count": 194,
   "metadata": {},
   "outputs": [
    {
     "data": {
      "text/plain": [
       "-0.029771184524112267"
      ]
     },
     "execution_count": 194,
     "metadata": {},
     "output_type": "execute_result"
    }
   ],
   "source": [
    "avg_score_cv(X=X,Y=Y[1],cv=kfold,classifier=LinR2)"
   ]
  },
  {
   "cell_type": "code",
   "execution_count": 195,
   "metadata": {},
   "outputs": [
    {
     "name": "stderr",
     "output_type": "stream",
     "text": [
      "/home/merlin/anaconda3/lib/python3.6/site-packages/sklearn/linear_model/coordinate_descent.py:491: ConvergenceWarning: Objective did not converge. You might want to increase the number of iterations. Fitting data with very small alpha may cause precision problems.\n",
      "  ConvergenceWarning)\n"
     ]
    },
    {
     "ename": "KeyboardInterrupt",
     "evalue": "",
     "output_type": "error",
     "traceback": [
      "\u001b[0;31m---------------------------------------------------------------------------\u001b[0m",
      "\u001b[0;31mKeyboardInterrupt\u001b[0m                         Traceback (most recent call last)",
      "\u001b[0;32m<ipython-input-195-ec066685296e>\u001b[0m in \u001b[0;36m<module>\u001b[0;34m()\u001b[0m\n\u001b[0;32m----> 1\u001b[0;31m \u001b[0mstat_distance_cv\u001b[0m\u001b[0;34m(\u001b[0m\u001b[0mX\u001b[0m\u001b[0;34m=\u001b[0m\u001b[0mX\u001b[0m\u001b[0;34m,\u001b[0m\u001b[0mY\u001b[0m\u001b[0;34m=\u001b[0m\u001b[0mY\u001b[0m\u001b[0;34m[\u001b[0m\u001b[0;36m1\u001b[0m\u001b[0;34m]\u001b[0m\u001b[0;34m,\u001b[0m\u001b[0mcv\u001b[0m\u001b[0;34m=\u001b[0m\u001b[0mkfold\u001b[0m\u001b[0;34m,\u001b[0m\u001b[0mclassifier\u001b[0m\u001b[0;34m=\u001b[0m\u001b[0mLinR1\u001b[0m\u001b[0;34m)\u001b[0m\u001b[0;34m\u001b[0m\u001b[0m\n\u001b[0m",
      "\u001b[0;32m<ipython-input-192-b90d7e95d41e>\u001b[0m in \u001b[0;36mstat_distance_cv\u001b[0;34m(X, Y, cv, classifier, N)\u001b[0m\n\u001b[1;32m      2\u001b[0m     \u001b[0ml\u001b[0m\u001b[0;34m=\u001b[0m\u001b[0;34m[\u001b[0m\u001b[0;34m]\u001b[0m\u001b[0;34m\u001b[0m\u001b[0m\n\u001b[1;32m      3\u001b[0m     \u001b[0;32mfor\u001b[0m \u001b[0mi\u001b[0m \u001b[0;32min\u001b[0m \u001b[0mrange\u001b[0m\u001b[0;34m(\u001b[0m\u001b[0mN\u001b[0m\u001b[0;34m)\u001b[0m\u001b[0;34m:\u001b[0m\u001b[0;34m\u001b[0m\u001b[0m\n\u001b[0;32m----> 4\u001b[0;31m        \u001b[0ml\u001b[0m\u001b[0;34m.\u001b[0m\u001b[0mappend\u001b[0m\u001b[0;34m(\u001b[0m\u001b[0mdistance_cv\u001b[0m\u001b[0;34m(\u001b[0m\u001b[0mX\u001b[0m\u001b[0;34m,\u001b[0m\u001b[0mY\u001b[0m\u001b[0;34m,\u001b[0m\u001b[0mcv\u001b[0m\u001b[0;34m,\u001b[0m\u001b[0mclassifier\u001b[0m\u001b[0;34m)\u001b[0m\u001b[0;34m)\u001b[0m\u001b[0;34m\u001b[0m\u001b[0m\n\u001b[0m\u001b[1;32m      5\u001b[0m     \u001b[0mmoyenne\u001b[0m \u001b[0;34m=\u001b[0m \u001b[0mnp\u001b[0m\u001b[0;34m.\u001b[0m\u001b[0mmean\u001b[0m\u001b[0;34m(\u001b[0m\u001b[0ml\u001b[0m\u001b[0;34m)\u001b[0m\u001b[0;34m\u001b[0m\u001b[0m\n\u001b[1;32m      6\u001b[0m     \u001b[0mvariance\u001b[0m \u001b[0;34m=\u001b[0m \u001b[0mnp\u001b[0m\u001b[0;34m.\u001b[0m\u001b[0mmean\u001b[0m\u001b[0;34m(\u001b[0m\u001b[0;34m(\u001b[0m\u001b[0ml\u001b[0m\u001b[0;34m-\u001b[0m\u001b[0mmoyenne\u001b[0m\u001b[0;34m)\u001b[0m\u001b[0;34m**\u001b[0m\u001b[0;36m2\u001b[0m\u001b[0;34m)\u001b[0m\u001b[0;34m\u001b[0m\u001b[0m\n",
      "\u001b[0;32m<ipython-input-188-7fd0e56c3fdf>\u001b[0m in \u001b[0;36mdistance_cv\u001b[0;34m(X, Y, cv, classifier)\u001b[0m\n\u001b[1;32m      6\u001b[0m         \u001b[0mXtrain\u001b[0m\u001b[0;34m,\u001b[0m\u001b[0mYtrain\u001b[0m \u001b[0;34m=\u001b[0m \u001b[0mX\u001b[0m\u001b[0;34m.\u001b[0m\u001b[0miloc\u001b[0m\u001b[0;34m[\u001b[0m\u001b[0mIndexTrain\u001b[0m\u001b[0;34m]\u001b[0m\u001b[0;34m,\u001b[0m\u001b[0mY\u001b[0m\u001b[0;34m.\u001b[0m\u001b[0miloc\u001b[0m\u001b[0;34m[\u001b[0m\u001b[0mIndexTrain\u001b[0m\u001b[0;34m]\u001b[0m\u001b[0;34m\u001b[0m\u001b[0m\n\u001b[1;32m      7\u001b[0m         \u001b[0mXtest\u001b[0m\u001b[0;34m,\u001b[0m\u001b[0mYtest\u001b[0m \u001b[0;34m=\u001b[0m \u001b[0mX\u001b[0m\u001b[0;34m.\u001b[0m\u001b[0miloc\u001b[0m\u001b[0;34m[\u001b[0m\u001b[0mIndexTest\u001b[0m\u001b[0;34m]\u001b[0m\u001b[0;34m,\u001b[0m\u001b[0mY\u001b[0m\u001b[0;34m.\u001b[0m\u001b[0miloc\u001b[0m\u001b[0;34m[\u001b[0m\u001b[0mIndexTest\u001b[0m\u001b[0;34m]\u001b[0m\u001b[0;34m\u001b[0m\u001b[0m\n\u001b[0;32m----> 8\u001b[0;31m         \u001b[0mclassifier\u001b[0m\u001b[0;34m.\u001b[0m\u001b[0mfit\u001b[0m\u001b[0;34m(\u001b[0m\u001b[0mXtrain\u001b[0m\u001b[0;34m,\u001b[0m\u001b[0mYtrain\u001b[0m\u001b[0;34m)\u001b[0m\u001b[0;34m\u001b[0m\u001b[0m\n\u001b[0m\u001b[1;32m      9\u001b[0m         \u001b[0mloss\u001b[0m \u001b[0;34m+=\u001b[0m \u001b[0mmean_squared_error\u001b[0m\u001b[0;34m(\u001b[0m\u001b[0mYtest\u001b[0m\u001b[0;34m,\u001b[0m\u001b[0mclassifier\u001b[0m\u001b[0;34m.\u001b[0m\u001b[0mpredict\u001b[0m\u001b[0;34m(\u001b[0m\u001b[0mXtest\u001b[0m\u001b[0;34m)\u001b[0m\u001b[0;34m)\u001b[0m\u001b[0;34m\u001b[0m\u001b[0m\n\u001b[1;32m     10\u001b[0m     \u001b[0;32mreturn\u001b[0m \u001b[0mloss\u001b[0m\u001b[0;34m/\u001b[0m\u001b[0mX\u001b[0m\u001b[0;34m.\u001b[0m\u001b[0mshape\u001b[0m\u001b[0;34m[\u001b[0m\u001b[0;36m0\u001b[0m\u001b[0;34m]\u001b[0m\u001b[0;34m\u001b[0m\u001b[0m\n",
      "\u001b[0;32m~/anaconda3/lib/python3.6/site-packages/sklearn/linear_model/coordinate_descent.py\u001b[0m in \u001b[0;36mfit\u001b[0;34m(self, X, y, check_input)\u001b[0m\n\u001b[1;32m    750\u001b[0m                           \u001b[0mrandom_state\u001b[0m\u001b[0;34m=\u001b[0m\u001b[0mself\u001b[0m\u001b[0;34m.\u001b[0m\u001b[0mrandom_state\u001b[0m\u001b[0;34m,\u001b[0m\u001b[0;34m\u001b[0m\u001b[0m\n\u001b[1;32m    751\u001b[0m                           \u001b[0mselection\u001b[0m\u001b[0;34m=\u001b[0m\u001b[0mself\u001b[0m\u001b[0;34m.\u001b[0m\u001b[0mselection\u001b[0m\u001b[0;34m,\u001b[0m\u001b[0;34m\u001b[0m\u001b[0m\n\u001b[0;32m--> 752\u001b[0;31m                           check_input=False)\n\u001b[0m\u001b[1;32m    753\u001b[0m             \u001b[0mcoef_\u001b[0m\u001b[0;34m[\u001b[0m\u001b[0mk\u001b[0m\u001b[0;34m]\u001b[0m \u001b[0;34m=\u001b[0m \u001b[0mthis_coef\u001b[0m\u001b[0;34m[\u001b[0m\u001b[0;34m:\u001b[0m\u001b[0;34m,\u001b[0m \u001b[0;36m0\u001b[0m\u001b[0;34m]\u001b[0m\u001b[0;34m\u001b[0m\u001b[0m\n\u001b[1;32m    754\u001b[0m             \u001b[0mdual_gaps_\u001b[0m\u001b[0;34m[\u001b[0m\u001b[0mk\u001b[0m\u001b[0;34m]\u001b[0m \u001b[0;34m=\u001b[0m \u001b[0mthis_dual_gap\u001b[0m\u001b[0;34m[\u001b[0m\u001b[0;36m0\u001b[0m\u001b[0;34m]\u001b[0m\u001b[0;34m\u001b[0m\u001b[0m\n",
      "\u001b[0;32m~/anaconda3/lib/python3.6/site-packages/sklearn/linear_model/coordinate_descent.py\u001b[0m in \u001b[0;36menet_path\u001b[0;34m(X, y, l1_ratio, eps, n_alphas, alphas, precompute, Xy, copy_X, coef_init, verbose, return_n_iter, positive, check_input, **params)\u001b[0m\n\u001b[1;32m    475\u001b[0m             model = cd_fast.enet_coordinate_descent(\n\u001b[1;32m    476\u001b[0m                 \u001b[0mcoef_\u001b[0m\u001b[0;34m,\u001b[0m \u001b[0ml1_reg\u001b[0m\u001b[0;34m,\u001b[0m \u001b[0ml2_reg\u001b[0m\u001b[0;34m,\u001b[0m \u001b[0mX\u001b[0m\u001b[0;34m,\u001b[0m \u001b[0my\u001b[0m\u001b[0;34m,\u001b[0m \u001b[0mmax_iter\u001b[0m\u001b[0;34m,\u001b[0m \u001b[0mtol\u001b[0m\u001b[0;34m,\u001b[0m \u001b[0mrng\u001b[0m\u001b[0;34m,\u001b[0m \u001b[0mrandom\u001b[0m\u001b[0;34m,\u001b[0m\u001b[0;34m\u001b[0m\u001b[0m\n\u001b[0;32m--> 477\u001b[0;31m                 positive)\n\u001b[0m\u001b[1;32m    478\u001b[0m         \u001b[0;32melse\u001b[0m\u001b[0;34m:\u001b[0m\u001b[0;34m\u001b[0m\u001b[0m\n\u001b[1;32m    479\u001b[0m             raise ValueError(\"Precompute should be one of True, False, \"\n",
      "\u001b[0;31mKeyboardInterrupt\u001b[0m: "
     ]
    }
   ],
   "source": [
    "stat_distance_cv(X=X,Y=Y[1],cv=kfold,classifier=LinR1)"
   ]
  },
  {
   "cell_type": "code",
   "execution_count": null,
   "metadata": {
    "collapsed": true
   },
   "outputs": [],
   "source": [
    "stat_distance_cv(X=X,Y=Y[1],cv=kfold,classifier=LinR1)"
   ]
  },
  {
   "cell_type": "markdown",
   "metadata": {},
   "source": [
    "##### Feature selection"
   ]
  },
  {
   "cell_type": "code",
   "execution_count": 54,
   "metadata": {
    "collapsed": true
   },
   "outputs": [],
   "source": [
    "alpha = 1.0\n",
    "LinR1 = Lasso(alpha=alpha)\n",
    "LinR2 = Ridge(alpha=alpha)"
   ]
  },
  {
   "cell_type": "code",
   "execution_count": null,
   "metadata": {
    "collapsed": true
   },
   "outputs": [],
   "source": [
    "x,y = select_features(X,Y[1],linR1,linR2)"
   ]
  },
  {
   "cell_type": "code",
   "execution_count": 31,
   "metadata": {},
   "outputs": [
    {
     "data": {
      "image/png": "[encoded data removed]",
      "text/plain": [
       "<matplotlib.figure.Figure at 0x7fd971e88390>"
      ]
     },
     "metadata": {},
     "output_type": "display_data"
    }
   ],
   "source": [
    "display_evol_erreur(x,y,\"le seuil\")"
   ]
  },
  {
   "cell_type": "code",
   "execution_count": 58,
   "metadata": {},
   "outputs": [
    {
     "data": {
      "text/plain": [
       "0.02"
      ]
     },
     "execution_count": 58,
     "metadata": {},
     "output_type": "execute_result"
    }
   ],
   "source": [
    "x[np.argmin(y)]"
   ]
  },
  {
   "cell_type": "code",
   "execution_count": 43,
   "metadata": {},
   "outputs": [
    {
     "data": {
      "text/plain": [
       "[<matplotlib.lines.Line2D at 0x7f20716dcb00>]"
      ]
     },
     "execution_count": 43,
     "metadata": {},
     "output_type": "execute_result"
    },
    {
     "data": {
      "image/png": "[encoded data removed]",
      "text/plain": [
       "<matplotlib.figure.Figure at 0x7f2071761390>"
      ]
     },
     "metadata": {},
     "output_type": "display_data"
    }
   ],
   "source": [
    "fenetre = 7\n",
    "ym = moyennage(y,7)\n",
    "display_evol_erreur(x,ym,'le seuil')"
   ]
  },
  {
   "cell_type": "code",
   "execution_count": 58,
   "metadata": {},
   "outputs": [
    {
     "data": {
      "text/plain": [
       "0.02"
      ]
     },
     "execution_count": 58,
     "metadata": {},
     "output_type": "execute_result"
    }
   ],
   "source": [
    "x[np.argmin(ym)]"
   ]
  },
  {
   "cell_type": "code",
   "execution_count": 47,
   "metadata": {
    "collapsed": true
   },
   "outputs": [],
   "source": [
    "Index_op = np.nonzero(seuil(coefs,x[np.argmin(ym)]))[0]\n",
    "XOP = X.iloc[:,Index_op]"
   ]
  },
  {
   "cell_type": "code",
   "execution_count": 39,
   "metadata": {
    "scrolled": true
   },
   "outputs": [
    {
     "data": {
      "text/plain": [
       "0.028443247872131039"
      ]
     },
     "execution_count": 39,
     "metadata": {},
     "output_type": "execute_result"
    }
   ],
   "source": [
    "avg_logloss_cv(X=XOP,Y=Y[1],cv=kfold,classifier=LinR2)"
   ]
  },
  {
   "cell_type": "code",
   "execution_count": 40,
   "metadata": {
    "scrolled": true
   },
   "outputs": [
    {
     "data": {
      "text/plain": [
       "0.95232261835184095"
      ]
     },
     "execution_count": 40,
     "metadata": {},
     "output_type": "execute_result"
    }
   ],
   "source": [
    "avg_score_cv(X=XOP,Y=Y[1],cv=kfold,classifier=LinR2)"
   ]
  },
  {
   "cell_type": "code",
   "execution_count": 65,
   "metadata": {
    "collapsed": true
   },
   "outputs": [
    {
     "data": {
      "text/html": [
       "<div>\n",
       "<style>\n",
       "    .dataframe thead tr:only-child th {\n",
       "        text-align: right;\n",
       "    }\n",
       "\n",
       "    .dataframe thead th {\n",
       "        text-align: left;\n",
       "    }\n",
       "\n",
       "    .dataframe tbody tr th {\n",
       "        vertical-align: top;\n",
       "    }\n",
       "</style>\n",
       "<table border=\"1\" class=\"dataframe\">\n",
       "  <thead>\n",
       "    <tr style=\"text-align: right;\">\n",
       "      <th></th>\n",
       "      <th>GB_ACC</th>\n",
       "      <th>Gene Symbol</th>\n",
       "      <th>ENTREZ_GENE_ID</th>\n",
       "      <th>RefSeq Transcript ID</th>\n",
       "    </tr>\n",
       "    <tr>\n",
       "      <th>id</th>\n",
       "      <th></th>\n",
       "      <th></th>\n",
       "      <th></th>\n",
       "      <th></th>\n",
       "    </tr>\n",
       "  </thead>\n",
       "  <tbody>\n",
       "    <tr>\n",
       "      <th>1552390_a_at</th>\n",
       "      <td>NM_173549</td>\n",
       "      <td>C8orf47</td>\n",
       "      <td>203111</td>\n",
       "      <td>NM_001170806 /// NM_173549</td>\n",
       "    </tr>\n",
       "    <tr>\n",
       "      <th>1552626_a_at</th>\n",
       "      <td>NM_030923</td>\n",
       "      <td>TMEM163</td>\n",
       "      <td>81615</td>\n",
       "      <td>NM_030923</td>\n",
       "    </tr>\n",
       "    <tr>\n",
       "      <th>1554242_a_at</th>\n",
       "      <td>BC007230</td>\n",
       "      <td>COCH</td>\n",
       "      <td>1690</td>\n",
       "      <td>NM_001135058 /// NM_004086</td>\n",
       "    </tr>\n",
       "    <tr>\n",
       "      <th>1555236_a_at</th>\n",
       "      <td>BC042578</td>\n",
       "      <td>PGC</td>\n",
       "      <td>5225</td>\n",
       "      <td>NM_001166424 /// NM_002630</td>\n",
       "    </tr>\n",
       "    <tr>\n",
       "      <th>1555758_a_at</th>\n",
       "      <td>AF213040</td>\n",
       "      <td>CDKN3</td>\n",
       "      <td>1033</td>\n",
       "      <td>NM_001130851 /// NM_005192</td>\n",
       "    </tr>\n",
       "    <tr>\n",
       "      <th>1555765_a_at</th>\n",
       "      <td>AF493872</td>\n",
       "      <td>GNG4</td>\n",
       "      <td>2786</td>\n",
       "      <td>NM_001098721 /// NM_001098722 /// NM_004485</td>\n",
       "    </tr>\n",
       "    <tr>\n",
       "      <th>1555778_a_at</th>\n",
       "      <td>AY140646</td>\n",
       "      <td>POSTN</td>\n",
       "      <td>10631</td>\n",
       "      <td>NM_001135934 /// NM_001135935 /// NM_001135936...</td>\n",
       "    </tr>\n",
       "    <tr>\n",
       "      <th>1555867_at</th>\n",
       "      <td>BM666010</td>\n",
       "      <td>GNG4</td>\n",
       "      <td>2786</td>\n",
       "      <td>NM_001098721 /// NM_001098722 /// NM_004485</td>\n",
       "    </tr>\n",
       "    <tr>\n",
       "      <th>1558308_at</th>\n",
       "      <td>AK090616</td>\n",
       "      <td>LOC100292680</td>\n",
       "      <td>100292680</td>\n",
       "      <td>NR_028415</td>\n",
       "    </tr>\n",
       "    <tr>\n",
       "      <th>1562102_at</th>\n",
       "      <td>BC014579</td>\n",
       "      <td>AKR1C1</td>\n",
       "      <td>1645</td>\n",
       "      <td>NM_001353</td>\n",
       "    </tr>\n",
       "    <tr>\n",
       "      <th>1565162_s_at</th>\n",
       "      <td>D16947</td>\n",
       "      <td>MGST1</td>\n",
       "      <td>4257</td>\n",
       "      <td>NM_020300 /// NM_145764 /// NM_145791 /// NM_1...</td>\n",
       "    </tr>\n",
       "    <tr>\n",
       "      <th>1569378_at</th>\n",
       "      <td>BC019241</td>\n",
       "      <td>LOC100292680</td>\n",
       "      <td>100292680</td>\n",
       "      <td>NR_028415</td>\n",
       "    </tr>\n",
       "    <tr>\n",
       "      <th>200670_at</th>\n",
       "      <td>NM_005080</td>\n",
       "      <td>XBP1</td>\n",
       "      <td>7494</td>\n",
       "      <td>NM_001079539 /// NM_005080</td>\n",
       "    </tr>\n",
       "    <tr>\n",
       "      <th>201195_s_at</th>\n",
       "      <td>AB018009</td>\n",
       "      <td>SLC7A5</td>\n",
       "      <td>8140</td>\n",
       "      <td>NM_003486</td>\n",
       "    </tr>\n",
       "    <tr>\n",
       "      <th>201291_s_at</th>\n",
       "      <td>AU159942</td>\n",
       "      <td>TOP2A</td>\n",
       "      <td>7153</td>\n",
       "      <td>NM_001067</td>\n",
       "    </tr>\n",
       "    <tr>\n",
       "      <th>201292_at</th>\n",
       "      <td>AL561834</td>\n",
       "      <td>TOP2A</td>\n",
       "      <td>7153</td>\n",
       "      <td>NM_001067</td>\n",
       "    </tr>\n",
       "    <tr>\n",
       "      <th>201340_s_at</th>\n",
       "      <td>AF010314</td>\n",
       "      <td>ENC1</td>\n",
       "      <td>8507</td>\n",
       "      <td>NM_003633</td>\n",
       "    </tr>\n",
       "    <tr>\n",
       "      <th>201348_at</th>\n",
       "      <td>NM_002084</td>\n",
       "      <td>GPX3</td>\n",
       "      <td>2878</td>\n",
       "      <td>NM_002084</td>\n",
       "    </tr>\n",
       "    <tr>\n",
       "      <th>201425_at</th>\n",
       "      <td>NM_000690</td>\n",
       "      <td>ALDH2</td>\n",
       "      <td>217</td>\n",
       "      <td>NM_000690</td>\n",
       "    </tr>\n",
       "    <tr>\n",
       "      <th>201522_x_at</th>\n",
       "      <td>NM_003097</td>\n",
       "      <td>SNRPN /// SNURF</td>\n",
       "      <td>6638 /// 8926</td>\n",
       "      <td>NM_003097 /// NM_005678 /// NM_022804 /// NM_0...</td>\n",
       "    </tr>\n",
       "    <tr>\n",
       "      <th>201525_at</th>\n",
       "      <td>NM_001647</td>\n",
       "      <td>APOD</td>\n",
       "      <td>347</td>\n",
       "      <td>NM_001647</td>\n",
       "    </tr>\n",
       "    <tr>\n",
       "      <th>201535_at</th>\n",
       "      <td>NM_007106</td>\n",
       "      <td>UBL3</td>\n",
       "      <td>5412</td>\n",
       "      <td>NM_007106</td>\n",
       "    </tr>\n",
       "    <tr>\n",
       "      <th>201785_at</th>\n",
       "      <td>NM_002933</td>\n",
       "      <td>RNASE1</td>\n",
       "      <td>6035</td>\n",
       "      <td>NM_002933 /// NM_198232 /// NM_198234 /// NM_1...</td>\n",
       "    </tr>\n",
       "    <tr>\n",
       "      <th>201865_x_at</th>\n",
       "      <td>AI432196</td>\n",
       "      <td>NR3C1</td>\n",
       "      <td>2908</td>\n",
       "      <td>NM_000176 /// NM_001018074 /// NM_001018075 //...</td>\n",
       "    </tr>\n",
       "    <tr>\n",
       "      <th>201884_at</th>\n",
       "      <td>NM_004363</td>\n",
       "      <td>CEACAM5</td>\n",
       "      <td>1048</td>\n",
       "      <td>NM_004363</td>\n",
       "    </tr>\n",
       "    <tr>\n",
       "      <th>201890_at</th>\n",
       "      <td>BE966236</td>\n",
       "      <td>RRM2</td>\n",
       "      <td>6241</td>\n",
       "      <td>NM_001034 /// NM_001165931</td>\n",
       "    </tr>\n",
       "    <tr>\n",
       "      <th>201909_at</th>\n",
       "      <td>NM_001008</td>\n",
       "      <td>RPS4Y1</td>\n",
       "      <td>6192</td>\n",
       "      <td>NM_001008</td>\n",
       "    </tr>\n",
       "    <tr>\n",
       "      <th>201963_at</th>\n",
       "      <td>NM_021122</td>\n",
       "      <td>ACSL1</td>\n",
       "      <td>2180</td>\n",
       "      <td>NM_001995</td>\n",
       "    </tr>\n",
       "    <tr>\n",
       "      <th>201983_s_at</th>\n",
       "      <td>AW157070</td>\n",
       "      <td>EGFR</td>\n",
       "      <td>1956</td>\n",
       "      <td>NM_005228 /// NM_201282 /// NM_201283 /// NM_2...</td>\n",
       "    </tr>\n",
       "    <tr>\n",
       "      <th>201998_at</th>\n",
       "      <td>AI743792</td>\n",
       "      <td>ST6GAL1</td>\n",
       "      <td>6480</td>\n",
       "      <td>NM_003032 /// NM_173216 /// NM_173217</td>\n",
       "    </tr>\n",
       "    <tr>\n",
       "      <th>...</th>\n",
       "      <td>...</td>\n",
       "      <td>...</td>\n",
       "      <td>...</td>\n",
       "      <td>...</td>\n",
       "    </tr>\n",
       "    <tr>\n",
       "      <th>234314_at</th>\n",
       "      <td>AB033098</td>\n",
       "      <td>RALGAPA2</td>\n",
       "      <td>57186</td>\n",
       "      <td>NM_020343</td>\n",
       "    </tr>\n",
       "    <tr>\n",
       "      <th>234985_at</th>\n",
       "      <td>AW043782</td>\n",
       "      <td>LDLRAD3</td>\n",
       "      <td>143458</td>\n",
       "      <td>NM_174902</td>\n",
       "    </tr>\n",
       "    <tr>\n",
       "      <th>235638_at</th>\n",
       "      <td>AI167789</td>\n",
       "      <td>RASSF6</td>\n",
       "      <td>166824</td>\n",
       "      <td>NM_177532 /// NM_201431</td>\n",
       "    </tr>\n",
       "    <tr>\n",
       "      <th>236121_at</th>\n",
       "      <td>AI805082</td>\n",
       "      <td>OR51E2</td>\n",
       "      <td>81285</td>\n",
       "      <td>NM_030774</td>\n",
       "    </tr>\n",
       "    <tr>\n",
       "      <th>236277_at</th>\n",
       "      <td>H23551</td>\n",
       "      <td>NaN</td>\n",
       "      <td>NaN</td>\n",
       "      <td>NaN</td>\n",
       "    </tr>\n",
       "    <tr>\n",
       "      <th>236351_at</th>\n",
       "      <td>AI499651</td>\n",
       "      <td>LOC389023</td>\n",
       "      <td>389023</td>\n",
       "      <td>NR_036580 /// XM_001716001 /// XM_001716702</td>\n",
       "    </tr>\n",
       "    <tr>\n",
       "      <th>236534_at</th>\n",
       "      <td>W69365</td>\n",
       "      <td>BNIPL</td>\n",
       "      <td>149428</td>\n",
       "      <td>NM_001159642 /// NM_138278</td>\n",
       "    </tr>\n",
       "    <tr>\n",
       "      <th>236641_at</th>\n",
       "      <td>AW183154</td>\n",
       "      <td>KIF14</td>\n",
       "      <td>9928</td>\n",
       "      <td>NM_014875</td>\n",
       "    </tr>\n",
       "    <tr>\n",
       "      <th>238021_s_at</th>\n",
       "      <td>AA954994</td>\n",
       "      <td>CRNDE</td>\n",
       "      <td>643911</td>\n",
       "      <td>NR_034105 /// NR_034106</td>\n",
       "    </tr>\n",
       "    <tr>\n",
       "      <th>238022_at</th>\n",
       "      <td>AA954994</td>\n",
       "      <td>CRNDE</td>\n",
       "      <td>643911</td>\n",
       "      <td>NR_034105 /// NR_034106</td>\n",
       "    </tr>\n",
       "    <tr>\n",
       "      <th>238332_at</th>\n",
       "      <td>AI307802</td>\n",
       "      <td>ANKRD29</td>\n",
       "      <td>147463</td>\n",
       "      <td>NM_173505</td>\n",
       "    </tr>\n",
       "    <tr>\n",
       "      <th>238451_at</th>\n",
       "      <td>BF693302</td>\n",
       "      <td>MPP7</td>\n",
       "      <td>143098</td>\n",
       "      <td>NM_173496</td>\n",
       "    </tr>\n",
       "    <tr>\n",
       "      <th>238673_at</th>\n",
       "      <td>AV724325</td>\n",
       "      <td>NaN</td>\n",
       "      <td>NaN</td>\n",
       "      <td>NaN</td>\n",
       "    </tr>\n",
       "    <tr>\n",
       "      <th>238756_at</th>\n",
       "      <td>AI860012</td>\n",
       "      <td>GAS2L3</td>\n",
       "      <td>283431</td>\n",
       "      <td>NM_174942</td>\n",
       "    </tr>\n",
       "    <tr>\n",
       "      <th>238778_at</th>\n",
       "      <td>AI244661</td>\n",
       "      <td>MPP7</td>\n",
       "      <td>143098</td>\n",
       "      <td>NM_173496</td>\n",
       "    </tr>\n",
       "    <tr>\n",
       "      <th>239752_at</th>\n",
       "      <td>BE551781</td>\n",
       "      <td>NaN</td>\n",
       "      <td>NaN</td>\n",
       "      <td>NaN</td>\n",
       "    </tr>\n",
       "    <tr>\n",
       "      <th>240422_at</th>\n",
       "      <td>AI935710</td>\n",
       "      <td>NaN</td>\n",
       "      <td>NaN</td>\n",
       "      <td>NaN</td>\n",
       "    </tr>\n",
       "    <tr>\n",
       "      <th>242138_at</th>\n",
       "      <td>BF060783</td>\n",
       "      <td>DLX1</td>\n",
       "      <td>1745</td>\n",
       "      <td>NM_001038493 /// NM_178120</td>\n",
       "    </tr>\n",
       "    <tr>\n",
       "      <th>242601_at</th>\n",
       "      <td>AA600175</td>\n",
       "      <td>HEPACAM2</td>\n",
       "      <td>253012</td>\n",
       "      <td>NM_001039372 /// NM_198151</td>\n",
       "    </tr>\n",
       "    <tr>\n",
       "      <th>242881_x_at</th>\n",
       "      <td>BG285837</td>\n",
       "      <td>NaN</td>\n",
       "      <td>NaN</td>\n",
       "      <td>NaN</td>\n",
       "    </tr>\n",
       "    <tr>\n",
       "      <th>242940_x_at</th>\n",
       "      <td>AA040332</td>\n",
       "      <td>DLX6</td>\n",
       "      <td>1750</td>\n",
       "      <td>NM_005222</td>\n",
       "    </tr>\n",
       "    <tr>\n",
       "      <th>243339_at</th>\n",
       "      <td>AI796076</td>\n",
       "      <td>NaN</td>\n",
       "      <td>NaN</td>\n",
       "      <td>NaN</td>\n",
       "    </tr>\n",
       "    <tr>\n",
       "      <th>244056_at</th>\n",
       "      <td>AW293443</td>\n",
       "      <td>SFTA2</td>\n",
       "      <td>389376</td>\n",
       "      <td>NM_205854</td>\n",
       "    </tr>\n",
       "    <tr>\n",
       "      <th>244370_at</th>\n",
       "      <td>AI743137</td>\n",
       "      <td>KIAA2022</td>\n",
       "      <td>340533</td>\n",
       "      <td>NM_001008537</td>\n",
       "    </tr>\n",
       "    <tr>\n",
       "      <th>244623_at</th>\n",
       "      <td>BF513800</td>\n",
       "      <td>KCNQ5</td>\n",
       "      <td>56479</td>\n",
       "      <td>NM_001160130 /// NM_001160132 /// NM_001160133...</td>\n",
       "    </tr>\n",
       "    <tr>\n",
       "      <th>244774_at</th>\n",
       "      <td>R81072</td>\n",
       "      <td>PHACTR2</td>\n",
       "      <td>9749</td>\n",
       "      <td>NM_001100164 /// NM_001100165 /// NM_001100166...</td>\n",
       "    </tr>\n",
       "    <tr>\n",
       "      <th>33323_r_at</th>\n",
       "      <td>X57348</td>\n",
       "      <td>SFN</td>\n",
       "      <td>2810</td>\n",
       "      <td>NM_006142</td>\n",
       "    </tr>\n",
       "    <tr>\n",
       "      <th>37004_at</th>\n",
       "      <td>J02761</td>\n",
       "      <td>SFTPB</td>\n",
       "      <td>6439</td>\n",
       "      <td>NM_000542 /// NM_198843</td>\n",
       "    </tr>\n",
       "    <tr>\n",
       "      <th>37005_at</th>\n",
       "      <td>D28124</td>\n",
       "      <td>NBL1</td>\n",
       "      <td>4681</td>\n",
       "      <td>NM_005380 /// NM_182744</td>\n",
       "    </tr>\n",
       "    <tr>\n",
       "      <th>39248_at</th>\n",
       "      <td>N74607</td>\n",
       "      <td>AQP3</td>\n",
       "      <td>360</td>\n",
       "      <td>NM_004925</td>\n",
       "    </tr>\n",
       "  </tbody>\n",
       "</table>\n",
       "<p>433 rows × 4 columns</p>\n",
       "</div>"
      ],
      "text/plain": [
       "                 GB_ACC      Gene Symbol ENTREZ_GENE_ID  \\\n",
       "id                                                        \n",
       "1552390_a_at  NM_173549          C8orf47         203111   \n",
       "1552626_a_at  NM_030923          TMEM163          81615   \n",
       "1554242_a_at   BC007230             COCH           1690   \n",
       "1555236_a_at   BC042578              PGC           5225   \n",
       "1555758_a_at   AF213040            CDKN3           1033   \n",
       "1555765_a_at   AF493872             GNG4           2786   \n",
       "1555778_a_at   AY140646            POSTN          10631   \n",
       "1555867_at     BM666010             GNG4           2786   \n",
       "1558308_at     AK090616     LOC100292680      100292680   \n",
       "1562102_at     BC014579           AKR1C1           1645   \n",
       "1565162_s_at     D16947            MGST1           4257   \n",
       "1569378_at     BC019241     LOC100292680      100292680   \n",
       "200670_at     NM_005080             XBP1           7494   \n",
       "201195_s_at    AB018009           SLC7A5           8140   \n",
       "201291_s_at    AU159942            TOP2A           7153   \n",
       "201292_at      AL561834            TOP2A           7153   \n",
       "201340_s_at    AF010314             ENC1           8507   \n",
       "201348_at     NM_002084             GPX3           2878   \n",
       "201425_at     NM_000690            ALDH2            217   \n",
       "201522_x_at   NM_003097  SNRPN /// SNURF  6638 /// 8926   \n",
       "201525_at     NM_001647             APOD            347   \n",
       "201535_at     NM_007106             UBL3           5412   \n",
       "201785_at     NM_002933           RNASE1           6035   \n",
       "201865_x_at    AI432196            NR3C1           2908   \n",
       "201884_at     NM_004363          CEACAM5           1048   \n",
       "201890_at      BE966236             RRM2           6241   \n",
       "201909_at     NM_001008           RPS4Y1           6192   \n",
       "201963_at     NM_021122            ACSL1           2180   \n",
       "201983_s_at    AW157070             EGFR           1956   \n",
       "201998_at      AI743792          ST6GAL1           6480   \n",
       "...                 ...              ...            ...   \n",
       "234314_at      AB033098         RALGAPA2          57186   \n",
       "234985_at      AW043782          LDLRAD3         143458   \n",
       "235638_at      AI167789           RASSF6         166824   \n",
       "236121_at      AI805082           OR51E2          81285   \n",
       "236277_at        H23551              NaN            NaN   \n",
       "236351_at      AI499651        LOC389023         389023   \n",
       "236534_at        W69365            BNIPL         149428   \n",
       "236641_at      AW183154            KIF14           9928   \n",
       "238021_s_at    AA954994            CRNDE         643911   \n",
       "238022_at      AA954994            CRNDE         643911   \n",
       "238332_at      AI307802          ANKRD29         147463   \n",
       "238451_at      BF693302             MPP7         143098   \n",
       "238673_at      AV724325              NaN            NaN   \n",
       "238756_at      AI860012           GAS2L3         283431   \n",
       "238778_at      AI244661             MPP7         143098   \n",
       "239752_at      BE551781              NaN            NaN   \n",
       "240422_at      AI935710              NaN            NaN   \n",
       "242138_at      BF060783             DLX1           1745   \n",
       "242601_at      AA600175         HEPACAM2         253012   \n",
       "242881_x_at    BG285837              NaN            NaN   \n",
       "242940_x_at    AA040332             DLX6           1750   \n",
       "243339_at      AI796076              NaN            NaN   \n",
       "244056_at      AW293443            SFTA2         389376   \n",
       "244370_at      AI743137         KIAA2022         340533   \n",
       "244623_at      BF513800            KCNQ5          56479   \n",
       "244774_at        R81072          PHACTR2           9749   \n",
       "33323_r_at       X57348              SFN           2810   \n",
       "37004_at         J02761            SFTPB           6439   \n",
       "37005_at         D28124             NBL1           4681   \n",
       "39248_at         N74607             AQP3            360   \n",
       "\n",
       "                                           RefSeq Transcript ID  \n",
       "id                                                               \n",
       "1552390_a_at                         NM_001170806 /// NM_173549  \n",
       "1552626_a_at                                          NM_030923  \n",
       "1554242_a_at                         NM_001135058 /// NM_004086  \n",
       "1555236_a_at                         NM_001166424 /// NM_002630  \n",
       "1555758_a_at                         NM_001130851 /// NM_005192  \n",
       "1555765_a_at        NM_001098721 /// NM_001098722 /// NM_004485  \n",
       "1555778_a_at  NM_001135934 /// NM_001135935 /// NM_001135936...  \n",
       "1555867_at          NM_001098721 /// NM_001098722 /// NM_004485  \n",
       "1558308_at                                            NR_028415  \n",
       "1562102_at                                            NM_001353  \n",
       "1565162_s_at  NM_020300 /// NM_145764 /// NM_145791 /// NM_1...  \n",
       "1569378_at                                            NR_028415  \n",
       "200670_at                            NM_001079539 /// NM_005080  \n",
       "201195_s_at                                           NM_003486  \n",
       "201291_s_at                                           NM_001067  \n",
       "201292_at                                             NM_001067  \n",
       "201340_s_at                                           NM_003633  \n",
       "201348_at                                             NM_002084  \n",
       "201425_at                                             NM_000690  \n",
       "201522_x_at   NM_003097 /// NM_005678 /// NM_022804 /// NM_0...  \n",
       "201525_at                                             NM_001647  \n",
       "201535_at                                             NM_007106  \n",
       "201785_at     NM_002933 /// NM_198232 /// NM_198234 /// NM_1...  \n",
       "201865_x_at   NM_000176 /// NM_001018074 /// NM_001018075 //...  \n",
       "201884_at                                             NM_004363  \n",
       "201890_at                            NM_001034 /// NM_001165931  \n",
       "201909_at                                             NM_001008  \n",
       "201963_at                                             NM_001995  \n",
       "201983_s_at   NM_005228 /// NM_201282 /// NM_201283 /// NM_2...  \n",
       "201998_at                 NM_003032 /// NM_173216 /// NM_173217  \n",
       "...                                                         ...  \n",
       "234314_at                                             NM_020343  \n",
       "234985_at                                             NM_174902  \n",
       "235638_at                               NM_177532 /// NM_201431  \n",
       "236121_at                                             NM_030774  \n",
       "236277_at                                                   NaN  \n",
       "236351_at           NR_036580 /// XM_001716001 /// XM_001716702  \n",
       "236534_at                            NM_001159642 /// NM_138278  \n",
       "236641_at                                             NM_014875  \n",
       "238021_s_at                             NR_034105 /// NR_034106  \n",
       "238022_at                               NR_034105 /// NR_034106  \n",
       "238332_at                                             NM_173505  \n",
       "238451_at                                             NM_173496  \n",
       "238673_at                                                   NaN  \n",
       "238756_at                                             NM_174942  \n",
       "238778_at                                             NM_173496  \n",
       "239752_at                                                   NaN  \n",
       "240422_at                                                   NaN  \n",
       "242138_at                            NM_001038493 /// NM_178120  \n",
       "242601_at                            NM_001039372 /// NM_198151  \n",
       "242881_x_at                                                 NaN  \n",
       "242940_x_at                                           NM_005222  \n",
       "243339_at                                                   NaN  \n",
       "244056_at                                             NM_205854  \n",
       "244370_at                                          NM_001008537  \n",
       "244623_at     NM_001160130 /// NM_001160132 /// NM_001160133...  \n",
       "244774_at     NM_001100164 /// NM_001100165 /// NM_001100166...  \n",
       "33323_r_at                                            NM_006142  \n",
       "37004_at                                NM_000542 /// NM_198843  \n",
       "37005_at                                NM_005380 /// NM_182744  \n",
       "39248_at                                              NM_004925  \n",
       "\n",
       "[433 rows x 4 columns]"
      ]
     },
     "execution_count": 65,
     "metadata": {},
     "output_type": "execute_result"
    }
   ],
   "source": [
    "Plt = pd.read_csv(\"epilung/epilung_platform-refined.csv\",index_col=0)\n",
    "Plt.loc[XOP.columns.values]"
   ]
  },
  {
   "cell_type": "code",
   "execution_count": 55,
   "metadata": {
    "collapsed": true
   },
   "outputs": [],
   "source": [
    "XOP.to_csv(rf'epilung/X_regression-{C}.csv')"
   ]
  },
  {
   "cell_type": "markdown",
   "metadata": {},
   "source": [
    "## Modèles ensemblistes"
   ]
  },
  {
   "cell_type": "code",
   "execution_count": 13,
   "metadata": {
    "collapsed": true
   },
   "outputs": [],
   "source": [
    "nmois = 12"
   ]
  },
  {
   "cell_type": "code",
   "execution_count": 15,
   "metadata": {
    "collapsed": true
   },
   "outputs": [],
   "source": [
    "base='epilung'"
   ]
  },
  {
   "cell_type": "code",
   "execution_count": 16,
   "metadata": {
    "collapsed": true
   },
   "outputs": [],
   "source": [
    "X = pd.read_csv(base+rf'/X_classification-{nmois}.csv',index_col=0)\n",
    "Y = pd.read_csv(base+rf'/Y_classification-{nmois}.csv',index_col=0,header=None)"
   ]
  },
  {
   "cell_type": "code",
   "execution_count": 17,
   "metadata": {
    "collapsed": true
   },
   "outputs": [],
   "source": [
    "kfold = KFold(n_splits = 5,shuffle=True)\n",
    "rkfold = RepeatedKFold(n_splits=5,n_repeats=10)"
   ]
  },
  {
   "cell_type": "markdown",
   "metadata": {},
   "source": [
    "### Random Forest"
   ]
  },
  {
   "cell_type": "code",
   "execution_count": 6,
   "metadata": {
    "collapsed": true
   },
   "outputs": [],
   "source": [
    "from sklearn.ensemble import GradientBoostingClassifier"
   ]
  },
  {
   "cell_type": "code",
   "execution_count": 278,
   "metadata": {
    "collapsed": true
   },
   "outputs": [],
   "source": [
    "GB = cl.GeneralClassifier(GradientBoostingClassifier(),12,kfold,X=X,Y=Y[1],folder='epilung')"
   ]
  },
  {
   "cell_type": "markdown",
   "metadata": {},
   "source": [
    "XGB"
   ]
  },
  {
   "cell_type": "code",
   "execution_count": 7,
   "metadata": {
    "collapsed": true
   },
   "outputs": [],
   "source": [
    "from xgboost import XGBClassifier"
   ]
  },
  {
   "cell_type": "code",
   "execution_count": 18,
   "metadata": {
    "collapsed": true,
    "scrolled": true
   },
   "outputs": [],
   "source": [
    "XGB = cl.EnsembleClassifieur(XGBClassifier(n_jobs=-1),12,rkfold,X=X,Y=Y[1],folder='epilung')"
   ]
  },
  {
   "cell_type": "code",
   "execution_count": 281,
   "metadata": {
    "collapsed": true
   },
   "outputs": [],
   "source": [
    "from importlib import reload"
   ]
  },
  {
   "cell_type": "code",
   "execution_count": 68,
   "metadata": {
    "collapsed": true
   },
   "outputs": [],
   "source": [
    "cl = reload(cl)"
   ]
  },
  {
   "cell_type": "code",
   "execution_count": 19,
   "metadata": {
    "collapsed": true
   },
   "outputs": [],
   "source": [
    "ResXGB_12 = XGB.feature_relevance()"
   ]
  },
  {
   "cell_type": "code",
   "execution_count": 22,
   "metadata": {
    "collapsed": true
   },
   "outputs": [],
   "source": [
    "ResXGB_12.stat_m()\n",
    "ResXGB_12.stat_v()\n",
    "ResXGB_12.stat_percentage()"
   ]
  },
  {
   "cell_type": "code",
   "execution_count": 25,
   "metadata": {
    "collapsed": true
   },
   "outputs": [],
   "source": [
    "ResXGB_12.save()"
   ]
  },
  {
   "cell_type": "markdown",
   "metadata": {},
   "source": [
    "nmois = 60"
   ]
  },
  {
   "cell_type": "code",
   "execution_count": 26,
   "metadata": {
    "collapsed": true
   },
   "outputs": [],
   "source": [
    "nmois=60"
   ]
  },
  {
   "cell_type": "code",
   "execution_count": 16,
   "metadata": {
    "collapsed": true
   },
   "outputs": [],
   "source": [
    "X = pd.read_csv(base+rf'/X_classification-{nmois}.csv',index_col=0)\n",
    "Y = pd.read_csv(base+rf'/Y_classification-{nmois}.csv',index_col=0,header=None)"
   ]
  },
  {
   "cell_type": "code",
   "execution_count": 27,
   "metadata": {
    "collapsed": true,
    "scrolled": true
   },
   "outputs": [],
   "source": [
    "XGB = cl.EnsembleClassifieur(XGBClassifier(n_jobs=-1),nmois,rkfold,X=X,Y=Y[1],folder='epilung')"
   ]
  },
  {
   "cell_type": "code",
   "execution_count": 28,
   "metadata": {
    "collapsed": true
   },
   "outputs": [],
   "source": [
    "ResXGB_60 = XGB.feature_relevance()"
   ]
  },
  {
   "cell_type": "code",
   "execution_count": 29,
   "metadata": {
    "collapsed": true
   },
   "outputs": [],
   "source": [
    "ResXGB_60.stat_m()\n",
    "ResXGB_60.stat_v()\n",
    "ResXGB_60.stat_percentage()"
   ]
  },
  {
   "cell_type": "code",
   "execution_count": 30,
   "metadata": {
    "collapsed": true
   },
   "outputs": [],
   "source": [
    "ResXGB_60.save()"
   ]
  },
  {
   "cell_type": "code",
   "execution_count": 53,
   "metadata": {
    "scrolled": true
   },
   "outputs": [
    {
     "data": {
      "text/html": [
       "<div>\n",
       "<style scoped>\n",
       "    .dataframe tbody tr th:only-of-type {\n",
       "        vertical-align: middle;\n",
       "    }\n",
       "\n",
       "    .dataframe tbody tr th {\n",
       "        vertical-align: top;\n",
       "    }\n",
       "\n",
       "    .dataframe thead tr th {\n",
       "        text-align: left;\n",
       "    }\n",
       "</style>\n",
       "<table border=\"1\" class=\"dataframe\">\n",
       "  <thead>\n",
       "    <tr>\n",
       "      <th></th>\n",
       "      <th>metrics</th>\n",
       "      <th colspan=\"20\" halign=\"left\">feature_importances_</th>\n",
       "    </tr>\n",
       "    <tr>\n",
       "      <th>probe</th>\n",
       "      <th>logloss</th>\n",
       "      <th>1007_s_at</th>\n",
       "      <th>1053_at</th>\n",
       "      <th>117_at</th>\n",
       "      <th>121_at</th>\n",
       "      <th>1255_g_at</th>\n",
       "      <th>1294_at</th>\n",
       "      <th>1316_at</th>\n",
       "      <th>1320_at</th>\n",
       "      <th>1405_i_at</th>\n",
       "      <th>...</th>\n",
       "      <th>AFFX-r2-Bs-thr-M_s_at</th>\n",
       "      <th>AFFX-r2-Ec-bioB-3_at</th>\n",
       "      <th>AFFX-r2-Ec-bioB-5_at</th>\n",
       "      <th>AFFX-r2-Ec-bioB-M_at</th>\n",
       "      <th>AFFX-r2-Ec-bioC-3_at</th>\n",
       "      <th>AFFX-r2-Ec-bioC-5_at</th>\n",
       "      <th>AFFX-r2-Ec-bioD-3_at</th>\n",
       "      <th>AFFX-r2-Ec-bioD-5_at</th>\n",
       "      <th>AFFX-r2-P1-cre-3_at</th>\n",
       "      <th>AFFX-r2-P1-cre-5_at</th>\n",
       "    </tr>\n",
       "  </thead>\n",
       "  <tbody>\n",
       "    <tr>\n",
       "      <th>0</th>\n",
       "      <td>0.010197</td>\n",
       "      <td>0.000000</td>\n",
       "      <td>0.000000e+00</td>\n",
       "      <td>0.000000e+00</td>\n",
       "      <td>0.000000</td>\n",
       "      <td>0.000000e+00</td>\n",
       "      <td>0.000000e+00</td>\n",
       "      <td>0.000000</td>\n",
       "      <td>0.000000e+00</td>\n",
       "      <td>2.518892e-03</td>\n",
       "      <td>...</td>\n",
       "      <td>0.0</td>\n",
       "      <td>0.0</td>\n",
       "      <td>0.0</td>\n",
       "      <td>0.0</td>\n",
       "      <td>0.0</td>\n",
       "      <td>0.000000e+00</td>\n",
       "      <td>0.0</td>\n",
       "      <td>0.0</td>\n",
       "      <td>0.0</td>\n",
       "      <td>0.0</td>\n",
       "    </tr>\n",
       "    <tr>\n",
       "      <th>1</th>\n",
       "      <td>0.005746</td>\n",
       "      <td>0.000000</td>\n",
       "      <td>0.000000e+00</td>\n",
       "      <td>0.000000e+00</td>\n",
       "      <td>0.000000</td>\n",
       "      <td>0.000000e+00</td>\n",
       "      <td>0.000000e+00</td>\n",
       "      <td>0.000000</td>\n",
       "      <td>0.000000e+00</td>\n",
       "      <td>0.000000e+00</td>\n",
       "      <td>...</td>\n",
       "      <td>0.0</td>\n",
       "      <td>0.0</td>\n",
       "      <td>0.0</td>\n",
       "      <td>0.0</td>\n",
       "      <td>0.0</td>\n",
       "      <td>0.000000e+00</td>\n",
       "      <td>0.0</td>\n",
       "      <td>0.0</td>\n",
       "      <td>0.0</td>\n",
       "      <td>0.0</td>\n",
       "    </tr>\n",
       "    <tr>\n",
       "      <th>2</th>\n",
       "      <td>0.007514</td>\n",
       "      <td>0.000000</td>\n",
       "      <td>0.000000e+00</td>\n",
       "      <td>0.000000e+00</td>\n",
       "      <td>0.000000</td>\n",
       "      <td>0.000000e+00</td>\n",
       "      <td>0.000000e+00</td>\n",
       "      <td>0.000000</td>\n",
       "      <td>0.000000e+00</td>\n",
       "      <td>0.000000e+00</td>\n",
       "      <td>...</td>\n",
       "      <td>0.0</td>\n",
       "      <td>0.0</td>\n",
       "      <td>0.0</td>\n",
       "      <td>0.0</td>\n",
       "      <td>0.0</td>\n",
       "      <td>0.000000e+00</td>\n",
       "      <td>0.0</td>\n",
       "      <td>0.0</td>\n",
       "      <td>0.0</td>\n",
       "      <td>0.0</td>\n",
       "    </tr>\n",
       "    <tr>\n",
       "      <th>3</th>\n",
       "      <td>0.012618</td>\n",
       "      <td>0.000000</td>\n",
       "      <td>0.000000e+00</td>\n",
       "      <td>0.000000e+00</td>\n",
       "      <td>0.000000</td>\n",
       "      <td>0.000000e+00</td>\n",
       "      <td>0.000000e+00</td>\n",
       "      <td>0.000000</td>\n",
       "      <td>0.000000e+00</td>\n",
       "      <td>0.000000e+00</td>\n",
       "      <td>...</td>\n",
       "      <td>0.0</td>\n",
       "      <td>0.0</td>\n",
       "      <td>0.0</td>\n",
       "      <td>0.0</td>\n",
       "      <td>0.0</td>\n",
       "      <td>0.000000e+00</td>\n",
       "      <td>0.0</td>\n",
       "      <td>0.0</td>\n",
       "      <td>0.0</td>\n",
       "      <td>0.0</td>\n",
       "    </tr>\n",
       "    <tr>\n",
       "      <th>4</th>\n",
       "      <td>0.017381</td>\n",
       "      <td>0.000000</td>\n",
       "      <td>0.000000e+00</td>\n",
       "      <td>0.000000e+00</td>\n",
       "      <td>0.000000</td>\n",
       "      <td>0.000000e+00</td>\n",
       "      <td>0.000000e+00</td>\n",
       "      <td>0.000000</td>\n",
       "      <td>0.000000e+00</td>\n",
       "      <td>0.000000e+00</td>\n",
       "      <td>...</td>\n",
       "      <td>0.0</td>\n",
       "      <td>0.0</td>\n",
       "      <td>0.0</td>\n",
       "      <td>0.0</td>\n",
       "      <td>0.0</td>\n",
       "      <td>0.000000e+00</td>\n",
       "      <td>0.0</td>\n",
       "      <td>0.0</td>\n",
       "      <td>0.0</td>\n",
       "      <td>0.0</td>\n",
       "    </tr>\n",
       "    <tr>\n",
       "      <th>5</th>\n",
       "      <td>0.016713</td>\n",
       "      <td>0.000000</td>\n",
       "      <td>0.000000e+00</td>\n",
       "      <td>0.000000e+00</td>\n",
       "      <td>0.000000</td>\n",
       "      <td>0.000000e+00</td>\n",
       "      <td>0.000000e+00</td>\n",
       "      <td>0.000000</td>\n",
       "      <td>0.000000e+00</td>\n",
       "      <td>0.000000e+00</td>\n",
       "      <td>...</td>\n",
       "      <td>0.0</td>\n",
       "      <td>0.0</td>\n",
       "      <td>0.0</td>\n",
       "      <td>0.0</td>\n",
       "      <td>0.0</td>\n",
       "      <td>0.000000e+00</td>\n",
       "      <td>0.0</td>\n",
       "      <td>0.0</td>\n",
       "      <td>0.0</td>\n",
       "      <td>0.0</td>\n",
       "    </tr>\n",
       "    <tr>\n",
       "      <th>6</th>\n",
       "      <td>0.008345</td>\n",
       "      <td>0.000000</td>\n",
       "      <td>2.469136e-03</td>\n",
       "      <td>0.000000e+00</td>\n",
       "      <td>0.000000</td>\n",
       "      <td>0.000000e+00</td>\n",
       "      <td>0.000000e+00</td>\n",
       "      <td>0.000000</td>\n",
       "      <td>0.000000e+00</td>\n",
       "      <td>0.000000e+00</td>\n",
       "      <td>...</td>\n",
       "      <td>0.0</td>\n",
       "      <td>0.0</td>\n",
       "      <td>0.0</td>\n",
       "      <td>0.0</td>\n",
       "      <td>0.0</td>\n",
       "      <td>0.000000e+00</td>\n",
       "      <td>0.0</td>\n",
       "      <td>0.0</td>\n",
       "      <td>0.0</td>\n",
       "      <td>0.0</td>\n",
       "    </tr>\n",
       "    <tr>\n",
       "      <th>7</th>\n",
       "      <td>0.015126</td>\n",
       "      <td>0.000000</td>\n",
       "      <td>0.000000e+00</td>\n",
       "      <td>2.732240e-03</td>\n",
       "      <td>0.000000</td>\n",
       "      <td>0.000000e+00</td>\n",
       "      <td>0.000000e+00</td>\n",
       "      <td>0.000000</td>\n",
       "      <td>0.000000e+00</td>\n",
       "      <td>0.000000e+00</td>\n",
       "      <td>...</td>\n",
       "      <td>0.0</td>\n",
       "      <td>0.0</td>\n",
       "      <td>0.0</td>\n",
       "      <td>0.0</td>\n",
       "      <td>0.0</td>\n",
       "      <td>0.000000e+00</td>\n",
       "      <td>0.0</td>\n",
       "      <td>0.0</td>\n",
       "      <td>0.0</td>\n",
       "      <td>0.0</td>\n",
       "    </tr>\n",
       "    <tr>\n",
       "      <th>8</th>\n",
       "      <td>0.007168</td>\n",
       "      <td>0.000000</td>\n",
       "      <td>0.000000e+00</td>\n",
       "      <td>0.000000e+00</td>\n",
       "      <td>0.009709</td>\n",
       "      <td>0.000000e+00</td>\n",
       "      <td>2.427184e-03</td>\n",
       "      <td>0.000000</td>\n",
       "      <td>0.000000e+00</td>\n",
       "      <td>0.000000e+00</td>\n",
       "      <td>...</td>\n",
       "      <td>0.0</td>\n",
       "      <td>0.0</td>\n",
       "      <td>0.0</td>\n",
       "      <td>0.0</td>\n",
       "      <td>0.0</td>\n",
       "      <td>0.000000e+00</td>\n",
       "      <td>0.0</td>\n",
       "      <td>0.0</td>\n",
       "      <td>0.0</td>\n",
       "      <td>0.0</td>\n",
       "    </tr>\n",
       "    <tr>\n",
       "      <th>9</th>\n",
       "      <td>0.006360</td>\n",
       "      <td>0.000000</td>\n",
       "      <td>0.000000e+00</td>\n",
       "      <td>0.000000e+00</td>\n",
       "      <td>0.000000</td>\n",
       "      <td>0.000000e+00</td>\n",
       "      <td>0.000000e+00</td>\n",
       "      <td>0.002398</td>\n",
       "      <td>0.000000e+00</td>\n",
       "      <td>0.000000e+00</td>\n",
       "      <td>...</td>\n",
       "      <td>0.0</td>\n",
       "      <td>0.0</td>\n",
       "      <td>0.0</td>\n",
       "      <td>0.0</td>\n",
       "      <td>0.0</td>\n",
       "      <td>0.000000e+00</td>\n",
       "      <td>0.0</td>\n",
       "      <td>0.0</td>\n",
       "      <td>0.0</td>\n",
       "      <td>0.0</td>\n",
       "    </tr>\n",
       "    <tr>\n",
       "      <th>10</th>\n",
       "      <td>0.010508</td>\n",
       "      <td>0.000000</td>\n",
       "      <td>0.000000e+00</td>\n",
       "      <td>2.506266e-03</td>\n",
       "      <td>0.000000</td>\n",
       "      <td>0.000000e+00</td>\n",
       "      <td>0.000000e+00</td>\n",
       "      <td>0.000000</td>\n",
       "      <td>0.000000e+00</td>\n",
       "      <td>0.000000e+00</td>\n",
       "      <td>...</td>\n",
       "      <td>0.0</td>\n",
       "      <td>0.0</td>\n",
       "      <td>0.0</td>\n",
       "      <td>0.0</td>\n",
       "      <td>0.0</td>\n",
       "      <td>0.000000e+00</td>\n",
       "      <td>0.0</td>\n",
       "      <td>0.0</td>\n",
       "      <td>0.0</td>\n",
       "      <td>0.0</td>\n",
       "    </tr>\n",
       "    <tr>\n",
       "      <th>11</th>\n",
       "      <td>0.010228</td>\n",
       "      <td>0.000000</td>\n",
       "      <td>0.000000e+00</td>\n",
       "      <td>0.000000e+00</td>\n",
       "      <td>0.000000</td>\n",
       "      <td>0.000000e+00</td>\n",
       "      <td>0.000000e+00</td>\n",
       "      <td>0.000000</td>\n",
       "      <td>0.000000e+00</td>\n",
       "      <td>0.000000e+00</td>\n",
       "      <td>...</td>\n",
       "      <td>0.0</td>\n",
       "      <td>0.0</td>\n",
       "      <td>0.0</td>\n",
       "      <td>0.0</td>\n",
       "      <td>0.0</td>\n",
       "      <td>0.000000e+00</td>\n",
       "      <td>0.0</td>\n",
       "      <td>0.0</td>\n",
       "      <td>0.0</td>\n",
       "      <td>0.0</td>\n",
       "    </tr>\n",
       "    <tr>\n",
       "      <th>12</th>\n",
       "      <td>0.008827</td>\n",
       "      <td>0.000000</td>\n",
       "      <td>0.000000e+00</td>\n",
       "      <td>0.000000e+00</td>\n",
       "      <td>0.000000</td>\n",
       "      <td>0.000000e+00</td>\n",
       "      <td>0.000000e+00</td>\n",
       "      <td>0.000000</td>\n",
       "      <td>0.000000e+00</td>\n",
       "      <td>0.000000e+00</td>\n",
       "      <td>...</td>\n",
       "      <td>0.0</td>\n",
       "      <td>0.0</td>\n",
       "      <td>0.0</td>\n",
       "      <td>0.0</td>\n",
       "      <td>0.0</td>\n",
       "      <td>0.000000e+00</td>\n",
       "      <td>0.0</td>\n",
       "      <td>0.0</td>\n",
       "      <td>0.0</td>\n",
       "      <td>0.0</td>\n",
       "    </tr>\n",
       "    <tr>\n",
       "      <th>13</th>\n",
       "      <td>0.009712</td>\n",
       "      <td>0.000000</td>\n",
       "      <td>0.000000e+00</td>\n",
       "      <td>0.000000e+00</td>\n",
       "      <td>0.000000</td>\n",
       "      <td>0.000000e+00</td>\n",
       "      <td>2.512563e-03</td>\n",
       "      <td>0.000000</td>\n",
       "      <td>0.000000e+00</td>\n",
       "      <td>0.000000e+00</td>\n",
       "      <td>...</td>\n",
       "      <td>0.0</td>\n",
       "      <td>0.0</td>\n",
       "      <td>0.0</td>\n",
       "      <td>0.0</td>\n",
       "      <td>0.0</td>\n",
       "      <td>0.000000e+00</td>\n",
       "      <td>0.0</td>\n",
       "      <td>0.0</td>\n",
       "      <td>0.0</td>\n",
       "      <td>0.0</td>\n",
       "    </tr>\n",
       "    <tr>\n",
       "      <th>14</th>\n",
       "      <td>0.016548</td>\n",
       "      <td>0.000000</td>\n",
       "      <td>0.000000e+00</td>\n",
       "      <td>0.000000e+00</td>\n",
       "      <td>0.000000</td>\n",
       "      <td>0.000000e+00</td>\n",
       "      <td>0.000000e+00</td>\n",
       "      <td>0.000000</td>\n",
       "      <td>0.000000e+00</td>\n",
       "      <td>0.000000e+00</td>\n",
       "      <td>...</td>\n",
       "      <td>0.0</td>\n",
       "      <td>0.0</td>\n",
       "      <td>0.0</td>\n",
       "      <td>0.0</td>\n",
       "      <td>0.0</td>\n",
       "      <td>0.000000e+00</td>\n",
       "      <td>0.0</td>\n",
       "      <td>0.0</td>\n",
       "      <td>0.0</td>\n",
       "      <td>0.0</td>\n",
       "    </tr>\n",
       "    <tr>\n",
       "      <th>15</th>\n",
       "      <td>0.015107</td>\n",
       "      <td>0.000000</td>\n",
       "      <td>0.000000e+00</td>\n",
       "      <td>0.000000e+00</td>\n",
       "      <td>0.000000</td>\n",
       "      <td>0.000000e+00</td>\n",
       "      <td>0.000000e+00</td>\n",
       "      <td>0.000000</td>\n",
       "      <td>0.000000e+00</td>\n",
       "      <td>0.000000e+00</td>\n",
       "      <td>...</td>\n",
       "      <td>0.0</td>\n",
       "      <td>0.0</td>\n",
       "      <td>0.0</td>\n",
       "      <td>0.0</td>\n",
       "      <td>0.0</td>\n",
       "      <td>0.000000e+00</td>\n",
       "      <td>0.0</td>\n",
       "      <td>0.0</td>\n",
       "      <td>0.0</td>\n",
       "      <td>0.0</td>\n",
       "    </tr>\n",
       "    <tr>\n",
       "      <th>16</th>\n",
       "      <td>0.010095</td>\n",
       "      <td>0.000000</td>\n",
       "      <td>0.000000e+00</td>\n",
       "      <td>0.000000e+00</td>\n",
       "      <td>0.000000</td>\n",
       "      <td>0.000000e+00</td>\n",
       "      <td>0.000000e+00</td>\n",
       "      <td>0.000000</td>\n",
       "      <td>0.000000e+00</td>\n",
       "      <td>0.000000e+00</td>\n",
       "      <td>...</td>\n",
       "      <td>0.0</td>\n",
       "      <td>0.0</td>\n",
       "      <td>0.0</td>\n",
       "      <td>0.0</td>\n",
       "      <td>0.0</td>\n",
       "      <td>0.000000e+00</td>\n",
       "      <td>0.0</td>\n",
       "      <td>0.0</td>\n",
       "      <td>0.0</td>\n",
       "      <td>0.0</td>\n",
       "    </tr>\n",
       "    <tr>\n",
       "      <th>17</th>\n",
       "      <td>0.009908</td>\n",
       "      <td>0.000000</td>\n",
       "      <td>0.000000e+00</td>\n",
       "      <td>0.000000e+00</td>\n",
       "      <td>0.000000</td>\n",
       "      <td>0.000000e+00</td>\n",
       "      <td>0.000000e+00</td>\n",
       "      <td>0.000000</td>\n",
       "      <td>0.000000e+00</td>\n",
       "      <td>0.000000e+00</td>\n",
       "      <td>...</td>\n",
       "      <td>0.0</td>\n",
       "      <td>0.0</td>\n",
       "      <td>0.0</td>\n",
       "      <td>0.0</td>\n",
       "      <td>0.0</td>\n",
       "      <td>0.000000e+00</td>\n",
       "      <td>0.0</td>\n",
       "      <td>0.0</td>\n",
       "      <td>0.0</td>\n",
       "      <td>0.0</td>\n",
       "    </tr>\n",
       "    <tr>\n",
       "      <th>18</th>\n",
       "      <td>0.007663</td>\n",
       "      <td>0.000000</td>\n",
       "      <td>0.000000e+00</td>\n",
       "      <td>0.000000e+00</td>\n",
       "      <td>0.000000</td>\n",
       "      <td>0.000000e+00</td>\n",
       "      <td>0.000000e+00</td>\n",
       "      <td>0.000000</td>\n",
       "      <td>0.000000e+00</td>\n",
       "      <td>0.000000e+00</td>\n",
       "      <td>...</td>\n",
       "      <td>0.0</td>\n",
       "      <td>0.0</td>\n",
       "      <td>0.0</td>\n",
       "      <td>0.0</td>\n",
       "      <td>0.0</td>\n",
       "      <td>0.000000e+00</td>\n",
       "      <td>0.0</td>\n",
       "      <td>0.0</td>\n",
       "      <td>0.0</td>\n",
       "      <td>0.0</td>\n",
       "    </tr>\n",
       "    <tr>\n",
       "      <th>19</th>\n",
       "      <td>0.012303</td>\n",
       "      <td>0.000000</td>\n",
       "      <td>0.000000e+00</td>\n",
       "      <td>2.500000e-03</td>\n",
       "      <td>0.002500</td>\n",
       "      <td>0.000000e+00</td>\n",
       "      <td>0.000000e+00</td>\n",
       "      <td>0.000000</td>\n",
       "      <td>0.000000e+00</td>\n",
       "      <td>0.000000e+00</td>\n",
       "      <td>...</td>\n",
       "      <td>0.0</td>\n",
       "      <td>0.0</td>\n",
       "      <td>0.0</td>\n",
       "      <td>0.0</td>\n",
       "      <td>0.0</td>\n",
       "      <td>0.000000e+00</td>\n",
       "      <td>0.0</td>\n",
       "      <td>0.0</td>\n",
       "      <td>0.0</td>\n",
       "      <td>0.0</td>\n",
       "    </tr>\n",
       "    <tr>\n",
       "      <th>20</th>\n",
       "      <td>0.012191</td>\n",
       "      <td>0.000000</td>\n",
       "      <td>0.000000e+00</td>\n",
       "      <td>0.000000e+00</td>\n",
       "      <td>0.000000</td>\n",
       "      <td>0.000000e+00</td>\n",
       "      <td>2.551020e-03</td>\n",
       "      <td>0.000000</td>\n",
       "      <td>0.000000e+00</td>\n",
       "      <td>0.000000e+00</td>\n",
       "      <td>...</td>\n",
       "      <td>0.0</td>\n",
       "      <td>0.0</td>\n",
       "      <td>0.0</td>\n",
       "      <td>0.0</td>\n",
       "      <td>0.0</td>\n",
       "      <td>0.000000e+00</td>\n",
       "      <td>0.0</td>\n",
       "      <td>0.0</td>\n",
       "      <td>0.0</td>\n",
       "      <td>0.0</td>\n",
       "    </tr>\n",
       "    <tr>\n",
       "      <th>21</th>\n",
       "      <td>0.014163</td>\n",
       "      <td>0.000000</td>\n",
       "      <td>2.724796e-03</td>\n",
       "      <td>0.000000e+00</td>\n",
       "      <td>0.000000</td>\n",
       "      <td>0.000000e+00</td>\n",
       "      <td>0.000000e+00</td>\n",
       "      <td>0.000000</td>\n",
       "      <td>0.000000e+00</td>\n",
       "      <td>0.000000e+00</td>\n",
       "      <td>...</td>\n",
       "      <td>0.0</td>\n",
       "      <td>0.0</td>\n",
       "      <td>0.0</td>\n",
       "      <td>0.0</td>\n",
       "      <td>0.0</td>\n",
       "      <td>0.000000e+00</td>\n",
       "      <td>0.0</td>\n",
       "      <td>0.0</td>\n",
       "      <td>0.0</td>\n",
       "      <td>0.0</td>\n",
       "    </tr>\n",
       "    <tr>\n",
       "      <th>22</th>\n",
       "      <td>0.010064</td>\n",
       "      <td>0.000000</td>\n",
       "      <td>0.000000e+00</td>\n",
       "      <td>0.000000e+00</td>\n",
       "      <td>0.000000</td>\n",
       "      <td>0.000000e+00</td>\n",
       "      <td>0.000000e+00</td>\n",
       "      <td>0.000000</td>\n",
       "      <td>0.000000e+00</td>\n",
       "      <td>0.000000e+00</td>\n",
       "      <td>...</td>\n",
       "      <td>0.0</td>\n",
       "      <td>0.0</td>\n",
       "      <td>0.0</td>\n",
       "      <td>0.0</td>\n",
       "      <td>0.0</td>\n",
       "      <td>0.000000e+00</td>\n",
       "      <td>0.0</td>\n",
       "      <td>0.0</td>\n",
       "      <td>0.0</td>\n",
       "      <td>0.0</td>\n",
       "    </tr>\n",
       "    <tr>\n",
       "      <th>23</th>\n",
       "      <td>0.007431</td>\n",
       "      <td>0.000000</td>\n",
       "      <td>0.000000e+00</td>\n",
       "      <td>0.000000e+00</td>\n",
       "      <td>0.000000</td>\n",
       "      <td>0.000000e+00</td>\n",
       "      <td>0.000000e+00</td>\n",
       "      <td>0.000000</td>\n",
       "      <td>0.000000e+00</td>\n",
       "      <td>0.000000e+00</td>\n",
       "      <td>...</td>\n",
       "      <td>0.0</td>\n",
       "      <td>0.0</td>\n",
       "      <td>0.0</td>\n",
       "      <td>0.0</td>\n",
       "      <td>0.0</td>\n",
       "      <td>0.000000e+00</td>\n",
       "      <td>0.0</td>\n",
       "      <td>0.0</td>\n",
       "      <td>0.0</td>\n",
       "      <td>0.0</td>\n",
       "    </tr>\n",
       "    <tr>\n",
       "      <th>24</th>\n",
       "      <td>0.009613</td>\n",
       "      <td>0.000000</td>\n",
       "      <td>2.487562e-03</td>\n",
       "      <td>0.000000e+00</td>\n",
       "      <td>0.000000</td>\n",
       "      <td>0.000000e+00</td>\n",
       "      <td>0.000000e+00</td>\n",
       "      <td>0.007463</td>\n",
       "      <td>0.000000e+00</td>\n",
       "      <td>0.000000e+00</td>\n",
       "      <td>...</td>\n",
       "      <td>0.0</td>\n",
       "      <td>0.0</td>\n",
       "      <td>0.0</td>\n",
       "      <td>0.0</td>\n",
       "      <td>0.0</td>\n",
       "      <td>0.000000e+00</td>\n",
       "      <td>0.0</td>\n",
       "      <td>0.0</td>\n",
       "      <td>0.0</td>\n",
       "      <td>0.0</td>\n",
       "    </tr>\n",
       "    <tr>\n",
       "      <th>25</th>\n",
       "      <td>0.011226</td>\n",
       "      <td>0.000000</td>\n",
       "      <td>0.000000e+00</td>\n",
       "      <td>0.000000e+00</td>\n",
       "      <td>0.000000</td>\n",
       "      <td>0.000000e+00</td>\n",
       "      <td>0.000000e+00</td>\n",
       "      <td>0.000000</td>\n",
       "      <td>0.000000e+00</td>\n",
       "      <td>0.000000e+00</td>\n",
       "      <td>...</td>\n",
       "      <td>0.0</td>\n",
       "      <td>0.0</td>\n",
       "      <td>0.0</td>\n",
       "      <td>0.0</td>\n",
       "      <td>0.0</td>\n",
       "      <td>0.000000e+00</td>\n",
       "      <td>0.0</td>\n",
       "      <td>0.0</td>\n",
       "      <td>0.0</td>\n",
       "      <td>0.0</td>\n",
       "    </tr>\n",
       "    <tr>\n",
       "      <th>26</th>\n",
       "      <td>0.009378</td>\n",
       "      <td>0.000000</td>\n",
       "      <td>0.000000e+00</td>\n",
       "      <td>0.000000e+00</td>\n",
       "      <td>0.000000</td>\n",
       "      <td>0.000000e+00</td>\n",
       "      <td>0.000000e+00</td>\n",
       "      <td>0.000000</td>\n",
       "      <td>0.000000e+00</td>\n",
       "      <td>0.000000e+00</td>\n",
       "      <td>...</td>\n",
       "      <td>0.0</td>\n",
       "      <td>0.0</td>\n",
       "      <td>0.0</td>\n",
       "      <td>0.0</td>\n",
       "      <td>0.0</td>\n",
       "      <td>0.000000e+00</td>\n",
       "      <td>0.0</td>\n",
       "      <td>0.0</td>\n",
       "      <td>0.0</td>\n",
       "      <td>0.0</td>\n",
       "    </tr>\n",
       "    <tr>\n",
       "      <th>27</th>\n",
       "      <td>0.008397</td>\n",
       "      <td>0.002469</td>\n",
       "      <td>0.000000e+00</td>\n",
       "      <td>0.000000e+00</td>\n",
       "      <td>0.000000</td>\n",
       "      <td>0.000000e+00</td>\n",
       "      <td>0.000000e+00</td>\n",
       "      <td>0.000000</td>\n",
       "      <td>0.000000e+00</td>\n",
       "      <td>0.000000e+00</td>\n",
       "      <td>...</td>\n",
       "      <td>0.0</td>\n",
       "      <td>0.0</td>\n",
       "      <td>0.0</td>\n",
       "      <td>0.0</td>\n",
       "      <td>0.0</td>\n",
       "      <td>0.000000e+00</td>\n",
       "      <td>0.0</td>\n",
       "      <td>0.0</td>\n",
       "      <td>0.0</td>\n",
       "      <td>0.0</td>\n",
       "    </tr>\n",
       "    <tr>\n",
       "      <th>28</th>\n",
       "      <td>0.014179</td>\n",
       "      <td>0.007752</td>\n",
       "      <td>0.000000e+00</td>\n",
       "      <td>0.000000e+00</td>\n",
       "      <td>0.000000</td>\n",
       "      <td>0.000000e+00</td>\n",
       "      <td>0.000000e+00</td>\n",
       "      <td>0.000000</td>\n",
       "      <td>0.000000e+00</td>\n",
       "      <td>0.000000e+00</td>\n",
       "      <td>...</td>\n",
       "      <td>0.0</td>\n",
       "      <td>0.0</td>\n",
       "      <td>0.0</td>\n",
       "      <td>0.0</td>\n",
       "      <td>0.0</td>\n",
       "      <td>0.000000e+00</td>\n",
       "      <td>0.0</td>\n",
       "      <td>0.0</td>\n",
       "      <td>0.0</td>\n",
       "      <td>0.0</td>\n",
       "    </tr>\n",
       "    <tr>\n",
       "      <th>29</th>\n",
       "      <td>0.012296</td>\n",
       "      <td>0.000000</td>\n",
       "      <td>0.000000e+00</td>\n",
       "      <td>0.000000e+00</td>\n",
       "      <td>0.000000</td>\n",
       "      <td>0.000000e+00</td>\n",
       "      <td>0.000000e+00</td>\n",
       "      <td>0.000000</td>\n",
       "      <td>0.000000e+00</td>\n",
       "      <td>0.000000e+00</td>\n",
       "      <td>...</td>\n",
       "      <td>0.0</td>\n",
       "      <td>0.0</td>\n",
       "      <td>0.0</td>\n",
       "      <td>0.0</td>\n",
       "      <td>0.0</td>\n",
       "      <td>0.000000e+00</td>\n",
       "      <td>0.0</td>\n",
       "      <td>0.0</td>\n",
       "      <td>0.0</td>\n",
       "      <td>0.0</td>\n",
       "    </tr>\n",
       "    <tr>\n",
       "      <th>30</th>\n",
       "      <td>0.006815</td>\n",
       "      <td>0.000000</td>\n",
       "      <td>0.000000e+00</td>\n",
       "      <td>0.000000e+00</td>\n",
       "      <td>0.000000</td>\n",
       "      <td>0.000000e+00</td>\n",
       "      <td>0.000000e+00</td>\n",
       "      <td>0.000000</td>\n",
       "      <td>0.000000e+00</td>\n",
       "      <td>0.000000e+00</td>\n",
       "      <td>...</td>\n",
       "      <td>0.0</td>\n",
       "      <td>0.0</td>\n",
       "      <td>0.0</td>\n",
       "      <td>0.0</td>\n",
       "      <td>0.0</td>\n",
       "      <td>0.000000e+00</td>\n",
       "      <td>0.0</td>\n",
       "      <td>0.0</td>\n",
       "      <td>0.0</td>\n",
       "      <td>0.0</td>\n",
       "    </tr>\n",
       "    <tr>\n",
       "      <th>31</th>\n",
       "      <td>0.017004</td>\n",
       "      <td>0.002688</td>\n",
       "      <td>0.000000e+00</td>\n",
       "      <td>0.000000e+00</td>\n",
       "      <td>0.000000</td>\n",
       "      <td>0.000000e+00</td>\n",
       "      <td>0.000000e+00</td>\n",
       "      <td>0.000000</td>\n",
       "      <td>0.000000e+00</td>\n",
       "      <td>0.000000e+00</td>\n",
       "      <td>...</td>\n",
       "      <td>0.0</td>\n",
       "      <td>0.0</td>\n",
       "      <td>0.0</td>\n",
       "      <td>0.0</td>\n",
       "      <td>0.0</td>\n",
       "      <td>0.000000e+00</td>\n",
       "      <td>0.0</td>\n",
       "      <td>0.0</td>\n",
       "      <td>0.0</td>\n",
       "      <td>0.0</td>\n",
       "    </tr>\n",
       "    <tr>\n",
       "      <th>32</th>\n",
       "      <td>0.009984</td>\n",
       "      <td>0.000000</td>\n",
       "      <td>0.000000e+00</td>\n",
       "      <td>0.000000e+00</td>\n",
       "      <td>0.000000</td>\n",
       "      <td>0.000000e+00</td>\n",
       "      <td>0.000000e+00</td>\n",
       "      <td>0.000000</td>\n",
       "      <td>2.538071e-03</td>\n",
       "      <td>0.000000e+00</td>\n",
       "      <td>...</td>\n",
       "      <td>0.0</td>\n",
       "      <td>0.0</td>\n",
       "      <td>0.0</td>\n",
       "      <td>0.0</td>\n",
       "      <td>0.0</td>\n",
       "      <td>0.000000e+00</td>\n",
       "      <td>0.0</td>\n",
       "      <td>0.0</td>\n",
       "      <td>0.0</td>\n",
       "      <td>0.0</td>\n",
       "    </tr>\n",
       "    <tr>\n",
       "      <th>33</th>\n",
       "      <td>0.014217</td>\n",
       "      <td>0.000000</td>\n",
       "      <td>0.000000e+00</td>\n",
       "      <td>2.590674e-03</td>\n",
       "      <td>0.000000</td>\n",
       "      <td>0.000000e+00</td>\n",
       "      <td>0.000000e+00</td>\n",
       "      <td>0.000000</td>\n",
       "      <td>2.590674e-03</td>\n",
       "      <td>0.000000e+00</td>\n",
       "      <td>...</td>\n",
       "      <td>0.0</td>\n",
       "      <td>0.0</td>\n",
       "      <td>0.0</td>\n",
       "      <td>0.0</td>\n",
       "      <td>0.0</td>\n",
       "      <td>0.000000e+00</td>\n",
       "      <td>0.0</td>\n",
       "      <td>0.0</td>\n",
       "      <td>0.0</td>\n",
       "      <td>0.0</td>\n",
       "    </tr>\n",
       "    <tr>\n",
       "      <th>34</th>\n",
       "      <td>0.008913</td>\n",
       "      <td>0.000000</td>\n",
       "      <td>0.000000e+00</td>\n",
       "      <td>0.000000e+00</td>\n",
       "      <td>0.000000</td>\n",
       "      <td>0.000000e+00</td>\n",
       "      <td>0.000000e+00</td>\n",
       "      <td>0.000000</td>\n",
       "      <td>0.000000e+00</td>\n",
       "      <td>0.000000e+00</td>\n",
       "      <td>...</td>\n",
       "      <td>0.0</td>\n",
       "      <td>0.0</td>\n",
       "      <td>0.0</td>\n",
       "      <td>0.0</td>\n",
       "      <td>0.0</td>\n",
       "      <td>0.000000e+00</td>\n",
       "      <td>0.0</td>\n",
       "      <td>0.0</td>\n",
       "      <td>0.0</td>\n",
       "      <td>0.0</td>\n",
       "    </tr>\n",
       "    <tr>\n",
       "      <th>35</th>\n",
       "      <td>0.018764</td>\n",
       "      <td>0.000000</td>\n",
       "      <td>0.000000e+00</td>\n",
       "      <td>0.000000e+00</td>\n",
       "      <td>0.000000</td>\n",
       "      <td>0.000000e+00</td>\n",
       "      <td>0.000000e+00</td>\n",
       "      <td>0.000000</td>\n",
       "      <td>0.000000e+00</td>\n",
       "      <td>0.000000e+00</td>\n",
       "      <td>...</td>\n",
       "      <td>0.0</td>\n",
       "      <td>0.0</td>\n",
       "      <td>0.0</td>\n",
       "      <td>0.0</td>\n",
       "      <td>0.0</td>\n",
       "      <td>0.000000e+00</td>\n",
       "      <td>0.0</td>\n",
       "      <td>0.0</td>\n",
       "      <td>0.0</td>\n",
       "      <td>0.0</td>\n",
       "    </tr>\n",
       "    <tr>\n",
       "      <th>36</th>\n",
       "      <td>0.009712</td>\n",
       "      <td>0.002439</td>\n",
       "      <td>0.000000e+00</td>\n",
       "      <td>0.000000e+00</td>\n",
       "      <td>0.002439</td>\n",
       "      <td>0.000000e+00</td>\n",
       "      <td>0.000000e+00</td>\n",
       "      <td>0.000000</td>\n",
       "      <td>0.000000e+00</td>\n",
       "      <td>0.000000e+00</td>\n",
       "      <td>...</td>\n",
       "      <td>0.0</td>\n",
       "      <td>0.0</td>\n",
       "      <td>0.0</td>\n",
       "      <td>0.0</td>\n",
       "      <td>0.0</td>\n",
       "      <td>0.000000e+00</td>\n",
       "      <td>0.0</td>\n",
       "      <td>0.0</td>\n",
       "      <td>0.0</td>\n",
       "      <td>0.0</td>\n",
       "    </tr>\n",
       "    <tr>\n",
       "      <th>37</th>\n",
       "      <td>0.005713</td>\n",
       "      <td>0.000000</td>\n",
       "      <td>0.000000e+00</td>\n",
       "      <td>0.000000e+00</td>\n",
       "      <td>0.000000</td>\n",
       "      <td>0.000000e+00</td>\n",
       "      <td>0.000000e+00</td>\n",
       "      <td>0.000000</td>\n",
       "      <td>0.000000e+00</td>\n",
       "      <td>0.000000e+00</td>\n",
       "      <td>...</td>\n",
       "      <td>0.0</td>\n",
       "      <td>0.0</td>\n",
       "      <td>0.0</td>\n",
       "      <td>0.0</td>\n",
       "      <td>0.0</td>\n",
       "      <td>0.000000e+00</td>\n",
       "      <td>0.0</td>\n",
       "      <td>0.0</td>\n",
       "      <td>0.0</td>\n",
       "      <td>0.0</td>\n",
       "    </tr>\n",
       "    <tr>\n",
       "      <th>38</th>\n",
       "      <td>0.011468</td>\n",
       "      <td>0.000000</td>\n",
       "      <td>0.000000e+00</td>\n",
       "      <td>0.000000e+00</td>\n",
       "      <td>0.002558</td>\n",
       "      <td>2.557545e-03</td>\n",
       "      <td>0.000000e+00</td>\n",
       "      <td>0.000000</td>\n",
       "      <td>0.000000e+00</td>\n",
       "      <td>0.000000e+00</td>\n",
       "      <td>...</td>\n",
       "      <td>0.0</td>\n",
       "      <td>0.0</td>\n",
       "      <td>0.0</td>\n",
       "      <td>0.0</td>\n",
       "      <td>0.0</td>\n",
       "      <td>0.000000e+00</td>\n",
       "      <td>0.0</td>\n",
       "      <td>0.0</td>\n",
       "      <td>0.0</td>\n",
       "      <td>0.0</td>\n",
       "    </tr>\n",
       "    <tr>\n",
       "      <th>39</th>\n",
       "      <td>0.011697</td>\n",
       "      <td>0.005102</td>\n",
       "      <td>0.000000e+00</td>\n",
       "      <td>0.000000e+00</td>\n",
       "      <td>0.000000</td>\n",
       "      <td>0.000000e+00</td>\n",
       "      <td>0.000000e+00</td>\n",
       "      <td>0.000000</td>\n",
       "      <td>2.551020e-03</td>\n",
       "      <td>0.000000e+00</td>\n",
       "      <td>...</td>\n",
       "      <td>0.0</td>\n",
       "      <td>0.0</td>\n",
       "      <td>0.0</td>\n",
       "      <td>0.0</td>\n",
       "      <td>0.0</td>\n",
       "      <td>0.000000e+00</td>\n",
       "      <td>0.0</td>\n",
       "      <td>0.0</td>\n",
       "      <td>0.0</td>\n",
       "      <td>0.0</td>\n",
       "    </tr>\n",
       "    <tr>\n",
       "      <th>40</th>\n",
       "      <td>0.011965</td>\n",
       "      <td>0.000000</td>\n",
       "      <td>0.000000e+00</td>\n",
       "      <td>0.000000e+00</td>\n",
       "      <td>0.000000</td>\n",
       "      <td>0.000000e+00</td>\n",
       "      <td>0.000000e+00</td>\n",
       "      <td>0.000000</td>\n",
       "      <td>2.659574e-03</td>\n",
       "      <td>0.000000e+00</td>\n",
       "      <td>...</td>\n",
       "      <td>0.0</td>\n",
       "      <td>0.0</td>\n",
       "      <td>0.0</td>\n",
       "      <td>0.0</td>\n",
       "      <td>0.0</td>\n",
       "      <td>0.000000e+00</td>\n",
       "      <td>0.0</td>\n",
       "      <td>0.0</td>\n",
       "      <td>0.0</td>\n",
       "      <td>0.0</td>\n",
       "    </tr>\n",
       "    <tr>\n",
       "      <th>41</th>\n",
       "      <td>0.012843</td>\n",
       "      <td>0.000000</td>\n",
       "      <td>0.000000e+00</td>\n",
       "      <td>0.000000e+00</td>\n",
       "      <td>0.000000</td>\n",
       "      <td>0.000000e+00</td>\n",
       "      <td>0.000000e+00</td>\n",
       "      <td>0.000000</td>\n",
       "      <td>0.000000e+00</td>\n",
       "      <td>0.000000e+00</td>\n",
       "      <td>...</td>\n",
       "      <td>0.0</td>\n",
       "      <td>0.0</td>\n",
       "      <td>0.0</td>\n",
       "      <td>0.0</td>\n",
       "      <td>0.0</td>\n",
       "      <td>2.564103e-03</td>\n",
       "      <td>0.0</td>\n",
       "      <td>0.0</td>\n",
       "      <td>0.0</td>\n",
       "      <td>0.0</td>\n",
       "    </tr>\n",
       "    <tr>\n",
       "      <th>42</th>\n",
       "      <td>0.009690</td>\n",
       "      <td>0.000000</td>\n",
       "      <td>0.000000e+00</td>\n",
       "      <td>0.000000e+00</td>\n",
       "      <td>0.000000</td>\n",
       "      <td>0.000000e+00</td>\n",
       "      <td>0.000000e+00</td>\n",
       "      <td>0.000000</td>\n",
       "      <td>0.000000e+00</td>\n",
       "      <td>0.000000e+00</td>\n",
       "      <td>...</td>\n",
       "      <td>0.0</td>\n",
       "      <td>0.0</td>\n",
       "      <td>0.0</td>\n",
       "      <td>0.0</td>\n",
       "      <td>0.0</td>\n",
       "      <td>0.000000e+00</td>\n",
       "      <td>0.0</td>\n",
       "      <td>0.0</td>\n",
       "      <td>0.0</td>\n",
       "      <td>0.0</td>\n",
       "    </tr>\n",
       "    <tr>\n",
       "      <th>43</th>\n",
       "      <td>0.014760</td>\n",
       "      <td>0.000000</td>\n",
       "      <td>0.000000e+00</td>\n",
       "      <td>0.000000e+00</td>\n",
       "      <td>0.000000</td>\n",
       "      <td>0.000000e+00</td>\n",
       "      <td>0.000000e+00</td>\n",
       "      <td>0.000000</td>\n",
       "      <td>0.000000e+00</td>\n",
       "      <td>0.000000e+00</td>\n",
       "      <td>...</td>\n",
       "      <td>0.0</td>\n",
       "      <td>0.0</td>\n",
       "      <td>0.0</td>\n",
       "      <td>0.0</td>\n",
       "      <td>0.0</td>\n",
       "      <td>0.000000e+00</td>\n",
       "      <td>0.0</td>\n",
       "      <td>0.0</td>\n",
       "      <td>0.0</td>\n",
       "      <td>0.0</td>\n",
       "    </tr>\n",
       "    <tr>\n",
       "      <th>44</th>\n",
       "      <td>0.008196</td>\n",
       "      <td>0.000000</td>\n",
       "      <td>0.000000e+00</td>\n",
       "      <td>0.000000e+00</td>\n",
       "      <td>0.000000</td>\n",
       "      <td>0.000000e+00</td>\n",
       "      <td>0.000000e+00</td>\n",
       "      <td>0.000000</td>\n",
       "      <td>0.000000e+00</td>\n",
       "      <td>0.000000e+00</td>\n",
       "      <td>...</td>\n",
       "      <td>0.0</td>\n",
       "      <td>0.0</td>\n",
       "      <td>0.0</td>\n",
       "      <td>0.0</td>\n",
       "      <td>0.0</td>\n",
       "      <td>0.000000e+00</td>\n",
       "      <td>0.0</td>\n",
       "      <td>0.0</td>\n",
       "      <td>0.0</td>\n",
       "      <td>0.0</td>\n",
       "    </tr>\n",
       "    <tr>\n",
       "      <th>45</th>\n",
       "      <td>0.009405</td>\n",
       "      <td>0.000000</td>\n",
       "      <td>0.000000e+00</td>\n",
       "      <td>0.000000e+00</td>\n",
       "      <td>0.000000</td>\n",
       "      <td>0.000000e+00</td>\n",
       "      <td>0.000000e+00</td>\n",
       "      <td>0.000000</td>\n",
       "      <td>0.000000e+00</td>\n",
       "      <td>0.000000e+00</td>\n",
       "      <td>...</td>\n",
       "      <td>0.0</td>\n",
       "      <td>0.0</td>\n",
       "      <td>0.0</td>\n",
       "      <td>0.0</td>\n",
       "      <td>0.0</td>\n",
       "      <td>0.000000e+00</td>\n",
       "      <td>0.0</td>\n",
       "      <td>0.0</td>\n",
       "      <td>0.0</td>\n",
       "      <td>0.0</td>\n",
       "    </tr>\n",
       "    <tr>\n",
       "      <th>46</th>\n",
       "      <td>0.015940</td>\n",
       "      <td>0.000000</td>\n",
       "      <td>0.000000e+00</td>\n",
       "      <td>0.000000e+00</td>\n",
       "      <td>0.000000</td>\n",
       "      <td>0.000000e+00</td>\n",
       "      <td>0.000000e+00</td>\n",
       "      <td>0.000000</td>\n",
       "      <td>0.000000e+00</td>\n",
       "      <td>0.000000e+00</td>\n",
       "      <td>...</td>\n",
       "      <td>0.0</td>\n",
       "      <td>0.0</td>\n",
       "      <td>0.0</td>\n",
       "      <td>0.0</td>\n",
       "      <td>0.0</td>\n",
       "      <td>0.000000e+00</td>\n",
       "      <td>0.0</td>\n",
       "      <td>0.0</td>\n",
       "      <td>0.0</td>\n",
       "      <td>0.0</td>\n",
       "    </tr>\n",
       "    <tr>\n",
       "      <th>47</th>\n",
       "      <td>0.005563</td>\n",
       "      <td>0.000000</td>\n",
       "      <td>0.000000e+00</td>\n",
       "      <td>0.000000e+00</td>\n",
       "      <td>0.000000</td>\n",
       "      <td>0.000000e+00</td>\n",
       "      <td>0.000000e+00</td>\n",
       "      <td>0.000000</td>\n",
       "      <td>0.000000e+00</td>\n",
       "      <td>0.000000e+00</td>\n",
       "      <td>...</td>\n",
       "      <td>0.0</td>\n",
       "      <td>0.0</td>\n",
       "      <td>0.0</td>\n",
       "      <td>0.0</td>\n",
       "      <td>0.0</td>\n",
       "      <td>0.000000e+00</td>\n",
       "      <td>0.0</td>\n",
       "      <td>0.0</td>\n",
       "      <td>0.0</td>\n",
       "      <td>0.0</td>\n",
       "    </tr>\n",
       "    <tr>\n",
       "      <th>48</th>\n",
       "      <td>0.014805</td>\n",
       "      <td>0.002604</td>\n",
       "      <td>0.000000e+00</td>\n",
       "      <td>0.000000e+00</td>\n",
       "      <td>0.000000</td>\n",
       "      <td>0.000000e+00</td>\n",
       "      <td>0.000000e+00</td>\n",
       "      <td>0.000000</td>\n",
       "      <td>0.000000e+00</td>\n",
       "      <td>0.000000e+00</td>\n",
       "      <td>...</td>\n",
       "      <td>0.0</td>\n",
       "      <td>0.0</td>\n",
       "      <td>0.0</td>\n",
       "      <td>0.0</td>\n",
       "      <td>0.0</td>\n",
       "      <td>0.000000e+00</td>\n",
       "      <td>0.0</td>\n",
       "      <td>0.0</td>\n",
       "      <td>0.0</td>\n",
       "      <td>0.0</td>\n",
       "    </tr>\n",
       "    <tr>\n",
       "      <th>49</th>\n",
       "      <td>0.008381</td>\n",
       "      <td>0.000000</td>\n",
       "      <td>0.000000e+00</td>\n",
       "      <td>2.493766e-03</td>\n",
       "      <td>0.000000</td>\n",
       "      <td>0.000000e+00</td>\n",
       "      <td>0.000000e+00</td>\n",
       "      <td>0.000000</td>\n",
       "      <td>0.000000e+00</td>\n",
       "      <td>0.000000e+00</td>\n",
       "      <td>...</td>\n",
       "      <td>0.0</td>\n",
       "      <td>0.0</td>\n",
       "      <td>0.0</td>\n",
       "      <td>0.0</td>\n",
       "      <td>0.0</td>\n",
       "      <td>0.000000e+00</td>\n",
       "      <td>0.0</td>\n",
       "      <td>0.0</td>\n",
       "      <td>0.0</td>\n",
       "      <td>0.0</td>\n",
       "    </tr>\n",
       "    <tr>\n",
       "      <th>moyenne</th>\n",
       "      <td>0.011057</td>\n",
       "      <td>0.000461</td>\n",
       "      <td>1.536299e-04</td>\n",
       "      <td>2.564589e-04</td>\n",
       "      <td>0.000344</td>\n",
       "      <td>5.115089e-05</td>\n",
       "      <td>1.498154e-04</td>\n",
       "      <td>0.000197</td>\n",
       "      <td>2.067868e-04</td>\n",
       "      <td>5.037783e-05</td>\n",
       "      <td>...</td>\n",
       "      <td>0.0</td>\n",
       "      <td>0.0</td>\n",
       "      <td>0.0</td>\n",
       "      <td>0.0</td>\n",
       "      <td>0.0</td>\n",
       "      <td>5.128205e-05</td>\n",
       "      <td>0.0</td>\n",
       "      <td>0.0</td>\n",
       "      <td>0.0</td>\n",
       "      <td>0.0</td>\n",
       "    </tr>\n",
       "    <tr>\n",
       "      <th>variance</th>\n",
       "      <td>0.000011</td>\n",
       "      <td>0.000002</td>\n",
       "      <td>3.705800e-07</td>\n",
       "      <td>5.927681e-07</td>\n",
       "      <td>0.000002</td>\n",
       "      <td>1.282043e-07</td>\n",
       "      <td>3.517934e-07</td>\n",
       "      <td>0.000001</td>\n",
       "      <td>4.919279e-07</td>\n",
       "      <td>1.243584e-07</td>\n",
       "      <td>...</td>\n",
       "      <td>0.0</td>\n",
       "      <td>0.0</td>\n",
       "      <td>0.0</td>\n",
       "      <td>0.0</td>\n",
       "      <td>0.0</td>\n",
       "      <td>1.288626e-07</td>\n",
       "      <td>0.0</td>\n",
       "      <td>0.0</td>\n",
       "      <td>0.0</td>\n",
       "      <td>0.0</td>\n",
       "    </tr>\n",
       "    <tr>\n",
       "      <th>percentage</th>\n",
       "      <td>1.000000</td>\n",
       "      <td>0.120000</td>\n",
       "      <td>6.000000e-02</td>\n",
       "      <td>1.000000e-01</td>\n",
       "      <td>0.080000</td>\n",
       "      <td>2.000000e-02</td>\n",
       "      <td>6.000000e-02</td>\n",
       "      <td>0.040000</td>\n",
       "      <td>8.000000e-02</td>\n",
       "      <td>2.000000e-02</td>\n",
       "      <td>...</td>\n",
       "      <td>0.0</td>\n",
       "      <td>0.0</td>\n",
       "      <td>0.0</td>\n",
       "      <td>0.0</td>\n",
       "      <td>0.0</td>\n",
       "      <td>2.000000e-02</td>\n",
       "      <td>0.0</td>\n",
       "      <td>0.0</td>\n",
       "      <td>0.0</td>\n",
       "      <td>0.0</td>\n",
       "    </tr>\n",
       "  </tbody>\n",
       "</table>\n",
       "<p>53 rows × 54676 columns</p>\n",
       "</div>"
      ],
      "text/plain": [
       "             metrics feature_importances_                              \\\n",
       "probe        logloss            1007_s_at       1053_at        117_at   \n",
       "0           0.010197             0.000000  0.000000e+00  0.000000e+00   \n",
       "1           0.005746             0.000000  0.000000e+00  0.000000e+00   \n",
       "2           0.007514             0.000000  0.000000e+00  0.000000e+00   \n",
       "3           0.012618             0.000000  0.000000e+00  0.000000e+00   \n",
       "4           0.017381             0.000000  0.000000e+00  0.000000e+00   \n",
       "5           0.016713             0.000000  0.000000e+00  0.000000e+00   \n",
       "6           0.008345             0.000000  2.469136e-03  0.000000e+00   \n",
       "7           0.015126             0.000000  0.000000e+00  2.732240e-03   \n",
       "8           0.007168             0.000000  0.000000e+00  0.000000e+00   \n",
       "9           0.006360             0.000000  0.000000e+00  0.000000e+00   \n",
       "10          0.010508             0.000000  0.000000e+00  2.506266e-03   \n",
       "11          0.010228             0.000000  0.000000e+00  0.000000e+00   \n",
       "12          0.008827             0.000000  0.000000e+00  0.000000e+00   \n",
       "13          0.009712             0.000000  0.000000e+00  0.000000e+00   \n",
       "14          0.016548             0.000000  0.000000e+00  0.000000e+00   \n",
       "15          0.015107             0.000000  0.000000e+00  0.000000e+00   \n",
       "16          0.010095             0.000000  0.000000e+00  0.000000e+00   \n",
       "17          0.009908             0.000000  0.000000e+00  0.000000e+00   \n",
       "18          0.007663             0.000000  0.000000e+00  0.000000e+00   \n",
       "19          0.012303             0.000000  0.000000e+00  2.500000e-03   \n",
       "20          0.012191             0.000000  0.000000e+00  0.000000e+00   \n",
       "21          0.014163             0.000000  2.724796e-03  0.000000e+00   \n",
       "22          0.010064             0.000000  0.000000e+00  0.000000e+00   \n",
       "23          0.007431             0.000000  0.000000e+00  0.000000e+00   \n",
       "24          0.009613             0.000000  2.487562e-03  0.000000e+00   \n",
       "25          0.011226             0.000000  0.000000e+00  0.000000e+00   \n",
       "26          0.009378             0.000000  0.000000e+00  0.000000e+00   \n",
       "27          0.008397             0.002469  0.000000e+00  0.000000e+00   \n",
       "28          0.014179             0.007752  0.000000e+00  0.000000e+00   \n",
       "29          0.012296             0.000000  0.000000e+00  0.000000e+00   \n",
       "30          0.006815             0.000000  0.000000e+00  0.000000e+00   \n",
       "31          0.017004             0.002688  0.000000e+00  0.000000e+00   \n",
       "32          0.009984             0.000000  0.000000e+00  0.000000e+00   \n",
       "33          0.014217             0.000000  0.000000e+00  2.590674e-03   \n",
       "34          0.008913             0.000000  0.000000e+00  0.000000e+00   \n",
       "35          0.018764             0.000000  0.000000e+00  0.000000e+00   \n",
       "36          0.009712             0.002439  0.000000e+00  0.000000e+00   \n",
       "37          0.005713             0.000000  0.000000e+00  0.000000e+00   \n",
       "38          0.011468             0.000000  0.000000e+00  0.000000e+00   \n",
       "39          0.011697             0.005102  0.000000e+00  0.000000e+00   \n",
       "40          0.011965             0.000000  0.000000e+00  0.000000e+00   \n",
       "41          0.012843             0.000000  0.000000e+00  0.000000e+00   \n",
       "42          0.009690             0.000000  0.000000e+00  0.000000e+00   \n",
       "43          0.014760             0.000000  0.000000e+00  0.000000e+00   \n",
       "44          0.008196             0.000000  0.000000e+00  0.000000e+00   \n",
       "45          0.009405             0.000000  0.000000e+00  0.000000e+00   \n",
       "46          0.015940             0.000000  0.000000e+00  0.000000e+00   \n",
       "47          0.005563             0.000000  0.000000e+00  0.000000e+00   \n",
       "48          0.014805             0.002604  0.000000e+00  0.000000e+00   \n",
       "49          0.008381             0.000000  0.000000e+00  2.493766e-03   \n",
       "moyenne     0.011057             0.000461  1.536299e-04  2.564589e-04   \n",
       "variance    0.000011             0.000002  3.705800e-07  5.927681e-07   \n",
       "percentage  1.000000             0.120000  6.000000e-02  1.000000e-01   \n",
       "\n",
       "                                                                          \\\n",
       "probe         121_at     1255_g_at       1294_at   1316_at       1320_at   \n",
       "0           0.000000  0.000000e+00  0.000000e+00  0.000000  0.000000e+00   \n",
       "1           0.000000  0.000000e+00  0.000000e+00  0.000000  0.000000e+00   \n",
       "2           0.000000  0.000000e+00  0.000000e+00  0.000000  0.000000e+00   \n",
       "3           0.000000  0.000000e+00  0.000000e+00  0.000000  0.000000e+00   \n",
       "4           0.000000  0.000000e+00  0.000000e+00  0.000000  0.000000e+00   \n",
       "5           0.000000  0.000000e+00  0.000000e+00  0.000000  0.000000e+00   \n",
       "6           0.000000  0.000000e+00  0.000000e+00  0.000000  0.000000e+00   \n",
       "7           0.000000  0.000000e+00  0.000000e+00  0.000000  0.000000e+00   \n",
       "8           0.009709  0.000000e+00  2.427184e-03  0.000000  0.000000e+00   \n",
       "9           0.000000  0.000000e+00  0.000000e+00  0.002398  0.000000e+00   \n",
       "10          0.000000  0.000000e+00  0.000000e+00  0.000000  0.000000e+00   \n",
       "11          0.000000  0.000000e+00  0.000000e+00  0.000000  0.000000e+00   \n",
       "12          0.000000  0.000000e+00  0.000000e+00  0.000000  0.000000e+00   \n",
       "13          0.000000  0.000000e+00  2.512563e-03  0.000000  0.000000e+00   \n",
       "14          0.000000  0.000000e+00  0.000000e+00  0.000000  0.000000e+00   \n",
       "15          0.000000  0.000000e+00  0.000000e+00  0.000000  0.000000e+00   \n",
       "16          0.000000  0.000000e+00  0.000000e+00  0.000000  0.000000e+00   \n",
       "17          0.000000  0.000000e+00  0.000000e+00  0.000000  0.000000e+00   \n",
       "18          0.000000  0.000000e+00  0.000000e+00  0.000000  0.000000e+00   \n",
       "19          0.002500  0.000000e+00  0.000000e+00  0.000000  0.000000e+00   \n",
       "20          0.000000  0.000000e+00  2.551020e-03  0.000000  0.000000e+00   \n",
       "21          0.000000  0.000000e+00  0.000000e+00  0.000000  0.000000e+00   \n",
       "22          0.000000  0.000000e+00  0.000000e+00  0.000000  0.000000e+00   \n",
       "23          0.000000  0.000000e+00  0.000000e+00  0.000000  0.000000e+00   \n",
       "24          0.000000  0.000000e+00  0.000000e+00  0.007463  0.000000e+00   \n",
       "25          0.000000  0.000000e+00  0.000000e+00  0.000000  0.000000e+00   \n",
       "26          0.000000  0.000000e+00  0.000000e+00  0.000000  0.000000e+00   \n",
       "27          0.000000  0.000000e+00  0.000000e+00  0.000000  0.000000e+00   \n",
       "28          0.000000  0.000000e+00  0.000000e+00  0.000000  0.000000e+00   \n",
       "29          0.000000  0.000000e+00  0.000000e+00  0.000000  0.000000e+00   \n",
       "30          0.000000  0.000000e+00  0.000000e+00  0.000000  0.000000e+00   \n",
       "31          0.000000  0.000000e+00  0.000000e+00  0.000000  0.000000e+00   \n",
       "32          0.000000  0.000000e+00  0.000000e+00  0.000000  2.538071e-03   \n",
       "33          0.000000  0.000000e+00  0.000000e+00  0.000000  2.590674e-03   \n",
       "34          0.000000  0.000000e+00  0.000000e+00  0.000000  0.000000e+00   \n",
       "35          0.000000  0.000000e+00  0.000000e+00  0.000000  0.000000e+00   \n",
       "36          0.002439  0.000000e+00  0.000000e+00  0.000000  0.000000e+00   \n",
       "37          0.000000  0.000000e+00  0.000000e+00  0.000000  0.000000e+00   \n",
       "38          0.002558  2.557545e-03  0.000000e+00  0.000000  0.000000e+00   \n",
       "39          0.000000  0.000000e+00  0.000000e+00  0.000000  2.551020e-03   \n",
       "40          0.000000  0.000000e+00  0.000000e+00  0.000000  2.659574e-03   \n",
       "41          0.000000  0.000000e+00  0.000000e+00  0.000000  0.000000e+00   \n",
       "42          0.000000  0.000000e+00  0.000000e+00  0.000000  0.000000e+00   \n",
       "43          0.000000  0.000000e+00  0.000000e+00  0.000000  0.000000e+00   \n",
       "44          0.000000  0.000000e+00  0.000000e+00  0.000000  0.000000e+00   \n",
       "45          0.000000  0.000000e+00  0.000000e+00  0.000000  0.000000e+00   \n",
       "46          0.000000  0.000000e+00  0.000000e+00  0.000000  0.000000e+00   \n",
       "47          0.000000  0.000000e+00  0.000000e+00  0.000000  0.000000e+00   \n",
       "48          0.000000  0.000000e+00  0.000000e+00  0.000000  0.000000e+00   \n",
       "49          0.000000  0.000000e+00  0.000000e+00  0.000000  0.000000e+00   \n",
       "moyenne     0.000344  5.115089e-05  1.498154e-04  0.000197  2.067868e-04   \n",
       "variance    0.000002  1.282043e-07  3.517934e-07  0.000001  4.919279e-07   \n",
       "percentage  0.080000  2.000000e-02  6.000000e-02  0.040000  8.000000e-02   \n",
       "\n",
       "                                 ...                                \\\n",
       "probe          1405_i_at         ...         AFFX-r2-Bs-thr-M_s_at   \n",
       "0           2.518892e-03         ...                           0.0   \n",
       "1           0.000000e+00         ...                           0.0   \n",
       "2           0.000000e+00         ...                           0.0   \n",
       "3           0.000000e+00         ...                           0.0   \n",
       "4           0.000000e+00         ...                           0.0   \n",
       "5           0.000000e+00         ...                           0.0   \n",
       "6           0.000000e+00         ...                           0.0   \n",
       "7           0.000000e+00         ...                           0.0   \n",
       "8           0.000000e+00         ...                           0.0   \n",
       "9           0.000000e+00         ...                           0.0   \n",
       "10          0.000000e+00         ...                           0.0   \n",
       "11          0.000000e+00         ...                           0.0   \n",
       "12          0.000000e+00         ...                           0.0   \n",
       "13          0.000000e+00         ...                           0.0   \n",
       "14          0.000000e+00         ...                           0.0   \n",
       "15          0.000000e+00         ...                           0.0   \n",
       "16          0.000000e+00         ...                           0.0   \n",
       "17          0.000000e+00         ...                           0.0   \n",
       "18          0.000000e+00         ...                           0.0   \n",
       "19          0.000000e+00         ...                           0.0   \n",
       "20          0.000000e+00         ...                           0.0   \n",
       "21          0.000000e+00         ...                           0.0   \n",
       "22          0.000000e+00         ...                           0.0   \n",
       "23          0.000000e+00         ...                           0.0   \n",
       "24          0.000000e+00         ...                           0.0   \n",
       "25          0.000000e+00         ...                           0.0   \n",
       "26          0.000000e+00         ...                           0.0   \n",
       "27          0.000000e+00         ...                           0.0   \n",
       "28          0.000000e+00         ...                           0.0   \n",
       "29          0.000000e+00         ...                           0.0   \n",
       "30          0.000000e+00         ...                           0.0   \n",
       "31          0.000000e+00         ...                           0.0   \n",
       "32          0.000000e+00         ...                           0.0   \n",
       "33          0.000000e+00         ...                           0.0   \n",
       "34          0.000000e+00         ...                           0.0   \n",
       "35          0.000000e+00         ...                           0.0   \n",
       "36          0.000000e+00         ...                           0.0   \n",
       "37          0.000000e+00         ...                           0.0   \n",
       "38          0.000000e+00         ...                           0.0   \n",
       "39          0.000000e+00         ...                           0.0   \n",
       "40          0.000000e+00         ...                           0.0   \n",
       "41          0.000000e+00         ...                           0.0   \n",
       "42          0.000000e+00         ...                           0.0   \n",
       "43          0.000000e+00         ...                           0.0   \n",
       "44          0.000000e+00         ...                           0.0   \n",
       "45          0.000000e+00         ...                           0.0   \n",
       "46          0.000000e+00         ...                           0.0   \n",
       "47          0.000000e+00         ...                           0.0   \n",
       "48          0.000000e+00         ...                           0.0   \n",
       "49          0.000000e+00         ...                           0.0   \n",
       "moyenne     5.037783e-05         ...                           0.0   \n",
       "variance    1.243584e-07         ...                           0.0   \n",
       "percentage  2.000000e-02         ...                           0.0   \n",
       "\n",
       "                                                                           \\\n",
       "probe      AFFX-r2-Ec-bioB-3_at AFFX-r2-Ec-bioB-5_at AFFX-r2-Ec-bioB-M_at   \n",
       "0                           0.0                  0.0                  0.0   \n",
       "1                           0.0                  0.0                  0.0   \n",
       "2                           0.0                  0.0                  0.0   \n",
       "3                           0.0                  0.0                  0.0   \n",
       "4                           0.0                  0.0                  0.0   \n",
       "5                           0.0                  0.0                  0.0   \n",
       "6                           0.0                  0.0                  0.0   \n",
       "7                           0.0                  0.0                  0.0   \n",
       "8                           0.0                  0.0                  0.0   \n",
       "9                           0.0                  0.0                  0.0   \n",
       "10                          0.0                  0.0                  0.0   \n",
       "11                          0.0                  0.0                  0.0   \n",
       "12                          0.0                  0.0                  0.0   \n",
       "13                          0.0                  0.0                  0.0   \n",
       "14                          0.0                  0.0                  0.0   \n",
       "15                          0.0                  0.0                  0.0   \n",
       "16                          0.0                  0.0                  0.0   \n",
       "17                          0.0                  0.0                  0.0   \n",
       "18                          0.0                  0.0                  0.0   \n",
       "19                          0.0                  0.0                  0.0   \n",
       "20                          0.0                  0.0                  0.0   \n",
       "21                          0.0                  0.0                  0.0   \n",
       "22                          0.0                  0.0                  0.0   \n",
       "23                          0.0                  0.0                  0.0   \n",
       "24                          0.0                  0.0                  0.0   \n",
       "25                          0.0                  0.0                  0.0   \n",
       "26                          0.0                  0.0                  0.0   \n",
       "27                          0.0                  0.0                  0.0   \n",
       "28                          0.0                  0.0                  0.0   \n",
       "29                          0.0                  0.0                  0.0   \n",
       "30                          0.0                  0.0                  0.0   \n",
       "31                          0.0                  0.0                  0.0   \n",
       "32                          0.0                  0.0                  0.0   \n",
       "33                          0.0                  0.0                  0.0   \n",
       "34                          0.0                  0.0                  0.0   \n",
       "35                          0.0                  0.0                  0.0   \n",
       "36                          0.0                  0.0                  0.0   \n",
       "37                          0.0                  0.0                  0.0   \n",
       "38                          0.0                  0.0                  0.0   \n",
       "39                          0.0                  0.0                  0.0   \n",
       "40                          0.0                  0.0                  0.0   \n",
       "41                          0.0                  0.0                  0.0   \n",
       "42                          0.0                  0.0                  0.0   \n",
       "43                          0.0                  0.0                  0.0   \n",
       "44                          0.0                  0.0                  0.0   \n",
       "45                          0.0                  0.0                  0.0   \n",
       "46                          0.0                  0.0                  0.0   \n",
       "47                          0.0                  0.0                  0.0   \n",
       "48                          0.0                  0.0                  0.0   \n",
       "49                          0.0                  0.0                  0.0   \n",
       "moyenne                     0.0                  0.0                  0.0   \n",
       "variance                    0.0                  0.0                  0.0   \n",
       "percentage                  0.0                  0.0                  0.0   \n",
       "\n",
       "                                                                           \\\n",
       "probe      AFFX-r2-Ec-bioC-3_at AFFX-r2-Ec-bioC-5_at AFFX-r2-Ec-bioD-3_at   \n",
       "0                           0.0         0.000000e+00                  0.0   \n",
       "1                           0.0         0.000000e+00                  0.0   \n",
       "2                           0.0         0.000000e+00                  0.0   \n",
       "3                           0.0         0.000000e+00                  0.0   \n",
       "4                           0.0         0.000000e+00                  0.0   \n",
       "5                           0.0         0.000000e+00                  0.0   \n",
       "6                           0.0         0.000000e+00                  0.0   \n",
       "7                           0.0         0.000000e+00                  0.0   \n",
       "8                           0.0         0.000000e+00                  0.0   \n",
       "9                           0.0         0.000000e+00                  0.0   \n",
       "10                          0.0         0.000000e+00                  0.0   \n",
       "11                          0.0         0.000000e+00                  0.0   \n",
       "12                          0.0         0.000000e+00                  0.0   \n",
       "13                          0.0         0.000000e+00                  0.0   \n",
       "14                          0.0         0.000000e+00                  0.0   \n",
       "15                          0.0         0.000000e+00                  0.0   \n",
       "16                          0.0         0.000000e+00                  0.0   \n",
       "17                          0.0         0.000000e+00                  0.0   \n",
       "18                          0.0         0.000000e+00                  0.0   \n",
       "19                          0.0         0.000000e+00                  0.0   \n",
       "20                          0.0         0.000000e+00                  0.0   \n",
       "21                          0.0         0.000000e+00                  0.0   \n",
       "22                          0.0         0.000000e+00                  0.0   \n",
       "23                          0.0         0.000000e+00                  0.0   \n",
       "24                          0.0         0.000000e+00                  0.0   \n",
       "25                          0.0         0.000000e+00                  0.0   \n",
       "26                          0.0         0.000000e+00                  0.0   \n",
       "27                          0.0         0.000000e+00                  0.0   \n",
       "28                          0.0         0.000000e+00                  0.0   \n",
       "29                          0.0         0.000000e+00                  0.0   \n",
       "30                          0.0         0.000000e+00                  0.0   \n",
       "31                          0.0         0.000000e+00                  0.0   \n",
       "32                          0.0         0.000000e+00                  0.0   \n",
       "33                          0.0         0.000000e+00                  0.0   \n",
       "34                          0.0         0.000000e+00                  0.0   \n",
       "35                          0.0         0.000000e+00                  0.0   \n",
       "36                          0.0         0.000000e+00                  0.0   \n",
       "37                          0.0         0.000000e+00                  0.0   \n",
       "38                          0.0         0.000000e+00                  0.0   \n",
       "39                          0.0         0.000000e+00                  0.0   \n",
       "40                          0.0         0.000000e+00                  0.0   \n",
       "41                          0.0         2.564103e-03                  0.0   \n",
       "42                          0.0         0.000000e+00                  0.0   \n",
       "43                          0.0         0.000000e+00                  0.0   \n",
       "44                          0.0         0.000000e+00                  0.0   \n",
       "45                          0.0         0.000000e+00                  0.0   \n",
       "46                          0.0         0.000000e+00                  0.0   \n",
       "47                          0.0         0.000000e+00                  0.0   \n",
       "48                          0.0         0.000000e+00                  0.0   \n",
       "49                          0.0         0.000000e+00                  0.0   \n",
       "moyenne                     0.0         5.128205e-05                  0.0   \n",
       "variance                    0.0         1.288626e-07                  0.0   \n",
       "percentage                  0.0         2.000000e-02                  0.0   \n",
       "\n",
       "                                                                         \n",
       "probe      AFFX-r2-Ec-bioD-5_at AFFX-r2-P1-cre-3_at AFFX-r2-P1-cre-5_at  \n",
       "0                           0.0                 0.0                 0.0  \n",
       "1                           0.0                 0.0                 0.0  \n",
       "2                           0.0                 0.0                 0.0  \n",
       "3                           0.0                 0.0                 0.0  \n",
       "4                           0.0                 0.0                 0.0  \n",
       "5                           0.0                 0.0                 0.0  \n",
       "6                           0.0                 0.0                 0.0  \n",
       "7                           0.0                 0.0                 0.0  \n",
       "8                           0.0                 0.0                 0.0  \n",
       "9                           0.0                 0.0                 0.0  \n",
       "10                          0.0                 0.0                 0.0  \n",
       "11                          0.0                 0.0                 0.0  \n",
       "12                          0.0                 0.0                 0.0  \n",
       "13                          0.0                 0.0                 0.0  \n",
       "14                          0.0                 0.0                 0.0  \n",
       "15                          0.0                 0.0                 0.0  \n",
       "16                          0.0                 0.0                 0.0  \n",
       "17                          0.0                 0.0                 0.0  \n",
       "18                          0.0                 0.0                 0.0  \n",
       "19                          0.0                 0.0                 0.0  \n",
       "20                          0.0                 0.0                 0.0  \n",
       "21                          0.0                 0.0                 0.0  \n",
       "22                          0.0                 0.0                 0.0  \n",
       "23                          0.0                 0.0                 0.0  \n",
       "24                          0.0                 0.0                 0.0  \n",
       "25                          0.0                 0.0                 0.0  \n",
       "26                          0.0                 0.0                 0.0  \n",
       "27                          0.0                 0.0                 0.0  \n",
       "28                          0.0                 0.0                 0.0  \n",
       "29                          0.0                 0.0                 0.0  \n",
       "30                          0.0                 0.0                 0.0  \n",
       "31                          0.0                 0.0                 0.0  \n",
       "32                          0.0                 0.0                 0.0  \n",
       "33                          0.0                 0.0                 0.0  \n",
       "34                          0.0                 0.0                 0.0  \n",
       "35                          0.0                 0.0                 0.0  \n",
       "36                          0.0                 0.0                 0.0  \n",
       "37                          0.0                 0.0                 0.0  \n",
       "38                          0.0                 0.0                 0.0  \n",
       "39                          0.0                 0.0                 0.0  \n",
       "40                          0.0                 0.0                 0.0  \n",
       "41                          0.0                 0.0                 0.0  \n",
       "42                          0.0                 0.0                 0.0  \n",
       "43                          0.0                 0.0                 0.0  \n",
       "44                          0.0                 0.0                 0.0  \n",
       "45                          0.0                 0.0                 0.0  \n",
       "46                          0.0                 0.0                 0.0  \n",
       "47                          0.0                 0.0                 0.0  \n",
       "48                          0.0                 0.0                 0.0  \n",
       "49                          0.0                 0.0                 0.0  \n",
       "moyenne                     0.0                 0.0                 0.0  \n",
       "variance                    0.0                 0.0                 0.0  \n",
       "percentage                  0.0                 0.0                 0.0  \n",
       "\n",
       "[53 rows x 54676 columns]"
      ]
     },
     "execution_count": 53,
     "metadata": {},
     "output_type": "execute_result"
    }
   ],
   "source": [
    "ResXGB_60.data"
   ]
  },
  {
   "cell_type": "code",
   "execution_count": 44,
   "metadata": {},
   "outputs": [
    {
     "data": {
      "text/plain": [
       "(array([  471,  2252,  7076, 12626, 24890, 30128, 31441, 31546, 31894,\n",
       "        33564, 39337, 40884, 43791, 43928, 44304, 44635, 52460, 52793, 53934]),)"
      ]
     },
     "execution_count": 44,
     "metadata": {},
     "output_type": "execute_result"
    }
   ],
   "source": [
    "Index_k2"
   ]
  },
  {
   "cell_type": "code",
   "execution_count": 48,
   "metadata": {
    "scrolled": true
   },
   "outputs": [
    {
     "data": {
      "text/plain": [
       "[<matplotlib.lines.Line2D at 0x7f329e6785c0>]"
      ]
     },
     "execution_count": 48,
     "metadata": {},
     "output_type": "execute_result"
    },
    {
     "data": {
      "image/png": "[encoded data removed]",
      "text/plain": [
       "<matplotlib.figure.Figure at 0x7f329db5f6d8>"
      ]
     },
     "metadata": {},
     "output_type": "display_data"
    }
   ],
   "source": [
    "plt.plot(np.arange(0,1.0,0.01),a)"
   ]
  },
  {
   "cell_type": "code",
   "execution_count": 51,
   "metadata": {
    "scrolled": true
   },
   "outputs": [
    {
     "data": {
      "text/plain": [
       "[<matplotlib.lines.Line2D at 0x7f329f59ec88>]"
      ]
     },
     "execution_count": 51,
     "metadata": {},
     "output_type": "execute_result"
    },
    {
     "data": {
      "image/png": "[encoded data removed]",
      "text/plain": [
       "<matplotlib.figure.Figure at 0x7f329d6308d0>"
      ]
     },
     "metadata": {},
     "output_type": "display_data"
    }
   ],
   "source": [
    "plt.plot(np.arange(0,1.0,0.01),a2)"
   ]
  },
  {
   "cell_type": "code",
   "execution_count": 50,
   "metadata": {
    "collapsed": true
   },
   "outputs": [],
   "source": [
    "a2 = [len(np.nonzero(cl.seuil(ResXGB_60.data['feature_importances_'].loc[0],i))[0])for i in np.arange(0,1.0,0.01)]"
   ]
  },
  {
   "cell_type": "code",
   "execution_count": 47,
   "metadata": {
    "collapsed": true
   },
   "outputs": [],
   "source": [
    "a = [len(np.nonzero(cl.seuil(ResXGB_60.data['feature_importances_'].loc['percentage'],i))[0])for i in np.arange(0,1.0,0.01)]"
   ]
  },
  {
   "cell_type": "code",
   "execution_count": 45,
   "metadata": {},
   "outputs": [
    {
     "ename": "TypeError",
     "evalue": "unhashable type: 'numpy.ndarray'",
     "output_type": "error",
     "traceback": [
      "\u001b[0;31m---------------------------------------------------------------------------\u001b[0m",
      "\u001b[0;31mTypeError\u001b[0m                                 Traceback (most recent call last)",
      "\u001b[0;32m<ipython-input-45-79c499b77c12>\u001b[0m in \u001b[0;36m<module>\u001b[0;34m()\u001b[0m\n\u001b[1;32m      1\u001b[0m \u001b[0mIndex_k2\u001b[0m \u001b[0;34m=\u001b[0m \u001b[0mnp\u001b[0m\u001b[0;34m.\u001b[0m\u001b[0mnonzero\u001b[0m\u001b[0;34m(\u001b[0m\u001b[0mcl\u001b[0m\u001b[0;34m.\u001b[0m\u001b[0mseuil\u001b[0m\u001b[0;34m(\u001b[0m\u001b[0mResXGB_60\u001b[0m\u001b[0;34m.\u001b[0m\u001b[0mdata\u001b[0m\u001b[0;34m[\u001b[0m\u001b[0;34m'feature_importances_'\u001b[0m\u001b[0;34m]\u001b[0m\u001b[0;34m.\u001b[0m\u001b[0mloc\u001b[0m\u001b[0;34m[\u001b[0m\u001b[0;34m'percentage'\u001b[0m\u001b[0;34m]\u001b[0m\u001b[0;34m,\u001b[0m\u001b[0;36m0.50\u001b[0m\u001b[0;34m)\u001b[0m\u001b[0;34m)\u001b[0m\u001b[0;34m\u001b[0m\u001b[0m\n\u001b[0;32m----> 2\u001b[0;31m \u001b[0mXk2\u001b[0m \u001b[0;34m=\u001b[0m \u001b[0mX\u001b[0m\u001b[0;34m[\u001b[0m\u001b[0mIndex_k2\u001b[0m\u001b[0;34m]\u001b[0m\u001b[0;34m\u001b[0m\u001b[0m\n\u001b[0m",
      "\u001b[0;32m~/anaconda3/lib/python3.6/site-packages/pandas/core/frame.py\u001b[0m in \u001b[0;36m__getitem__\u001b[0;34m(self, key)\u001b[0m\n\u001b[1;32m   2137\u001b[0m             \u001b[0;32mreturn\u001b[0m \u001b[0mself\u001b[0m\u001b[0;34m.\u001b[0m\u001b[0m_getitem_multilevel\u001b[0m\u001b[0;34m(\u001b[0m\u001b[0mkey\u001b[0m\u001b[0;34m)\u001b[0m\u001b[0;34m\u001b[0m\u001b[0m\n\u001b[1;32m   2138\u001b[0m         \u001b[0;32melse\u001b[0m\u001b[0;34m:\u001b[0m\u001b[0;34m\u001b[0m\u001b[0m\n\u001b[0;32m-> 2139\u001b[0;31m             \u001b[0;32mreturn\u001b[0m \u001b[0mself\u001b[0m\u001b[0;34m.\u001b[0m\u001b[0m_getitem_column\u001b[0m\u001b[0;34m(\u001b[0m\u001b[0mkey\u001b[0m\u001b[0;34m)\u001b[0m\u001b[0;34m\u001b[0m\u001b[0m\n\u001b[0m\u001b[1;32m   2140\u001b[0m \u001b[0;34m\u001b[0m\u001b[0m\n\u001b[1;32m   2141\u001b[0m     \u001b[0;32mdef\u001b[0m \u001b[0m_getitem_column\u001b[0m\u001b[0;34m(\u001b[0m\u001b[0mself\u001b[0m\u001b[0;34m,\u001b[0m \u001b[0mkey\u001b[0m\u001b[0;34m)\u001b[0m\u001b[0;34m:\u001b[0m\u001b[0;34m\u001b[0m\u001b[0m\n",
      "\u001b[0;32m~/anaconda3/lib/python3.6/site-packages/pandas/core/frame.py\u001b[0m in \u001b[0;36m_getitem_column\u001b[0;34m(self, key)\u001b[0m\n\u001b[1;32m   2144\u001b[0m         \u001b[0;31m# get column\u001b[0m\u001b[0;34m\u001b[0m\u001b[0;34m\u001b[0m\u001b[0m\n\u001b[1;32m   2145\u001b[0m         \u001b[0;32mif\u001b[0m \u001b[0mself\u001b[0m\u001b[0;34m.\u001b[0m\u001b[0mcolumns\u001b[0m\u001b[0;34m.\u001b[0m\u001b[0mis_unique\u001b[0m\u001b[0;34m:\u001b[0m\u001b[0;34m\u001b[0m\u001b[0m\n\u001b[0;32m-> 2146\u001b[0;31m             \u001b[0;32mreturn\u001b[0m \u001b[0mself\u001b[0m\u001b[0;34m.\u001b[0m\u001b[0m_get_item_cache\u001b[0m\u001b[0;34m(\u001b[0m\u001b[0mkey\u001b[0m\u001b[0;34m)\u001b[0m\u001b[0;34m\u001b[0m\u001b[0m\n\u001b[0m\u001b[1;32m   2147\u001b[0m \u001b[0;34m\u001b[0m\u001b[0m\n\u001b[1;32m   2148\u001b[0m         \u001b[0;31m# duplicate columns & possible reduce dimensionality\u001b[0m\u001b[0;34m\u001b[0m\u001b[0;34m\u001b[0m\u001b[0m\n",
      "\u001b[0;32m~/anaconda3/lib/python3.6/site-packages/pandas/core/generic.py\u001b[0m in \u001b[0;36m_get_item_cache\u001b[0;34m(self, item)\u001b[0m\n\u001b[1;32m   1838\u001b[0m         \u001b[0;34m\"\"\"Return the cached item, item represents a label indexer.\"\"\"\u001b[0m\u001b[0;34m\u001b[0m\u001b[0m\n\u001b[1;32m   1839\u001b[0m         \u001b[0mcache\u001b[0m \u001b[0;34m=\u001b[0m \u001b[0mself\u001b[0m\u001b[0;34m.\u001b[0m\u001b[0m_item_cache\u001b[0m\u001b[0;34m\u001b[0m\u001b[0m\n\u001b[0;32m-> 1840\u001b[0;31m         \u001b[0mres\u001b[0m \u001b[0;34m=\u001b[0m \u001b[0mcache\u001b[0m\u001b[0;34m.\u001b[0m\u001b[0mget\u001b[0m\u001b[0;34m(\u001b[0m\u001b[0mitem\u001b[0m\u001b[0;34m)\u001b[0m\u001b[0;34m\u001b[0m\u001b[0m\n\u001b[0m\u001b[1;32m   1841\u001b[0m         \u001b[0;32mif\u001b[0m \u001b[0mres\u001b[0m \u001b[0;32mis\u001b[0m \u001b[0;32mNone\u001b[0m\u001b[0;34m:\u001b[0m\u001b[0;34m\u001b[0m\u001b[0m\n\u001b[1;32m   1842\u001b[0m             \u001b[0mvalues\u001b[0m \u001b[0;34m=\u001b[0m \u001b[0mself\u001b[0m\u001b[0;34m.\u001b[0m\u001b[0m_data\u001b[0m\u001b[0;34m.\u001b[0m\u001b[0mget\u001b[0m\u001b[0;34m(\u001b[0m\u001b[0mitem\u001b[0m\u001b[0;34m)\u001b[0m\u001b[0;34m\u001b[0m\u001b[0m\n",
      "\u001b[0;31mTypeError\u001b[0m: unhashable type: 'numpy.ndarray'"
     ]
    }
   ],
   "source": [
    "Index_k2 = np.nonzero(cl.seuil(ResXGB_60.data['feature_importances_'].loc['percentage'],0.50))\n",
    "Xk2 = X[Index_k2]"
   ]
  },
  {
   "cell_type": "markdown",
   "metadata": {},
   "source": [
    "## Model scoring"
   ]
  },
  {
   "cell_type": "code",
   "execution_count": 6,
   "metadata": {
    "collapsed": true
   },
   "outputs": [],
   "source": [
    "from sklearn.linear_model import LogisticRegression\n",
    "from sklearn.metrics import log_loss\n",
    "from sklearn.model_selection import KFold, RepeatedKFold"
   ]
  },
  {
   "cell_type": "code",
   "execution_count": 7,
   "metadata": {
    "collapsed": true
   },
   "outputs": [],
   "source": [
    "from sklearn.model_selection import GridSearchCV"
   ]
  },
  {
   "cell_type": "code",
   "execution_count": 8,
   "metadata": {
    "collapsed": true
   },
   "outputs": [],
   "source": [
    "from sklearn.metrics import make_scorer"
   ]
  },
  {
   "cell_type": "code",
   "execution_count": 158,
   "metadata": {
    "collapsed": true
   },
   "outputs": [],
   "source": [
    "cl = imp.reload(cl)"
   ]
  },
  {
   "cell_type": "code",
   "execution_count": 159,
   "metadata": {
    "collapsed": true
   },
   "outputs": [],
   "source": [
    "ms = imp.reload(ms)"
   ]
  },
  {
   "cell_type": "markdown",
   "metadata": {},
   "source": [
    "RegLog"
   ]
  },
  {
   "cell_type": "markdown",
   "metadata": {},
   "source": [
    "L1-feature select, grid search"
   ]
  },
  {
   "cell_type": "code",
   "execution_count": 9,
   "metadata": {
    "collapsed": true
   },
   "outputs": [],
   "source": [
    "base='epilung'"
   ]
  },
  {
   "cell_type": "code",
   "execution_count": null,
   "metadata": {
    "collapsed": true
   },
   "outputs": [],
   "source": [
    "nmois = 12"
   ]
  },
  {
   "cell_type": "code",
   "execution_count": 13,
   "metadata": {
    "collapsed": true
   },
   "outputs": [],
   "source": [
    "X = pd.read_csv(base+rf'/X_classification-{nmois}.csv',index_col=0)\n",
    "Y = pd.read_csv(base+rf'/Y_classification-{nmois}.csv',index_col=0,header=None)"
   ]
  },
  {
   "cell_type": "code",
   "execution_count": 14,
   "metadata": {
    "collapsed": true
   },
   "outputs": [],
   "source": [
    "kfold = KFold(n_splits = 5,shuffle=True)\n",
    "rkfold = RepeatedKFold(n_splits=5,n_repeats=100)"
   ]
  },
  {
   "cell_type": "code",
   "execution_count": 144,
   "metadata": {
    "collapsed": true
   },
   "outputs": [],
   "source": [
    "LogR2 = cl.LinearClassifieur(LogisticRegression(penalty=\"l2\",C=1.0),nmois=nmois,cv=rkfold,X=X,Y=Y[1],folder=base)\n",
    "LogR1 = cl.LinearClassifieur(LogisticRegression(penalty=\"l1\",C=1.0),nmois=nmois,cv=rkfold,X=X,Y=Y[1],folder=base)"
   ]
  },
  {
   "cell_type": "code",
   "execution_count": 188,
   "metadata": {
    "collapsed": true
   },
   "outputs": [],
   "source": [
    "scoring = make_scorer(log_loss,greater_is_better=False,needs_proba=True,labels=[0,1])"
   ]
  },
  {
   "cell_type": "code",
   "execution_count": null,
   "metadata": {
    "collapsed": true
   },
   "outputs": [],
   "source": [
    "smoothing = lambda m:proc.smooth(m,window_len=5,window='hanning')"
   ]
  },
  {
   "cell_type": "code",
   "execution_count": 198,
   "metadata": {
    "collapsed": true
   },
   "outputs": [],
   "source": [
    "l = ms.score_predicteur(X,Y[1],LogR2,LogR1,'coef_',grid_fs=np.arange(0,1,0.02),params_grid={'C':np.arange(0.5,10,0.5)})"
   ]
  },
  {
   "cell_type": "code",
   "execution_count": 205,
   "metadata": {},
   "outputs": [
    {
     "data": {
      "text/plain": [
       "[0.0061956179384278966, 0.012312049526003108, 0.0065243867465670296]"
      ]
     },
     "execution_count": 205,
     "metadata": {},
     "output_type": "execute_result"
    }
   ],
   "source": [
    "[k/X.shape[0]*3 for k in l]"
   ]
  },
  {
   "cell_type": "code",
   "execution_count": null,
   "metadata": {
    "collapsed": true
   },
   "outputs": [],
   "source": []
  },
  {
   "cell_type": "code",
   "execution_count": 10,
   "metadata": {
    "collapsed": true
   },
   "outputs": [],
   "source": [
    "nmois = 60"
   ]
  },
  {
   "cell_type": "code",
   "execution_count": 11,
   "metadata": {
    "collapsed": true
   },
   "outputs": [],
   "source": [
    "X = pd.read_csv(base+rf'/X_classification-{nmois}.csv',index_col=0)\n",
    "Y = pd.read_csv(base+rf'/Y_classification-{nmois}.csv',index_col=0,header=None)"
   ]
  },
  {
   "cell_type": "code",
   "execution_count": 58,
   "metadata": {
    "collapsed": true
   },
   "outputs": [],
   "source": [
    "kfold = KFold(n_splits = 5,shuffle=True)\n",
    "rkfold = RepeatedKFold(n_splits=5,n_repeats=100)"
   ]
  },
  {
   "cell_type": "code",
   "execution_count": 170,
   "metadata": {
    "collapsed": true
   },
   "outputs": [],
   "source": [
    "LogR2a = cl.LinearClassifieur(LogisticRegression(penalty=\"l2\",C=1.0),nmois=nmois,cv=rkfold,X=X,Y=Y[1],folder=base)\n",
    "LogR2b = cl.LinearClassifieur(LogisticRegression(penalty=\"l2\",C=1.0),nmois=nmois,cv=rkfold,X=X,Y=Y[1],folder=base)\n",
    "LogR1 = cl.LinearClassifieur(LogisticRegression(penalty=\"l1\",C=1.0),nmois=nmois,cv=rkfold,X=X,Y=Y[1],folder=base)"
   ]
  },
  {
   "cell_type": "code",
   "execution_count": 14,
   "metadata": {
    "collapsed": true
   },
   "outputs": [],
   "source": [
    "scoring = make_scorer(log_loss,greater_is_better=False,needs_proba=True,labels=[0,1])"
   ]
  },
  {
   "cell_type": "code",
   "execution_count": 15,
   "metadata": {
    "collapsed": true
   },
   "outputs": [],
   "source": [
    "smoothing = lambda m:proc.smooth(m,window_len=5,window='hanning')"
   ]
  },
  {
   "cell_type": "code",
   "execution_count": 171,
   "metadata": {
    "scrolled": true
   },
   "outputs": [],
   "source": [
    "l,msx = ms.score_predicteur(X,Y[1],LogR2a,LogR1,LogR2b,'coef_',grid_fs=np.arange(0,1,0.02),params_grid={'C':np.arange(0.05,0.5,0.05)})"
   ]
  },
  {
   "cell_type": "code",
   "execution_count": 101,
   "metadata": {
    "collapsed": true
   },
   "outputs": [],
   "source": [
    "Index = ['score','log_loss','fs_size'] + ['param_' + k for k in {\"C\":np.arange(1,2,0.5)}]"
   ]
  },
  {
   "cell_type": "code",
   "execution_count": 112,
   "metadata": {
    "collapsed": true
   },
   "outputs": [],
   "source": [
    "d = {'C': 1.0, 'loss': 0.60714045559587493, 'score': 0.70408163265306123, 'fs_size': 3}"
   ]
  },
  {
   "cell_type": "code",
   "execution_count": 113,
   "metadata": {
    "collapsed": true
   },
   "outputs": [],
   "source": [
    "df = pd.DataFrame(columns=Index)"
   ]
  },
  {
   "cell_type": "code",
   "execution_count": 118,
   "metadata": {},
   "outputs": [],
   "source": [
    "S = pd.Series(data=d)"
   ]
  },
  {
   "cell_type": "code",
   "execution_count": 119,
   "metadata": {},
   "outputs": [
    {
     "data": {
      "text/plain": [
       "C          1.000000\n",
       "fs_size    3.000000\n",
       "loss       0.607140\n",
       "score      0.704082\n",
       "dtype: float64"
      ]
     },
     "execution_count": 119,
     "metadata": {},
     "output_type": "execute_result"
    }
   ],
   "source": [
    "S"
   ]
  },
  {
   "cell_type": "code",
   "execution_count": 162,
   "metadata": {
    "scrolled": true
   },
   "outputs": [
    {
     "data": {
      "text/html": [
       "<div>\n",
       "<style scoped>\n",
       "    .dataframe tbody tr th:only-of-type {\n",
       "        vertical-align: middle;\n",
       "    }\n",
       "\n",
       "    .dataframe tbody tr th {\n",
       "        vertical-align: top;\n",
       "    }\n",
       "\n",
       "    .dataframe thead th {\n",
       "        text-align: right;\n",
       "    }\n",
       "</style>\n",
       "<table border=\"1\" class=\"dataframe\">\n",
       "  <thead>\n",
       "    <tr style=\"text-align: right;\">\n",
       "      <th></th>\n",
       "      <th>score</th>\n",
       "      <th>log_loss</th>\n",
       "      <th>fs_size</th>\n",
       "      <th>C</th>\n",
       "    </tr>\n",
       "  </thead>\n",
       "  <tbody>\n",
       "    <tr>\n",
       "      <th>0</th>\n",
       "      <td>0.612245</td>\n",
       "      <td>0.654769</td>\n",
       "      <td>3.0</td>\n",
       "      <td>0.45</td>\n",
       "    </tr>\n",
       "  </tbody>\n",
       "</table>\n",
       "</div>"
      ],
      "text/plain": [
       "      score  log_loss  fs_size     C\n",
       "0  0.612245  0.654769      3.0  0.45"
      ]
     },
     "execution_count": 162,
     "metadata": {},
     "output_type": "execute_result"
    }
   ],
   "source": [
    "l"
   ]
  },
  {
   "cell_type": "code",
   "execution_count": null,
   "metadata": {
    "collapsed": true
   },
   "outputs": [],
   "source": [
    "display_evol()"
   ]
  },
  {
   "cell_type": "code",
   "execution_count": 169,
   "metadata": {},
   "outputs": [
    {
     "ename": "TypeError",
     "evalue": "unsupported operand type(s) for -: 'list' and 'list'",
     "output_type": "error",
     "traceback": [
      "\u001b[0;31m---------------------------------------------------------------------------\u001b[0m",
      "\u001b[0;31mTypeError\u001b[0m                                 Traceback (most recent call last)",
      "\u001b[0;32m<ipython-input-169-2e1c631ed271>\u001b[0m in \u001b[0;36m<module>\u001b[0;34m()\u001b[0m\n\u001b[0;32m----> 1\u001b[0;31m \u001b[0mdisplay_evol\u001b[0m\u001b[0;34m(\u001b[0m\u001b[0mmsx\u001b[0m\u001b[0;34m[\u001b[0m\u001b[0;36m0\u001b[0m\u001b[0;34m]\u001b[0m\u001b[0;34m[\u001b[0m\u001b[0;36m2\u001b[0m\u001b[0;34m]\u001b[0m\u001b[0;34m,\u001b[0m\u001b[0mmsx\u001b[0m\u001b[0;34m[\u001b[0m\u001b[0;36m0\u001b[0m\u001b[0;34m]\u001b[0m\u001b[0;34m[\u001b[0m\u001b[0;36m0\u001b[0m\u001b[0;34m]\u001b[0m\u001b[0;34m[\u001b[0m\u001b[0;34m'metric_fs'\u001b[0m\u001b[0;34m]\u001b[0m\u001b[0;34m,\u001b[0m\u001b[0mmsx\u001b[0m\u001b[0;34m[\u001b[0m\u001b[0;36m0\u001b[0m\u001b[0;34m]\u001b[0m\u001b[0;34m[\u001b[0m\u001b[0;36m1\u001b[0m\u001b[0;34m]\u001b[0m\u001b[0;34m[\u001b[0m\u001b[0;34m'metric_fs'\u001b[0m\u001b[0;34m]\u001b[0m\u001b[0;34m)\u001b[0m\u001b[0;34m\u001b[0m\u001b[0m\n\u001b[0m",
      "\u001b[0;32m<ipython-input-165-9b635cbdc934>\u001b[0m in \u001b[0;36mdisplay_evol\u001b[0;34m(x, y, std, title, xlabel, ylabel)\u001b[0m\n\u001b[1;32m      2\u001b[0m     \u001b[0mplt\u001b[0m\u001b[0;34m.\u001b[0m\u001b[0mplot\u001b[0m\u001b[0;34m(\u001b[0m\u001b[0mx\u001b[0m\u001b[0;34m,\u001b[0m\u001b[0my\u001b[0m\u001b[0;34m)\u001b[0m\u001b[0;34m\u001b[0m\u001b[0m\n\u001b[1;32m      3\u001b[0m     \u001b[0;32mif\u001b[0m \u001b[0mstd\u001b[0m \u001b[0;32mis\u001b[0m \u001b[0;32mnot\u001b[0m \u001b[0;32mNone\u001b[0m\u001b[0;34m:\u001b[0m\u001b[0;34m\u001b[0m\u001b[0m\n\u001b[0;32m----> 4\u001b[0;31m         \u001b[0mplt\u001b[0m\u001b[0;34m.\u001b[0m\u001b[0mfill_between\u001b[0m\u001b[0;34m(\u001b[0m\u001b[0mx\u001b[0m\u001b[0;34m,\u001b[0m\u001b[0my\u001b[0m\u001b[0;34m+\u001b[0m\u001b[0mstd\u001b[0m\u001b[0;34m,\u001b[0m\u001b[0my\u001b[0m\u001b[0;34m-\u001b[0m\u001b[0mstd\u001b[0m\u001b[0;34m,\u001b[0m\u001b[0mfacecolor\u001b[0m\u001b[0;34m=\u001b[0m\u001b[0;34m'yellow'\u001b[0m\u001b[0;34m,\u001b[0m\u001b[0malpha\u001b[0m\u001b[0;34m=\u001b[0m\u001b[0;36m0.5\u001b[0m\u001b[0;34m)\u001b[0m\u001b[0;34m\u001b[0m\u001b[0m\n\u001b[0m\u001b[1;32m      5\u001b[0m     \u001b[0mplt\u001b[0m\u001b[0;34m.\u001b[0m\u001b[0mylabel\u001b[0m\u001b[0;34m(\u001b[0m\u001b[0mylabel\u001b[0m\u001b[0;34m)\u001b[0m\u001b[0;34m\u001b[0m\u001b[0m\n\u001b[1;32m      6\u001b[0m     \u001b[0mplt\u001b[0m\u001b[0;34m.\u001b[0m\u001b[0mxlabel\u001b[0m\u001b[0;34m(\u001b[0m\u001b[0mxlabel\u001b[0m\u001b[0;34m)\u001b[0m\u001b[0;34m\u001b[0m\u001b[0m\n",
      "\u001b[0;31mTypeError\u001b[0m: unsupported operand type(s) for -: 'list' and 'list'"
     ]
    },
    {
     "data": {
      "image/png": "[encoded data removed]",
      "text/plain": [
       "<matplotlib.figure.Figure at 0x7fdfede02518>"
      ]
     },
     "metadata": {},
     "output_type": "display_data"
    }
   ],
   "source": [
    "display_evol(msx[0][2],msx[0][0]['metric_fs'],msx[0][1]['metric_fs'])"
   ]
  },
  {
   "cell_type": "code",
   "execution_count": 167,
   "metadata": {},
   "outputs": [
    {
     "data": {
      "text/plain": [
       "{'metric_fs': [0.6694874590862563,\n",
       "  0.6698630610475866,\n",
       "  0.6691356355138388,\n",
       "  0.6678467134961517,\n",
       "  0.6701471200524727,\n",
       "  0.6687687788659663,\n",
       "  0.668112654452443,\n",
       "  0.6708278532172147,\n",
       "  0.66771854779621,\n",
       "  0.6699116554322593,\n",
       "  0.6692371793342408,\n",
       "  0.6685922328757012,\n",
       "  0.6661263144214761,\n",
       "  0.6658448956251791,\n",
       "  0.6655719799219211,\n",
       "  0.6671528356383069,\n",
       "  0.6663793083980158,\n",
       "  0.6669714426220252,\n",
       "  0.6654082291424048,\n",
       "  0.6649239347779242,\n",
       "  0.6656937657147224,\n",
       "  0.6659041037233931,\n",
       "  0.6656751531256999,\n",
       "  0.6683491988431325,\n",
       "  0.6686317033869773,\n",
       "  0.665697063449481,\n",
       "  0.6674577753228625,\n",
       "  0.6634314884634731,\n",
       "  0.6629269012423236,\n",
       "  0.6632845656333703,\n",
       "  0.6640282072964804,\n",
       "  0.6639972476988446,\n",
       "  0.651350573901008,\n",
       "  0.6479016867160928,\n",
       "  0.6471017863997632,\n",
       "  0.6478105411571375,\n",
       "  0.6469871240925127,\n",
       "  0.6483801279138669,\n",
       "  0.6479267444009884,\n",
       "  0.644073369845493,\n",
       "  0.6435165732725061,\n",
       "  0.6451066082446871,\n",
       "  0.6447583449620579,\n",
       "  0.6446193369112141,\n",
       "  0.643441109457249,\n",
       "  0.644027530089427,\n",
       "  0.6440431996524417,\n",
       "  0.6432149324645938,\n",
       "  0.6437156822683696,\n",
       "  0.6438396698478832]}"
      ]
     },
     "execution_count": 167,
     "metadata": {},
     "output_type": "execute_result"
    }
   ],
   "source": [
    "msx[0][0]"
   ]
  },
  {
   "cell_type": "code",
   "execution_count": 137,
   "metadata": {},
   "outputs": [
    {
     "data": {
      "text/plain": [
       "1.0346870380437119"
      ]
     },
     "execution_count": 137,
     "metadata": {},
     "output_type": "execute_result"
    }
   ],
   "source": [
    "np.mean(l['log_loss'])"
   ]
  },
  {
   "cell_type": "code",
   "execution_count": 133,
   "metadata": {},
   "outputs": [],
   "source": [
    "size = X.shape[0]/3"
   ]
  },
  {
   "cell_type": "code",
   "execution_count": 89,
   "metadata": {
    "collapsed": true
   },
   "outputs": [],
   "source": [
    "GdS = GridSearchCV(LogR2.objetSK,{'C':np.arange(1,2,0.5)},scoring=scoring,n_jobs=-1,cv=kfold,return_train_score=False)"
   ]
  },
  {
   "cell_type": "code",
   "execution_count": 138,
   "metadata": {
    "collapsed": true
   },
   "outputs": [],
   "source": [
    "Xr1 = pd.read_csv('X_classification_{nmois}-reduit-1.csv')"
   ]
  },
  {
   "cell_type": "code",
   "execution_count": 139,
   "metadata": {
    "collapsed": true
   },
   "outputs": [],
   "source": [
    "Xr2 = pd.read_csv('X_classification_{nmois}-reduit-2.csv')"
   ]
  }
 ],
 "metadata": {
  "kernelspec": {
   "display_name": "Python 3",
   "language": "python",
   "name": "python3"
  },
  "language_info": {
   "codemirror_mode": {
    "name": "ipython",
    "version": 3
   },
   "file_extension": ".py",
   "mimetype": "text/x-python",
   "name": "python",
   "nbconvert_exporter": "python",
   "pygments_lexer": "ipython3",
   "version": "3.6.3"
  }
 },
 "nbformat": 4,
 "nbformat_minor": 2
}
